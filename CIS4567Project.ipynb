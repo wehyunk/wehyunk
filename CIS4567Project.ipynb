{
 "cells": [
  {
   "cell_type": "markdown",
   "metadata": {},
   "source": [
    "<h3> CIS4567 Project"
   ]
  },
  {
   "cell_type": "markdown",
   "metadata": {},
   "source": [
    "<h3> Introduction"
   ]
  },
  {
   "cell_type": "markdown",
   "metadata": {},
   "source": [
    "With a dataset we obtained from kaggle, https://www.kaggle.com/jboysen/us-perm-visas, we focused on analyzing the decisions and the variables that contribute to the status of a foreign worker to be employed in the United States. We hope to use the columns stated in the dataset to predict decisions for rewarding foreign workers with a visa. With categories such as job positions,country of citizenship, and wages being available as seen in the kaggle website data preview, we hope to use this information to create relationships and predict outcomes. Based on our initial analysis of the dataset on kaggle, we will utilize categorical values and will use chi square tests to analyze the relationships of the categorical values. In our initial analysis, we are attempting to create relationships to the outcome of the decisions. Therefore, we will be using the column \"case_status\" as our dependent variable with other columns such as \"country_of_citzenship\" and information about their jobs as independent variables. As we being to analyze the dataset, we will describe the different variables that are necessary in our analysis in further detail. "
   ]
  },
  {
   "cell_type": "markdown",
   "metadata": {},
   "source": [
    "<h3> Data Description"
   ]
  },
  {
   "cell_type": "markdown",
   "metadata": {},
   "source": [
    "Import Libraries"
   ]
  },
  {
   "cell_type": "code",
   "execution_count": 1,
   "metadata": {},
   "outputs": [
    {
     "data": {
      "application/vnd.jupyter.widget-view+json": {
       "model_id": "9824e1acd47d48658f234e5ec9d37cd8",
       "version_major": 2,
       "version_minor": 0
      },
      "text/plain": [
       "VBox()"
      ]
     },
     "metadata": {},
     "output_type": "display_data"
    },
    {
     "name": "stdout",
     "output_type": "stream",
     "text": [
      "Starting Spark application\n"
     ]
    },
    {
     "data": {
      "text/html": [
       "<table>\n",
       "<tr><th>ID</th><th>YARN Application ID</th><th>Kind</th><th>State</th><th>Spark UI</th><th>Driver log</th><th>Current session?</th></tr><tr><td>1</td><td>application_1574635130169_0002</td><td>pyspark</td><td>idle</td><td></td><td></td><td>✔</td></tr></table>"
      ],
      "text/plain": [
       "<IPython.core.display.HTML object>"
      ]
     },
     "metadata": {},
     "output_type": "display_data"
    },
    {
     "data": {
      "application/vnd.jupyter.widget-view+json": {
       "model_id": "",
       "version_major": 2,
       "version_minor": 0
      },
      "text/plain": [
       "FloatProgress(value=0.0, bar_style='info', description='Progress:', layout=Layout(height='25px', width='50%'),…"
      ]
     },
     "metadata": {},
     "output_type": "display_data"
    },
    {
     "name": "stdout",
     "output_type": "stream",
     "text": [
      "SparkSession available as 'spark'.\n"
     ]
    },
    {
     "data": {
      "application/vnd.jupyter.widget-view+json": {
       "model_id": "",
       "version_major": 2,
       "version_minor": 0
      },
      "text/plain": [
       "FloatProgress(value=0.0, bar_style='info', description='Progress:', layout=Layout(height='25px', width='50%'),…"
      ]
     },
     "metadata": {},
     "output_type": "display_data"
    }
   ],
   "source": [
    "import pyspark\n",
    "from pyspark.sql import functions as F\n",
    "import pyspark.mllib.stat as st\n",
    "import numpy as np\n",
    "from pyspark.sql.types import *\n",
    "from sklearn import preprocessing\n",
    "from pyspark.sql.functions import isnan, when, count, col"
   ]
  },
  {
   "cell_type": "markdown",
   "metadata": {},
   "source": [
    "Read file"
   ]
  },
  {
   "cell_type": "code",
   "execution_count": 2,
   "metadata": {},
   "outputs": [
    {
     "data": {
      "application/vnd.jupyter.widget-view+json": {
       "model_id": "af5cf3ac17ee4f13abf027c2b1530d5c",
       "version_major": 2,
       "version_minor": 0
      },
      "text/plain": [
       "VBox()"
      ]
     },
     "metadata": {},
     "output_type": "display_data"
    },
    {
     "data": {
      "application/vnd.jupyter.widget-view+json": {
       "model_id": "",
       "version_major": 2,
       "version_minor": 0
      },
      "text/plain": [
       "FloatProgress(value=0.0, bar_style='info', description='Progress:', layout=Layout(height='25px', width='50%'),…"
      ]
     },
     "metadata": {},
     "output_type": "display_data"
    },
    {
     "name": "stdout",
     "output_type": "stream",
     "text": [
      "374362"
     ]
    }
   ],
   "source": [
    "visa_csv = 's3://cis4567fall2019/Project/us_perm_visas.csv'\n",
    "\n",
    "visa = spark.read.csv(\n",
    "    visa_csv\n",
    "    , header=True\n",
    "    , inferSchema=True\n",
    ")\n",
    "\n",
    "for col, typ in visa.dtypes:\n",
    "    if typ == 'string':\n",
    "        visa = visa.withColumn(\n",
    "            col\n",
    "            , F.ltrim(F.rtrim(visa[col]))\n",
    "        )\n",
    "visa.count()"
   ]
  },
  {
   "cell_type": "markdown",
   "metadata": {},
   "source": [
    "View the data types and columns of dataset"
   ]
  },
  {
   "cell_type": "code",
   "execution_count": 3,
   "metadata": {},
   "outputs": [
    {
     "data": {
      "application/vnd.jupyter.widget-view+json": {
       "model_id": "a8c0e77c0948489a852924ae600332ad",
       "version_major": 2,
       "version_minor": 0
      },
      "text/plain": [
       "VBox()"
      ]
     },
     "metadata": {},
     "output_type": "display_data"
    },
    {
     "data": {
      "application/vnd.jupyter.widget-view+json": {
       "model_id": "",
       "version_major": 2,
       "version_minor": 0
      },
      "text/plain": [
       "FloatProgress(value=0.0, bar_style='info', description='Progress:', layout=Layout(height='25px', width='50%'),…"
      ]
     },
     "metadata": {},
     "output_type": "display_data"
    },
    {
     "name": "stdout",
     "output_type": "stream",
     "text": [
      "root\n",
      " |-- add_these_pw_job_title_9089: string (nullable = true)\n",
      " |-- agent_city: string (nullable = true)\n",
      " |-- agent_firm_name: string (nullable = true)\n",
      " |-- agent_state: string (nullable = true)\n",
      " |-- application_type: string (nullable = true)\n",
      " |-- case_no: string (nullable = true)\n",
      " |-- case_number: string (nullable = true)\n",
      " |-- case_received_date: timestamp (nullable = true)\n",
      " |-- case_status: string (nullable = true)\n",
      " |-- class_of_admission: string (nullable = true)\n",
      " |-- country_of_citizenship: string (nullable = true)\n",
      " |-- country_of_citzenship: string (nullable = true)\n",
      " |-- decision_date: timestamp (nullable = true)\n",
      " |-- employer_address_1: string (nullable = true)\n",
      " |-- employer_address_2: string (nullable = true)\n",
      " |-- employer_city: string (nullable = true)\n",
      " |-- employer_country: string (nullable = true)\n",
      " |-- employer_decl_info_title: string (nullable = true)\n",
      " |-- employer_name: string (nullable = true)\n",
      " |-- employer_num_employees: double (nullable = true)\n",
      " |-- employer_phone: string (nullable = true)\n",
      " |-- employer_phone_ext: string (nullable = true)\n",
      " |-- employer_postal_code: string (nullable = true)\n",
      " |-- employer_state: string (nullable = true)\n",
      " |-- employer_yr_estab: double (nullable = true)\n",
      " |-- foreign_worker_info_alt_edu_experience: string (nullable = true)\n",
      " |-- foreign_worker_info_birth_country: string (nullable = true)\n",
      " |-- foreign_worker_info_city: string (nullable = true)\n",
      " |-- foreign_worker_info_education: string (nullable = true)\n",
      " |-- foreign_worker_info_education_other: string (nullable = true)\n",
      " |-- foreign_worker_info_inst: string (nullable = true)\n",
      " |-- foreign_worker_info_major: string (nullable = true)\n",
      " |-- foreign_worker_info_postal_code: string (nullable = true)\n",
      " |-- foreign_worker_info_rel_occup_exp: string (nullable = true)\n",
      " |-- foreign_worker_info_req_experience: string (nullable = true)\n",
      " |-- foreign_worker_info_state: string (nullable = true)\n",
      " |-- foreign_worker_info_training_comp: string (nullable = true)\n",
      " |-- foreign_worker_ownership_interest: string (nullable = true)\n",
      " |-- foreign_worker_yr_rel_edu_completed: double (nullable = true)\n",
      " |-- fw_info_alt_edu_experience: string (nullable = true)\n",
      " |-- fw_info_birth_country: string (nullable = true)\n",
      " |-- fw_info_education_other: string (nullable = true)\n",
      " |-- fw_info_postal_code: string (nullable = true)\n",
      " |-- fw_info_rel_occup_exp: string (nullable = true)\n",
      " |-- fw_info_req_experience: string (nullable = true)\n",
      " |-- fw_info_training_comp: string (nullable = true)\n",
      " |-- fw_info_yr_rel_edu_completed: double (nullable = true)\n",
      " |-- fw_ownership_interest: string (nullable = true)\n",
      " |-- ji_foreign_worker_live_on_premises: string (nullable = true)\n",
      " |-- ji_fw_live_on_premises: string (nullable = true)\n",
      " |-- ji_live_in_dom_svc_contract: string (nullable = true)\n",
      " |-- ji_live_in_domestic_service: string (nullable = true)\n",
      " |-- ji_offered_to_sec_j_foreign_worker: string (nullable = true)\n",
      " |-- ji_offered_to_sec_j_fw: string (nullable = true)\n",
      " |-- job_info_alt_cmb_ed_oth_yrs: double (nullable = true)\n",
      " |-- job_info_alt_combo_ed: string (nullable = true)\n",
      " |-- job_info_alt_combo_ed_exp: string (nullable = true)\n",
      " |-- job_info_alt_combo_ed_other: string (nullable = true)\n",
      " |-- job_info_alt_field: string (nullable = true)\n",
      " |-- job_info_alt_field_name: string (nullable = true)\n",
      " |-- job_info_alt_occ: string (nullable = true)\n",
      " |-- job_info_alt_occ_job_title: string (nullable = true)\n",
      " |-- job_info_alt_occ_num_months: double (nullable = true)\n",
      " |-- job_info_combo_occupation: string (nullable = true)\n",
      " |-- job_info_education: string (nullable = true)\n",
      " |-- job_info_education_other: string (nullable = true)\n",
      " |-- job_info_experience: string (nullable = true)\n",
      " |-- job_info_experience_num_months: double (nullable = true)\n",
      " |-- job_info_foreign_ed: string (nullable = true)\n",
      " |-- job_info_foreign_lang_req: string (nullable = true)\n",
      " |-- job_info_job_req_normal: string (nullable = true)\n",
      " |-- job_info_job_title: string (nullable = true)\n",
      " |-- job_info_major: string (nullable = true)\n",
      " |-- job_info_training: string (nullable = true)\n",
      " |-- job_info_training_field: string (nullable = true)\n",
      " |-- job_info_training_num_months: double (nullable = true)\n",
      " |-- job_info_work_city: string (nullable = true)\n",
      " |-- job_info_work_postal_code: string (nullable = true)\n",
      " |-- job_info_work_state: string (nullable = true)\n",
      " |-- naics_2007_us_code: string (nullable = true)\n",
      " |-- naics_2007_us_title: string (nullable = true)\n",
      " |-- naics_code: string (nullable = true)\n",
      " |-- naics_title: string (nullable = true)\n",
      " |-- naics_us_code: string (nullable = true)\n",
      " |-- naics_us_code_2007: string (nullable = true)\n",
      " |-- naics_us_title: string (nullable = true)\n",
      " |-- naics_us_title_2007: string (nullable = true)\n",
      " |-- orig_case_no: string (nullable = true)\n",
      " |-- orig_file_date: timestamp (nullable = true)\n",
      " |-- preparer_info_emp_completed: string (nullable = true)\n",
      " |-- preparer_info_title: string (nullable = true)\n",
      " |-- pw_amount_9089: string (nullable = true)\n",
      " |-- pw_determ_date: timestamp (nullable = true)\n",
      " |-- pw_expire_date: timestamp (nullable = true)\n",
      " |-- pw_job_title_908: string (nullable = true)\n",
      " |-- pw_job_title_9089: string (nullable = true)\n",
      " |-- pw_level_9089: string (nullable = true)\n",
      " |-- pw_soc_code: string (nullable = true)\n",
      " |-- pw_soc_title: string (nullable = true)\n",
      " |-- pw_source_name_9089: string (nullable = true)\n",
      " |-- pw_source_name_other_9089: string (nullable = true)\n",
      " |-- pw_track_num: string (nullable = true)\n",
      " |-- pw_unit_of_pay_9089: string (nullable = true)\n",
      " |-- rec_info_barg_rep_notified: string (nullable = true)\n",
      " |-- recr_info_barg_rep_notified: string (nullable = true)\n",
      " |-- recr_info_coll_teach_comp_proc: string (nullable = true)\n",
      " |-- recr_info_coll_univ_teacher: string (nullable = true)\n",
      " |-- recr_info_employer_rec_payment: string (nullable = true)\n",
      " |-- recr_info_first_ad_start: timestamp (nullable = true)\n",
      " |-- recr_info_job_fair_from: timestamp (nullable = true)\n",
      " |-- recr_info_job_fair_to: timestamp (nullable = true)\n",
      " |-- recr_info_on_campus_recr_from: timestamp (nullable = true)\n",
      " |-- recr_info_on_campus_recr_to: timestamp (nullable = true)\n",
      " |-- recr_info_pro_org_advert_from: timestamp (nullable = true)\n",
      " |-- recr_info_pro_org_advert_to: timestamp (nullable = true)\n",
      " |-- recr_info_prof_org_advert_from: timestamp (nullable = true)\n",
      " |-- recr_info_prof_org_advert_to: timestamp (nullable = true)\n",
      " |-- recr_info_professional_occ: string (nullable = true)\n",
      " |-- recr_info_radio_tv_ad_from: timestamp (nullable = true)\n",
      " |-- recr_info_radio_tv_ad_to: timestamp (nullable = true)\n",
      " |-- recr_info_second_ad_start: timestamp (nullable = true)\n",
      " |-- recr_info_sunday_newspaper: string (nullable = true)\n",
      " |-- recr_info_swa_job_order_end: timestamp (nullable = true)\n",
      " |-- recr_info_swa_job_order_start: timestamp (nullable = true)\n",
      " |-- refile: string (nullable = true)\n",
      " |-- ri_1st_ad_newspaper_name: string (nullable = true)\n",
      " |-- ri_2nd_ad_newspaper_name: string (nullable = true)\n",
      " |-- ri_2nd_ad_newspaper_or_journal: string (nullable = true)\n",
      " |-- ri_campus_placement_from: timestamp (nullable = true)\n",
      " |-- ri_campus_placement_to: timestamp (nullable = true)\n",
      " |-- ri_coll_tch_basic_process: string (nullable = true)\n",
      " |-- ri_coll_teach_pro_jnl: string (nullable = true)\n",
      " |-- ri_coll_teach_select_date: timestamp (nullable = true)\n",
      " |-- ri_employee_referral_prog_from: timestamp (nullable = true)\n",
      " |-- ri_employee_referral_prog_to: timestamp (nullable = true)\n",
      " |-- ri_employer_web_post_from: timestamp (nullable = true)\n",
      " |-- ri_employer_web_post_to: timestamp (nullable = true)\n",
      " |-- ri_job_search_website_from: timestamp (nullable = true)\n",
      " |-- ri_job_search_website_to: timestamp (nullable = true)\n",
      " |-- ri_layoff_in_past_six_months: string (nullable = true)\n",
      " |-- ri_local_ethnic_paper_from: timestamp (nullable = true)\n",
      " |-- ri_local_ethnic_paper_to: timestamp (nullable = true)\n",
      " |-- ri_posted_notice_at_worksite: string (nullable = true)\n",
      " |-- ri_pvt_employment_firm_from: timestamp (nullable = true)\n",
      " |-- ri_pvt_employment_firm_to: timestamp (nullable = true)\n",
      " |-- ri_us_workers_considered: string (nullable = true)\n",
      " |-- schd_a_sheepherder: string (nullable = true)\n",
      " |-- us_economic_sector: string (nullable = true)\n",
      " |-- wage_offer_from_9089: string (nullable = true)\n",
      " |-- wage_offer_to_9089: string (nullable = true)\n",
      " |-- wage_offer_unit_of_pay_9089: string (nullable = true)\n",
      " |-- wage_offered_from_9089: double (nullable = true)\n",
      " |-- wage_offered_to_9089: double (nullable = true)\n",
      " |-- wage_offered_unit_of_pay_9089: string (nullable = true)"
     ]
    }
   ],
   "source": [
    "visa.printSchema()"
   ]
  },
  {
   "cell_type": "markdown",
   "metadata": {},
   "source": [
    "Keep specific columns for analysis"
   ]
  },
  {
   "cell_type": "markdown",
   "metadata": {},
   "source": [
    "According to our analysis on the datatypes available and information we find to be relative, we decided to keep columns that we found to be important and relative to our analysis. Although we filtered out the necessary information, we have unfortunately kept only one numerical column, \"wage_offer_from_9089\". This may hinder our analysis in focusing on different types of analysis but we hope to utilize this single numerical column effectively."
   ]
  },
  {
   "cell_type": "code",
   "execution_count": 4,
   "metadata": {},
   "outputs": [
    {
     "data": {
      "application/vnd.jupyter.widget-view+json": {
       "model_id": "4b186c239c8c4453bdf0803721f0a2fe",
       "version_major": 2,
       "version_minor": 0
      },
      "text/plain": [
       "VBox()"
      ]
     },
     "metadata": {},
     "output_type": "display_data"
    },
    {
     "data": {
      "application/vnd.jupyter.widget-view+json": {
       "model_id": "",
       "version_major": 2,
       "version_minor": 0
      },
      "text/plain": [
       "FloatProgress(value=0.0, bar_style='info', description='Progress:', layout=Layout(height='25px', width='50%'),…"
      ]
     },
     "metadata": {},
     "output_type": "display_data"
    },
    {
     "name": "stdout",
     "output_type": "stream",
     "text": [
      "['case_status', 'class_of_admission', 'country_of_citzenship', 'employer_name', 'employer_state', 'naics_2007_us_title', 'us_economic_sector', 'wage_offer_from_9089', 'wage_offer_unit_of_pay_9089']"
     ]
    }
   ],
   "source": [
    "cols_to_keep = visa.dtypes\n",
    "\n",
    "cols_to_keep = (\n",
    "                ['case_status', 'class_of_admission', \n",
    "                'country_of_citzenship', 'employer_name', \n",
    "                'employer_state', 'naics_2007_us_title', \n",
    "                'us_economic_sector', 'wage_offer_from_9089', \n",
    "                'wage_offer_unit_of_pay_9089'\n",
    "                ]  \n",
    ")\n",
    "\n",
    "cols_to_keep"
   ]
  },
  {
   "cell_type": "markdown",
   "metadata": {},
   "source": [
    "Convert 'wage_offer_from_9089' back to double type. In the previous code, it had converted all the columns we wanted to keep as a string so in the next code, we convert the numerical column back to a double."
   ]
  },
  {
   "cell_type": "code",
   "execution_count": 5,
   "metadata": {},
   "outputs": [
    {
     "data": {
      "application/vnd.jupyter.widget-view+json": {
       "model_id": "844bd64f4e35449f861b6b6076a5f516",
       "version_major": 2,
       "version_minor": 0
      },
      "text/plain": [
       "VBox()"
      ]
     },
     "metadata": {},
     "output_type": "display_data"
    },
    {
     "data": {
      "application/vnd.jupyter.widget-view+json": {
       "model_id": "",
       "version_major": 2,
       "version_minor": 0
      },
      "text/plain": [
       "FloatProgress(value=0.0, bar_style='info', description='Progress:', layout=Layout(height='25px', width='50%'),…"
      ]
     },
     "metadata": {},
     "output_type": "display_data"
    },
    {
     "name": "stdout",
     "output_type": "stream",
     "text": [
      "root\n",
      " |-- case_status: string (nullable = true)\n",
      " |-- class_of_admission: string (nullable = true)\n",
      " |-- country_of_citzenship: string (nullable = true)\n",
      " |-- employer_name: string (nullable = true)\n",
      " |-- employer_state: string (nullable = true)\n",
      " |-- naics_2007_us_title: string (nullable = true)\n",
      " |-- us_economic_sector: string (nullable = true)\n",
      " |-- wage_offer_from_9089: double (nullable = true)\n",
      " |-- wage_offer_unit_of_pay_9089: string (nullable = true)\n",
      "\n",
      "+--------------------+\n",
      "|wage_offer_from_9089|\n",
      "+--------------------+\n",
      "|             75629.0|\n",
      "|             37024.0|\n",
      "|             47923.0|\n",
      "|               10.97|\n",
      "|            100000.0|\n",
      "|             37024.0|\n",
      "|             47084.0|\n",
      "|             36733.0|\n",
      "|             44824.0|\n",
      "|               12.86|\n",
      "|             60000.0|\n",
      "|             50000.0|\n",
      "|                34.3|\n",
      "|             80000.0|\n",
      "|             36691.0|\n",
      "|               15.64|\n",
      "|               28.05|\n",
      "|                12.5|\n",
      "|               10.37|\n",
      "|                12.0|\n",
      "+--------------------+\n",
      "only showing top 20 rows"
     ]
    }
   ],
   "source": [
    "\n",
    "visa_subset = visa.select(cols_to_keep)\n",
    "\n",
    "visa_subset_new = visa_subset.withColumn(\"wage_offer_from_9089\",\n",
    "                                         visa_subset[\"wage_offer_from_9089\"]\n",
    "                                        .cast(DoubleType()))\n",
    "\n",
    "\n",
    "visa_subset_new.printSchema()\n",
    "visa_subset_new.select(\"wage_offer_from_9089\").show()"
   ]
  },
  {
   "cell_type": "markdown",
   "metadata": {},
   "source": [
    "<h3> Handling Missing Values"
   ]
  },
  {
   "cell_type": "markdown",
   "metadata": {},
   "source": [
    "Count the number of missing values in all rows in the column 'case_status'(our dependent variable)"
   ]
  },
  {
   "cell_type": "code",
   "execution_count": 6,
   "metadata": {},
   "outputs": [
    {
     "data": {
      "application/vnd.jupyter.widget-view+json": {
       "model_id": "9a6c84f11c8045e6a8c012bfcd1412d7",
       "version_major": 2,
       "version_minor": 0
      },
      "text/plain": [
       "VBox()"
      ]
     },
     "metadata": {},
     "output_type": "display_data"
    },
    {
     "data": {
      "application/vnd.jupyter.widget-view+json": {
       "model_id": "",
       "version_major": 2,
       "version_minor": 0
      },
      "text/plain": [
       "FloatProgress(value=0.0, bar_style='info', description='Progress:', layout=Layout(height='25px', width='50%'),…"
      ]
     },
     "metadata": {},
     "output_type": "display_data"
    },
    {
     "name": "stdout",
     "output_type": "stream",
     "text": [
      "355621"
     ]
    }
   ],
   "source": [
    "visa_subset_new.rdd.map(\n",
    "        lambda row: (\n",
    "                row['case_status']\n",
    "                ,sum([c == None for c in row])\n",
    "        )\n",
    "    )\\\n",
    "    .filter(lambda el:el[1] >=1)\\\n",
    "    .count()"
   ]
  },
  {
   "cell_type": "markdown",
   "metadata": {},
   "source": [
    "Count the number of missing values in each row"
   ]
  },
  {
   "cell_type": "code",
   "execution_count": 7,
   "metadata": {
    "scrolled": true
   },
   "outputs": [
    {
     "data": {
      "application/vnd.jupyter.widget-view+json": {
       "model_id": "5307d642a55649b090a23c551ec3edbf",
       "version_major": 2,
       "version_minor": 0
      },
      "text/plain": [
       "VBox()"
      ]
     },
     "metadata": {},
     "output_type": "display_data"
    },
    {
     "data": {
      "application/vnd.jupyter.widget-view+json": {
       "model_id": "",
       "version_major": 2,
       "version_minor": 0
      },
      "text/plain": [
       "FloatProgress(value=0.0, bar_style='info', description='Progress:', layout=Layout(height='25px', width='50%'),…"
      ]
     },
     "metadata": {},
     "output_type": "display_data"
    },
    {
     "name": "stdout",
     "output_type": "stream",
     "text": [
      "+-----------+------------+\n",
      "|case_status|CountMissing|\n",
      "+-----------+------------+\n",
      "|  Withdrawn|           8|\n",
      "|     Denied|           8|\n",
      "|     Denied|           8|\n",
      "|     Denied|           8|\n",
      "|     Denied|           8|\n",
      "|  Withdrawn|           8|\n",
      "|  Withdrawn|           8|\n",
      "|     Denied|           7|\n",
      "|  Withdrawn|           7|\n",
      "|     Denied|           6|\n",
      "|     Denied|           6|\n",
      "|     Denied|           6|\n",
      "|     Denied|           6|\n",
      "|     Denied|           6|\n",
      "|     Denied|           6|\n",
      "|     Denied|           6|\n",
      "|     Denied|           6|\n",
      "|     Denied|           6|\n",
      "|     Denied|           6|\n",
      "|     Denied|           6|\n",
      "+-----------+------------+\n",
      "only showing top 20 rows"
     ]
    }
   ],
   "source": [
    "(\n",
    "    spark.createDataFrame(\n",
    "        visa_subset_new.rdd.map(\n",
    "           lambda row: (\n",
    "                 row['case_status']\n",
    "               , sum([c == None for c in row])\n",
    "           )\n",
    "        )\n",
    "        .filter(lambda el: el[1] >= 1)\n",
    "        .collect()\n",
    "        ,['case_status', 'CountMissing']\n",
    "    )\n",
    "    .orderBy('CountMissing', ascending=False)\n",
    "    .show()\n",
    ")"
   ]
  },
  {
   "cell_type": "markdown",
   "metadata": {},
   "source": [
    "Count the number of missing values in each column"
   ]
  },
  {
   "cell_type": "code",
   "execution_count": 8,
   "metadata": {},
   "outputs": [
    {
     "data": {
      "application/vnd.jupyter.widget-view+json": {
       "model_id": "550fcff4f88747c38ef85087a65c5d01",
       "version_major": 2,
       "version_minor": 0
      },
      "text/plain": [
       "VBox()"
      ]
     },
     "metadata": {},
     "output_type": "display_data"
    },
    {
     "data": {
      "application/vnd.jupyter.widget-view+json": {
       "model_id": "",
       "version_major": 2,
       "version_minor": 0
      },
      "text/plain": [
       "FloatProgress(value=0.0, bar_style='info', description='Progress:', layout=Layout(height='25px', width='50%'),…"
      ]
     },
     "metadata": {},
     "output_type": "display_data"
    },
    {
     "name": "stderr",
     "output_type": "stream",
     "text": [
      "'str' object is not callable\n",
      "Traceback (most recent call last):\n",
      "  File \"<stdin>\", line 1, in <listcomp>\n",
      "TypeError: 'str' object is not callable\n",
      "\n"
     ]
    }
   ],
   "source": [
    "visa_subset_new.select([count(when(isnan(c) | col(c).isNull(), c)).alias(c) for c in visa_subset_new.columns]).show()\n"
   ]
  },
  {
   "cell_type": "markdown",
   "metadata": {},
   "source": [
    "Count the percentage of missing values in each column"
   ]
  },
  {
   "cell_type": "code",
   "execution_count": 9,
   "metadata": {},
   "outputs": [
    {
     "data": {
      "application/vnd.jupyter.widget-view+json": {
       "model_id": "30df412bd3604cfca927b0bd411a811b",
       "version_major": 2,
       "version_minor": 0
      },
      "text/plain": [
       "VBox()"
      ]
     },
     "metadata": {},
     "output_type": "display_data"
    },
    {
     "data": {
      "application/vnd.jupyter.widget-view+json": {
       "model_id": "",
       "version_major": 2,
       "version_minor": 0
      },
      "text/plain": [
       "FloatProgress(value=0.0, bar_style='info', description='Progress:', layout=Layout(height='25px', width='50%'),…"
      ]
     },
     "metadata": {},
     "output_type": "display_data"
    },
    {
     "name": "stdout",
     "output_type": "stream",
     "text": [
      "naics_2007_us_title_missing 0.9468428953793387\n",
      "country_of_citzenship_missing 0.9450424989715837\n",
      "us_economic_sector_missing 0.6552321015487683\n",
      "wage_offer_from_9089_missing 0.6002692580977771\n",
      "wage_offer_unit_of_pay_9089_missing 0.30963612759842074\n",
      "class_of_admission_missing 0.06102382186226163\n",
      "employer_state_missing 0.00011219087407376982\n",
      "employer_name_missing 3.205453544963266e-05\n",
      "case_status_missing 0.0"
     ]
    }
   ],
   "source": [
    "for k, v in sorted(\n",
    "    visa_subset_new.agg(*[\n",
    "               (1 - (F.count(c) / F.count('*')))\n",
    "                    .alias(c + '_missing')\n",
    "               for c in visa_subset_new.columns\n",
    "           ])\n",
    "        .collect()[0]\n",
    "        .asDict()\n",
    "        .items()\n",
    "    , key=lambda el: el[1]\n",
    "    , reverse=True\n",
    "):\n",
    "    print(k, v)"
   ]
  },
  {
   "cell_type": "markdown",
   "metadata": {},
   "source": [
    "Although roughly 95% of important columns such as 'country_of_citzenship' and 'naics_2007_us_title' contain missing values, we must drop them in order to keep necessary valuable information regarding our analysis. For our analysis, we hoped to provide a relationship or a correlation analysis of variables such as the country of citizenship so we must ensure data integrity and remove the missing values to try and keep our analysis accurate and consistent."
   ]
  },
  {
   "cell_type": "markdown",
   "metadata": {},
   "source": [
    "We drop the missing values and compare the count of the dataset before and after"
   ]
  },
  {
   "cell_type": "code",
   "execution_count": 10,
   "metadata": {},
   "outputs": [
    {
     "data": {
      "application/vnd.jupyter.widget-view+json": {
       "model_id": "71588a60011b40b6bfc2e871c4b8cbab",
       "version_major": 2,
       "version_minor": 0
      },
      "text/plain": [
       "VBox()"
      ]
     },
     "metadata": {},
     "output_type": "display_data"
    },
    {
     "data": {
      "application/vnd.jupyter.widget-view+json": {
       "model_id": "",
       "version_major": 2,
       "version_minor": 0
      },
      "text/plain": [
       "FloatProgress(value=0.0, bar_style='info', description='Progress:', layout=Layout(height='25px', width='50%'),…"
      ]
     },
     "metadata": {},
     "output_type": "display_data"
    },
    {
     "name": "stdout",
     "output_type": "stream",
     "text": [
      "(18741, 374362)"
     ]
    }
   ],
   "source": [
    "visa_nonull = visa_subset_new.dropna()\n",
    "visa_nonull.count(), visa_subset_new.count()"
   ]
  },
  {
   "cell_type": "markdown",
   "metadata": {},
   "source": [
    "<h3> Handling Duplicates"
   ]
  },
  {
   "cell_type": "markdown",
   "metadata": {},
   "source": [
    "Count the number of duplicates in the non-null dataset"
   ]
  },
  {
   "cell_type": "code",
   "execution_count": 11,
   "metadata": {},
   "outputs": [
    {
     "data": {
      "application/vnd.jupyter.widget-view+json": {
       "model_id": "f591c88c0d214d87a42bc63e5d4f70df",
       "version_major": 2,
       "version_minor": 0
      },
      "text/plain": [
       "VBox()"
      ]
     },
     "metadata": {},
     "output_type": "display_data"
    },
    {
     "data": {
      "application/vnd.jupyter.widget-view+json": {
       "model_id": "",
       "version_major": 2,
       "version_minor": 0
      },
      "text/plain": [
       "FloatProgress(value=0.0, bar_style='info', description='Progress:', layout=Layout(height='25px', width='50%'),…"
      ]
     },
     "metadata": {},
     "output_type": "display_data"
    },
    {
     "name": "stdout",
     "output_type": "stream",
     "text": [
      "(18741, 16503)"
     ]
    }
   ],
   "source": [
    "visa_nonull.count(), visa_nonull.distinct().count()"
   ]
  },
  {
   "cell_type": "markdown",
   "metadata": {},
   "source": [
    "Count and show the number of duplicates"
   ]
  },
  {
   "cell_type": "code",
   "execution_count": 12,
   "metadata": {},
   "outputs": [
    {
     "data": {
      "application/vnd.jupyter.widget-view+json": {
       "model_id": "29fb770d134a4ea8b8ad156ecb571223",
       "version_major": 2,
       "version_minor": 0
      },
      "text/plain": [
       "VBox()"
      ]
     },
     "metadata": {},
     "output_type": "display_data"
    },
    {
     "data": {
      "application/vnd.jupyter.widget-view+json": {
       "model_id": "",
       "version_major": 2,
       "version_minor": 0
      },
      "text/plain": [
       "FloatProgress(value=0.0, bar_style='info', description='Progress:', layout=Layout(height='25px', width='50%'),…"
      ]
     },
     "metadata": {},
     "output_type": "display_data"
    },
    {
     "name": "stdout",
     "output_type": "stream",
     "text": [
      "+-----------------+------------------+---------------------+--------------------+--------------+--------------------+--------------------+--------------------+---------------------------+-----+\n",
      "|      case_status|class_of_admission|country_of_citzenship|       employer_name|employer_state| naics_2007_us_title|  us_economic_sector|wage_offer_from_9089|wage_offer_unit_of_pay_9089|count|\n",
      "+-----------------+------------------+---------------------+--------------------+--------------+--------------------+--------------------+--------------------+---------------------------+-----+\n",
      "|        Withdrawn|               B-2|          SOUTH KOREA|          UTCA, INC.|            CA|Apparel, Piece Go...|Other Economic Se...|            117436.8|                         yr|    2|\n",
      "|           Denied|               E-1|                ITALY|IMA LIFE NORTH AM...|            NY|All Other Miscell...|        Advanced Mfg|             55848.0|                         yr|    2|\n",
      "|Certified-Expired|              H-1B|                INDIA|NEW YORK TECHNOLO...|            NJ|Custom Computer P...|                  IT|            150000.0|                         yr|    3|\n",
      "|Certified-Expired|              H-1B|                INDIA|GSPANN TECHNOLOGI...|            CA|Management, Scien...|Other Economic Se...|             75629.0|                         yr|    2|\n",
      "|        Withdrawn|              H-1B|                INDIA|      XCELTECH, INC.|            VA|Computer Systems ...|                  IT|             78624.0|                         yr|    2|\n",
      "|        Certified|              H-1B|                CHINA|    CATERPILLAR INC.|            IL|Construction Mach...|        Advanced Mfg|             80964.0|                         yr|    3|\n",
      "|        Certified|              H-1B|                INDIA|        VMWARE, INC.|            CA|Custom Computer P...|                  IT|             90716.0|                         yr|    2|\n",
      "|Certified-Expired|              H-1B|                INDIA|ADVANTAGE TECHNIC...|            MA|Temporary Help Se...|Other Economic Se...|             90480.0|                         yr|    2|\n",
      "|Certified-Expired|               F-1|                INDIA|    3I INFOTECH INC.|            NJ|Custom Computer P...|                  IT|             89024.0|                         yr|    2|\n",
      "|        Certified|              H-1B|                INDIA|DELOITTE CONSULTI...|            PA|Management Consul...|Other Economic Se...|            110000.0|                         yr|    2|\n",
      "|        Certified|              H-1B|          SOUTH KOREA|EPIC SYSTEMS CORP...|            WI|Computer Systems ...|                  IT|             73000.0|                         yr|    2|\n",
      "|        Certified|              H-1B|                INDIA|UNIVERSITY OF SOU...|            CA|Colleges, Univers...|Educational Services|             72571.0|                         yr|    2|\n",
      "|           Denied|              H-1B|                INDIA|    CATERPILLAR INC.|            IL|Construction Mach...|        Advanced Mfg|             80964.0|                         yr|    2|\n",
      "|        Certified|              H-1B|                INDIA|CREDIT SUISSE SEC...|            NY|Investment Bankin...|             Finance|            175000.0|                         yr|    2|\n",
      "|        Certified|              H-1B|                INDIA|          TELNET INC|            MD|  Telecommunications|                  IT|            122600.0|                         yr|    2|\n",
      "|        Certified|              H-1B|                INDIA|REDPRAIRIE CORPOR...|            GA|Other Computer Re...|                  IT|             81995.0|                         yr|    2|\n",
      "|        Certified|              H-1B|                INDIA|SOFTCOM SYSTEMS, ...|            NJ|Custom Computer P...|                  IT|             69888.0|                         yr|    2|\n",
      "|        Certified|              H-1B|                INDIA|      QUALCOMM, INC.|            CA|Radio and Televis...|        Advanced Mfg|             80340.0|                         yr|    3|\n",
      "|        Certified|              H-1B|                INDIA|MICRON TECHNOLOGY...|            ID|Semiconductor and...|        Advanced Mfg|             74568.0|                         yr|    2|\n",
      "|           Denied|              H-1B|                INDIA|COMPUNNEL SOFTWAR...|            NJ|Custom Computer P...|                  IT|             67850.0|                         yr|    2|\n",
      "+-----------------+------------------+---------------------+--------------------+--------------+--------------------+--------------------+--------------------+---------------------------+-----+\n",
      "only showing top 20 rows"
     ]
    }
   ],
   "source": [
    "(\n",
    "    visa_nonull\n",
    "    .groupby(visa_nonull.columns)\n",
    "    .count()\n",
    "    .filter('count > 1')\n",
    "    .show()\n",
    ")"
   ]
  },
  {
   "cell_type": "markdown",
   "metadata": {},
   "source": [
    "We can assume certain variables are fine with being duplicates such as the type of visa or job title but variables such as wages being as specific as they are (first row shows 117436.8), we can assume they are multiple records of the same instance most likely caused by error. Due to this reason, we are dropping duplicates in our dataset."
   ]
  },
  {
   "cell_type": "code",
   "execution_count": 13,
   "metadata": {},
   "outputs": [
    {
     "data": {
      "application/vnd.jupyter.widget-view+json": {
       "model_id": "50998adc917241469b3ff1da27de9e31",
       "version_major": 2,
       "version_minor": 0
      },
      "text/plain": [
       "VBox()"
      ]
     },
     "metadata": {},
     "output_type": "display_data"
    },
    {
     "data": {
      "application/vnd.jupyter.widget-view+json": {
       "model_id": "",
       "version_major": 2,
       "version_minor": 0
      },
      "text/plain": [
       "FloatProgress(value=0.0, bar_style='info', description='Progress:', layout=Layout(height='25px', width='50%'),…"
      ]
     },
     "metadata": {},
     "output_type": "display_data"
    },
    {
     "name": "stdout",
     "output_type": "stream",
     "text": [
      "16503"
     ]
    }
   ],
   "source": [
    "visa_clean = visa_nonull.dropDuplicates()\n",
    "visa_clean.count()"
   ]
  },
  {
   "cell_type": "code",
   "execution_count": 14,
   "metadata": {
    "scrolled": true
   },
   "outputs": [
    {
     "data": {
      "application/vnd.jupyter.widget-view+json": {
       "model_id": "234a05bdc4424fb18e1fe1434aeb55e4",
       "version_major": 2,
       "version_minor": 0
      },
      "text/plain": [
       "VBox()"
      ]
     },
     "metadata": {},
     "output_type": "display_data"
    },
    {
     "data": {
      "application/vnd.jupyter.widget-view+json": {
       "model_id": "",
       "version_major": 2,
       "version_minor": 0
      },
      "text/plain": [
       "FloatProgress(value=0.0, bar_style='info', description='Progress:', layout=Layout(height='25px', width='50%'),…"
      ]
     },
     "metadata": {},
     "output_type": "display_data"
    }
   ],
   "source": [
    "#visa_clean.write.csv('s3://cis4567fall2019/Project/visa_clean.csv')"
   ]
  },
  {
   "cell_type": "markdown",
   "metadata": {},
   "source": [
    "<h3> Descriptive Statistics"
   ]
  },
  {
   "cell_type": "code",
   "execution_count": 15,
   "metadata": {},
   "outputs": [
    {
     "data": {
      "application/vnd.jupyter.widget-view+json": {
       "model_id": "059015669d254726a1adb98a55ec2e6b",
       "version_major": 2,
       "version_minor": 0
      },
      "text/plain": [
       "VBox()"
      ]
     },
     "metadata": {},
     "output_type": "display_data"
    },
    {
     "data": {
      "application/vnd.jupyter.widget-view+json": {
       "model_id": "",
       "version_major": 2,
       "version_minor": 0
      },
      "text/plain": [
       "FloatProgress(value=0.0, bar_style='info', description='Progress:', layout=Layout(height='25px', width='50%'),…"
      ]
     },
     "metadata": {},
     "output_type": "display_data"
    },
    {
     "name": "stdout",
     "output_type": "stream",
     "text": [
      "[('case_status', 'string'), ('class_of_admission', 'string'), ('country_of_citzenship', 'string'), ('employer_name', 'string'), ('employer_state', 'string'), ('naics_2007_us_title', 'string'), ('us_economic_sector', 'string'), ('wage_offer_from_9089', 'double'), ('wage_offer_unit_of_pay_9089', 'string')]"
     ]
    }
   ],
   "source": [
    "visa_clean.dtypes"
   ]
  },
  {
   "cell_type": "markdown",
   "metadata": {},
   "source": [
    "Obtain numerical and categorical columns and define them"
   ]
  },
  {
   "cell_type": "code",
   "execution_count": 16,
   "metadata": {},
   "outputs": [
    {
     "data": {
      "application/vnd.jupyter.widget-view+json": {
       "model_id": "acc7ef47d75e4bd9b8eb6ade0892d82d",
       "version_major": 2,
       "version_minor": 0
      },
      "text/plain": [
       "VBox()"
      ]
     },
     "metadata": {},
     "output_type": "display_data"
    },
    {
     "data": {
      "application/vnd.jupyter.widget-view+json": {
       "model_id": "",
       "version_major": 2,
       "version_minor": 0
      },
      "text/plain": [
       "FloatProgress(value=0.0, bar_style='info', description='Progress:', layout=Layout(height='25px', width='50%'),…"
      ]
     },
     "metadata": {},
     "output_type": "display_data"
    },
    {
     "name": "stdout",
     "output_type": "stream",
     "text": [
      "(['wage_offer_from_9089'], ['class_of_admission', 'country_of_citzenship', 'employer_name', 'employer_state', 'naics_2007_us_title', 'us_economic_sector', 'wage_offer_unit_of_pay_9089'])"
     ]
    }
   ],
   "source": [
    "cols_num = [\n",
    "    e[0] for e in visa_clean.dtypes \n",
    "    if e[1] == 'double'\n",
    "]\n",
    "cols_cat = [\n",
    "    e[0] for e in visa_clean.dtypes[1:] #we exclude column case_status because it is our dependent variable\n",
    "    if e[1] == 'string'\n",
    "]\n",
    "cols_num, cols_cat"
   ]
  },
  {
   "cell_type": "markdown",
   "metadata": {},
   "source": [
    "We extract disinct categories for each column and the count of each catergory"
   ]
  },
  {
   "cell_type": "code",
   "execution_count": 17,
   "metadata": {},
   "outputs": [
    {
     "data": {
      "application/vnd.jupyter.widget-view+json": {
       "model_id": "4f7e8fb8c63c448e8cea3d5d697bc5d2",
       "version_major": 2,
       "version_minor": 0
      },
      "text/plain": [
       "VBox()"
      ]
     },
     "metadata": {},
     "output_type": "display_data"
    },
    {
     "data": {
      "application/vnd.jupyter.widget-view+json": {
       "model_id": "",
       "version_major": 2,
       "version_minor": 0
      },
      "text/plain": [
       "FloatProgress(value=0.0, bar_style='info', description='Progress:', layout=Layout(height='25px', width='50%'),…"
      ]
     },
     "metadata": {},
     "output_type": "display_data"
    },
    {
     "name": "stdout",
     "output_type": "stream",
     "text": [
      "class_of_admission [('H-1B', 13655), ('L-1', 514), ('F-1', 480), ('B-2', 293), ('Parolee', 280), ('EWI', 263), ('E-2', 244), ('TN', 146), ('Not in USA', 122), ('H-1B1', 66), ('B-1', 61), ('H-4', 47), ('O-1', 45), ('J-1', 43), ('E-1', 39), ('F-2', 37), ('E-3', 31), ('H-2B', 30), ('L-2', 18), ('A1/A2', 11), ('R-1', 9), ('TPS', 7), ('H-1C', 7), ('C-1', 6), ('VWT', 5), ('P-1', 5), ('H-2A', 5), ('A-3', 4), ('H-1A', 4), ('G-5', 4), ('J-2', 3), ('G-4', 3), ('G-1', 2), ('Parol', 2), ('P-3', 2), ('I', 2), ('R-2', 1), ('D-1', 1), ('H-3', 1), ('O-3', 1), ('P-4', 1), ('Q', 1), ('AOS/H-1B', 1), ('VWB', 1)] \n",
      "\n",
      "country_of_citzenship [('INDIA', 8057), ('SOUTH KOREA', 950), ('CANADA', 925), ('CHINA', 922), ('PHILIPPINES', 543), ('MEXICO', 456), ('UNITED KINGDOM', 293), ('TAIWAN', 252), ('PAKISTAN', 237), ('JAPAN', 203), ('TURKEY', 195), ('BRAZIL', 156), ('GERMANY', 154), ('FRANCE', 152), ('NEPAL', 142), ('COLOMBIA', 131), ('VENEZUELA', 131), ('RUSSIA', 106), ('ISRAEL', 102), ('POLAND', 86), ('ITALY', 85), ('SPAIN', 79), ('NIGERIA', 77), ('ECUADOR', 75), ('AUSTRALIA', 73), ('INDONESIA', 71), ('ARGENTINA', 69), ('PERU', 63), ('IRAN', 59), ('ROMANIA', 59), ('MALAYSIA', 57), ('SINGAPORE', 55), ('EGYPT', 55), ('SOUTH AFRICA', 54), ('BANGLADESH', 52), ('BULGARIA', 52), ('JAMAICA', 47), ('LEBANON', 47), ('THAILAND', 47), ('UKRAINE', 45), ('KENYA', 45), ('IRELAND', 42), ('HONG KONG', 41), ('SRI LANKA', 40), ('GHANA', 39), ('VIETNAM', 38), ('TRINIDAD AND TOBAGO', 38), ('NETHERLANDS', 37), ('CHILE', 34), ('JORDAN', 34), ('UNITED STATES OF AMERICA', 32), ('EL SALVADOR', 31), ('GREECE', 28), ('DOMINICAN REPUBLIC', 27), ('SWEDEN', 23), ('SYRIA', 22), ('PORTUGAL', 21), ('NEW ZEALAND', 18), ('BELARUS', 17), ('BELGIUM', 17), ('SWITZERLAND', 17), ('AUSTRIA', 17), ('SERBIA AND MONTENEGRO', 16), ('GUATEMALA', 16), ('BOLIVIA', 15), ('HUNGARY', 13), ('GEORGIA', 13), ('MOROCCO', 13), ('CZECH REPUBLIC', 12), ('MONGOLIA', 11), ('FINLAND', 11), ('HONDURAS', 11), ('SLOVAKIA', 11), ('LITHUANIA', 10), ('ETHIOPIA', 10), ('PANAMA', 10), ('COSTA RICA', 10), ('DENMARK', 10), ('ZAMBIA', 9), ('ZIMBABWE', 9), ('ALBANIA', 8), ('MOLDOVA', 8), ('AZERBAIJAN', 7), ('CROATIA', 7), ('CAMEROON', 7), ('CYPRUS', 7), ('NORWAY', 7), ('ARMENIA', 7), ('PARAGUAY', 7), ('UZBEKISTAN', 7), ('BARBADOS', 7), ('URUGUAY', 6), ('SENEGAL', 6), ('NICARAGUA', 6), ('DOMINICA', 6), ('TANZANIA', 6), ('BURMA (MYANMAR)', 5), ('KYRGYZSTAN', 5), ('ICELAND', 5), ('TUNISIA', 4), ('GUYANA', 4), ('UGANDA', 4), ('KAZAKHSTAN', 4), ('LATVIA', 4), ('IVORY COAST', 3), ('ESTONIA', 3), ('BELIZE', 3), ('OMAN', 3), ('IRAQ', 3), ('SAUDI ARABIA', 3), ('MAURITIUS', 3), ('YUGOSLAVIA', 3), ('AFGHANISTAN', 3), ('TURKMENISTAN', 3), ('BOSNIA AND HERZEGOVINA', 3), ('SUDAN', 2), ('SLOVENIA', 2), ('TOGO', 2), ('CAMBODIA', 2), ('GRENADA', 2), ('KUWAIT', 2), ('PALESTINE', 2), ('ST VINCENT', 2), ('MACEDONIA', 2), ('MALI', 2), ('LIBERIA', 2), ('NORTH KOREA', 2), ('BAHAMAS', 2), ('TAJIKISTAN', 1), ('KOSOVO', 1), ('GUINEA', 1), ('UNITED ARAB EMIRATES', 1), ('ANGOLA', 1), ('FIJI', 1), ('BURKINA FASO', 1), ('BHUTAN', 1), ('LIBYA', 1), ('ST KITTS AND NEVIS', 1), ('LESOTHO', 1), ('RWANDA', 1), ('MALTA', 1), ('LAOS', 1), ('HAITI', 1), ('GAMBIA', 1), ('SIERRA LEONE', 1), ('BAHRAIN', 1)] \n",
      "\n",
      "employer_name [('MICROSOFT CORPORATION', 337), ('GOOGLE INC.', 114), ('QUALCOMM, INC.', 106), ('TEXAS INSTRUMENTS INCORPORATED', 77), ('AMAZON CORPORATE LLC', 67), ('PRICEWATERHOUSECOOPERS', 63), ('DELOITTE CONSULTING LLP', 60), ('BROADCOM CORPORATION', 59), ('HEWLETT-PACKARD COMPANY', 59), ('JP MORGAN CHASE & CO', 58), ('APPLE INC.', 54), ('ERNST & YOUNG U.S. LLP', 54), ('IBM CORPORATION', 43), ('NVIDIA CORPORATION', 40), ('JUNIPER NETWORKS', 39), ('FREESCALE SEMICONDUCTOR, INC.', 39), ('HP ENTERPRISE SERVICES, LLC', 39), ('CUMMINS INC.', 38), ('MORGAN STANLEY & CO. LLC', 37), ('HCL AMERICA INC.', 35), ('AUTOMATIC DATA PROCESSING, INC.', 32), ('ORACLE AMERICA, INC.', 31), ('BLOOMBERG L.P.', 31), ('VMWARE, INC.', 30), ('PAYPAL INC', 30), ('MICRON TECHNOLOGY, INC.', 29), ('EMC CORPORATION', 28), ('BANK OF AMERICA', 28), ('BROCADE COMMUNICATIONS SYSTEMS, INC.', 27), ('EBAY INC', 27), ('ERICSSON INC.', 26), ('RESEARCH IN MOTION CORPORATION (US)', 26), ('POPULUS GROUP, LLC', 26), ('ADOBE SYSTEMS INCORPORATED', 25), ('SALESFORCE.COM', 24), ('SABER SOFTWARE, INC., D/B/A SABER GOVERNMENT SOLUT', 23), ('AMERICAN EXPRESS TRAVEL RELATED SERVICES', 23), ('NETAPP, INC.', 23), ('BARCLAYS SERVICES CORP', 22), ('GOLDMAN, SACHS & CO.', 22), ('CAPGEMINI U.S. LLC', 22), ('MERRILL LYNCH', 21), ('SYSTEM SOFT TECHNOLOGIES LLC', 20), ('INDIANA UNIVERSITY', 20), ('3I INFOTECH INC.', 20), ('AMDOCS INC.', 20), ('COMCAST CABLE COMMUNICATIONS, LLC', 19), ('CAPGEMINI FINANCIAL SERVICES USA INC.', 19), ('ABBOTT LABORATORIES', 19), ('RIVERBED TECHNOLOGY INC.', 18), ('CREDIT SUISSE SECURITIES (USA) LLC', 18), ('PERFICIENT, INC', 18), ('T-MOBILE USA, INC.', 18), ('HSBC BANK USA, N.A.', 18), ('AT&T, INC., AND ALL OF ITS SUBSIDIARIES AND AFFILIATES', 18), ('POLARIS SOFTWARE LAB (INDIA) LTD.', 17), ('QUALCOMM INNOVATION CENTER, INC.', 17), ('ARUBA NETWORKS, INC.', 17), ('KPMG LLP', 17), ('QUALCOMM ATHEROS, INC.', 17), ('U.S. TECH SOLUTIONS INC', 17), ('JOHNSON CONTROLS, INC', 17), ('SAP LABS, LLC', 16), ('CISCO SYSTEMS, INC.', 16), ('HOUSTON INDEPENDENT SCHOOL DISTRICT', 16), ('UNIVERSITY OF IOWA', 16), ('THE CURATORS OF THE UNIVERSITY OF MISSOURI', 16), ('APPLIED MATERIALS, INC.', 16), ('MONSANTO COMPANY', 16), ('TELLABS OPERATIONS, INC', 16), ('CGI TECHNOLOGIES AND SOLUTIONS INC.', 16), ('CATERPILLAR INC.', 16), ('SANFORD CLINIC', 15), ('CVS RX SERVICES, INC', 15), ('COGNIZANT TECHNOLOGY SOLUTIONS US CORPORATION', 15), ('SYMANTEC CORPORATION', 15), ('SAMSUNG TELECOMMUNICATIONS AMERICA, LLC', 14), ('ESRI INC.', 14), ('DELOITTE & TOUCHE LLP', 14), ('UNIVERSITY OF UTAH', 14), ('APEX TECHNOLOGY GROUP INC.', 14), ('FMR CORP.', 14), ('NORFOLK PUBLIC SCHOOLS', 14), ('SAP AMERICA, INC.', 14), ('COMPUNNEL SOFTWARE GROUP, INC.', 14), ('UNITED HEALTHCARE SERVICES, INC.', 14), ('KBR TECHNICAL SERVICES, INC.', 13), ('ADS ALLIANCE DATA SYSTEMS, INC.', 13), ('VEDICSOFT SOLUTIONS INC', 13), ('CORPORATE COMPUTER SERVICES INC', 13), ('ITECH US INC.', 13), ('DIASPARK, INC', 13), ('KFORCE INC.', 13), ('MULTIVISION INC.', 12), ('ARIZONA STATE UNIVERSITY', 12), ('AFFILIATED COMPUTER SERVICES, INC.', 12), ('SYNOPSYS, INC.', 12), ('CELCITE MANAGEMENT SOLUTIONS, LLC', 12), ('SAPPHIRE TECHNOLOGIES, LP', 12), ('THE OHIO STATE UNIVERSITY', 12), ('CTS TECHNICAL SERVICES, INC.', 12), ('KLA-TENCOR CORPORATION', 12), ('BARCLAYS CAPITAL SERVICES INC.', 12), ('INOVANT LLC', 12), ('HALLMARK GLOBAL TECHNOLOGIES INC.', 12), ('MEDTRONIC, INC.', 12), ('REALNETWORKS, INC.', 12), ('FOSTER WHEELER USA CORPORATION', 12), ('DELOITTE TAX LLP', 12), ('KEANE, INC.', 12), ('OCCIDENTAL OIL AND GAS', 12), ('MCKINSEY & COMPANY, INC UNITED STATES', 12), ('THE UNIVERSITY OF CHICAGO', 11), ('UNIVERSITY OF PENNSYLVANIA', 11), ('BARCLAYS CAPITAL INC.', 11), ('SANDISK CORPORATION', 11), ('CLEVELAND CLINIC FOUNDATION', 11), ('CSC COVANSYS CORPORATION', 11), ('EPIC SYSTEMS CORPORATION', 11), ('UNIVERSITY OF FLORIDA', 11), ('SEAGATE US LLC', 11), ('WIPRO LIMITED', 11), ('WASHINGTON UNIVERSITY IN ST. LOUIS', 11), ('COSMOS FOUNDATION, INC.', 11), ('PROGRESSIVE CASUALTY INSURANCE COMPANY', 11), ('BOSTON SCIENTIFIC', 11), ('EXPEDIA, INC.', 11), ('DELASOFT, INC', 10), ('VARIAN MEDICAL SYSTEMS', 10), ('MARVELL SEMICONDUCTOR INC', 10), ('TIBCO SOFTWARE INC.', 10), ('PHILIPS ELECTRONICS NORTH AMERICA CORPORATION', 10), ('AMERICAN AIRLINES', 10), ('TESLA MOTORSINC', 10), ('HCL GLOBAL SYSTEMS INC', 10), ('LSI LOGIC CORPORATION', 10), ('INTELLIGROUP INC.', 10), ('LPS MANAGEMENT, LLC', 10), ('RJT COMPUQUEST INC.', 10), ('A2Z DEVELOPMENT CENTER, INC', 10), ('MASTECH, INC., A MASTECH HOLDINGS, INC. COMPANY', 10), ('WAL-MART ASSOCIATES, INC.', 10), ('INFOMERICA, INC', 10), ('UNIVERSITY OF MICHIGAN', 10), ('SAAMA TECHNOLOGIES, INC', 10), ('WESTERN DIGITAL TECHNOLOGIES, INC.', 10), ('CARDINAL HEALTH', 10), ('HARVARD UNIVERSITY', 10), ('REI SYSTEMS, INC.', 10), ('UNIVERSITY OF ALABAMA AT BIRMINGHAM', 10), ('MENTOR GRAPHICS', 10), ('UNIVERSITY OF ILLINOIS AT CHICAGO', 9), ('MORNINGSTAR, INC.', 9), ('ATEM CORP.', 9), ('BAHA INDUSTRIES CORP. DBA OPEN SYSTEMS TECHNOLOGIES', 9), ('RESOURCE LOGISTICS, INC.', 9), ('CITRIX SYSTEMS, INC.', 9), ('SOUTHERN ILLINOIS MEDICAL SERVICES', 9), ('BDO SEIDMAN, LLP', 9), ('EXPERIS US, INC.', 9), ('SRIVEN INFOSYS INC', 9), ('CITIBANK, N.A', 9), ('URS CORPORATION', 9), ('MARLABS, INC', 9), ('PYRAMID TECHNOLOGY SOLUTIONS, INC', 9), ('INTEL CORPORATION', 9), ('UNIVERSITY OF ILLINOIS AT URBANA-CHAMPAIGN', 9), ('NIKE, INC.', 9), ('MORGAN STANLEY SMITH BARNEY LLC', 9), ('TERRA INFOTECH INC', 9), ('SILVER SPRING NETWORKS, INC.', 9), ('ASAP STAFFING L.L.C.', 9), ('IT CATS, LLC', 9), ('ABIS TECHNOLOGIES INC', 8), ('THE UNIVERSITY OF SOUTH CAROLINA', 8), ('ORACLE FINANCIAL SERVICES SOFTWARE INC.', 8), ('ADVANCED MICRO DEVICES, INC. (AMD)', 8), ('DELL PRODUCTS LP', 8), ('SWISS RE AMERICA HOLDING CORPORATION', 8), ('MSCI INC.', 8), ('MAXIM INTEGRATED PRODUCTS, INC.', 8), ('TYCO ELECTRONICS CORPORATION', 8), ('COLUMBIA UNIVERSITY', 8), ('ENTERPRISE SOLUTIONS, INC.', 8), ('PIXAR', 8), ('MINDTREE LIMITED', 8), ('ANALOG DEVICES INC.', 8), (\"PRINCE GEORGE'S COUNTY PUBLIC SCHOOLS\", 8), ('BIRLASOFT INC', 8), ('OVERSTOCK.COM', 8), ('UNIVERSITY OF CENTRAL FLORIDA', 8), ('PRAXAIR,INC.', 8), ('DAISY EDUCATION CORPORATION', 8), ('THE UNIVERSITY OF GEORGIA', 8), ('NORTHWESTERN UNIVERSITY', 8), ('AXON SOLUTIONS INC.', 8), ('ALSTOM GRID INC.', 8), ('VERINON TECHNOLOGY SOLUTIONS LIMITED', 8), ('JUNIPER NETWORKS (US), INC.', 8), ('UNIVERSITY OF SOUTHERN CALIFORNIA', 8), ('CITIGROUP GLOBAL MARKETS INC.', 8), ('BARNES&NOBLE.COM', 8), ('NESS USA, INC.', 8), ('INFOR GLOBAL SOLUTIONS, INC.', 8), ('SAPIENT CORPORATION', 8), ('ASTA CRS, INC', 8), ('ORION SYSTEMS INTEGRATORS, INC', 8), ('JSMN INTERNATIONAL, INC.', 8), ('MOTOROLA SOLUTIONS INC.', 8), ('GLOBAL INFOTECH INC', 8), ('YALE UNIVERSITY', 8), ('K SOURCE INC', 7), ('UNION BANK, N.A.', 7), ('DALLAS INDEPENDENT SCHOOL DISTRICT', 7), ('DOW JONES & COMPANY, INC.', 7), ('CITICORP CREDIT SERVICES, INC. (USA)', 7), ('QUANTUM INFOTECH, INC.', 7), ('TEK PEOPLE ONLINE, INC', 7), ('DIRECTV, INC.', 7), ('ERP ANALYSTS, INC', 7), ('TRUSTEES OF BOSTON UNIVERSITY', 7), ('CHEVRON CORPORATION', 7), ('CAMERON INTERNATIONAL CORPORATION', 7), ('GENERAL ELECTRIC COMPANY (GE ENERGY)', 7), ('HALLIBURTON ENERGY SERVICES, INC.', 7), ('SOFTWARE CATALYSTS LLC', 7), ('HITACHI GLOBAL STORAGE TECHNOLOGIES', 7), ('MODIS, INC.', 7), ('BLACK & VEATCH CORPORATION', 7), ('BROADRIDGE FINANCIAL SOLUTIONS, INC.', 7), ('TEXAS A&M UNIVERSITY', 7), ('MAYO CLINIC', 7), ('PROKARMA INC', 7), ('DVR SOFTEK INC.,', 7), ('OPEN SYSTEMS TECHNOLOGIES', 7), ('IN UNIV HEALTHCARE ASSOC, INC DBA IUHP', 7), ('KRONSYS INC', 7), ('CUMMINS EMISSION SOLUTIONS INC.', 7), ('ROCHESTER GENERAL HOSPITAL', 7), ('NATIONAL OILWELL VARCO, L.P.', 7), ('WESTERN UNION LLC', 7), ('IGT, INC.', 7), ('ASCENDANT TECHNOLOGY', 7), ('DIVERSANT LLC', 7), ('COMMVAULT AMERICAS, INC', 7), ('NAVISTAR, INC.', 7), ('PARADIGM GEOPHYSICAL CORP', 7), ('AVAYA, INC.', 7), ('QUALITY SOFTWARE SERVICES, INC.', 7), ('THE UNIVERSITY OF ALABAMA', 7), ('CASE WESTERN RESERVE UNIVERSITY', 7), ('THE UNIVERSITY OF TENNESSEE, KNOXVILLE', 7), ('CITADEL LLC', 7), ('INTEGRIS HEALTH, INC.', 7), ('SIEMENS MEDICAL SOLUTIONS', 7), ('THE ADVISORY BOARD COMPANY', 7), ('ALCATEL LUCENT USA, INC.', 7), ('CA, INC.', 7), ('CAPGEMINI AMERICA, INC.', 7), ('ENOVA FINANCIAL', 7), ('HEWITT ASSOCIATES LLC', 7), ('WEST VIRGINIA UNIVERSITY', 7), ('DGN TECHNOLOGIES INC.', 7), ('DISCOVER PRODUCTS INC.', 7), (\"STANDARD & POOR'S FINANCIAL SERVICES LLC\", 7), ('YASH TECHNOLOGIES, INC.', 7), ('EBUSINESSWARE, INC.', 7), ('UNIVERSITY OF NEBRASKA MEDICAL CENTER', 7), ('3K TECHNOLOGIES LLC', 7), ('BECKMAN COULTER, INC', 7), ('PURDUE UNIVERSITY', 6), ('FRONTIER TECHNOLOGIES LLC', 6), ('SAPVIX INC', 6), ('IMS HEALTH, INC.', 6), ('UNIVERSITY OF PITTSBURGH PHYSICIANS', 6), ('NEW YORK UNIVERSITY', 6), ('INTELLISWIFT SOFTWARE, INC.', 6), ('ACXIOM CORPORATION', 6), ('GOODRICH AEROSTRUCTURES DIVISION', 6), ('PACKETVIDEO CORPORATION', 6), ('GLOBAL TEACHERS RESEARCH AND RESOURCES, INC.', 6), ('ELECTRONIC ARTS, INC.', 6), ('AMERICAN UNIVERSITY', 6), ('SIEMENS INDUSTRY, INC.', 6), ('CONOCOPHILLIPS COMPANY', 6), ('E-BUSINESS INTERNATIONAL INC', 6), ('MAGNOLIA EDUCATIONAL & RESEARCH FOUNDATION', 6), ('PEOPLE TECH GROUP INC', 6), ('J. CREW', 6), ('SIEMENS INDUSTRY INC.', 6), ('ACME PACKET, INC.', 6), ('EDIFECS, INC.', 6), ('NATIONAL SEMICONDUCTOR', 6), ('SONY COMPUTER ENTERTAINMENT AMERICA LLC', 6), ('PARAMOUNT GLOBAL SOLUTIONS, INC.', 6), ('MICROCHIP TECHNOLOGY', 6), ('MARSHFIELD CLINIC', 6), ('INFINITY TECH GROUP INC', 6), ('SMARTSOFT INTERNATIONAL INC', 6), ('STRATEGIC RESOURCES INTERNATIONAL, INC', 6), ('HEADSTRONG SERVICES LLC', 6), ('PROFICIENT BUSINESS SYSTEMS, INC.', 6), ('APEX TECHNOLOGY SYSTEMS, INC', 6), ('INTRAEDGE, INC', 6), ('PRICELINE.COM', 6), ('DEUTSCHE BANK SECURITIES, INC.', 6), ('ISOFTECH INC', 6), ('VCU HEALTH SYSTEM AUTHORITY', 6), ('EPAM SYSTEMS, INC', 6), ('MANHATTAN ASSOCIATES, INC.', 6), ('ASTIR IT SOLUTIONS, INC', 6), ('FEDERAL HOME LOAN MORTGAGE CORPORATION', 6), ('PALM INC', 6), ('GAP INC.', 6), ('U. S. INFO SYSTEMS INC', 6), ('HITACHI CONSULTING CORPORATION', 6), ('THE UNIVERSITY OF ARIZONA', 6), ('AGILENT TECHNOLOGIES, INC.', 6), ('STAPLES, INC.', 6), ('APOGEE MEDICAL GROUP, VIRGINIA, PC', 6), ('OPEN TEXT, INC.', 6), ('LANDMARK GRAPHICS CORPORATION', 6), ('SAS INSTITUTE INC.', 6), ('HOTWIRE', 6), ('US AIRWAYS, INC', 6), ('ARIBA, INC.', 6), ('LONGTOP INTERNATIONAL LLC', 6), ('SPARTA CONSULTING', 6), ('DATA CONCEPTS LLC', 6), ('GULFSTREAM AEROSPACE CORPORATION', 6), ('NCS PEARSON, INC.', 6), ('RELIABLE SOFTWARE RESOURCES INC', 6), ('HORIZON TECHNOLOGIES INC', 6), ('UNIVERSITY OF IDAHO', 6), ('AECOM TECHNICAL SERVICES, INC.', 6), ('NOMURA AMERICA SERVICES, LLC', 6), ('JACKSON NATIONAL LIFE INSURANCE COMPANY', 6), ('GENERAL MOTORS COMPANY', 6), ('WEST SERVICES, INC.', 6), ('WICKED FASHIONS, INC.', 6), ('CYBERSOURCE CORPORATION', 6), ('UST GLOBAL INC', 6), ('LACONIA ASSOCIATES INC', 6), ('NEUBERGER BERMAN GROUP LLC', 6), ('MILLENIUM EDUCATION FOUNDATION, INC.', 6), ('SPRUCE TECHNOLOGY INC', 6), ('RITE AID CORPORATION', 6), ('VISTAPRINT USA INC.', 6), ('BODHTREE SOLUTIONS, INC', 6), ('HITACHI DATA SYSTEMS CORPORATION', 6), ('CORE EDUCATION AND CONSULTING SOLUTIONS, INC.', 6), ('TRADING TECHNOLOGIES', 5), ('FIRST OBJECT INC', 5), ('INDU LLC  D/B/A INTIGROW', 5), ('UNIVERSITY OF KENTUCKY', 5), ('PROGRAMMER RESOURCES INTERNATIONAL INC', 5), ('TEKNOSTARS INC', 5), ('MCAFEE INC.', 5), ('PATEL CONSULTANTS CORPORATION', 5), ('CAVALIER IT, INC.', 5), ('UNIVERSITY OF CALIFORNIA, BERKELEY', 5), ('CYCLONE COMMERCE DBA AXWAY INC.', 5), ('VANTAGE FORCE, INC.', 5), ('NEOPOST USA INC.', 5), ('E*TRADE FINANCIAL CORPORATION', 5), ('TRIMBLE NAVIGATION LIMITED', 5), ('FORMOSA PLASTICS CORPORATION, TEXAS', 5), ('CARGILL, INCORPORATED', 5), ('SYRACUSE UNIVERSITY', 5), ('DATUM SOFTWARE INC', 5), ('BAYER BUSINESS AND TECHNOLOGY SERVICES, LLC', 5), ('DEERE & COMPANY', 5), ('THE MATHWORKS, INC.', 5), ('ARCADIS U.S., INC.', 5), ('SMITH MICRO SOFTWARE', 5), ('SBM-IMODCO', 5), ('CODEWORKS', 5), ('LEAD IT CORPORATION', 5), ('INTELLISOFT TECHNOLOGIES, INC.', 5), ('MICROEXCEL INC', 5), ('SLALOM, LLC', 5), ('PTC', 5), ('LELAND STANFORD JR, UNIVERSITY', 5), ('ADVENT GLOBAL SOLUTIONS,INC.', 5), ('CIGNA CGLIC', 5), ('JDS UNIPHASE CORPORATION', 5), ('TENDER TOUCH REHAB SERVICES LLC', 5), ('UNIVERSITY OF CALIFORNIA, LOS ANGELES', 5), ('APL, LTD.', 5), (\"LOWE'S COMPANIES, INC.\", 5), ('MASSACHUSETTS GENERAL HOSPITAL', 5), ('ROCKWELL AUTOMATION, INC.', 5), ('RBC CAPITAL MARKETS, LLC', 5), ('BARTRONICS AMERICA, INC', 5), ('AMENSYS INC', 5), ('ECOM CONSULTING, INC.', 5), ('CAREFUSION CORPORATION', 5), ('SKY FOUNDATION', 5), ('FIDELIS PRO SOLUTIONS INC', 5), ('SIEMENS ENERGY, INC.', 5), ('LISA ACADEMY', 5), ('INFOBAHN SOFTWORLD INC.', 5), ('PARSONS BRINCKERHOFF, INC.', 5), ('MOURI TECH LLC', 5), ('NOWCOM CORPORATION', 5), ('IMETRIS CORPORATION', 5), ('BLACKROCK INSTITUTIONAL TRUST COMPANY, N.A.', 5), ('CGI FEDERAL INC.', 5), ('JP MORGAN CHASE & CO.', 5), ('FIS MANAGEMENT SERVICES LLC', 5), ('SOUTHERN CALIFORNIA EDISON', 5), ('MARRIOTT INTERNATIONAL, INC.', 5), ('AETNA LIFE INSURANCE COMPANY', 5), ('BNP PARIBAS RCC', 5), ('CIENA CORPORATION', 5), ('CAPITAL ONE, NATIONAL ASSOCIATION', 5), ('INFOLOGITECH INC', 5), ('QUADRANT 4 CONSULTING INC', 5), ('INTERNATIONAL SYSTEMS TECHNOLOGIES .,INC', 5), ('IKASYSTEMS CORPORATION', 5), ('MICROSOFT LICENSING, GP', 5), ('KNIGHT CAPTIAL AMERICAS, L.P.', 5), ('ION GEOPHYSICAL CORPORATION', 5), ('HEALTH CARE SERVICE CORP.', 5), ('CONSTELLATION ENERGY', 5), ('LOGITECH, INC', 5), ('UNIVERSITY OF COLORADO', 5), ('WEBMD LLC', 5), ('MEDICAL COLLEGE OF WISCONSIN', 5), ('GURU IT SOLUTIONS, INC', 5), ('UBS AG,', 5), ('SKYWORKS SOLUTIONS, INC.', 5), ('UNIVERSITY OF CINCINNATI', 5), ('USA WASTE MANAGEMENT RESOURCES, LLC', 5), ('I2SOLVERS, INC.', 5), ('BUSINESS INTEGRA INC.', 5), ('A.T. KEARNEY, INC.', 5), ('NOMURA SECURITIES INTERNATIONAL, INC.', 5), ('UNIVERSITY OF PITTSBURGH', 5), ('NETFLIX', 5), ('INNOVIS HEALTH', 5), ('THE DOTCOM.TEAM, LLC', 5), ('ALPHA NET CONSULTING LLC.', 5), ('LOGICATECH, INC', 5), ('HONEYWELL INTERNATIONAL', 5), ('KPI PARTNERS INC.', 5), ('LSU HEALTH SCIENCES CENTER', 5), ('ETOUCH SYSTEMS CORPORATION', 5), ('THE GUARDIAN LIFE INSURANCE CO. OF AMERICA', 5), ('HYUNDAI INFORMATION SERVICE NORTH AMERICA LLC', 5), ('INFORMATION CONTROL CORPORATION', 5), ('AXIS, INC.', 5), ('TATA COMMUNICATIONS (AMERICA) INC.', 5), ('UNIVERSITY OF WASHINGTON', 5), ('BILL ME LATER, INC.', 5), ('THE TRIZETTO GROUP, INC.', 5), ('NETSUITE', 5), ('ING BANK, FSB', 5), ('BLACKROCK FINANCIAL MANAGEMENT', 5), ('NETVISION RESOURCES INC.', 5), ('COMPUTER SCIENCES CORPORATION', 5), ('SYMBIOUN TECHNOLOGIES INC', 5), ('DELL USA LP', 5), ('FORD MOTOR COMPANY', 5), ('HUMANA', 5), ('TELENAV, INC.', 5), ('XPEDITE TECHNOLOGIES INC', 5), ('SUNERA TECHNOLOGIES, INC.', 5), ('NIXSOL INC', 5), ('CYMA SYSTEMS INC', 5), ('PARIBAS NORTH AMERICA', 5), ('MYLAN INC.', 5), ('GCOM SOFTWARE, INC.', 5), ('MPHASIS CORPORATION', 5), ('BARCLAYS BANK DELAWARE', 5), ('DEUTSCHE BANK', 5), ('STARPOINT SOLUTIONS LLC', 5), ('ACNOVATE CORPORATION', 5), ('AIR WORLDWIDE', 5), ('NETLOGIC MICROSYSTEMS INC', 5), ('CARNEGIE MELLON UNIVERSITY', 5), ('NUANCE COMMUNICATIONS, INC.', 5), ('UNIVERSITY OF TEXAS HEALTH SCIENCE CENTER AT SA', 5), ('XCELTECH, INC.', 5), ('SMITH HANLEY CONSULTING GROUP, LLC', 5), ('OPENLOGIX CORPORATION', 4), ('THE UNIVERSITY OF HOUSTON', 4), ('IOWA STATE UNIVERSITY', 4), ('APPALACHIAN REGIONAL HEALTHCARE, INC', 4), ('JOHNS HOPKINS UNIVERSITY', 4), ('COMMERCIAL METALS COMPANY', 4), ('UNIVERSITY OF MASSACHUSETTS AMHERST', 4), ('UNIQUE KEY RESOURCES,INC', 4), ('DEPAUL UNIVERSITY', 4), ('UNIVERSITY OF ARKANSAS FOR MEDICAL SCIENCES', 4), ('W3GLOBAL INC', 4), ('CHARTER GLOBAL, INC.', 4), ('PJM INTERCONNECTION', 4), ('INFOSYS TECHNOLOGIES LIMITED', 4), (\"CHILDREN'S HOSPITAL\", 4), ('LEPRINO FOODS COMPANY', 4), ('INDUS GROUP INC.', 4), ('THE UNIVERSITY OF OKLAHOMA', 4), ('NORTHEASTERN UNIVERSITY', 4), ('IRDETO USA, INC.', 4), ('THE TJX COMPANIES, INC.', 4), ('ALTECH STAR INC', 4), ('MACQUARIE HOLDINGS (USA) INC.', 4), ('MAN DIESEL & TURBO NORTH AMERICA INC.', 4), ('SYNTEL INC.', 4), ('U.S. BANK NATIONAL ASSOCIATION', 4), ('IT CONVERGENCE', 4), ('GERDAU AMERISTEEL', 4), ('HEXAWARE TECHNOLOGIES, INC.', 4), ('INTEGRATED RESOURCES, INC.', 4), ('HATHAWAY DINWIDDIE CONSTRUCTION COMPANY', 4), ('VERIZON BUSINESS NETWORK SERVICES INC.', 4), ('GREELEY AND HANSEN LLC', 4), ('RIVERWALK EDUCATION FOUNDATION, INC.', 4), ('STATE UNIVERSITY OF NEW YORK', 4), ('RAMBUS, INC.', 4), ('BATTLEFIELD FARMS INC.', 4), ('OPENWAVE SYSTEMS INC.', 4), ('CSG SYSTEMS, INC.', 4), ('ALINDUS, INC.', 4), ('LOGIC SOFT INC', 4), ('CUMMINS FILTRATION INC.', 4), ('VITECH SYSTEMS GROUP', 4), ('ROCKWELL COLLINS', 4), ('SONY ERICSSON MOBILE COMMUNICATIONS (USA) INC.', 4), ('CARILION MEDICAL CENTER', 4), ('AMTEX SYSTEMS, INC.', 4), ('CODESOFT INTERNATIONAL, INC.', 4), ('AMPCUS INC', 4), ('TRW AUTOMOTIVE INC.', 4), ('UBS SERVICES LLC', 4), ('RBS SECURITIES, INC.', 4), ('GEORGIA INSTITUTE OF TECHNOLOGY', 4), ('ECOMNETS, INC', 4), ('OPENTV, INC.', 4), ('INPATIENT SERVICES OF FLORIDA, P.A.', 4), ('BELCAN ENGINEERING GROUP, INC.', 4), ('FMR LLC', 4), ('UNIVERSITY OF NOTRE DAME DU LAC', 4), ('OPTIMAL SOLUTIONS INTEGRATION, INC.', 4), ('FISERV SOLUTIONS, INC.', 4), ('ICONMA, LLC', 4), ('PINNACLE ENVIRONEMNTAL CORP', 4), ('IH SERVICES, INC.', 4), ('SEARS HOLDINGS CORPORATION', 4), ('TECHDEMOCRACY LLC', 4), ('KOHLER CO.', 4), ('TATA TECHNOLOGIES, INC', 4), ('VALTECH SOLUTIONS INC.', 4), ('QWEST CORPORATION', 4), ('PATNI AMERICAS, INC.', 4), ('THE UNIVERSITY OF TEXAS AT EL PASO', 4), ('TOWERS WATSON PENNSYLVANIA INC.', 4), ('JABIL CIRCUIT, INC.', 4), ('LATHAM & WATKINS LLP', 4), ('SATYAM COMPUTER SERVICES, LTD.', 4), ('VIRGINIA POLYTECHNIC INSTITUTE & STATE UNIVERSITY', 4), ('CIGNITI, INC.', 4), ('ENCANA OIL & GAS USA INC.', 4), ('CONVERGYS, IMG', 4), ('HENKELS & MCCOY', 4), ('VELAGA ASSOCIATES, INC.', 4), ('UNIVERSITY OF NORTH TEXAS', 4), ('INFINITE COMPUTER SOLUTIONS INC', 4), ('MEDIABANK', 4), ('ANSYS, INC', 4), ('HSHS MEDICAL GROUP, INC.', 4), ('DEVEREUX FOUNDATION', 4), ('NOVALINK SOLUTIONS LLC', 4), ('GB TECH INC', 4), ('WEATHERFORD INTERNATIONAL', 4), ('NOETIX CORPORATION', 4), ('LUCEO, INC.', 4), ('BGC PARTNERS INC.', 4), ('VERINT SYSTEMS INC.', 4), ('OBJECTNET TECHNOLOGIES', 4), ('NEWT GLOBAL CONSULTING, LLC', 4), ('TECHNO-COMP INC', 4), ('VANDERBILT UNIVERSITY', 4), ('BYTEWARE, INC.', 4), ('ARROW ELECTRONICS', 4), ('SONY NETWORK ENTERTAINMENT INTERNATIONAL LLC', 4), ('GRACENOTE', 4), ('MASSACHUSETTS INSTITUTE OF TECHNOLOGY', 4), ('AMZUR TECHNOLOGIES, INC.', 4), ('CAPRICORN SYSTEMS INC.', 4), ('TULANE UNIVERSITY', 4), ('WEBILENT TECHNOLOGY INC.', 4), ('SANDVIK INC', 4), ('DOLBY LABORATORIES, INC.', 4), ('FACTORY MUTUAL INSURANCE COMPANY', 4), ('UMASS MEMORIAL MEDICAL GROUP, INC', 4), ('FAST SWITCH, LTD.', 4), ('GE MEDICAL SYSTEMS, LLC', 4), ('DEW SOFTWARE, INC.', 4), ('XAVIENT INFORMATION SYSTEMS, INC', 4), ('INTERFACE REHAB, INC.', 4), ('DIGIPULSE TECHNOLOGIES, INC', 4), ('UNIVERSITY OF WISCONSIN-MADISON', 4), ('GEOMATRIX SOFTWARE SERVICES INC.', 4), ('GUIDENT TECHNOLOGIES, INC.', 4), ('DECITECH CONSULTING INC', 4), ('DELTA DENTAL PLAN OF MICHIGAN, INC.', 4), ('CINTEL SYSTEMS INC', 4), ('APN SOFTWARE SERVICES INC.', 4), ('AMICUS SYSTEMS, INC', 4), ('SONY ELECTRONICS, INC.', 4), ('LOOKOUT, INC.', 4), ('SMART MODULAR TECHNOLOGIES, INC.', 4), ('TRANSAMERICA LIFE INSURANCE COMPANY', 4), ('ANJANI ETECH SOLUTIONS INC', 4), ('IP INFUSION INC.', 4), ('BENTLEY SYSTEMS, INCORPORATED', 4), ('UNIVERSITY HOSPITALS MEDICAL GROUP, INC.', 4), ('ORBITZ WORLDWIDE', 4), ('CH2M HILL, INC.', 4), ('CORE TECH INTERNATIONAL CORPORATION', 4), ('RAPLEAF', 4), ('MAESTRO TECHNOLOGIES,INC', 4), ('PRISTINE REHAB CARE LLC', 4), ('NEW YORK TECHNOLOGY PARTNERS, INC.', 4), ('ELI LILLY AND COMPANY', 4), ('TWENTIETH CENTURY FOX FILM CORP.', 4), ('ALLERGAN SALES, LLC ( SUBSIDIARY OF ALLERGAN, INC)', 4), ('QUINTILES, INC.', 4), ('ADVANTAGE TECHNICAL RESOURCING, INC.', 4), ('CONTINENTAL AUTOMOTIVE SYSTEMS, INC.', 4), ('FMC TECHNOLOGIES', 4), ('BRISTOL MYERS SQUIBB COMPANY', 4), ('ANTHONY INFORMATION TECHNOLOGY INC', 4), ('GLOBALFOUNDRIES U.S. INC.', 4), ('GENOME INTERNATIONAL CORPORATION', 4), (\"BRIGHAM AND WOMEN'S PHYSICIANS ORGANIZATION, INC.\", 4), ('COLLABERA INC', 4), ('OKLAHOMA STATE UNIVERSITY', 4), ('MERKLE INC.', 4), ('MITCHELL/MARTIN INC', 4), ('UNIVERSITY OF MIAMI', 4), ('FXI, INC.', 4), ('EMINENCE CONSULTING INC', 4), ('HENRY FORD HEALTH SYSTEM', 4), ('LINEAR TECHNOLOGY CORPORATION', 4), ('CDI CORPORATION', 4), ('HOLYOKE HEALTH CENTER, INC.', 4), ('POWERTECH AMERICA, INC', 4), ('GEORGETOWN UNIVERSITY', 4), ('DSR MANAGEMENT INC', 4), ('WORKSTREAM INCORPORATED', 4), ('I-SERVICES, INC.', 4), ('SYSINTELLI, INC', 4), ('GENERAL MILLS, INC.', 4), ('PACIFIC GAS & ELECTRIC CO', 4), ('ITELLIGENCE, INC.', 4), ('DELTA DENTAL OF CALIFORNIA', 4), ('CYBER RESOURCE GROUP INC', 4), ('AEGIS THERAPIES, INC', 4), ('SIRITEK INC', 4), ('MAJESCOMASTEK', 4), ('THE NIELSEN COMPANY (US), LLC', 4), ('JEFFERIES & COMPANY', 4), ('SUN LIFE FINANCIAL (U.S.) SERVICES COMPANY', 4), ('V.L.S SYSTEMS, INC.', 4), ('MERIDIANSOFT, INC.', 4), ('CROZER CHESTER MEDICAL CENTER', 4), ('FOREST LABORATORIES, INC.', 4), ('CALIFORNIA INSTITUTE OF TECHNOLOGY', 4), ('HERBALIFE INTERNATIONAL', 4), ('BRYAN RESEARCH & ENGINEERING, INC.', 4), ('WEBER AIRCRAFT LLC', 4), ('VISTO CORPORATION', 4), ('LORVEN TECHNOLOGIES, INC', 4), ('OPENBOXSOLUTIONS, INC.', 4), ('UNIVERSITY OF WISCONSIN-MILWAUKEE', 4), ('BETH ISRAEL DEACONESS MEDICAL CENTER, INC.', 4), ('DIGITAL RIVER', 4), ('SNAPTRACS, INC.', 4), ('UNIVERSITY OF NEBRASKA-LINCOLN', 4), ('DB SERVICING CORPORATION', 4), ('ABB INC.', 4), ('UNIVERSITY OF LOUISVILLE', 4), ('MOBILE IRON, INC.', 4), ('SDL TRIDION INC', 4), ('COMSCORE, INC.', 4), ('HEALTHEAST MEDICAL RESEARCH INSTITUTE', 4), ('ELECTRIC RELIABILITY COUNCIL OF TEXAS', 4), ('MOUNT SINAI MEDICAL CENTER', 4), ('APEX IT SERVICES, LLC', 4), (\"CINCINNATI CHILDREN'S HOSPITAL MEDICAL CENTER\", 4), ('INFINERA CORPORATION', 4), ('LAB49, INC.', 4), ('FANNIE MAE', 4), ('BECHTEL POWER CORPORATION', 4), ('MCKESSON CORPORATION', 4), ('CHARLES RIVER SYSTEMS, INC', 4), ('DATAFORMIX TECHNOLOGIES INC', 4), ('ECOLAB INC.', 4), ('YASH & LUJAN CONSULTING, INC.', 4), ('CITIGROUP TECHNOLOGY, INC.', 4), ('GROUPM', 4), ('PACE COMPUTER SOLUTIONS INC', 3), ('ANALYSIS GROUP INC.', 3), ('DSW, INC.', 3), ('R3 TECHNOLOGY INC.,', 3), ('MECKLENBURG COUNTY PUBLIC SCHOOLS', 3), ('MARCH VISION CARE, INC.', 3), ('NATIONAL INSTRUMENTS', 3), ('GENERAL ELECTRIC CO. (GE HEALTHCARE)', 3), ('METLIFE GROUP, INC.', 3), ('PR3 SYSTEMS', 3), ('SAMSUNG ELECTRONICS AMERICA, INC.', 3), ('ASAP SOLUTIONS GROUP, L.L.C.', 3), ('FEDEX CORPORATE SERVICES', 3), ('SYNERGIE TECH SOLUTIONS, LLC', 3), ('M. ARTHUR GENSLER JR. AND ASSOCIATES INC.', 3), ('SATURN ELECTRONICS CORPORATION', 3), ('DUKE UNIVERSITY HEALTH SYSTEM, INC.', 3), (\"CHILDREN'S NATIONAL MEDICAL CENTER\", 3), ('ECALIX, INC.', 3), ('BOOZ & COMPANY (N.A.) INC.', 3), ('GOVERNMENTJOBS.COM', 3), ('FEV, INC.', 3), ('COMPRO CONSULTING GROUP, INC..', 3), ('UNIVERSAL SOFTWARE CORPORATION', 3), ('LUTRON ELECTRONICS CO., INC.', 3), ('AUBURN UNIVERSITY', 3), ('EQUATOR, LLC', 3), ('STANTEC CONSULTING SERVICES INC.', 3), ('UNICAL AVIATION INC', 3), ('DELOITTE SERVICES LP', 3), ('STANFORD MU CORPORATION', 3), ('PHEC D/B/A DREXEL UNIVERSITY COLLEGE OF MEDICINE', 3), ('TD SECURITIES (USA) LLC', 3), ('GOLDEN VALLEY HEALTH CENTERS', 3), ('TWITTER, INC.', 3), ('ON SEMICONDUCTOR CORPORATION', 3), ('COMPUTER ENTERPRISES, INC.', 3), ('AKVELON INC.', 3), ('EXXON MOBIL CORPORATION', 3), ('AMEC PARAGON, INC.', 3), ('ENTERPRISE BUSINESS SOLUTIONS INC', 3), ('IHC HEALTH SERVICES, INC.', 3), ('WELLS FARGO BANK, N.A.', 3), ('MEDIMPACT HEALTHCARE SYSTEMS INC', 3), ('MNCL INC', 3), ('CELANESE INTERNATIONAL', 3), ('NICIRA NETWORKS', 3), ('NIAGARA UNIVERSITY', 3), ('VEDAINFO, INC', 3), ('BAIN & COMPANY, INC', 3), ('HYPERTHERM', 3), ('ASML US,INC', 3), ('QBE AMERICAS, INC.', 3), ('ULTRA FLEX PACKAGING CORP', 3), ('PERITUS INC', 3), ('VOXAI SOLUTIONS INC', 3), ('BETA CAE SYSTEMS USA, INC.', 3), ('OZ MANAGEMENT', 3), ('WINCOR NIXDORF, INC.', 3), ('TOYOTA BOSHOKU AMERICA', 3), ('CAVIUM INC', 3), ('ZENINFOTECH, LLC', 3), ('TANISHA SYSTEMS INC', 3), ('ADVANCED INDUSTRIAL COMPUTER INC', 3), ('AECOM USA, INC.', 3), ('AVERY DENNISON CORPORATION', 3), ('THE UNIVERSITY OF TOLEDO', 3), ('TELECOM TECHNOLOGY SERVICES, INC.', 3), ('M.C.DEAN, INC.', 3), ('IDEA SOLUTIONS INC', 3), ('SOFTWARE SPECIALISTS, INC.', 3), ('TETRASOFT, INC.', 3), ('AUTOZONE INC', 3), ('AIT GLOBAL INC', 3), ('HIGHPOINT-SOLUTIONS', 3), ('UNIVERSITY AT ALBANY, SUNY', 3), ('UNIVERSITY OF CALIFORNIA, DAVIS', 3), ('FITORBIT, INC.', 3), ('RANDSTAD TECHNOLOGIES, LP', 3), ('YUM! RESTAURANTS INTERNATIONAL INC.', 3), ('ACCENTURE LLP', 3), ('XILINX, INC.', 3), ('ASPEN SKIING COMPANY', 3), ('UNIVERSITY OF GUAM', 3), ('UNIVERSITY MEDICINE FOUNDATION, INC.', 3), ('NOVATEL WIRELESS', 3), (\"ST. TIMOTHY'S SCHOOL\", 3), ('GUTHRIE CLINIC', 3), ('REHABCARE GROUP, INC.', 3), ('CONVERGYS CORPORATION', 3), ('GLEN OAKS NURSING & REHABILITATION CENTRE, LTD.', 3), ('CELERANT CONSULTING', 3), ('PRIDE DENTAL, INC.', 3), ('BIO-RAD LABORATORIES, INC.', 3), ('CITICORP NORTH AMERICA INC.', 3), ('UNIVERSITY OF WYOMING', 3), ('SUNY EMPIRE STATE COLLEGE', 3), ('SUN PHARMACEUTICAL INDUSTRIES INC.', 3), ('INSURANCE SERVICES OFFICE, INC', 3), ('UNIVERSITY OF CALIFORNIA AT SANTA BARBARA', 3), ('FIRST DATA TECHNOLOGIES, INC', 3), ('FIVE9, INC', 3), ('FEDERAL HOME LOAN BANK OF ATLANTA', 3), ('CAMELOT INTEGRATED SOLUTIONS INC', 3), ('PARSETEK INC', 3), ('MOXIE SYSTEMS, INC.', 3), ('UNIVERSITY OF SOUTH FLORIDA', 3), ('NISSIN INTERNATIONAL TRANSPORT U.S.A., INC.', 3), ('INTUITIVE SURGICAL OPERATIONS, INC', 3), ('ALTAIR ENGINEERING, INC.', 3), ('ADTRAN, INC', 3), ('CORPORATE AMERICA BUSINESS SOLUTIONS INC.', 3), ('THE UNIVERSITY OF KANSAS MEDICAL CENTER', 3), ('SOUND INPATIENT PHYSICIANS', 3), ('GEORGIA GWINNETT COLLEGE', 3), ('SIERRA SYSTEMS INC.', 3), ('EMPOWER PROFESSIONALS, INC', 3), ('DIBON SOLUTIONS INC', 3), ('CITYGRID MEDIA', 3), ('BNP PARIBAS NORTH AMERICA', 3), ('ESURANCE INSURANCE SERVICES, INC.', 3), ('COMTEC CONSULTANTS, INC', 3), ('JPMORGAN CHASE & CO.', 3), ('COOLEY LLP', 3), ('OPENWAVE COMPUTING LLC', 3), ('WORLD FUEL SERVICES CORPORATION', 3), ('MONEYGRAM INTERNATIONAL INC.', 3), ('LUCID  TECHNOLOGIES, INC', 3), ('CIT GROUP INC', 3), ('AIMIC INC', 3), ('WESTERN KENTUCKY UNIVERSITY', 3), ('WICHITA PUBLIC SCHOOLS', 3), ('SIGMA ELECTRIC MANUFACTURING CORPORATION', 3), ('INDEPENDENT COMPUTER CONSULTING GROUP INC.', 3), ('ZOOSK, INC.', 3), ('SOFTCRYLIC, LLC', 3), ('LESTER E. COX MEDICAL CENTERS DBA COXHEALTH', 3), ('LENMAR CONSULTING INC.', 3), ('KENEXA TECHNOLOGY, INC', 3), ('SPIRENT COMMUNICATIONS', 3), ('SUBSEA 7 (US) L.L.C.', 3), ('ALTAIR PRODUCTDESIGN, INC.', 3), ('DATAMETRICS SOFTWARE SYSTEMS LLC', 3), ('CELMAC TECHNOLOGY SERVICES LLC.', 3), ('PARAMOUNT SOFTWARE SOLUTIONS, INC', 3), ('LEVI STRAUSS & CO.', 3), ('CREIGHTON UNIVERSITY', 3), ('AMERISOFTPRO SYSTEMS LLC', 3), ('TIME WARNER ENTERTAINMENT COMPANY, L.P.', 3), ('LAIRD TECHNOLOGIES', 3), ('TELNET INC', 3), ('MICHIGAN STATE UNIVERSITY', 3), ('BALL STATE UNIVERSITY', 3), ('CLEMSON UNIVERSITY', 3), ('C&S WHOLESALE GROCERS, INC', 3), ('ANU SOFTWARE CONSULTANTS, INC.', 3), ('LONZA BIOLOGICS, INC.', 3), ('VANCEINFO TECHNOLOGIES INC', 3), ('EXLSERVICE.COM, INC.', 3), ('BILINGUALS INC.', 3), ('UNIVERSITY OF TEXAS AT DALLAS', 3), ('ALSTOM POWER INC.', 3), ('SAMSUNG SDI AMERICA, INC.', 3), ('RECRUITING MINDS INC', 3), ('ADECCO USA, INC.', 3), ('SOUTHERN ILLINOIS UNIVERSITY SCHOOL OF MEDICINE', 3), ('UNIVERSITY OF MINNESOTA', 3), ('DIALOGIC, INC.', 3), ('MIDMICHIGAN PHYSICIANS GROUP', 3), ('IBC-HEARTHWARE, INC', 3), ('BOR USGA OBO GEORGIA HEALTH SCIENCES UNIVERSITY', 3), ('VENDAVO, INC.', 3), ('THE HACKETT GROUP', 3), ('VERTEX CONSULTING, INC.', 3), ('AMERICAN HOME MORTGAGE SERVICING, INC.', 3), ('PRESBYTERIAN MED. CNT. OF UNIV. OF PA HEA. SYSTEM', 3), ('WILSHIRE ASSOCIATES INCORPORATED', 3), ('NIIT TECHNOLOGIES LIMITED', 3), ('FRONTRANGE SOLUTIONS USA, INC.', 3), ('NEXT JUMP, INC.', 3), ('PRIMESOFT, INC.', 3), ('NEWEGG INC.', 3), ('SOGETI USA LLC', 3), ('SAYBOLT LP', 3), ('IGATE GLOBAL SOLUTIONS, AN IGATE COMPANY', 3), ('PRIMUS GLOBAL SERVICES, INC', 3), ('MINDLANCE, INC', 3), ('UNIVERSITY OF ALASKA', 3), ('COGENT HEALTHCARE OF JACKSONVILLE, LLC', 3), ('ERP & ERP CORP', 3), ('KEN SYSTEMS, INC', 3), ('YOUNGSOFT INC.', 3), ('INNATE SOLUTIONS INC.', 3), ('JACOBS ENGINEERING', 3), ('COGENT HEALTHCARE OF MACON, LLC', 3), ('SOUND INPATIENT PHYSICIANS OF OHIO LLC', 3), ('TEK-SOURCES, INC.', 3), ('STRUCTURAL INTEGRITY ASSOCIATES, INC.', 3), ('SMITH & NEPHEW, INC.', 3), ('INDUCTIS LLC', 3), ('DIGERATI SYSTEMS INC', 3), ('VHS OUTPATIENT CLINICS, INC.', 3), ('RENESAS ELECTRONICS AMERICA INC.', 3), ('MEDITERRANEAN SHIPPING COMPANY (USA) INC.', 3), ('PROPELSYS TECHNOLOGIES LLC', 3), ('AVL POWERTRAIN ENGINEERING', 3), ('MANPOWER INC.', 3), ('VAPTECH, INC', 3), ('NEW MEXICO STATE UNIVERSITY', 3), ('RISK MANAGEMENT SOLUTIONS, INC.', 3), ('SMART SOURCE TECHNOLOGIES, INC.', 3), ('PARADIGM INFOTECH INC', 3), ('GLENCREST NURSING AND REHABILITATION CENTRE, LTD.', 3), ('PHARMACARE LLC; D/B/A PHARMACARE DISCOUNT PHARMACY', 3), ('COMPASS GROUP USA, INC.', 3), ('SAGE IT INC', 3), ('DELAWARE STATE UNIVERSITY', 3), ('THE BANK OF TOKYO-MITSUBISHI UFJ, LTD.', 3), ('OREGON STATE UNIVERSITY', 3), ('STARWOOD HOTELS AND RESORTS, INC', 3), ('WEST CORPORATION', 3), ('ENGINEERING TECHNOLOGY ASSOCIATES, INC.', 3), ('TISCO GROUP INC', 3), ('SAGARSOFT, INC', 3), ('TRISYNC TECHNOLOGIES, INC.', 3), ('EVANS ANALYTICAL GROUP LLC', 3), ('MERIDIAN TECHNOLOGIES, INC', 3), ('JNS LIMITED LIABILITY LIMITED PARTNERSHIP', 3), ('HCA MANAGEMENT SERVICES LP', 3), ('OREGON HEALTH & SCIENCE UNIVERSITY', 3), ('RTKL ASSOCIATES INC.', 3), ('DELL MARKETING LP', 3), ('FLEXERA SOFTWARE', 3), ('SIRI INFOSOLUTIONS INC', 3), ('ROCHE DIAGNOSTICS CORPORATION', 3), ('POPULAR TECH', 3), ('APPLICATIONS SOFTWARE TECHNOLOGY CORPORATION', 3), ('HYLAND SOFTWARE', 3), ('JUDGE TECHNICAL STAFFING INC.', 3), ('STRATA SOLUTIONS INC.,', 3), ('ERICSSON TELEVISION INC.', 3), ('INTRALINKS, INC.', 3), ('AMERICAN INSTITUTES FOR RESEARCH', 3), ('SAV-ON-SOFTWARE INC.', 3), ('HONEYWELL INTERNATIONAL INC.', 3), ('ECLINICALWORKS, LLC', 3), ('SEOUL SHIK POOM, INC.', 3), ('OLD DOMINION UNIVERSITY', 3), ('OPNET TECHNOLOGIES, INC.', 3), ('GLOBAL TECHNICAL SOFTWARE SERVICES INC', 3), ('PACIFIC DATA IMAGES, INC.', 3), ('NAVAYUGA INFOTECH LLC', 3), ('SAGITEC SOLUTIONS LLC', 3), ('ALLIANCEBERNSTEIN L.P.', 3), ('BANK OF THE WEST', 3), ('EAPT SOLUTIONS, INC.', 3), ('STAFFORD COUNTY PUBLIC SCHOOLS', 3), ('E GEN SOLUTIONS, INC', 3), ('ROSENDIN ELECTRIC, INC.', 3), ('TEXAS TECH UNIVERSITY HEALTH SCIENCES CENTER', 3), ('EMERGTECH BUSINESS SOLUTIONS INC', 3), ('HELIX DESIGN AND PRODUCTION, LLC', 3), ('KYYBA INC', 3), ('EMULEX DESIGN & MANUFACTURING CORP', 3), ('MARIN SOFTWARE INC.', 3), ('HARWARD TECHNOLOGIES LLC', 3), ('DOMINION ENTERPRISES', 3), ('STRYKER CORPORATION', 3), ('GOLDMAN SACHS NEW JERSEY LLC', 3), ('JYACC, INC. D/B/A PROLIFICS', 3), ('JEPPESEN SANDERSON', 3), ('UNIVERSITY OF LA VERNE', 3), ('QUINCY PHYSICIANS AND SURGEONS CLINIC', 3), ('WESTERN DIGITAL (FREMONT), LLC', 3), ('EVEREST COMPUTERS, INC.', 3), ('INFOREEM INC', 3), ('PCTEL, INC.', 3), ('LAUREATE EDUCATION, INC.', 3), ('VWR INTERNATIONAL, LLC', 3), ('BLUECROSS BLUESHIELD OF TENNESSEE', 3), ('PROSER CORPORATION', 3), ('CAPITAL ONE SERVICES, LLC', 3), ('SVK SYSTEMS, INC.', 3), ('ACTIMIZE INC', 3), ('INFOEXPERTS', 3), ('BIOGEN IDEC', 3), ('KEYNOTE SYSTEMS, INC.', 3), ('BAY REGIONAL MEDICAL CENTER', 3), ('TRUSTEK, INC.', 3), ('BAYLOR COLLEGE OF MEDICINE', 3), ('GLOBAL TECHNOLOGY ASSOCIATES LLC', 3), ('INFO LABS INC', 3), ('SAINT LOUIS UNIVERSITY', 3), ('MODEL N, INC.', 3), ('AMERICAN BUREAU OF SHIPPING', 3), ('SCOPUS CONSULTING GROUP, INC', 3), ('PERLA DENTAL OF LANCASTER', 3), ('INTEGRATED MANAGEMENT SYSTEMS, INC', 3), ('MCDERMOTT, INC.', 3), ('UNIVERSITY OF MASSACHUSETTS BOSTON', 3), ('SILICON LABORATORIES INC.', 3), ('FIRST SOLAR, INC', 3), ('PHILIPS MEDICAL SYSTEMS (CLEVELAND), INC.', 3), ('WAFERTECH, LLC', 3), ('INFINITE COMPUTING SYSTEMS, INC.', 3), ('HILL HEALTH CENTER', 3), ('VISION IT SERVICES INC', 3), ('ESSENT GUARANTY, INC.', 3), ('BRIDGEWATER ASSOCIATES, LP', 3), ('FUJITSU SEMICONDUCTOR WIRELESS PRODUCTS INC', 3), ('ALPHA CONSULTING CORP.', 3), ('DEBEVOISE & PLIMPTON LLP', 3), ('CAMP DRESSER & MCKEE INC.', 3), ('CSR TECHNOLOGY INC.', 3), ('CARIS DIAGNOSTICS, INC', 3), ('PRODIGY SOFTWARE GROUP INC', 3), ('LOUISIANA TECH UNIVERSITY', 3), ('PILGRIM SOFTWARE, INC.', 3), ('WESTINGHOUSE ELECTRIC COMPANY', 3), ('SVTRONICS, INC.', 3), ('LORSHI SYSTEMS LLC', 3), ('UNIVERSITY OF MASSACHUSETTS DARTMOUTH', 3), ('SIMPSON THACHER & BARTLETT LLP', 3), ('TEXAS SMILES DENTAL CENTER OF BEAUMONT, PLLC', 3), ('SIRIUS XM RADIO, INC', 3), ('AMGEN INC.', 3), ('CITIMORTGAGE, INC.', 3), ('STARLIMS CORPORATION', 3), ('SUNRISE SENIOR LIVING MANAGEMENT, INC', 3), ('OMAHA PUBLIC SCHOOLS, DISTRICT 001', 3), ('HOSPITAL OF SAINT RAPHAEL', 3), ('UBS SECURITIES LLC', 3), ('SOUND INPATIENT PHYSICIANS MEDICAL GROUP, INC.', 3), ('SHOPPING.COM (CALIFORNIA), INC.', 3), ('SUMAS CORPORATION', 3), ('SDLC MANAGEMENT INC.', 3), ('SPINSCI TECHNOLOGIES LLC', 3), ('MICROS SYSTEMS, INC.', 3), ('MEAD JOHNSON & COMPANY', 3), ('THEORY LLC', 3), ('BAYER HEALTHCARE', 3), ('GLOBAL MICRO SOLUTIONS INC.', 3), ('RAINDROP FOUNDATION, INC.', 3), ('CALIFORNIA STATE POLYTECHNIC UNIVERSITY, POMONA', 3), ('NUTECH INFORMATION SYSTEMS', 3), ('ANALYSTS INTERNATIONAL CORPORATION', 3), ('AGRELIANT GENETICS, LLC', 3), ('UNIVERSITY OF ROCHESTER', 3), ('TECH DATA CORPORATION', 3), ('NORGATE TECHNOLOGY, INC.', 3), ('VALVE', 3), ('MERCY CLINIC EAST COMMUNITIES', 3), ('NEUMERIC TECHNOLOGIES CORP', 3), ('KANA SOFTWARE, INC', 3), ('HOLSMAN HEALTHCARE LLC', 3), ('TELEDATA TECHNOLOGY SOLUTIONS, INC.', 3), ('EDUCATIONAL TESTING SERVICE', 3), ('SYNCHRONOSS TECHNOLOGIES, INC.', 3), ('BLUESKY TECHNOLOGY PARTNERS, INC.', 3), ('EVANTAGE TECHNOLOGIES', 3), ('SOUTHCOAST PHYSICIAN SERVICES', 3), ('NESTLE WATERS NORTH AMERICA', 3), ('RAZORFISH, LLC', 3), ('VR ONE INC', 3), ('THE UNIVERSITY OF TEXAS - PAN AMERICAN', 3), ('PFIZER INC', 3), ('TROY UNIVERSITY', 3), ('CANTOR FITZGERALD LP', 3), ('TEMENOS USA, INC.', 3), ('WINTEK SOLUTIONS INC', 3), ('RYDER SYSTEM, INC.', 3), ('INFOSMART SYSTEMS, INC.', 3), ('NEW BREED, INC.', 3), ('KAAGA TECHNOLOGIES, INC', 3), ('FINISAR CORPORATION', 3), ('LHP SOFTWARE, LLC', 3), ('CHOSUN DAILY NEWS, LLC', 3), ('PACIFIC DIAGNOSTIC LABORATORIES', 3), ('SERENITY INFOTECH, INC.', 3), ('TRIBUNE COMPANY', 3), ('PITNEY BOWES INC.', 3), ('MARSH USA INC.', 3), ('SPIDERCLOUD WIRELESS, INC.', 3), ('CQG, INC', 3), ('KANSAS STATE UNIVERSITY', 3), ('IDEO LLC', 3), ('BLUE CROSS BLUE SHIELD ASSOCIATION', 3), ('R.L. POLK & CO.', 3), ('SUPREME TECH SOLUTIONS LLC', 3), ('THE DOW CHEMICAL COMPANY', 3), ('SPARTAN SOLUTIONS INC.', 3), ('MARK DAVID LEVINE M.D. PSYCHIATRISTS PROFESSIONAL', 3), ('DELOITTE FAS LLP', 3), ('EATON CORPORATION', 3), ('AXIOM SOFTWARE LABORATORIES', 3), ('3S NETWORK INC', 3), ('GOLDLINE TECHNOLOGIES INC', 3), ('CITAGUS SOFTWARE PRIVATE LIMITED', 3), ('PROSOFT ASSOCIATES, INC', 3), ('SVB FINANCIAL GROUP', 3), ('RACKSPACE US, INC.', 3), ('CON-WAY ENTERPRISE SERVICES', 3), ('AURORA MEDICAL GROUP, INC.', 3), ('ANAS HAVEN ADULT HOME CARE', 3), ('HALLMARK REHABILITATION GP LLC', 3), ('TETRA PAK GLOBAL INFORMATION MANAGEMENT AMERICAS', 3), ('DEPARTMENT OF MEDICINE MEDICAL SERVICE GROUP AT', 3), ('AUTODESK, INC.', 3), ('PROSOFT TECHNOLOGIES INC', 3), ('INNOVATIVE INFORMATION TECHNOLOGIES INC.', 3), ('ALLTECH CONSULTING SERVICES, INC', 3), ('AURIONPRO SOLUTIONS, INC.', 3), ('AMAZON FULFILLMENT SERVICES, INC.', 3), ('DASSAULT SYSTEMES AMERICAS CORP.', 3), ('ANNE ARUNDEL COUNTY PUBLIC SCHOOLS', 3), ('LOGICA NORTH AMERICA INC.', 3), ('PERFORMANCE RESOURCES NY INC.', 3), ('VOLVO GROUP NORTH AMERICA, LLC', 3), ('DELTA AIR LINES, INC.', 3), ('CNH AMERICA LLC', 3), ('VIGNA INC', 3), ('COMPROBASE INC', 3), (\"THE CHILDREN'S HOSPITAL OF PHILADELPHIA\", 3), ('JVR SYSTEMS, INC.', 3), ('HTC GLOBAL SERVICES, INC.', 3), ('GEISINGER CLINIC', 3), ('MCS GLOBAL, INC.', 3), ('GEORGIA STATE UNIVERSITY', 3), ('AXELON SERVICES CORPORATION', 3), ('MINISTRY MEDICAL GROUP, INC.', 3), ('LEX NIMBLE SOLUTIONS INC DBA ILBSG,INC', 3), ('INTERPRO INC.', 3), ('BRIGHAM AND WOMENS HOSPITAL', 3), ('SIGNATURE COMMERCIAL SOLUTIONS, LLC', 3), ('TEKNOSOL  INC', 3), ('ISHI SYSTEMS INC', 3), ('GLOBAL RESOURCE MANAGEMENT, INC', 3), ('METROPOLITAN WASHINGTON COUNCIL OF GOVERNMENTS', 3), ('AKRAYA INC', 3), ('KOSTAL OF AMERICA, INC.', 2), ('LG ASSOCIATES, INC. DBA ASEN COMPUTER ASSOCIATES', 2), ('VALIDATION TRANSCRIPTION SERVICES INC.', 2), ('IM FLASH TECHNOLOGIES, LLC', 2), ('CARL ZEISS VISION INC.', 2), ('MCNEESE STATE UNIVERSITY', 2), ('TRUSTBENEFITS ONLINE', 2), ('SUNSOFT SERVICES INC', 2), ('TEXAS A&M UNIVERSITY AT GALVESTON', 2), (\"A'REVE INTERNATIONAL, INC.\", 2), ('MITCHELL INTERNATIONAL, INC.', 2), ('VED SOFTWARE SERVICES, INC.', 2), ('MKP CAPITAL MANAGEMENT, L.L.C.', 2), ('LAGUARDIA COMMUNITY COLLEGE', 2), ('NTS ENGINEERING SERVICES, INC.', 2), ('BROSE NORTH AMERICA INC', 2), ('FASTENAL COMPANY PURCHASING', 2), ('VLINK, INC.', 2), ('CERAGON NETWORKS, INC.', 2), ('SAMSUNG AUSTIN SEMICONDUCTOR, LLC', 2), ('HOPE COLLEGE', 2), ('TIBURON, INC.', 2), ('IBASE OF FAIRFIELD COUNTY, LLC', 2), ('FORZA SILICON CORPORATION', 2), ('MACTEC ENGINEERING & CONSULTING, INC.', 2), ('VENSYS TECHNOLOGIES INC', 2), ('CNB TECHNOLOGY USA INC', 2), ('USM BUSINESS SYSTEMS, INC', 2), ('CNJ,INC.', 2), ('AON CONSULTING, INC.', 2), ('RCM TECHNOLOGIES, INC.', 2), ('PARAM CONSULTING SERVICES, INC.', 2), ('ELLIS HOSPITAL D/B/A ELLIS MEDICINE', 2), ('ELON UNIVERSITY', 2), ('TRANSFIRST', 2), ('MATHESON-TRIGAS, INC', 2), ('MAXIS GROUP, INC.', 2), ('NATIONAL CONSULTING GROUP INC', 2), ('IK SOLUTIONS INC', 2), ('SECURITIES LITIGATION & CONSULTING GROUP, INC', 2), ('INEOS USA LLC', 2), ('HAMILTON SUNDSTRAND', 2), ('NDS', 2), ('SES ENGINEERING (U.S.), INC.', 2), ('PREFERRED RESOURCES, INC.', 2), ('V2SOFT INC', 2), ('MIRACLE SOFTWARE SYSTEMS INC.', 2), ('PORTLAND GENERAL ELECTRIC COMPANY', 2), ('FORTRESS INVESTMENT GROUP LLC', 2), ('WARREN DENTAL REFLECTIONS', 2), ('VESTMARK, INC', 2), ('MOLEX INCORPORATED', 2), ('MERIDIAN KNOWLEDGE SOLUTIONS, LLC', 2), ('HARVARD MANAGEMENT COMPANY', 2), ('GEOMATRIX SERVICES, INC.', 2), ('PINNACLE TECHNICAL RESOURCES, INC.', 2), ('REALSOFT TECHNOLOGIES, LLC', 2), ('SUNMERGE SYSTEMS INC.', 2), ('TACO, INC.', 2), ('O3 TECHNOLOGY SOLUTIONS LLC', 2), ('B & B RESIDENTIAL FACILITIES INC.', 2), ('SELECT REHABILITATION, INC.', 2), ('WICHITA STATE UNIVERSITY', 2), ('MILTON S. HERSHEY MEDICAL CENTER', 2), ('AVENGER ENGINEERING LLC', 2), ('RECARO AIRCRAFT SEATING, INC.', 2), ('VISIONET SYSTEMS INC', 2), ('PACIFIC STATES UNIVERSITY', 2), ('ALESIG CONSULTING LLC', 2), ('ENTERNET BUSINESS SYSTEMS, INC.', 2), ('ENERFLEX ENERGY SYSTEMS, INC', 2), ('RIK TECHNOLOGIES INC', 2), ('NEWS AMERICA INC', 2), ('ABCO RENTS, INC.', 2), ('RAZOR BUSINESS CONSULTANTS, LLC', 2), ('INTERNATIONAL PAPER COMPANY', 2), ('TEAMSOFT, INC.', 2), ('BOSTON PUBLIC SCHOOLS', 2), ('WHIRLPOOL CORPORATION', 2), ('DECA INTERNATIONAL CORP.', 2), ('PIKEVILLE MEDICAL CENTER, INC.', 2), ('DIGITAL DOMAIN, INC.', 2), ('EAST FLORIDA HOSPITALISTS, LLC', 2), ('IT & EBUSINESS CONSULTING SERVICES INC.', 2), ('IRIS SOFTWARE, INC.', 2), ('CURAM SOFTWARE, INC.', 2), ('SWIFT TECHNOLOGIES LLC', 2), ('RENSSELAER POLYTECHNIC INSTITUTE', 2), ('JUMP OPERATIONS', 2), ('SAMSUNG SEMICONDUCTOR, INC.', 2), ('MERCY PROFESSIONAL PRACTICE ASSOCIATES', 2), ('KABUKI RESTAURANTS,INC.', 2), ('THEFIND, INC.', 2), ('LIBSYS, INC', 2), ('TEKTRONIX TEXAS LLC', 2), ('ISSAM TINA SOLUTIONS, INC. DBA I.T. SOLUTIONS, INC', 2), ('MANGIONE, INC.', 2), ('IPC SYSTEMS, INC.', 2), ('EKTRON, INC', 2), ('CUSTOM NONWOVEN INC.', 2), ('SEOUL GARDEN RESTAURANT', 2), ('GONZALES POLISHING', 2), ('INTEGRATED DEVICE TECHNOLOGY, INC.', 2), ('JDM SYSTEMS CONSULTANTS, INC.', 2), ('HITACHI AUTOMOTIVE SYSTEMS AMERICAS, INC.', 2), ('POWER ENGINEERS, INC.', 2), ('HILMAR CHEESE COMPANY', 2), ('EVEREST CONSULTING GROUP, INC', 2), ('PAC SEATING SYSTEMS, INC.', 2), ('ROLLIN DAIRY', 2), ('PEPSICO, INC.', 2), ('MAIMONIDES MEDICAL CENTER', 2), ('MICAN TECHNOLOGIES LLC', 2), ('GXS', 2), ('OLR AMERICA INC', 2), ('THE JERDE PARTNERSHIP, INC.', 2), ('TAKE-TWO INTERACTIVE SOFTWARE, INC.', 2), ('PROVIDENCE COLLEGE', 2), ('THE REYNOLDS AND REYNOLDS COMPANY', 2), ('DAIMLER TRUCKS NORTH AMERICA', 2), ('HDR CONSTRUCTION CONTROL CORPORATION', 2), ('CURTIS, MALLET-PREVOST, COLT & MOSLE LLP', 2), ('JD POWER AND ASSOCIATES', 2), ('ELITE PHARMACY MANAGMENT LTD', 2), ('DEUTSCH LA, INC.', 2), ('SENTRY INSURANCE', 2), ('V-SOFT CONSULTING GROUP, INC.', 2), ('FLORIDA ATLANTIC UNIVERSITY', 2), ('CERTEC CONSULTING, INC', 2), ('THE UNIV. OF TEXAS HEALTH SCIENCE CENTER - HOUSTON', 2), ('SOURCE HEALTHCARE ANALYTICS, INC', 2), ('G2 WORLDWIDE INC.', 2), ('RMS COMPUTER CORPORATION', 2), ('ALPHA SYNOPSYS INC', 2), ('ATLAS DEVELOPMENT CORPORATION', 2), ('AKT LLC', 2), ('COASTAL CAROLINA COMMUNITY COLLEGE', 2), ('ISTS WORLDWIDE INC', 2), ('LOMA LINDA UNIVERSITY', 2), ('INTERMEC TECHNOLOGIES CORPORATION', 2), ('D. E. SHAW & CO., L.P.', 2), ('SAIRAM INFOTECH LLC DBA SYMBIOSIS INFOTECH', 2), ('INFOBLOX', 2), ('EVERNOTE CORPORATION', 2), ('COMMUNITY RESEARCH FOUNDATION', 2), ('AMNEAL PHARMACEUTICALS OF NY, LLC', 2), (\"LAND O'LAKES INC\", 2), ('THE GYMBOREE CORPORATION', 2), ('CONEMAUGH VALLEY MEMORIAL HOSPITAL', 2), ('FXDIRECT DEALER, LLC', 2), ('KENNAMETAL INC.', 2), ('TRINE UNIVERSITY', 2), ('DAWAR CONSULTING INC', 2), ('WESTERN MICHIGAN UNIVERSITY', 2), ('COE COLLEGE', 2), ('MARKETAXESS CORPORATION', 2), ('SYNYGY, INC.', 2), ('HONEYWELL INTERNATIONAL, INC.', 2), ('COMPUTER POWER GROUP INC', 2), ('VERIZON COMMUNICATIONS INC., & ALL ITS SUBSIDIARIES & AFFILIATES', 2), ('BRIGHTEN TECHNOLOGIES LLC', 2), ('SPERIDIAN TECHNOLOGIES A.K.A KARMA CONSULTING SVC', 2), ('MIDWEST EXPRESS INC', 2), ('POTOMAC-HUDSON ENGINEERING', 2), ('JACQ. PIEROT JR. & SONS, INC.', 2), ('SOFT COMPUTER CONSULTANTS, INC.', 2), ('EDUCATION MANAGEMENT SOLUTIONS, INC.', 2), ('BINEX LINE CORP.', 2), ('PENNTEX GROUP LLC', 2), ('HARTSVILLE MEDICAL GROUP, LLC', 2), ('UNIVERSITY OF COLORADO DENVER', 2), ('UNIVERSITY OF DENVER', 2), ('JDA SOFTWARE, INC.', 2), ('SUNGARD SYSTEMS INTERNATIONAL', 2), ('JINON CORPORATION DBA NIJIYA MARKET', 2), ('DRS. GOODMAN & PARTRIDGE, OB/GYN, PLLC', 2), ('ECOM SOLUTIONS INC.,', 2), ('GLENSHIRE NURSING & REHABILITATION CENTRE', 2), ('AQUINAS COLLEGE', 2), ('FIFTH WARD COMMUNITY REDEVELOPMENT CORPORATION', 2), ('SAVI TECHNOLOGIES, INC', 2), ('COMPANION PROFESSIONAL SERVICES, LLC', 2), ('SG AMERICAS SECURITIES, LLC', 2), ('CAPITAL IQ, INC. (SUBSIDIARY OF THE MCGRAW-HILL COMPANIES)', 2), ('NORTHWEST NAZARENE UNIVERSITY', 2), ('MITSUI-SOKO (U.S.A.) INC.', 2), ('EDWARD M. KENNEDY COMMUNITY HEALTH CENTER', 2), ('NEELINFO, INC', 2), ('SNAP, INC', 2), ('THE NEW MARYLAND CLOTHING MANUFACTURING, INC.', 2), ('HUNTER GREEN ASSOCIATES LTD.', 2), (\"ST. JOHN'S UNIVERSITY\", 2), ('HENDRICKSON USA, LLC', 2), ('AVANT HEALTHCARE PROFESSIONALS', 2), ('THE WIREMOLD COMPANY', 2), ('LITTLE ROCK SCHOOL DISTRICT', 2), ('SYSCOM TECHNOLOGIES INC', 2), ('JAMES MADISON UNIVERSITY', 2), ('CALSOFT SYSTEMS', 2), ('VIDYO, INC.', 2), ('PINNACLE WIRELESS LLC', 2), ('DISCOVERY COMMUNICATIONS, LLC', 2), ('Q-EDGE CORPORATION', 2), ('CRS RETAIL SYSTEMS', 2), ('GARMIN INTERNATIONAL, INC', 2), ('GALAXY SOFTWARE SOLUTIONS INC.', 2), ('NIAGARA FALLS MEMORIAL MEDICAL CENTER', 2), ('SUNTECHPROS, INC.', 2), ('UNDERWRITERS LABORATORIES INC.', 2), ('JACOBS ENGINEERING GROUP, INC.', 2), ('ITALENT INC.', 2), ('THE JOHNS HOPKINS UNIVERSITY', 2), ('GLENBRIDGE NURSING AND REHABILITATION CENTRE, LTD.', 2), ('FOREST PHARMACEUTICALS, INC.', 2), ('BARRY.WEHMILLER.COM, LLC', 2), ('WILLIAMS-SONOMA, INC.', 2), ('ACCELERATED INNOVATORS, INC.', 2), ('VISION INFORMATION TECHNOLOGIES, INC.', 2), ('WEST VIRGINIA STATE UNIVERSITY', 2), ('BENEDICT COLLEGE', 2), ('WM. WRIGLEY JR. COMPANY', 2), ('HERMES TECHNOLOGIES INC', 2), ('NAJSOFT, INC.', 2), ('INTEGRATED THERAPY SPECIALISTS, LLC', 2), ('PECO ENERGY, AN EXELON COMPANY', 2), ('APOGEE MEDICAL GROUP, LOUISIANA, INC.', 2), ('ILLUMINA', 2), ('KINETIC CONCEPTS, INC.', 2), ('ADORESOFT CORPORATION', 2), ('2H OFFSHORE INC.', 2), ('THE CHILD CENTER OF NY, INC.', 2), ('ALLIANZ GLOBAL INVESTORS OF AMERICA, L.P.', 2), ('ANID INFOSOFT LLC', 2), ('TECHNO SERVICES LLC', 2), ('APPLEXUS TECHNOLOGIES LLC', 2), ('SAPHIRE SOLUTIONS INC', 2), ('EXCELACOM', 2), ('TYLER ISD', 2), ('TECHNOVANT, INC.', 2), ('THE PRESIDENT AND FELLOWS OF MIDDLEBURY COLLEG', 2), ('SAINT JOSEPH-LONDON', 2), ('COMPASS HEALTH SYSTEMS, PA', 2), ('IVYTECH SOLUTIONS INC.', 2), ('BANK OF IRELAND', 2), ('INDIANA UNIVERSITY HEALTH', 2), ('ELEMICA, INC.', 2), (\"STEWARD SAINT ANNE'S HOSPITAL CORPORATION\", 2), ('CLEVEST INC', 2), ('SUN TRADING LLC', 2), ('DR.FRESH INC.', 2), ('RUTGERS, THE STATE UNIV. OF NEW JERSEY', 2), ('INVENSYS, INC.', 2), ('PENSKE LOGISTICS, LLC', 2), ('ALLSOFT TECHNOLOGIES, INC.', 2), ('SYRACUSE ACADEMY OF SCIENCE CHARTER SCHOOL', 2), ('COLLABERA SOLUTIONS PRIVATE LIMITED', 2), ('ISABELLE GOETZ', 2), ('ACTINVER SECURITIES, INC.', 2), ('CHRISTUS JASPER MEMORIAL HOSPITAL', 2), ('SOFTSOL TECHNOLOGIES INC', 2), ('NRIT SOFTWARE SOLUTIONS LLC', 2), ('ITCAPS LLC', 2), ('SML SOLUTIONS, INC', 2), ('RESOURCESYS, INC', 2), ('BLACKROCK INVESTMENT MANAGEMENT LLC', 2), ('BAYVIEW LOAN SERVICING, LLC', 2), ('GILA COUNTY REGIONAL SCHOOL DISTRICT #49', 2), ('PEARSON EDUCATION, INC.', 2), ('CLIENT NETWORK SERVICES, INC.', 2), ('FACTSET RESEARCH SYSTEMS INC.', 2), ('FORMFACTOR, INC', 2), ('TOSHIBA INTERNATIONAL CORPORATION', 2), ('CUSTOM CARE HEALTH SERVICS, INC.', 2), ('TECHNOSECURE CORPORATION', 2), ('THE BSST SOFTWARE GROUP INC D/B/A THE BOSTON GROUP', 2), ('UNIVERSITY OF WISCONSIN COLLEGES', 2), ('LEVANTURE INC', 2), ('FEDERAL-MOGUL CORPORATION', 2), ('SALVADOR M.ESPINO', 2), ('INTERNATIONAL TECHNOLOGIES & SYSTEMS CORPORATION', 2), ('MAGNA POWERTRAIN OF AMERICA INC.', 2), ('MEMORIAL PHYSICIANS, PLLC', 2), ('UNITED WATER MANAGEMENT AND SERVICES INC.', 2), ('AMICA MUTUAL INSURANCE COMPANY', 2), ('ARKEMA INC.', 2), ('ION TRADING INC', 2), ('KAKATIYA INFOTECH INC', 2), ('CVS CORPORATION, INC.', 2), ('CONTICO CORP', 2), ('VALUE CONSULTING LLC', 2), ('FALCONSTOR, INC.', 2), ('BAKER HUGHES, INC.', 2), ('ADVANTEST AMERICA, INC.', 2), ('COVENTRY HEALTH CARE, INC.', 2), ('OBJECT RESERVOIR, INC.', 2), ('KPIT INFOSYSTEMS INC.', 2), ('HARLAND CLARKE CORP.', 2), ('CEREBRA CONSULTING INC', 2), ('HOME INSTEAD SENIOR CARE', 2), ('PATERSON CHARTER SCHOOL FOR SCIENCE AND TECHNOLOGY', 2), ('SVT INC.', 2), ('NEW ENGLAND CONSERVATORY OF MUSIC', 2), ('WRIGHT CENTER FOR GRADUATE MEDICAL EDUCATION', 2), ('PRUTECH SOLUTIONS, INC', 2), ('THE SCOTTS MIRACLE-GRO COMPANY', 2), ('BRANDMUSCLE, INC.', 2), ('WOORI AMERICA BANK', 2), ('MEDASSETS', 2), ('FIRST AMERICAN TITLE INSURANCE COMPANY', 2), ('EIFER IT, LLC', 2), ('ASPEN TECHNOLOGY, INC', 2), ('SAN JOSE STATE UNIVERSITY FOUNDATION', 2), ('AMX', 2), ('S1, INC.', 2), ('HEALTHLAND, INC.', 2), ('PALO ALTO NETWORKS, INC.', 2), ('J COX,INC', 2), ('EMINENT TECHNOLOGY SOLUTIONS', 2), ('INSTINET HOLDINGS INCORPORATED', 2), ('E-BOGU.COM INC.', 2), ('ATHILON STRUCTURED INVESTMENT ADVISORS LLC', 2), ('REVENUE ANALYTICS', 2), ('MIDLANDS MANAGEMENT CORP', 2), ('EMINENCE IT SOLUTIONS INC', 2), ('CLEARY GOTTLIEB STEEN & HAMILTON LLP', 2), ('C&T INFORMATION TECHNOLOGY CONSULTING INC', 2), ('JERSEY SHORE HOSPITAL', 2), ('DENTAL DREAMS LLC', 2), ('THE PRUDENTIAL INSURANCE COMPANY OF AMERICA', 2), ('SOCIETE GENERALE ENERGY CORP.', 2), ('DB SERVICES NEW JERSEY, INC.', 2), ('NORWALK-LA MIRADA UNIFIED SCHOOL DISTRICT', 2), ('PORTWARE, LLC', 2), ('CBC GROUP, LLC', 2), ('WORLEYPARSONS GROUP, INC.', 2), ('ADROIT SOFTWARE INC', 2), ('WORLD MISSION UNIVERSITY', 2), ('IGIS TECHNOLOGIES, INC.', 2), ('SOFTCOM SYSTEMS, INC.', 2), ('OBERON IT INC', 2), ('BHANINFO INC', 2), ('METABYTE, INC.', 2), ('WELLINGTON MANAGEMENT COMPANY, LLP', 2), ('CONTROL COMPONENTS INC.', 2), ('RESOURCESOFT INC.', 2), ('WESLEYAN UNIVERSITY', 2), ('DOEJO, LLC.', 2), ('ZEBRA TECHNOLOGIES CORPORATION', 2), ('FLEXTRONICS INTERNATIONAL USA', 2), ('SYNERGY & INTEGRATION INC.', 2), ('TECHASPECT SOLUTIONS INC', 2), ('VISA USA', 2), ('FEDERAL RESERVE BANK OF RICHMOND', 2), ('MACK TRUCK, INC.', 2), ('SITA INC', 2), ('GROUPWARE SOLUTIONS, INC.', 2), ('ASSIGN CORPORATION DBA ASSIGNCORP', 2), ('PUSHPA INC', 2), ('SYMPHONY CORPORATION', 2), ('PHILADELPHIA COLLEGE OF OSTEOPATHIC MEDICINE', 2), ('TIAA-CREF', 2), ('EXELON GENERATION COMPANY LLC', 2), ('TRANSACTION NETWORK SERVICES, INC.', 2), ('REPSOL SERVICES COMPANY', 2), ('DEEGIT, INC.', 2), ('COLORADO STATE UNIVERSITY - PUEBLO', 2), ('MARCUM LLP', 2), ('CAMERON HEALTH, INC.', 2), ('EVANWOOD, INC.', 2), ('OMEGASOFT INTERNATIONAL INC', 2), ('DISCOVERTURE SOLUTIONS LLC', 2), ('CONSULTING PROFESSIONALS, LLC', 2), ('ABERCROMBIE & FITCH', 2), ('CHRISTUS SPOHN HEALTH SYSTEM', 2), ('WEIL GOTSHAL & MANGES LLP', 2), ('INGURAN, LLC', 2), ('CONNOR GROUP', 2), ('SHUTTERFLY, INC.', 2), ('TOTAL SYSTEM SERVICES, INC. (TSYS, INC.)', 2), ('ST JOHN THERAPY SERVICES, INC.', 2), ('CLUTCHPOINT, LLC', 2), ('ADEPT COMPUTER CONSULTANTS INC', 2), ('DARTMOUTH COLLEGE', 2), ('SUNRISE SYSTEMS INC.', 2), ('ST. JUDE MEDICAL, INC', 2), ('CYPRESS SEMICONDUCTOR CORPORATION', 2), ('ORANGE REGIONAL MEDICAL CENTER', 2), ('ALTICOR INC.', 2), ('VIRAJ LLC', 2), ('ACCLAIM SYSTEMS', 2), ('TBC CORPORATION', 2), ('WEBROOT SOFTWARE, INC.', 2), ('WESTAT', 2), ('ROCHESTER INSTITUTE OF TECHNOLOGY', 2), ('HEALTH ACCESS SYSTEM D/B/A CROZER KEYSTONE HEALTH', 2), ('FUTURETECH CONSULTANTS, LLC', 2), ('LINKS TECHNOLOGY SOLUTIONS INC.', 2), ('GROUP HEALTH PLAN, INC.', 2), ('INFOWAVE SYSTEMS INC', 2), ('LEGGETT & PLATT, INCORPORATED', 2), ('COLUMBIA COLLEGE', 2), ('ENTROPIC COMMUNICATIONS, INC.', 2), ('YOKOGAWA CORPORATION OF AMERICA', 2), ('ARIENE INC', 2), ('JUNCTION SOLUTIONS', 2), ('PACIFIC BIOSCIENCES OF CALIFORNIA, INC.', 2), ('OMNIVISION TECHNOLOGIES, INC.', 2), ('HARVARD MEDICAL FACULTY PHYSICIANS AT BIDMC, INC.', 2), ('ALABAMA HMA PHYSICIANS MANAGEMENT, LLC', 2), ('VICHARA TECHNOLOGIES INC. ,', 2), ('KENNESAW STATE UNIVERSITY', 2), ('TEKMARK GLOBAL SOLUTIONS LLC', 2), ('GUYOUNGTECH USA, INC.', 2), ('CENTREVILLE ZENITH ACADEMY, INC.', 2), ('EQUINIX, INC.', 2), ('AFFILIATED COMPUTER SERVICES, INC. AND IT SUBSIDIARIES AND AFFILIATES', 2), ('SARKIT INC', 2), ('DANLAW INC.', 2), ('GENCO', 2), ('MASSACHUSETTS FINANCIAL SERVICES', 2), ('TAMMINA SOLUTIONS LLC', 2), ('MASSTECH, INC.', 2), ('GABRIELS TECHNOLOGY SOLUTIONS, INC.', 2), ('CHA-AM THAI RESTAURANT', 2), ('FLORIDA INTERNATIONAL UNIVERSITY', 2), ('WORLD ELECTRIC & CONSTRUCTION COMPANY, INC.', 2), ('XFACT, INC.', 2), ('APACHE DESIGN SOLUTIONS, INC.', 2), ('YAI/NATIONAL INSTITUTE FOR PEOPLE WITHDISABILITIES', 2), ('JRD SYSTEMS, INC.', 2), (\"WILLIAM O'NEIL + CO. INCORPORATED\", 2), ('VAE NORTRAK NORTH AMERICA INC.', 2), ('CLASSIC CAR DEPOT, LLC', 2), ('KESTE, LLC', 2), ('AQUAS, INC.', 2), ('GOLDMAN SACHS & CO.', 2), ('ERNST & YOUNG LLP', 2), ('TELCOBUY.COM', 2), ('GAIN CAPITAL GROUP, LLC', 2), ('REGIS UNIVERSITY', 2), ('GUARDIANDRUG COMPANY', 2), ('INTERTEK TESTING SERVICES NA, INC.', 2), ('NTT MULTIMEDIA COMMUNICATIONS LABORATORIES, INC.', 2), ('PROSPECT INFOSYS INC', 2), ('CORNING INCORPORATED', 2), (\"THE CHILDREN'S PLACE SERVICES COMPANY, LLC\", 2), ('CALIFORNIA CAPITAL INSURANCE COMPANY', 2), ('DARTMOUTH-HITCHCOCK MEDICAL CENTER', 2), ('MOORE CAPITAL MANAGEMENT, LP', 2), ('EPACE TECHNOLOGIES,INC', 2), ('MARKETING ANALYTICS, INC.', 2), ('NETWORK OBJECTS INC', 2), ('TERADATA OPERATIONS, INC.', 2), ('CREDENT TECHNOLOGIES LLC', 2), ('HCL GLOBAL SYSTEMS, INC', 2), ('VIE DE FRANCE YAMAZAKI, INC', 2), ('BUSINESS INTELLIGENCE SYSTEMS, INC.', 2), ('JEAN MARTIN INC', 2), ('SONICS INC.,', 2), ('DNTG', 2), ('ELECTRONIC DATA SYSTEMS CORPORATION', 2), ('MICROPACT ENGINEERING, INC.', 2), ('3CORE SYSTEMS INC', 2), ('HELIOS AND MATHESON INFORMATION TECHNOLOGY INC.', 2), ('OCR SERVICES, INC.', 2), ('I-LINK SOLUTIONS INC', 2), ('WHEATON FRANCISCAN MEDICAL GROUP', 2), ('LIQUIDNET HOLDINGS, INC.', 2), ('FOREST RESEARCH INSTITUTE', 2), ('ROUNDARCH', 2), ('INFO SERVICES LLC', 2), ('DELUXE DIGITAL STUDIOS, INC.', 2), ('DISKEEPER CORPORATION', 2), ('UNITRIN DIRECT PROPERTY & CASUALTY COMPANY', 2), ('T.Y. LIN INTERNATIONAL', 2), ('PYRAMID CONSULTING INC.', 2), ('TUBA CITY UNIFIED SCHOOL DISTRICT #15', 2), ('CEDAR ADVISORS', 2), ('EASTBANC TECHNOLOGIES', 2), ('EXPRESS SCRIPTS INC.', 2), ('DELL WORLD TRADE LP', 2), ('TEKLINK INTERNATIONAL, INC.', 2), ('JAMES HARDIE BUILDING PRODUCTS', 2), ('WAYNE STATE UNIVERSITY', 2), ('ALOK BHATIA', 2), ('LUCID TECHNOLOGIES INC.', 2), ('SAY MEDIA', 2), ('TAMARAC INC.', 2), ('UNIVERSITY OF NEW HAMPSHIRE', 2), ('FORCE10 NETWORKS, INC', 2), ('REGIONAL HEALTH SERVICES, INC.', 2), ('MERCY MEDICAL CENTER - NORTH IOWA', 2), ('COGENT HEALTHCARE OF IL,LLC', 2), ('RAHIM INC. DBA RNR CONSULTING', 2), ('CONCH TECHNOLOGIES, INC.', 2), ('EAST STROUDSBURG UNIVERSITY OF PENNSYLVANIA', 2), ('GREENSVILLE COUNTY PUBLIC SCHOOL', 2), ('THE MILL GROUP, INC.', 2), ('WORLD JOINT CORP. D/B/A IACE TRAVEL, INC.', 2), ('DIGITAL TERRAIN INC.', 2), ('GEORGIA SOUTHERN UNIVERSITY', 2), ('COLORADO STATE UNIVERSITY', 2), ('CHAMPION SIDECARS', 2), ('JINRO AMERICA, INC.', 2), ('CHINGIS TECHNOLOGY CORPORATION', 2), ('GENERAL RE', 2), ('ALTASENS, INC.', 2), ('BALLY GAMING, INC.', 2), ('LG HAUSYS AMERICA, INC.', 2), ('NEXT CENTURY DENTAL, PA', 2), ('YOROZU  NORTHAMERICA, INC.', 2), ('REDEEMSOFT LLC', 2), ('SOUTHERN ILLINOIS UNIVERSITY EDWARDSVILLE', 2), ('KINDRED REHAB SERVICES, D/B/A PEOPLEFIRST REHABILITATION', 2), ('THE TIMING, INC.', 2), ('TEKPROS INC', 2), ('RHAPSODY INTERNATIONAL', 2), ('CINTRA SOFTWARE & SERVICES', 2), ('CLIPPER WINDPOWER, INC.', 2), ('GHD INC.', 2), ('COMPUSOFT INTEGRATED SOLUTIONS, INC.', 2), ('PROSPANCE INC.', 2), ('GL NOBLE DENTON, INC.', 2), (\"MOODY'S SHARED SERVICES, INC.\", 2), ('FLORIDA GULF COAST UNIVERSITY', 2), ('REAL TIME INNOVATIONS, INC.', 2), ('OMNI HEALTH SERVICES, INC.', 2), ('PRIMATICS FINANCIAL LLC', 2), ('VCARVE INC.', 2), ('NORTH VALLEY RESEARCH, INC', 2), ('UNIVERSITY OF NEVADA, RENO', 2), ('BANNER HEALTH', 2), ('OPEN SYSTEMS INC.', 2), ('ESTRELLA ACAPULCO', 2), ('OHM LABORATORIES, INC.', 2), ('ACCELRYS SOFTWARE, INC.', 2), ('MANITOU AMERICAS, INC.', 2), ('PLUG POWER INC.', 2), ('NORTH CAROLINA STATE UNIVERSITY', 2), ('ACMESOFT GLOBAL, INC', 2), ('THE SIEGFRIED GROUP, LLP.', 2), ('THERMO FISHER SCIENTIFIC', 2), ('JOHN BEAN TECHNOLOGIES CORPORATION', 2), ('ENTERPRISE SOFTWARE SOLUTIONS, INC.', 2), ('CHICAGOTRADING COMPANY', 2), ('UNIVERSITY OF TENNESSEE HEALTH SCIENCE CENTER', 2), ('APOGEE MEDICAL GROUP, PC', 2), ('BIS CONSULTING, INC.', 2), ('SIEMENS HEALTHCARE DIAGNOSTICS INC.', 2), ('STRATA MARKETING, INC.', 2), ('NV ENERGY, INC.', 2), ('ALIXPARTNERS, LLP', 2), ('SKECHERS USA, INC.', 2), ('PORTAGE HEALTH INC', 2), ('SOUTH BAYLO UNIVERSITY', 2), ('INDUS IT VALLEY, INC.', 2), ('SAC CAPITAL ADVISORS, LP', 2), ('RISK FOCUS INC', 2), ('XPERTTECH, INC.', 2), ('P & E CONSTRUCTION, INC.', 2), ('NATIXIS NORTH AMERICA LLC', 2), ('THINC SYSTEMS, INC', 2), ('BERING STRAITS INFORMATION TECHNOLOGY, LLC', 2), ('ELGIN SCHOOL DISTRICT U-46', 2), ('CYMER INCORPORATED', 2), ('ALBANY STATE UNIVERSITY', 2), ('AMERICAN PSYCHOLOGICAL ASSOCIATION', 2), ('HEALTHCARE PARTNERS', 2), ('CALIFORNIA CREATIVE SOLUTIONS, INC', 2), ('WELLPOINT, INC.', 2), ('HUMETIS TECHNOLOGIES,INC.', 2), ('SOMATECHNOLOGY INC', 2), ('SUPER MICRO COMPUTER, INC.', 2), ('ONLIVE, INC.', 2), ('MISHA CONSULTING GROUP, INC.', 2), ('TECH MAHINDRA (AMERICAS) INC., (FORMERLY MBT INTERNATIONAL, INC.)', 2), ('PARAGON SOLUTIONS, INC.', 2), ('CITYCARE MEDICAL SUPPLIER INC.', 2), ('BAKERIT', 2), ('SOFTWARE GUIDANCE AND ASSISTANCE, INC.', 2), ('TRELLIS TECHNOLOGY SOLUTIONS LLC', 2), ('EUREKA TECHNOCRATS, INC.', 2), ('ASTUTE BUSINESS SOLUTIONS', 2), ('DENTIUM USA', 2), ('JACKSON THERAPY PARTNERS', 2), ('WEBSTER UNIVERSITY', 2), ('NOVA SOUTHEASTERN UNIVERSITY', 2), ('TALENTED IT, INC', 2), ('CREAMOS SOLUTIONS INC', 2), ('TERARECON, INC.', 2), ('PACCAR INC', 2), ('GREAT PANDA CO.', 2), ('SVAM INTERNATIONAL INC', 2), ('REDAC, INC.', 2), ('IDEXCEL, INC', 2), ('NORVAX, INC.', 2), ('CCC INFORMATION SERVICES INC.', 2), ('AMERICAN BANKERS LIFE ASSURANCE COMPANY OF FLORIDA', 2), ('DCG SYSTEMS', 2), ('LORD, ABBETT & CO. LLC', 2), ('THE PNC FINANCIAL SERVICES GROUP', 2), ('ICROSSING, INC.', 2), ('INDUSTRIAL AUTOMATION CONTROL, LLC.', 2), ('OVE ARUP & PARTNERS PC', 2), ('BROOKLYN COLLEGE OF THE CITY UNIVERSITY OF NEW YOR', 2), ('TRANSOCEAN OFFSHORE DEEPWATER DRILLING INC.', 2), ('INNOPATH SOFTWARE', 2), ('BECHTEL OIL, GAS AND CHEMICALS, INC.', 2), ('A9.COM, INC.', 2), ('EPATHUSA INC.', 2), ('FULCRUM MICROSYSTEMS, INC.', 2), ('BOEHRINGER INGELHEIM PHARMACEUTICALS, INC', 2), ('MEIJER GREAT LAKES LIMITED PARTNERSHIP', 2), ('ST. FRANCIS HOSPITAL, INC.', 2), ('EISNERAMPER LLP', 2), ('COMPUTER AID, INC.', 2), ('PROQUEST', 2), ('TRUSTEES OF AMHERST COLLEGE', 2), ('ZIONTECH SOLUTIONS', 2), ('STATE STREET BANK AND TRUST COMPANY', 2), ('LARSEN & TOUBRO INFOTECH LIMITED', 2), ('DLA PIPER US LLP', 2), ('KLC NETWORK SERVICES, INC', 2), ('BLUESOFT SOLUTIONS LLC', 2), ('SARA LEE CORPORATION', 2), ('RILEY POWER INC.', 2), ('HEALTH NET, INC.', 2), ('EXPERIAN INFORMATION SOLUTIONS, INC.', 2), ('TRINITY UNIVERSITY', 2), ('AMERISOFT CORPORATION', 2), ('ILLINOIS STATE UNIVERSITY', 2), ('JNJ MOBILE INC.', 2), ('CENTRAL COUNTIES HEALTH CENTERS, INC.', 2), ('UNIVERSITY OF THE PACIFIC', 2), ('TPG ARCHITECTURE, LLP', 2), ('SDG CORPORATION', 2), ('OPTIMUM TECHNOLOGY INC', 2), ('BOOZ ALLEN HAMILTON', 2), ('CLOUDRAY, INC.', 2), ('ZOLON TECH INC', 2), ('UNIVERSITY OF PUERTO RICO-MAYAGUEZ CAMPUS', 2), ('MANIFEST SOLUTIONS CORP', 2), ('SIMPLEX INFO SYSTEMS, INC', 2), ('TD AMERITRADE HOLDING CORPORATION', 2), ('OAKLAND UNIVERSITY', 2), ('STATE UNIVERSITY OF NEW YORK AT BINGHAMTON', 2), ('CAISSA ASSISTED LIVING HOME, INC.', 2), ('ISEC PARTNERS, INC.', 2), ('CUSTOMCRAFT UPHOLSTERS INC', 2), ('ST. BERNARDS HOSPITAL, INC. DBA ST. BERNARDS MEDIC', 2), ('SOFTCON  USA  INC', 2), ('COMPVUE INC', 2), ('UNIVERSITY OF TEXAS MEDICAL BRANCH-GALVESTON', 2), ('DEL MONTE FRESH PRODUCE CO.', 2), ('OPTECH CONSULTING, INC.', 2), ('INIRUS, LLC', 2), ('EICHER ENGINEERING SOLUTIONS INC', 2), ('CONAGRA FOODS, INC.', 2), ('FARMERS GROUP, INC.', 2), ('UNIVERSITY OF WISCONSIN-STEVENS POINT', 2), ('FOLIO DYNAMICS INC.', 2), ('AMBROS TINONGS BAKERY (GUAM). INC.', 2), ('SONSOFT INC', 2), ('ARK SOLUTIONS, INC.', 2), ('GLOBAL ENTERPRISE MANAGEMENT SOLUTIONS, INC.', 2), ('PARKER HANNIFIN CORPORATION', 2), ('GENESIS HEALTH SYSTEM', 2), ('PRECISION SYSTEMS, INC.', 2), ('OBJECT INFORMATION SERVICES, INC.', 2), ('NEC CORPORATION OF AMERICA', 2), ('COMPUTECH SYSTEMS, INC.', 2), ('SSINFOTEK INC', 2), ('CODE X INC.', 2), ('SOFTIRA INC', 2), ('ARUP NORTH AMERICA LTD.', 2), ('MINERVA NETWORKS, INC.', 2), ('DUKE UNIVERSITY AND MEDICAL CENTER', 2), ('SEKERO INTERNATIONAL, INC.', 2), ('CALVERT MEMORIAL HOSPITAL OF CALVERT COUNTY', 2), ('INFINITE CONVERGENCE SOLUTIONS, INC', 2), ('LOUIS DREYFUS COMMODITIES LLC', 2), ('AT&T SERVICES, INC.', 2), ('ISITE TECHNOLOGIES INC', 2), ('GARDEN GROVE HOSPITAL', 2), ('ACE INFO SOLUTIONS, INC.', 2), ('NAN HAI USA CO INC', 2), ('IDHASOFT, INC.', 2), ('PROCESSES UNLIMITED INTERNATIONAL, INC.', 2), ('MPOWERTECH INC', 2), ('XLYSI LLC', 2), ('APOGEE MEDICAL GROUP, GEORGIA, INC.', 2), ('UNION HOSPITAL OF CECIL COUNTY', 2), ('CROSS COUNTRY SERVICE CORP', 2), ('FIDUCIAL SUPPORT SYSTEMS, INC.', 2), ('CICERO, INC.', 2), ('INFORMATIC TECHNOLOGIES INC', 2), ('JOLIET ONCOLOGY-HEMATOLOGY ASSOCIATES', 2), ('NU INFO SYSTEMS, INC.', 2), ('LEACHENG INTL., INC.', 2), ('UNISYS CORPORATION', 2), ('BEACHBODY, LLC', 2), ('MONTEFIORE MEDICAL CENTER', 2), ('REYNOLDS SERVICES INC.', 2), ('NORTHEAST HOSPITAL CORPORATION', 2), ('FTI, LLC', 2), ('TAKEDA PHARMACEUTICALS NORTH AMERICA, INC.', 2), ('QUALYS, INC.', 2), ('DEPOSITORY TRUST & CLEARING CORPORATION', 2), ('APPALACHIAN STATE UNIVERSITY', 2), ('DUNKIN DONUTS', 2), ('MUSIC OF OPUS119', 2), ('WYSE TECHNOLOGY INC.', 2), ('MALEMA ENGINEERING CORPORATION D/B/A MALEMA FLOW SENSORS', 2), ('SOROS FUND MANAGEMENT', 2), ('GANNETT SATELLITE INFORMATION NETWORK, INC.', 2), ('MAGNA SYSTEMS INTERNATIONAL, INC.', 2), ('IBG LLC', 2), ('ZINCH, INC.', 2), ('UTAH STATE UNIVERSITY', 2), ('PURE STORAGE, INC.', 2), ('IKANOS COMMUNICATION', 2), ('IDC TECHNOLOGIES, INC.', 2), ('UNIVERSITY PHYSICIAN ASSOCIATES', 2), ('UNITED INFORMATION TECHNOLOGY, INC.', 2), ('NATIONAL RUBBER CORPORATION', 2), ('BLACKBAUD INC', 2), ('TOPOCEAN CONSOLIDATION SERVICE (LOS ANGELES), INC.', 2), ('HILLSBORO INDEPENDENT SCHOOL DISTRICT', 2), ('LOGIC HOUSE, LTD.', 2), ('UNIVERSITY OF HAWAII', 2), ('GEORGE WASHINGTON UNIVERSITY', 2), ('DEVELOPMENT ALTERNATIVES, INC.', 2), ('HUGHES TELEMATICS INC.', 2), ('ELECTROLUX HOME PRODUCTS, INC.', 2), ('MORGAN STANLEY & CO. INC.', 2), ('BAE SYSTEMS', 2), ('DISH NETWORK LLC', 2), ('EXEL, INC.', 2), ('CAMERON UNIVERSITY', 2), ('SOUTHEASTERN DATA COOPERATIVE, INC', 2), ('UMPHYSICIANS MANAGEMENT COMPANY, LLC', 2), ('GE HEALTHCARE IITS USA CORP.', 2), ('AGILESOFT, INC.', 2), ('TOPAZ TECHNOLOGIES LLC', 2), ('CHICAGO MERCANTILE EXCHANGE', 2), ('RODL LANGFORD DE KOCK LLP', 2), ('NETJETS SERVICES, INC.', 2), ('SOUTHERN WESLEYAN UNIVERSITY', 2), ('FOLLETT HIGHER EDUCATION GROUP INC', 2), ('TAKE SOLUTIONS, INC', 2), ('AGITECH SOLUTIONS, INC', 2), ('BT2F, INC.', 2), ('ADAEQUARE INC', 2), ('CP MANUFACTURING', 2), ('INSPECTORATE AMERICA CORPORATION', 2), ('INTERACTIVE DATA PRICING & REFERENCE DATA INC', 2), ('JOONGANG DAILY NEWS CA, INC. DBA THE KOREA DAILY', 2), ('AKVARR INC', 2), ('ENTERPRISE INTEGRATION, INC.', 2), ('KETTERING UNIVERSITY', 2), ('ASARCO', 2), ('HAWAII MEDICAL SERVICE ASSOCIATION', 2), ('KAIROS TECHNOLOGIES, INC', 2), ('MURPHY BROWN LLC', 2), ('VALUEMOMENTUM, INC.', 2), ('WORLD POWER SOLUTION INC', 2), ('STELLAR SOFTWARE NETWORK, INC.', 2), ('SUNGARD AVAILIBILITY SERVICES', 2), ('STARRY ASSOCIATES, INCORPORATED', 2), ('SMARTEK21, LLC', 2), ('SURE TECH SERVICES, INC.', 2), ('UNION PACIFIC RAILROAD', 2), ('VALIANTICA, INC.', 2), ('MINDFIRE INTERNET SOLUTIONS, INC', 2), ('SABA SOFTWARE', 2), ('ITG INC.', 2), ('COMFRAME SOFTWARE CORPORATION', 2), ('ICAP CAPITAL MARKETS LLC', 2), ('OPENMARKET INC.', 2), ('CLAIMS SERVICES GROUP, INC. (AN AUDATEX COMPANY)', 2), ('RANGER PIPELINES INC', 2), ('SANFORD CLINIC NORTH', 2), (\"MOODY'S INVESTORS SERVICE, INC.\", 2), ('VIRTUE GROUP, LLC.', 2), ('MEDEANALYTICS, INC.', 2), ('TECHNICOLOR INC.', 2), ('THE UNIVERSITY OF SOUTH DAKOTA', 2), ('NORMAN W. FRIES, INC. D/B/A CLAXTON POULTRY FARMS', 2), ('MERIDIAN SERVICES CORP', 2), ('ADVANCED FAMILY DENTISTRY, PC', 2), ('CLOUDERA', 2), ('ARSIN CORPORATION', 2), ('SUDLER & HENNESSEY', 2), ('ALTRU HEALTH SYSTEM', 2), ('ADVENT SOFTWARE', 2), ('GLOBUS MEDICAL INC.', 2), ('GENESIS REHABILITATION SERVICES', 2), ('AUDUBON ENGINEERING OPERATIONS, LLC', 2), ('EAI TECHNOLOGIES', 2), ('TRINET HR CORPORATION', 2), ('UNIVERSITY OF SOUTHERN MISSISSIPPI', 2), ('ICONSOFT INC.', 2), ('WILLIAM MARSH RICE UNIVERSITY', 2), ('GRAND VALLEY STATE UNIVERSITY', 2), ('BLUE SHIELD OF CALIFORNIA', 2), ('CAPSQUARE SYSTEMS INC', 2), ('LIFELOCK, INC.', 2), ('FIRST SOLAR ELECTRIC, LLC', 2), ('OSRAM SYLVANIA INC.', 2), ('INTERNATIONAL TECHNOLOGY SOLUTIONS, INC.', 2), ('CALLAND ENGINEERING, INC.', 2), ('OMEGA SOLUTIONS INC', 2), ('HANWHA L&C ALABAMA LLC', 2), ('BCBG MAX AZRIA GROUP, INC.', 2), ('ZENITH SOFTWARE INC.', 2), ('AMERICAN SOLUTIONS INC', 2), ('SWEET PEOPLE APPAREL INC.  DBA MISS ME', 2), ('SEMANTICBITS LLC', 2), ('THOMSON REUTERS MARKETS LLC', 2), ('BOAT AMERICA CORPORATION', 2), ('CORE LABORATORIES LP', 2), ('HARMONIC, INC.', 2), ('KING & SPALDING LLP', 2), ('LOS ANGELES SA-RANG COMMUNITY CHURCH', 2), ('GLAXOSMITHKLINE LLC', 2), ('ADELPHI UNIVERSITY', 2), ('UNIVERSITY PHYSICIANS OF BROOKLYN', 2), ('NEIBAUER DENTAL CARE', 2), ('ARGUS LIMITED', 2), ('MARSHALL UNIVERSITY', 2), ('COLLEGE OF CHARLESTON', 2), ('PERFORMANCE MANAGEMENT ASC INC.', 2), ('SUNSET COMMUNITY HEALTH CENTER', 2), ('XEROX CORPORATION', 2), ('NAVEL TECHNOLOGIES INC', 2), ('CLINICAS DEL CAMINO REAL, INC.', 2), ('SEDGWICK CLAIMS MANAGEMENT SERVICES, INC.', 2), ('BARRY-WEHMILLER COMPANIES, INC.', 2), ('CENTINELA HOSPITAL MEDICAL CENTER', 2), ('HARRIS CORPORATION', 2), ('THE TRI-COM CONSULTING GROUP, L.LC.', 2), ('FMC CORPORATION', 2), ('M. WINTER & ASSOCIATES PEDIATRIC REHABILITATION', 2), ('HAWAII PACIFIC HEALTH', 2), ('NIHAKI SYSTEMS INC', 2), ('COMMUNITY HOSPITALISTS', 2), ('CBS CORPORATE SERVICES INC', 2), ('REGARDIE, BROOKS & LEWIS', 2), ('3H TECHNOLOGY, LLC', 2), ('SONICWALL, INC.', 2), ('COACH INC.', 2), ('AMERIPRISE FINANCIAL, INC.', 2), ('EAST CAROLINA UNIVERSITY', 2), ('ORCHEPIA SCHOOL OF MUSIC, INC.', 2), ('PERSONAL CAPITAL CORPORATION', 2), ('COMMONWEALTH OF VIRGINIA CATAWBA HOSPITAL', 2), ('COVIDIEN', 2), ('PEOPLESERVE, INC.', 2), ('EQECAT, INC.', 2), ('BE AEROSPACE, INC.', 2), ('SCHRILL TECHNOLOGIES, INC', 2), ('LUCIDITY CONSULTING GROUP LP', 2), ('THE LUBRIZOL CORPORATION', 2), ('ZS ASSOCIATES, INC.', 2), ('XENOSOFT TECHNOLOGIES, INC', 2), ('STUBHUB', 2), ('HIGHDATA SOFTWARE CORPORATION', 2), ('HUGHES NETWORK SYSTEMS, LLC', 2), ('MEMORIAL SLOAN-KETTERING CANCER CENTER', 2), ('KERRY INC.', 2), ('NORWALK HOSPITAL', 2), ('NES GLOBAL, LLC', 2), ('WELSPUN PIPES', 2), ('INTOUCH SOLUTIONS, INC', 2), ('FREUDENBERG-NOK GENERAL PARTNERSHIP', 2), ('AURORA INTERNATIONAL LLC', 2), ('PINES HEALTH SERVICES', 2), ('AMERICAN TECHNOLOGY SOLUTIONC INC', 2), ('MSX AMERICAS, INC.', 2), ('LIBERTY MUTUAL INSURANCE COMPANY', 2), ('VIRTUSA CORPORATION', 2), ('AKAMAI TECHNOLOGIES, INC.', 2), ('AUTOLIV ASP, INC.', 2), ('IT SPIN INC', 2), ('THE UNIVERSITY OF WISCONSIN AT WHITEWATER', 2), ('VISIONSOFT INTERNATIONAL INC', 2), ('AMALGAM TECHNOLOGIES INC', 2), ('MANDO AMERICA CORPORATION', 2), ('ISO NEW ENGLAND', 2), ('HOME DEPOT U.S.A., INC.', 2), ('SOLUTIONSET', 2), ('SOGGY BOTTOM FARMS', 2), ('OTIS INFORMATION TECHNOLOGIES INC', 2), ('UNIFY SOLUTIONS INC', 2), ('SKIDMORE, OWINGS & MERRILL LLP', 2), ('RIGID GLOBAL BUILDINGS, LLC', 2), ('SIEMENS ENERGY INC', 2), ('VITEOS FUND SERVICES, LLC', 2), ('SCHNEIDER ELECTRIC USA, INC.', 2), ('CHO CHIROPRACTIC & PAIN MANAGEMENT CENTER, P.C.', 2), ('NEVERSOFT ENTERTAINMENT, INC.', 2), ('STAFFTECH, INC.', 2), ('SMARTWORKS, LLC', 2), ('HRITHIKA PHARMACY INC', 2), ('AEI SERVICES LLC', 2), ('BNP PARIBAS', 2), ('APPLABS INC,', 2), ('H ASSOCIATES', 2), ('OPERA SOLUTIONS', 2), ('HEEREMA MARINE CONTRACTORS U.S., INC.', 2), ('JOSS DATA, INC', 2), ('BRAVES TECHNOLOGIES LLC', 2), ('AFFIRMED NETWORKS, INC.', 2), ('UNIVERSITY OF DELAWARE', 2), ('FORTINET, INC.', 2), ('STS INTERNATIONAL, INC', 2), ('GENERAL CABLE INDUSTRIES, INC.', 2), ('NORA MANUFACTURING INC.', 2), ('PUBLIX SUPER MARKETS, INC.', 2), ('AEGON USA REALTY ADVISORS, INC.', 2), ('PROJECT LEADERSHIP ASSOCIATES', 2), ('AHUJA PARTNERSHIP ARCHITECTS', 2), ('APEX GOVERNMENT SOLUTIONS, LLC', 2), ('MA LABORATORIES INC', 2), ('AXA EQUITABLE LIFE INSURANCE COMPANY', 2), ('NB GRAPHICS & ASSOCIATES, INC.', 2), ('COLLECTIONS MARKETING CENTER, INC.', 2), ('AMERICOLD LOGISTICS, LLC', 2), ('LOGICBLOX, INC.', 2), ('COHERENT, INC', 2), ('ALTERA CORPORATION', 2), ('PILLSBURY WINTHROP SHAW PITTMAN LLP', 2), ('POTOMAC ECONOMICS LTD', 2), ('ADVANCED ANALOGIC TECHNOLOGIES, INC.', 2), ('RURAL TECHNOLOGIES STRATEGIES, INC.', 2), ('TRADE SHIP INC.', 2), ('CONTINENTAL AIRLINES, INC.', 2), ('ALIGN TECHNOLOGY, INC.', 2), ('FEDERAL RESERVE BANK OF ST. LOUIS', 2), ('APPDYNAMICS, INC.', 2), ('INSTITUTE OF FORENSIC SCIENCE OF PUERTO RICO', 2), ('UNIVERSITY OF MISSISSIPPI MEDICAL CENTER', 2), ('MOLINA HEALTHCARE INC', 2), ('XIPHOID INC', 2), ('LOWERMYBILLS,INC', 2), ('TEVA PARENTERAL MEDICINES, INC.', 2), ('VALUE CONSULTING INC', 2), ('ITAPSYS SOFTWARE SOLUTIONS INC.', 2), ('INFOLOB SOLUTIONS INC', 2), ('SABRE SYSTEM, INC.', 2), ('TENG & ASSOCIATES, INC.', 2), ('EAGLE SUSPENSIONS, INC.', 2), ('MORGAN STANLEY INVESTMENT MGMT., INC.', 2), ('UNIVERSITY OF PUERTO RICO-RIO PIEDRAS CAMPUS', 2), ('AVANI TECHNOLOGY SOLUTIONS INC.', 2), ('OPTIMOS INCORPORATED', 2), ('UNIVERSITY OF NORTHERN IOWA', 2), ('MILLENNIUMSOFT', 2), ('HNI CORPORATION', 2), ('REGENCY TECHNOLOGIES, INC.', 2), ('BUMBLE BEE FOODS LLC', 2), ('TECHLINK RESOURCES, INC.', 2), ('S CUBE SOFT', 2), ('COGENT HEALTHCARE OF TEXAS, PA', 2), ('TEXTRON INC.', 2), ('UNIVERSAL INFO TECH INC', 2), ('BMC SOFTWARE, INC.', 2), ('STG, INC.', 2), ('BANNER MEDICAL GROUP', 2), ('CALLAWAY GOLF COMPANY', 2), ('IDEXX LABORATORIES, INC.', 2), ('FENDER MUSICAL INSTRUMENTS CORP.', 2), ('BEYOND MANAGEMENT INC.', 2), ('TRAVELEX GLOBAL BUSINESS PAYMENTS INC', 2), ('YAK & YETI, INC', 2), ('MANPOWER PROFESSIONAL SERVICES', 2), (\"ST. LUKE'S-ROOSEVELT HOSPITAL CENTER\", 2), ('ARRYX, INC.(SUBSIDIARY OF HAEMONETICS CORPORATION)', 2), ('INTUIT', 2), ('TECHLIGENT, INC.', 2), ('STANDARD MICROSYSTEMS CORPORATION', 2), ('BROADEN LLC', 2), ('HEDGESERV CORPORATION', 2), ('WESTERN ASSET MANAGEMENT', 2), ('SPECTRUM HEALTH SYSTEM', 2), ('MCCORMICK & COMPANY, INC.', 2), ('NEXABYTE CONSULTING GROUP, INC', 2), ('FRENCH-AMERICAN INTERNATIONAL SCHOOL', 2), ('GLOBAL DATA MANAGEMENT INC', 2), ('LOGIC INFORMATION SYSTEMS, INC.', 2), ('WINN-DIXIE STORES, INC.', 2), ('VINSYS INFORMATION TECHNOLOGY INC', 2), ('INTEGRAL DEVELOPMENT CORP.', 2), ('HUBBELL INCORPORATED', 2), ('INFOTECH VALLEY INCORPORATED', 2), ('JAE YOUB CHOO DBA J ACUPUNCTURE', 2), ('UKAY TRUCKING & DELIVERY INC.', 2), ('EISAI, INC.', 2), ('OCHSNER CLINIC FOUNDATION', 2), ('BETA SOFT SYSTEMS, INC', 2), ('RRD USA', 2), ('CENTRAL BUSINESS SOLUTIONS LLC', 2), ('SOFTWARE INTELLECTS INC', 2), ('PROS REVENUE MANAGEMENT, L.P.', 2), ('CHINA INSTITUTE IN AMERICA, INCORPORATED', 2), ('DENNIG HEALTHCARE INC.', 2), ('SILTEK CORPORATION', 2), ('AMSOL INC', 2), ('T-SYSTEMS NORTH AMERICA, INC.', 2), ('ENTERGY SERVICES, INC', 2), ('FLUOR ENTERPRISES, INC.', 2), ('WINDOW ROCK UNIFIED SCHOOL DISTRICT #8', 2), ('ADESA, INC.', 2), ('LEGACY CARE CORPORATION', 2), ('CLERYSYS INC', 2), ('THREE SIGMA SOFTWARE, INC', 2), ('BATES WHITE, LLC', 2), ('HYSCO AMERICA COMPANY INC.', 2), ('COMPOSITE SOFTWARE, INC.', 2), ('NUTANIX, INC.', 2), ('CONSOLIDATED HORIZONS, INC.', 2), ('MAXUM PETROLEUM OPERATING COMPANY', 2), ('MARLBORO COUNTY SCHOOL DISTRICT', 2), ('TRANSUNION', 2), ('HH MEDSTAR HEALTH, INC.', 2), ('RONIN CAPITAL, LLC', 2), ('HALLA  CLIMATE SYSTEM ALABAMA', 2), ('HSBC SECURITIES (USA) INC.', 2), ('KOMPSOFT INC.', 2), ('GTL USA INC', 2), ('CALIFORNIA STATE UNIVERSITY, SACRAMENTO', 2), ('INFORMATICA CORPORATION', 2), ('ATHREYA INC', 2), ('SPH AMERICA, LLC', 2), ('PERRIGO PHARMACEUTICALS', 2), ('ALLEGANY OPTICAL, LLC', 2), ('PYRAMID SYSTEMS, INC.', 2), ('VOLTERRA SEMICONDUCTOR CORPORATION', 2), ('LTG ASSOCIATES, INC.', 2), ('HMS', 2), ('WALTER P. MOORE & ASSOCIATES', 2), ('DIMENSION CONSULTING', 2), ('SOUTHWEST RESEARCH INSTITUTE', 2), ('ROLLS-ROYCE ENERGY SYSTEMS INC.', 2), ('LOPEZ NEGRETE COMMUNICATIONS, INC.', 2), ('STANFORD TECHNOLOGY PARTNERS INCORPORATION', 2), ('JCMS, INC.', 2), ('RESEARCH FOUNDATION OF  CUNY', 2), ('RAMPS INTERNATIONAL, INC', 2), ('MULTIMODAL TECHNOLOGIES, LLC', 2), ('FLOREXPO', 2), ('GLOBAL TECHNOLOGY RESOURCES AND SOLUTIONS, INC', 2), ('TRIGYN TECHNOLOGIES INC.', 2), ('KAUDIO, INC.', 2), ('SUMMA PHYSICIANS, INC.', 2), ('MERCER (US) INC.', 2), ('OKLAHOMA CITY UNIVERSITY', 2), ('POLYCOM, INC.', 2), ('FLORIDA STATE UNIVERSITY', 2), ('URBANE SYSTEMS LLC', 2), ('EXPEDITORS INTERNATIONAL OF WASHINGTON, INC.', 2), ('PROMATRIX CORP', 2), ('RUSH UNIVERSITY MEDICAL CENTER', 2), ('NEWMONT MINING CORP.', 2), ('IPSWITCH, INCORPORATED', 2), ('SCIENCE APPLICATIONS INTERNATIONAL CORPORATION', 2), ('SYSTIME COMPUTER CORPORATION', 2), ('OST INTERNATIONAL CORPORATION - A CDC COMPANY', 2), ('HUGHES HUBBARD & REED LLP', 2), ('INSTINET GROUP, LLC', 2), ('NANDA INFOTECH SERVICES DBA EDP', 2), (\"COMPUTER TASK GROUP, INC. ('CTG')\", 2), ('DAVITA INC.', 2), ('INFOMATICS TECHNOLOGIES INC.,', 2), ('PACIFIC INVESTMENT MANAGEMENT COMPANY, LLC', 2), ('RIVERGREEN DENTAL CARE,PC', 2), ('WEBER STATE UNIVERSITY', 2), ('BRUNSWICK CORPORATION', 2), ('SPREADTRUM COMMUNICATIONS USA INC.', 2), ('COMPUGRA SYSTEMS,INC', 2), ('G-III LEATHER FASHIONS INC.', 2), ('COLLABORATIVE SYSTEMS, INC.', 2), ('SCHLUMBERGER TECHNOLOGY CORPORATION', 2), ('STELLA NOVA TECHNOLOGIES, INC.', 2), ('HORIZON INTERNATIONAL TRD. INC.', 2), ('GREEN POWER AIR CONTROLS, INC.', 2), ('JENSEN & JENSEN', 2), ('NORTH DAKOTA STATE UNIVERSITY', 2), ('AMERIT CONSULTING, INC.', 2), ('SEQUENT, INC.', 2), ('GREENMAN-PEDERSEN, INC.', 2), ('PERSISTENT SYSTEMS INC.', 2), ('9DOTS TECHNOLOGY, INC.', 2), ('DIAMOND OFFSHORE MANAGEMENT COMPANY', 2), ('JOHN HANCOCK LIFE INSURANCE COMPANY (U.S.A.)', 2), ('INTERNATIONAL SOFTWARE SYSTEMS INC', 2), ('SEATTLE GENETICS, INC.', 2), ('DATA SOLUTIONS, INC', 2), ('EDMUNDS.COM, INC.', 2), ('COCA-COLA REFRESHMENTS USA, INC.', 2), ('ALLIANT CREDIT UNION', 2), ('CASE FARMS PROCESSING INC.', 2), ('BAYLOR UNIVERSITY', 2), ('MEDASSURANT, INC.', 2), ('LPA SYSTEMS', 2), ('CHICAGO CIRCUITS CORPORATION', 2), ('PENPOWER INC.', 1), ('AUTOMATED CONTROLS SERVICES', 1), ('STATE OF OHIO', 1), ('DIMENSION TECHNOLOGY SOLUTIONS, INC.', 1), ('NEUTRIK USA, INC.', 1), ('AMERICAN PSYCHIATRIC ASSOCIATION', 1), ('CADENCE DESIGN SYSTEMS, INC.', 1), ('AJ ACOSTA CO., INC.', 1), ('IDAHO STATE UNIVERSITY', 1), ('KENT STATE UNIVERSITY', 1), ('RNSOLUTIONS, INC.', 1), ('B&B LANDSCAPING & GARDENING, INC.', 1), ('CM DESIGN STUDIO L.L.C.', 1), ('SLING MEDIA, INC.', 1), ('MUBEA INC.', 1), ('MICRO-TECH COMPUTER SERVICES, INC.', 1), ('INDUS SOLUTIONS', 1), ('LTK CONSULTING SERVICES', 1), ('IKNOWTION LLC', 1), ('P & K BUSINESS CONSULTING, INC.', 1), ('HUNTINGTON MANOR, INC.', 1), ('FUTURE STARS TENNIS ACADEMY, LLC.', 1), ('RAPHA ACUPUNCTURE HEALING CENTER, INC.', 1), ('EVOLUTION CAPITAL MANAGEMENT LLC', 1), ('MOBITV, INC.', 1), ('MSO NEWCO LLC', 1), ('MAGNA INFOTECH LTD', 1), ('SHOOTING STARS THERAPY, INC.', 1), ('BLUECHIP ENERGY', 1), ('TAXON CORP.', 1), ('ELECTRO-MECHANICAL TECHNICAL GROUP', 1), ('TELCO 214, INC.', 1), ('RICE THAI CUISINE', 1), ('NEXUS PRODUCTIONS, INC', 1), ('BURPEE MATERIALS TECHNOLOGY, LLC', 1), ('WASHINGTON SUBURBAN SANITARY COMMISSION', 1), ('MRP STEEL FABRICATION & ENGINEERING', 1), ('JR SEPTIC SERVICES, INC.', 1), ('1ST PLAYABLE PRODUCTIONS', 1), (\"O'NEIL DATA SYSTEMS LLC\", 1), (\"THE CHILDREN'S MERCY HOSPITAL\", 1), ('SUNTIME CITY INC.', 1), ('ESBEE SIGNS, INC.', 1), ('TECKNOMIC LLC', 1), ('ROPERS, MAJESKI, KOHN & BENTLEY, PC', 1), ('PHOENIX TECHNOLOGIES LTD', 1), ('HANA PRESBYTERIAN CHURCH OF OLYMPIA', 1), ('HAYES TECHNOLOGY GROUP, INC.', 1), ('S4 CONSULTANTS INC.', 1), ('JOHN LISTER', 1), ('WESTERN SERVICES CORPORATION', 1), ('URL SYSTEMS, INC.', 1), ('HANCOCK COUNTY BOE', 1), ('FUNDTECH CORPORATION', 1), ('ENVESTNET ASSET MANAGEMENT, INC.', 1), ('NUESOFT TECHNOLOGIES', 1), ('THUNDER GROUP, INC.', 1), ('BLACK DIAMOND MANAGEMENT, LP', 1), ('CHARTER COMMUNICATIONS, INC.', 1), ('TOFU HOUSE, INC.', 1), ('ARG RESOURCES LLC', 1), ('NATIONALE SUISSE LATIN AMERICA LLC', 1), ('ADA INVESTMENT MANAGEMENT, LP', 1), ('LITTLE THAI KITCHEN III, INC.', 1), ('JK GROUP, INC.', 1), ('COLQUITT REGIONAL ANESTHESIA, LLC', 1), ('PAGEBITES', 1), ('SOS GARAGE DOORS, INC.', 1), ('NEXANT, INC.', 1), ('MAXIMUS, INC.', 1), ('NATHANIEL TIONGCO ANGARA', 1), ('MOBILEAUTO CONCEPTS INC.', 1), ('NEWLINK COMMUNICATIONS GROUP, INC', 1), ('CHES NOUS INC., D/B/A BEDFORD VILLAGE PASTRY', 1), ('CPN-NETWORK, LLC', 1), ('LEE MODE INTERNATIONAL, INC', 1), ('DMX ENTERPRISE, INC', 1), ('APOGEE MEDICAL GROUP, NEW JERSEY, PA', 1), ('BHAVANI FRUIT & VEGETABLE, LLC', 1), ('INCANDESCENT TECHNOLOGIES, INC.', 1), ('EMC2 MECHANICAL, INC.', 1), ('NIFCO AMERICA CORPORATION', 1), ('JIREH AMERICA,LLC.', 1), ('ENTRAVISION COMMUNICATIONS CORPORATION', 1), ('ONEOK, INC.', 1), ('CORPORATE COMPUTER  SOLUTIONS LLC', 1), ('MARICA ENTERPRISES, INC.', 1), ('HI-LINK COMPUTER CORP.', 1), ('VTCU CORP', 1), ('CUSTOMIZED ENERGY SOLUTIONS, LTD.', 1), ('SIMMONS SIRVEY CORPORATION', 1), ('ATHENS HEART CENTER,P.C.', 1), ('COCOMERO, LLC', 1), ('CIRRUS LOGIC, INC.', 1), ('QUAD/GRAPHICS, INC.', 1), ('SANOFI PASTEUR, INC', 1), ('ALPHAVISTA SERVICES INC.', 1), ('NRG ENERGY, INC', 1), ('CREE, INC.', 1), ('PROPERTY ID CORPORATION', 1), ('PODIATRIC SURGEONS PC', 1), ('NORTHEASTERN ILLINOIS UNIVERSITY', 1), ('RYDER SCOTT COMPANY, LP', 1), ('KIKKERLAND DESIGN INC.', 1), ('NEW YORK CITY HEALTH AND HOSPITALS CORPORATION', 1), ('EVERGREEN HOME HEALTH, INC.', 1), ('CHOSUN GALBEE RESTAURANT, INC.', 1), ('E-FREIGHT TECHNOLOGY, INC.', 1), ('WELLESLEY COLLEGE', 1), ('UNION HOSPITAL ASSOCIATION', 1), ('COOK PHARMICA LLC', 1), ('ENGLEWOOD ELECTRICAL SUPPLY, DIV OF WESCO DIST.', 1), ('SKILLS FOR THE WORLD INC.', 1), (\"ST JUDE CHILDREN'S RESEARCH HOSPITAL\", 1), ('INTELLIGENT MEXICAN MARKETING', 1), ('SMITH CARTERUSA LLC', 1), ('URIEL SYSTEMS, INC.', 1), ('ROCKYOU, INC.', 1), ('NOVATEK INC.', 1), ('DOMAIN NAMES INTERNATIONAL, LLC', 1), ('KC JEWELRY INC', 1), ('BARAKAT-ALLAH MANAGEMENT', 1), ('INSYCOM, INC.', 1), ('ABGW, LLC', 1), ('EZ2 TECHNOLOGIES, INC', 1), ('JOEY BEVERAGE, CORP', 1), ('MIND WORLD LLC', 1), ('SUHEIL SHATARA, SHATARA ARCHITECTURE INC.', 1), ('AMBROSINO DEPINTO & SCHMIEDER D/B/A ADS ENGINEERS', 1), ('MARKETVISION RESEARCH', 1), ('TMAXSOFT INC', 1), ('RED OAK TECHNOLOGIES, INC.', 1), ('SATHYA EDUCATIONAL SERVICES, INC. DBA MONTESSORI SCHOOL OF CHINO HILLS', 1), ('FRANCISCAN SISTERS PROVINCIALATE OF MT. SAINT FRANCIS', 1), ('SODEXO REMOTE SITES PARTNERSHIP', 1), ('KINETIC CONCEPTS INC', 1), ('ACTIVEHEALTH MANAGEMENT', 1), ('HANJIN INTERNATIONAL', 1), ('PERMASTEELISA NORTH AMERICA CORP', 1), ('APSWT INC', 1), ('HIGHRADIUS CORPORATION', 1), ('K & J EDUCATION FOUNDATION, INC', 1), ('AARISHA INC', 1), ('REDSEAL SYSTEMS, INC.', 1), ('SUPREME CONSTRUCTION CORP', 1), ('WINSTON & STRAWN LLP', 1), ('TUV SUD AMERICA INC', 1), ('THE ACTIVE NETWORK', 1), ('NONG SHIM HOLDINGS USA, INC. & SUBSIDIARIES', 1), ('GRAPHIC TOOL CORPORATION', 1), ('VACUUM PRODUCTS CORPORATION', 1), ('MEDEXPRESS PHARMACY, LTD.', 1), ('THE UNITED GROUP, INC. DBA UNITED TELECOM', 1), ('PSK RX INC D/B/A THIRD AVENUE PHARMACY', 1), ('AMERICAN HEBREW ACADEMY', 1), ('RIVET LOGIC CORPORATION', 1), ('VENTYX INC.', 1), ('GEHRY TECHNOLOGIES, INC', 1), ('RVTKD, INC.', 1), ('FIRST PREFERRED INSURANCE, INC.', 1), ('RAYMOND JAMES & ASSOCIATES', 1), ('JACKCO TRANSNATIONAL INC.', 1), ('THE VIOLIN SHOP, INC', 1), ('ACTIVIDENTITY, INC.', 1), ('SWEDESBORO ANIMAL HOSPITAL LLC DBA TRI-STATE ANIMAL EMERGENCY CENTER', 1), ('WOODS VALLEY COUNTRY CLUB LP', 1), ('TARGET FREIGHT MANAGEMENT', 1), ('GEOGLOBAL ENERGY LLC', 1), ('LWIN FAMILY CO. D/B/A HISSHO SUSHI', 1), ('HOSPIATL SPECIALISTS, P.A.', 1), ('INTEGRATED PROJECT SERVICES', 1), ('GOLDENGATE SOFTWARE, INC.', 1), ('GEORGIA CHRISTIAN UNIVERSITY', 1), ('BNX SHIPPING INC', 1), ('REHABONE PHYSICAL THERAPY, PC', 1), ('STORMS & LOWE ASSOCIATES', 1), ('STARKEY LABORATORIES, INC.', 1), ('MIRACLE LAND KOREAN BAPTIST CHURCH', 1), ('RAIL EUROPE INC.', 1), ('BODEN INC.', 1), ('PROMENADE SERVICES INC.', 1), ('IMAGINEER TECHNOLOGY GROUP, INC.', 1), ('BROOKLYN AMITY SCHOOL', 1), ('A2Z POS LLC', 1), ('TEAL SALES INCOROPORATED', 1), ('ALERTING SOLUTIONS, INC.', 1), ('ELECTRONIC ARTS TIBURON', 1), ('CONFLUENTIA GROUP LLC', 1), ('ECO LOGICAL RESEARCH, INC.', 1), ('BROADRIVER COMMUNCATION CORPORATION', 1), ('GLOBAL ENVIRONMENTAL SOLUTIONS, INC.', 1), ('FLEETCO TRUCK LUBE & MOBILE REPAIRS LLC', 1), ('VORDONIA CONTRACTING & SUPLIES CORP', 1), ('ALLINA HOSPITALS AND CLINICS', 1), ('BECKER & ASSOCIATES CONSULTING, INC.', 1), ('FUTURETEK, INC', 1), ('AMAZON PRODUCE NETWORK, LLC', 1), ('BRIECHLE-FERNANDEZ MARKETING SERVICES, INC.', 1), ('DEAN HEALTH PLAN, INC.', 1), ('HELIX ENERGY SOLUTIONS GROUP INC.', 1), ('METERMAN, INC. DBA METERMAN', 1), ('HAMPTON DAIRIES INC, D/B/A ONE STOP MARKET', 1), ('BLUEDAS, INC.', 1), ('VENTURESOFT GLOBAL INC', 1), ('NEXT GENERATION PROFESSIONALS, LLC', 1), ('LABORATORY AND BIOMEDICAL SUPPLIES, INC.', 1), ('U.S. ENVIRONMENTAL ABATEMENT CORP.', 1), ('INTERNATIONAL COLLEGE OF WASHINGTON, LLC', 1), ('VETERINARY EMERGENCY SERVICE, LLC', 1), ('MEDICAL BROADCASTING, LLC', 1), ('SOLEXANT CORPORATION', 1), ('CENTAURUS PROPERTY MANAGEMENT', 1), ('JL ENGINEERING CORP.', 1), ('SEPHORA USA INC', 1), ('SHAHID MANSOOR MD, A PROFESSIONAL MEDICAL CORPORAT', 1), ('INTERGRAPH CORPORATION', 1), ('PARTNERS HEALTHCARE', 1), ('DENDRITE INTERNATIONAL, INC.', 1), ('BP AMERICA INC.', 1), ('ADIDAS INTERNATIONAL, INC.', 1), ('SEVERN TRENT WATER PURIFICATION, INC', 1), ('CITIHUB INC.', 1), ('B.C.S. INTERNATIONAL CORPORATION', 1), ('METSO AUTOMATION USA INC.', 1), ('INTERMARKET APPAREL LLC', 1), ('MERCURIA ENERGY AMERICA, INC.', 1), ('D.A.S. AUDIO OF AMERICA, INC.', 1), ('GETAWAY ADVENTURES LTD', 1), ('PRINCESS CRUISE LINES LTD., DBA PRINCESS CRUISES', 1), ('ATIEVA, INC.', 1), ('SAMSUNG OPTO-ELECTRONICS AMERICA, INC.', 1), ('FHCC, LLC.', 1), ('EQUIPMENTFACTS LLC', 1), ('DCX-CHOL ENTERPRISES, INC.', 1), ('LORAM MAINTENANCE OF WAY, INC.', 1), ('CONVERTEAM INC.', 1), ('PITTSBURG INDEPENDENT SCHOOL DISTRICT', 1), ('COSMIC-I LLC', 1), ('SMARTER TODDLER 55 LLC', 1), ('THE GOODYEAR TIRE & RUBBER COMPANY', 1), ('VISION EDUCATION CENTER, INC.', 1), ('MODULAR MINING SYSTEMS, INC.', 1), ('RESTORATION HARDWARE INC.', 1), ('PARKWAY NEUROSCIENCE AND SPINE INSTITUTE', 1), ('BIOMARIN PHARMACEUTICAL  INC.', 1), ('SEOUL TRADING, INC', 1), ('ALTAIR CONSTRUCTION LLC', 1), ('ROSEN SEYMOUR SHAPSS MARTIN & CO.LLP', 1), ('SUFFOLK CONSTRUCTION COMPANY, INC.', 1), ('FIRST WIND ENERGY, LLC', 1), ('JOO KYUNG YA JOO, INC.', 1), ('MARIPOSA COMMUNITY HEALTH CENTER', 1), ('CREDIT AGRICOLE AMERICA SERVICES, INC.', 1), ('BBCN BANK', 1), ('INTEGRANT INC', 1), ('Y-AXIS, INC.', 1), ('OIL FIELD DEVELOPMENT ENGINEERING, LLC', 1), ('NINAS FASHION INC', 1), ('ANTIOCH ICF,INC.', 1), ('ITW FOOD EQUIPMENT GROUP LLC', 1), ('MAHENDER MACHA', 1), ('BISTRO WASABI LLC', 1), ('DCM LIMITED', 1), ('JACKSONVILLE UNIVERSITY', 1), ('KONE INC', 1), ('TOTALMOBILE INC.', 1), ('NEW JERSEY AMERICAN WATER COMPANY, INC.', 1), ('LITHOTECHS, LLC', 1), ('POLYPIA,INC', 1), ('NATIONAL CREDIT INDUSTRIES INC, DBA CENTURY 21 AME', 1), ('LIFE-TECH, INC.', 1), ('MALINCHO INC', 1), ('UNIQUE SYSTEM LLC', 1), ('WILLIS RE INC.', 1), ('H.C.PARK & ASSOCIATES PLC', 1), ('SPIN MASTER, INC.', 1), ('3ALITY DIGITAL SYSTEMS LLC', 1), ('MAGNOLIA REGIONAL MEDICAL CENTER', 1), ('ALBERT FRANCKE', 1), ('NEMOURS/ALFRED I. DUPONT HOSPITAL FOR CHILDREN', 1), (\"VINNY'S ITALIAN GRILL\", 1), ('ALLURE HOME CREATION CO., INC.', 1), ('SYNEREN TECHNOLOGIES CORPORATION', 1), ('AMEC E&C SERVICES INC.', 1), ('PREFERREDPARTNER.COM, INC.', 1), ('WHALE CORPORATION', 1), ('FIRST SO BAPTIST CHURCH OF WALNUT', 1), ('METRIC PRECISION MACHINE AND ENGINEERING, LLC', 1), ('AGILONE, LLC', 1), ('PORTABLE COMPONENTS, LLC', 1), ('MARINE COMPUTATION SERVICES KENNY, INC.', 1), ('PLAZA MORENA RESTAURANT INC.', 1), ('HAP TRADING, LLC', 1), ('TECHNOLOGY CONSULTANTS INC.', 1), ('SUNNINGDALE COUNTRY CLUB, INC., D/B/A SUNNINGDALE COUNTRY CLUB', 1), ('L.D. STUDIO, INC.', 1), ('ECONSULTANTS INC', 1), ('SERVIGISTICS, INC.', 1), ('R/GA MEDIA GROUP', 1), ('WESTERN DENTAL SERVICES, INC', 1), ('AMISTCO SEPARATION PRODUCTS INC', 1), ('MUSKINGUM UNIVERSITY', 1), ('ARK MATERIALS, INC.', 1), ('J.W.BLUE GROUP', 1), ('ADVANCED TECHNOLOGY GROUP, INC.', 1), ('FIRST FLIGHT FEDERAL CREDIT UNION', 1), ('CIRCLE OF CARE CORPORATION', 1), ('EDWARDS LIFESCIENCES LLC', 1), ('ZIMMER INC.', 1), (\"LAKE & ASSOCIATES CPA'S LLC\", 1), ('SHINE ELECTRONICS CO., INC', 1), ('ASHLAND UNIVERSITY', 1), ('BRONX-LEBANON HOSPITAL CENTER', 1), ('GB ADVISORS, INC', 1), ('INTERNAL MEDICINE NEPHROLOGY, INC.', 1), ('BROKEN SOUND COUNTRY CLUB, INC', 1), ('OFFICE OF THE MISSOURI STATE AUDITOR', 1), (\"FIRE ESCAPE SERVICES 'INC.\", 1), ('VENTURE 360 CONSTRUCTION, LLC', 1), ('SEVYA, INC.', 1), ('GEO-LINK, INC', 1), ('HEARST COMMUNICATIONS, INC.', 1), ('RADOIL, INC.', 1), (\"JOHNIE'S GARDEN, INC.\", 1), ('SKK HERITAGE, INC', 1), ('FINANCIAL INDUSTRY REGULATORY AUTHORITY, INC.', 1), ('PARASOFT, INC.', 1), ('RJK CO LLC', 1), ('CAD OILFIELD SPECIALTIES, INC.', 1), ('MUREX NORTH AMERICA INC.', 1), ('ROVI CORPORATION', 1), ('SANDHU MANAGEMENT & INVESTMENTS, LLC', 1), ('2020 COMPANY, LLC', 1), ('PLAINFIELD BOARD OF EDUCATION', 1), ('ORCHESTR8, LLC', 1), ('GENERAL IMAGING COMPANY', 1), ('STIMULI MEDIA LLC', 1), ('YEONAHN ENTERPRISE, LLC', 1), ('ULTEIG ENGINEERS, INC.', 1), ('HOULIHAN LOKEY HOWARD & ZUKIN', 1), ('NEW ERA CAP CO. INC.', 1), ('BLUE DOT TECHNOLOGIES', 1), ('SILICON IMAGE, INC.', 1), ('BEAUTY ELEMENTS CORP', 1), ('CITRIX ONLINE LLC', 1), ('BARTON HEALTHCARE SYSTEM', 1), ('LABOVICK & LABOVICK, P.A.', 1), ('PHYLLIS GOLDEN-NACEY', 1), ('TENSILICA, INC.', 1), ('VICE MEDIA INC.', 1), ('INTERNATIONAL COMMUNITY SCHOOL', 1), ('MAVRIX TECHNOLOGY, INC.', 1), ('NATACHA UMLAUF', 1), ('QPC FIBER OPTIC', 1), ('COLVAPOR INC', 1), ('EURASIA FOUNDATION', 1), ('GLEN BURNIE C2 EDUCATION CENTER INC.', 1), ('2WIRE', 1), ('SOUTHEASTERN COOPERATIVE EDUCATIONAL PROGRAMS', 1), ('QUANT SYSTEMS, INC.', 1), ('JCG TECHNOLOGIES INC', 1), ('EXPONENTIA US INC', 1), ('COMPEST SOLUTIONS INC', 1), ('FAR EAST METALS, INC.', 1), ('APPLICATION CONSULTING GROUP, INC,', 1), ('APPISTRY', 1), ('TPG-AXON MANAGEMENT LP', 1), ('NAZTEC INTERNATIONAL GROUP LLC', 1), ('IDL SOLUTIONS, INC.', 1), ('POM WONDERFUL', 1), ('SUBSURFACE CONSTRUCTORS, INC.', 1), ('HSN, INC.', 1), ('DWARKA KALANTRY, CPA', 1), ('DE LAGE LANDEN FINANCIAL SERVICES', 1), ('ARKANSAS BLUE CROSS AND BLUE SHIELD', 1), ('TRANSFORMER PROTECTOR CORPORATION', 1), ('TAKARA SAKE USA INC.', 1), ('DS-IQ, INC.', 1), ('VIMALRAJ, INC', 1), ('MORE & MORE ENTERPRISES INC', 1), ('GLOBAL CONNECTIONS', 1), ('SUSAN HITZIG', 1), ('FARO WORLD INC', 1), ('PROJECT PERFORMANCE CORPORATION', 1), ('YAM DIAMOND, INC', 1), ('KT AMERICA INC.', 1), ('AMDOCS SOFTWARE TECHNOLOGIES INC.', 1), ('SONORAN SCIENCE ACADEMY - PHOENIX METRO', 1), ('NAVIGANT CONSULTING ECONOMICS, LLC', 1), ('ESENCIA TECHNOLOGIES INC.', 1), ('MARSHALL CAVENDISH CORPORATION', 1), ('ROYAL ASIAN BANK  D/B/A NOAH BANK', 1), ('ALLIED ADVETISING LIMITED PARTNERSHIP', 1), ('RED GINGER CHINESE RESTAURANT, INC.', 1), ('VERISTAT, INC.', 1), ('YES COMPUTERS', 1), ('NAGRASTAR, LLC', 1), ('HOSPITAL CARE CONSULTANTS', 1), ('MEDISCAN, INC.', 1), ('AMEX MANUFACTURING, INC.', 1), ('THE WASHINGTON POST COMPANY', 1), ('TINY WORLD PRESCHOOL', 1), ('TRX', 1), ('FUGRO CHANCE INC', 1), ('HP HOOD LLC', 1), ('PLAIN JOE STUDIOS', 1), ('JP SERVICE INC', 1), ('MILLER, CANFIELD, PADDOCK & STONE, PLC', 1), ('BIG APPLE SUPERMARKET, INC.', 1), ('BGC CAPITAL MARKETS, LP', 1), ('STATE OF UTAH - UTAH MEDICAL EDUCATION COUNCIL', 1), ('TRISTAR CONSULTANCY INC', 1), ('KIMONO FOODS, INC.', 1), ('SRIVEN SYSTEMS INC', 1), ('GCI WORLDWIDE CORPORATION', 1), ('WILSHIRE STATE BANK', 1), ('DTI OF WASHINGTON,LLC', 1), ('ARC OF MIDDLESEX COUNTY', 1), ('WALGREEN CO.', 1), ('DRILLMEC INC.', 1), ('RADIANT CREATIVE GROUP, LLC', 1), ('MICROPOWER TECHNOLOGIES, INC.', 1), (\"SCHADE'S DELI-RESTAURANT, INC\", 1), ('OVIVO USA, LLC', 1), ('INTERNATIONAL RECTIFIER CORPORATION', 1), ('LDC INC', 1), ('GARY TANTLEFF', 1), ('TRINITY FAMILY CARE CENTERS', 1), ('CUSTOM PLUMBING & HEATING, INC.', 1), ('CORNERSTONE EVANGELICAL BAPTIST CHURCH', 1), ('TRANSLUCENT, INC.', 1), ('EMANUEL MEDICAL GROUP, INC.', 1), ('DC GROUP, INC.', 1), ('PROVIDENCE HEALTH & SERVICES', 1), ('LEE UNIVERSITY', 1), ('PROAMP ELECTRIC, INC.', 1), ('MERRIMACK COLLEGE', 1), ('3M COMPANY', 1), ('COLICCHIO CONSTRUCTION LLC', 1), ('BUREAU VERITAS MARINE, INC', 1), ('QUIXOTIC SYSTEMS INC.', 1), ('ITF INCORPORATED', 1), ('NEW YORK MEDICAL ALLIANCE, U.F.P.C.', 1), ('SENSATA TECHNOLOGIES INC', 1), ('CODEPARTNERS LLC', 1), ('VRIM CHURCH', 1), ('SAVANNAH STATE UNIVERSITY', 1), ('PEACHTREE ROAD LUTHERAN PRESCHOOL', 1), ('BLUE NAMI', 1), ('THAITANIC INC', 1), ('LINN OPERATING, INC', 1), ('REDEMTECH, INC.', 1), ('POLO RALPH LAUREN CORPORATION', 1), ('M & T CHOP SUEY CORPORATION', 1), ('NUCOR STEEL TUSCALOOSA, INC.', 1), ('APN CONSULTING INC.', 1), ('JM DREAMLINE INC', 1), ('WENOVA INC', 1), ('WD MEDIA INC', 1), ('ATLAS PLUMBING LLC', 1), ('LAGUARDA LOW ARCHITECTS', 1), ('ONYX GRAPHICS, INC.', 1), ('CENTRAL ILLINOIS RADIATION ONCOLOGY PHYSICIANS, LT', 1), ('SMARTECHS GROUP INC', 1), ('JALAPENOS, INC.', 1), ('SOFT TECH SOURCE-A DIV.OF RAMESH SARVA, CPA, P.C.', 1), ('GSL AMERICAS LLC', 1), ('CSC HOLDINGS LLC', 1), ('PRIMUS POWER CORPORATION', 1), ('PREFERRED ANATOMIC PATHOLOGY SERVICES', 1), ('RESPIRONICS, INC.', 1), ('PULSIC, INC.', 1), ('THE CAPITAL MARKETS COMPANY', 1), ('HOLLINGSWORTH & VOSE', 1), ('ALTMAN VILANDRIE & COMPANY', 1), ('CARRIER IQ', 1), ('MINDSHIFT TECHNOLOGIES, INC.', 1), ('BRINKS HOFER GILSON & LIONE', 1), ('LP TECHNOLOGIES', 1), ('ADROIT ASSOCIATES INC', 1), ('SABIC INNOVATIVE PLASTICS US LLC', 1), ('VERTICALRESPONSE', 1), ('SUPERVALU INC.', 1), ('SOFTWARE ANALYSTS CORPORATION', 1), ('ZUBILLAGA DESIGN, INC.', 1), ('RINGCENTRAL, INC.', 1), ('SACRED HEART HOME', 1), ('THINKRONIZE, INC. DBA NETTREKKER', 1), ('JJW CHIROPRACTIC WELLNESS CENTER, INC.', 1), ('CURRIER, MCCABE & ASSOCIATES, INC.', 1), ('FILM MASTER CORP.', 1), ('UNIPLUS CONSULTANTS, INC.', 1), ('VALEO SYLVANIA L.L.C.', 1), ('JC DENTAL CENTER P.C. (HIGHLAND DENTAL)', 1), ('GROUP T-Y, LLC', 1), ('ALCHEMEDIA 3D LLC', 1), ('REPUTATION.COM', 1), ('BRANDYWINE COMMUNICATIONS', 1), ('BITKOO, LLC', 1), ('PIONEER DATA SYSTEMS, INC.', 1), ('C2S TECHNOLOGIES, INC.', 1), ('PIADAPLANET INC DBA IL PAIOLO', 1), ('PARTNERS PHYSICIAN GROUP', 1), ('KKR CAPITAL MARKETS', 1), ('CRYSTAL DRUGS', 1), ('TOYOTA INFOTECHNOLOGY CENTER U.S.A., INC.', 1), ('LAWRENCE TECHNOLOGICAL UNIVERSITY', 1), ('UNIVERSITY OF SAN FRANCISCO', 1), ('TROPICS SOFTWARE TECHNOLOGIES, INC.', 1), ('MJK ENTERPRISE OF NY INC.', 1), ('FADEL PARTNERS INC', 1), ('HOSPITALISTS OF ARIZONA, INC.', 1), ('OPTIMUM ENGINEERING SOLUTIONS, INC.', 1), ('VENADO TECHNOLOGIES LLC', 1), ('CREATIVE CARPENTRY OF WESTCHESTER, INC.', 1), ('I3SOLUTIONS', 1), ('SUNWARE ASSOCIATES INC', 1), ('KINSTON PEDIATRIC ASSOCIATES, P.A.', 1), ('DATA INC.', 1), ('MEDISON ECONET CORPORATION', 1), ('NAR B GURUNG & PREM K GURUNG', 1), ('AILIVE INC.', 1), ('IPC HOSPITALIST OF NEW ENGLAND, P.C.', 1), ('ACADEMY OF ARTS', 1), ('HLA ENGINEERS, INC.', 1), ('ABT ASSOCIATES INC', 1), ('TEXAS MOON GROUP, INC.', 1), ('AMERICAN ELECTRIC POWER', 1), ('COMPASS LEXECON, LLC', 1), ('DATA-CORE SYSTEMS, INC', 1), ('SCOTT & WHITE CLINIC', 1), ('ENRICH IT,INC.', 1), ('WYDE CORP', 1), ('WASHINGTON YOUTH FOUNDATION', 1), ('PERSONAL HEALTH LABS, LLC', 1), ('HAMPTON INN AND SUITES', 1), ('RAILINC CORP.', 1), ('PROTEAM L.L.C', 1), ('EDUCATIONAL DEVELOPMENT CENTER OF GEARA GROUP', 1), ('UNIVERSITY OF TENNESSEE AT MARTIN', 1), ('EXCEL LEARNING CENTER', 1), ('SHAH ASSOCIATES, MD, LLC', 1), ('A-TEK, INC.', 1), ('REGENT UNIVERSITY', 1), ('TRISTAR, INC.', 1), ('POMPANO MASONRY CORPORATION', 1), ('CALAMP CORP.', 1), ('INFOSYS INTERNATIONAL INC.', 1), ('TM WIRELESS, INC.', 1), ('OMADA SOLUTIONS INC.', 1), ('BLISS TRADINIG', 1), ('SEAL CONSULTING INC', 1), ('US ARMY DEFENSE LANGUAGE INSTITUTE FOREIGN LA', 1), ('EMCURE PHARMACEUTICALS USA INC.', 1), ('LANDWIN MANAGEMENT', 1), ('FINE VIDEO PRODUCTION, INC.', 1), ('ESOURCE TECHNOLOGY, LLC', 1), ('ALMA FAMILY  SERVICES', 1), ('CASTRO COUNTY HOSPITAL DISTRICT', 1), ('XCEED TECHNOLOGIES, INC.', 1), ('J. JILL', 1), ('SWARKY SOLUTIONS CORPORATION', 1), ('INPATIENT CONSULTANTS OF TENNESSEE, INC.', 1), ('MEDICA HEALTH PLANS', 1), ('VERACITY WORLDWIDE LLC', 1), ('ONSTAR CORPORATION', 1), ('CASHEDGE INC.', 1), ('ROX ENGINEERING, INC.', 1), ('MC GOWAN BUILDERS, INC.', 1), ('V.I.P NAILS & SPA', 1), ('EVONIK DEGUSSA CORPORATION', 1), ('RWSI, INC', 1), ('TECHPEAK CORPORATION', 1), ('INTONE NETWORKS INC', 1), ('NUCOR-YAMATO STEEL COMPANY', 1), ('ARCADIA INC.', 1), ('VIVISIMO, INC', 1), ('ALLEGIANT INTERNATIONAL LLC', 1), ('WINDYCITY TECHNOLOGIES INC.,', 1), ('THOMAS E. STANLEY & SONS, INC.', 1), ('PAYMO, INC.', 1), ('ONCALL INTERACTIVE, LLC', 1), ('MODULEMD LLC', 1), ('IBI GROUP', 1), ('M N R SOLUTIONS INCORPORATED', 1), ('CLARKSDALE HMA PHYSICIAN MANAGEMENT, LLC', 1), ('INFORMATION BUILDERS INC.', 1), ('DOUGLAS COUNTY INDIVIDUAL PRACTICE ASSOCIATION INC', 1), ('TRAVELPORT, LP', 1), ('CD PAINTING, LLC.', 1), ('DASSAULT SYSTEMES ENOVIA  CORP.', 1), ('SPECTRUM LABORATORY PRODUCTS, INC.', 1), ('COMPUTER ASSISTED TESTING SERVICE, INC.', 1), ('CAHILL GORDON & REINDEL LLP', 1), ('HISPANIC COMMUNITY COUNSELING SERVICES', 1), ('SOPHISTICATED SYSTEMS, INC.', 1), ('VISTA APPLIED SOLUTIONS GROUP INC', 1), ('ANTHONY AMALFITANO DBA AMALFITANO BAKERY', 1), ('PRECISION ZONE, INC', 1), ('RED', 1), ('AKZO NOBEL COATINGS INC.', 1), (\"HELLING CHILDREN'S CENTER, L.P.\", 1), ('NEWBANK', 1), ('AGCO CORPORATION', 1), ('FOLEY PLUMBING', 1), ('REVEL ENTERTAINMENT GROUP, LLC', 1), ('MIZUHO SECURITIES USA INC.', 1), ('KEY BUSINESS SOLUTIONS, INC.', 1), (\"DATAMAX-O'NEIL CORPORATION\", 1), ('TK ELECTRIC, LLC', 1), ('NINE MUSES AND APOLLO INC', 1), ('FRANDELI GROUP, LLC', 1), ('GOLDEN CROWN RESTAURANT', 1), ('AGR SUBSEA, INC.', 1), ('MCELROY MANUFACTURING INC', 1), ('KUNDRA & ASSOCIATES', 1), ('SKINNY NYC LLC', 1), ('SIMON DEVELOPMENT AND CONSTRUCTION CORP.', 1), ('MV 1414 FOOD, LLC DBA/PIZZA VILLAGIO CAFE', 1), ('THE BALLARD GROUP, INC.', 1), ('MARIETTA COLLEGE', 1), ('Y&D ELECTRONIC SERVICE', 1), ('NORTHEAST CONSULTING WORKS LLC.', 1), ('SSD PLASTIC, INC', 1), ('HAND HELD PRODUCTS, INC.', 1), ('NEW YORK EQUIPMENT DEALERS INC.', 1), ('CTL CORPORATION', 1), ('P&C INSURANCE SYSTEMS, INC', 1), ('PLATINUM CARE ALLIANCE GROUP INC.', 1), ('WARNER MUSIC GROUP CORP', 1), ('KGL AMERICA, INC', 1), ('NEWCOM TECHNOLOGIES, INC.', 1), ('UNITED MEDICAL HUMAN GROUP, INC.', 1), ('ROCK ENTERPRISES', 1), ('GOEPEL ELECTRONICS LLC', 1), ('IRON FABRICATION SERVICES, INC.', 1), ('MELLON CAPITAL MANAGEMENT CORP', 1), ('BOONSLICK REGIONAL PLANNING COMMISSION', 1), ('RG JUAREZ MD PC', 1), ('WA', 1), ('TIDES, INC.', 1), ('HARRY C. LIN, CPA, A PROFESSIONAL CORPORATION', 1), ('GRACE BAPTIST CHURCH OF MIDWEST', 1), ('WESTERN ILLINOIS UNIVERSITY', 1), ('ALSTON & BIRD LLP', 1), ('SPARTON CORPORATION', 1), ('SIMPLAIN SOFTWARE SOLUTIONS LLC', 1), ('ARTSOLUTE MEDIA GROUP', 1), ('KOLON FASHION MATERIAL,INC', 1), ('PERDIKARIS CONSTANTINE DEVELOPERS INC.', 1), ('LEE & ADVOCATES', 1), ('AIRLINE TARIFF PUBLISHING COMPANY', 1), ('NEIL P. DE LEON D.B.A. GLOBAL CONSTRUCTION', 1), ('SAMARITAN MEDICAL CENTER', 1), ('GENIUS BUSINESS SOLUTIONS, INC.', 1), ('LANCASTER FARMS', 1), ('FULL POT INTERNATIONAL CORP.', 1), ('PHOENIX LIFE INSURANCE COMPANY', 1), ('SCHOOL DISTRICT OF THE CITY OF DETROIT', 1), ('SIGHT AND SOUND SYSTEMS, INC.', 1), ('NATIONAL ECONOMIC RESEARCH ASSOCIATES, INC.', 1), ('CLARIENT DIAGNOSTIC SERVICES, INC.', 1), ('ASSETPLUS INVESTMENT MANAGEMENT CORP', 1), ('BIG ROCK USA, INC.', 1), ('PRO SPECIALTIES GROUP, INC.', 1), ('EUROMONITOR INTERNATIONAL INC.', 1), ('FAMILY ORTHOPEDIC ASSOCIATES', 1), ('JACKSONVILLE STATE UNIVERSITY', 1), ('S & S ACCOUNTING SERVICES,  INC.', 1), ('EDISON MISSION ENERGY', 1), ('THE OHIO NEUROSURGICAL INSTITUTE, INC.', 1), ('CENTRAL MONTESSORI SCHOOLS', 1), ('XENOS FASHION, INC', 1), ('JAMES R HOPPE MD LLC', 1), ('FOX CABLE NETWORK SERVICES, LLC', 1), ('SECURE NURSING SERVICE, INC.', 1), ('ITALEE OPTICS, INC.', 1), ('SANKOSHA USA, INC.', 1), ('TECHNESIS, INC.', 1), ('BAY AREA FACILITIES, INC.', 1), ('JAY CARE MEDICAL CENTER', 1), ('ALLIANCE MISSIONARY CHURCH', 1), ('ASSISTING SENIOR SERVICES LLC', 1), ('AZERBAIJAN GRILL INC', 1), ('SNP ASSOCIATES, INC DBA MAVERICK ENGINEERING', 1), ('VALLEY COUNTY HEALTH SYSTEM', 1), ('LIFE TIME FITNESS, INC.', 1), ('KIRIN PACKAGING, INC.', 1), ('E. & J. GALLO WINERY', 1), ('DHARA I CORPORATION', 1), ('PACIFIC PULMONARY SERVICES', 1), ('SUNRAY ENTERPRISE INC.', 1), ('BELGIUM DIAMOND INC', 1), ('SERUS CORPORATION', 1), ('PREMIER RESEARCH GROUP LIMITED', 1), ('ADVANCED NUMERICAL SOLUTIONS, LLC', 1), ('KATIE K, INC.', 1), ('BAIKSAN OPC, INC.', 1), ('STANDEX INTERNATIONAL CORP', 1), ('ROLLING HILLS COUNTRY CLUB', 1), ('SOON ENTERPRISES, INC. DBA WINTERSVILLAGE CLEANERS', 1), ('WEST LIBERTY UNIVERSITY', 1), ('SAVIYNT, LLC', 1), ('VARIAN SEMICONDUCTOR EQUIPMENT ASSOC., INC.', 1), ('PREMIER FOOD & OILS COMPANY', 1), ('ROCCAFIORITA CORP', 1), ('HENNINGSON, DURHAM & RICHARDSON P.C.', 1), ('KELSEY NATIONAL CORPORATION', 1), ('POSEIDON SEAFOOD CORPORATION', 1), ('WINDOWS CHANNEL INC', 1), ('LIQUIDHUB INC.', 1), ('NEW CREW PRODUCTION CORP', 1), ('LITTLE BROOK DAIRY, INC.', 1), ('FOUR VENTURES ENTERPRISES, INC.', 1), ('PET HOSPITAL VETERINARY CORPORATION', 1), ('DALER ROWNEY USA LTD.', 1), ('LION COPOLYMER, LLC', 1), ('BURTON ISD', 1), ('WEISS MULTI-STRATEGY ADVISERS LLC', 1), ('COMPUPLUS INTERNATIONAL INC', 1), ('VIACOM, INC.', 1), ('NEW MEXICO INSTITUTE OF MINING AND TECHNOLOGY', 1), ('EBENEZER MISSION CHURCH', 1), ('DOCTORS ANESTHESIA ASSOCIATES', 1), ('TRAVELCLICK', 1), ('CODY PRINTING CORP.', 1), (\"MARY'S CENTER FOR MATERNAL & CHILD CARE, INC\", 1), ('INTEGRATED COMMUNICATIONS & TECHNOLOGIES, INC.', 1), ('HEALTHCARE PLUS CAREGIVERS CORPORATION', 1), ('V-SOLVE, INC.', 1), ('TECHNICOLOR USA, INC.', 1), ('WVVA HEALTH CARE ALLIANCE, PC', 1), ('AMERICAN PRINTING HOUSE FOR THE BLIND', 1), ('RESTAURANT KOSHIJI', 1), ('OHI RESORT HOTELS LLC', 1), ('BEHLEN MFG. CO.', 1), ('FLOATEC, LLC DBA FLOATEC SOLUTIONS, LLC', 1), ('PALO VERDE UNIFIED SCHOOL DISTRICT', 1), ('LULANI CORP DBA IL MULINO RISTORANTE', 1), ('RICH PRODUCTS CORPORATION', 1), ('SHANNON MARK MESSER', 1), ('ACAPULCO MOTORS', 1), ('SOPEXA/FOOD & WINES FROM FRANCE, INC', 1), ('GATCO TREATMENT SYSTEMS, LP', 1), ('ANCHEN PHARMACEUTICALS', 1), ('SAINT-GOBAIN ABRASIVES, INC.', 1), ('EDIFY TECHNOLOGIES, INC.', 1), ('GREENWOOD PHYSICAL THERAPY & ACUPUNCTURE', 1), ('HOWARD UNIVERSITY', 1), ('TOWNSQUARE MANAGEMENT LLC', 1), ('LOUIS GLICK DIAMOND CORP', 1), ('DAXKO, LLC', 1), ('D. REIS FURNITURE', 1), ('MTI CALIFORNIA, INC.', 1), ('UTI, UNITED STATES, INC.', 1), ('SOUTHWEST MINNESOTA STATE UNIVERSITY', 1), ('SUNNYVALE BONNIE LANE CARE HOME', 1), ('DOUGHERTY & COMPANY LLC', 1), ('VENDEE & VENDOR CORP.', 1), ('SUNGARD AMBIT LLC', 1), ('TIMESLICE TECHNOLOGY, INC.', 1), ('GEORGE MASON UNIVERSITY', 1), ('NOVA CONSULTING, INC.', 1), ('F & P AMERICA MFG., INC.', 1), ('JUSTANSWER LLC', 1), ('CLS GROUP INC.', 1), ('PAMTEN, INC.', 1), ('HUDSON AMERICAS LLC', 1), ('WHITE WATER CONSULTING, LLC', 1), ('JK INTERNAL MEDICINE & GERIATRICS PC', 1), ('NOVA STAR RECYCLING LLC', 1), ('NAVISITE INC', 1), (\"NHD TOMS RIVER,LLC DBA NATHAN'S FAMOUS,INC\", 1), ('TARMAC AMERICA LLC', 1), ('GUN HILL CHILD CARE LLC', 1), ('CORILLIAN CORPORATION', 1), ('AMKO SOFTWARE SOLUTIONS INC', 1), ('WILLBROS ENGINEERS (U.S.), LLC', 1), ('FALCON ENGINEERING, INC.', 1), ('TRUCKXL, INC', 1), ('KONZA MANUFACTURING COMPANY LIMITED LLC', 1), ('STATISTICS & CONTROL, INC.', 1), ('VITESSE SEMICONDUCTOR CORPORATION', 1), ('GLOVIS GEORGIA, LLC', 1), ('HAIDER ENGINEERING, P.C.', 1), ('WISEMAN DAWOODY', 1), ('SOFTWARE ENGINEERING SERVICES', 1), ('BAANYAN SOFTWARE SERVICES, INC.', 1), ('BALTIMORE WASHINGTON MEDICAL CENTER, INC.', 1), ('JOHN J. CHOI DDS, INC.', 1), ('DYARAN AND SANDILA, INC. DBA 3SOFT USA', 1), ('TRELLEBORG OFFSHORE US, INC.', 1), ('DAIWA SECURITIES AMERICA INC.', 1), ('ZEMER INTERNATIONAL LLC', 1), ('NMB TECHNOLOGIES CORPORATION', 1), ('COMMUNITY DENTAL', 1), ('SUNAMERICA ANNUITY AND LIFE ASSURANCE COMPANY', 1), ('SUD-CHEMIE INC.', 1), ('GETRAG CORPORATION', 1), ('PRIMEX FARMS LLC', 1), ('LEADER DIGITAL TECHNOLOGY,INC.', 1), ('FIDELITY NATIONAL MANAGEMENT SERVICES LLC', 1), ('ASHA ENTERPRISES LLC.', 1), (\"ANGELINA'S RESTAURANT\", 1), ('CORNERSTONE RESEARCH, INC.', 1), ('SHAWKY, INC (DBA : MISSION ANIMAL HOSPITAL)', 1), ('BELLAMSOFT INC', 1), ('SRI SERVICES INC', 1), ('YASMEENA CORPORATION DBA PALACE OF ASIA', 1), ('PSM SHELL INC. D/B/A SHELL STATION', 1), ('YUANDA USA CORPORATION', 1), ('MIDWEST INFECTIOUS DISEASE, PLLC', 1), ('FORT MANAGEMENT INC.', 1), ('UNIVERSITY OF MARY WASHINGTON', 1), (\"THE QUEEN'S MEDICAL CENTER\", 1), ('CAPSTONE VALUATION SERVICES, LLC', 1), ('MOUNTAIN KIDNEY & HYPERTENSION ASSOC. P.A.', 1), ('MARIETTA RUBIN', 1), ('AMERICAN UNIT INC', 1), ('PINE TREE GOLF CLUB INC.', 1), ('VASCOR LTD.', 1), ('TRIUMPH PROPERTY MANAGEMENT CORP.', 1), ('SAINT LUCIE COUNTY SCHOOL BOARD', 1), ('EARTH MECHANICS, INC.', 1), ('POWERWAVE TECHNOLOGIES, INC.', 1), ('JANBAR INC', 1), ('ZAZZLE INC.', 1), ('ANNAPURNI TROUTH', 1), ('QAD INC.', 1), ('NYSE TECHNOLOGIES, INC', 1), (\"MEN'S WEARHOUSE, INC.\", 1), ('RIGHTSCALE, INC.', 1), ('NSF INTERNATIONAL', 1), (\"ESTRADA'S MEXICAN FOOD\", 1), ('MARKETTOOLS, INC.', 1), ('AMERIFORGE GROUP INC', 1), ('CHARACTER', 1), ('KYOCHARO USA LLC', 1), ('NETSCOUT SYSTEMS INC.', 1), ('DATACORE SOFTWARE CORP.', 1), ('TIMEZONEONE', 1), ('CONSUMERS UNION OF UNITED STATES INC.', 1), ('MEDICAL IMAGING SOLUTIONS GROUP', 1), ('NOVO NORDISK INC.', 1), ('CRESCENT CAPITAL GROUP LP', 1), ('TRIUM CORPORATION', 1), ('SUFIANMUNIR INC', 1), ('S&P STEEL PRODUCTS AND SERVICES INC.', 1), ('LR REFRIGERATION , LLC', 1), ('CHC CONSULTING, LLC', 1), ('MKSP, LLC', 1), ('ACN COMMUNICATIONS SERVICES, INC.', 1), ('HYDE COUNTY BOARD OF EDUCATION', 1), (\"CHILDREN'S LEARNING CENTER\", 1), ('OASYS DESIGN SYSTEMS, INC.', 1), ('DOWNTOWN BRONX MEDICAL ASSOCIATES, P.C.', 1), ('NIKSU, INC.', 1), ('GIRO PACK INC.', 1), ('SHANNON STUDER', 1), ('K&L CONSULTING SERVICES, INC.', 1), ('WATERSIDE CONSTRUCTION, LLC', 1), ('DEARBORN GENERATION OPERATING, LLC', 1), ('KOMMERLING USA, INC.', 1), ('SONY MUSIC HOLDINGS INC', 1), ('COMPUCOM SYSTEMS INC', 1), ('NEWELL CHIROPRACTIC INC DBA DISCOVER CHIROPRACTIC', 1), ('IMPERIAL SUGAR COMPANY', 1), ('LM RESTAURANTS, INC.', 1), ('NITEO PARTNERS INC.', 1), ('FRAMINGHAM STATE UNIVERSITY', 1), ('KEY ENERGY SERVICES, INC.', 1), ('BIT360, INC.', 1), ('40 46 MAIN STREET REALTY CORP.', 1), ('ENCLOS CORP', 1), ('DELL SERVICES ENGINEERING SOLUTIONS CORP', 1), ('CARLSON MARKETING WORLDWIDE, INC.', 1), ('BLUE WATER CAPITAL ADVISORS, LLC', 1), ('UPMC COMMUNITY MEDICINE INC.', 1), ('PACIFIC ETHANOL', 1), ('FEDERATION OF SOUTHERN COOPERATIVES/LAND ASSISTANC', 1), ('BERT SMITH & CO.', 1), ('LIVETV, LLC', 1), ('MAIN STREET MEDICAL, P.A.', 1), ('TEREX CORPORATION', 1), ('YOUNG & RUBICAM NEW YORK', 1), ('HOME-KIM/HK WINDOWS, INC.', 1), ('HERBERT J. TAN, LLC', 1), ('LANE COLLEGE', 1), ('MARSHALL INDEPENDENT SCHOOL DISTRICT', 1), ('MILBER MAKRIS PLOUSADIS & SEIDEN, LLP', 1), ('RISKVAL FINANCIAL SOLUTIONS LLC', 1), ('STP INVESTMENT SERVICES INC.', 1), ('SHUMET INC, DBA KEANSBURG PHARMACY', 1), ('M J CONCRETE', 1), ('ITT CLEVELAND MOTION CONTROLS', 1), ('STARLIGHT MAGNEX CORPORATION, DBA KUSHI SHABU', 1), ('ENTERPRISE HOLDINGS, INC.', 1), ('BROSNA COMMUNICATIONS INTERNATIONAL INC', 1), ('LIZ CLAIBORNE, INC.', 1), ('SIDLEY AUSTIN LLP', 1), ('THE MIDLAND COMPANY', 1), ('KCP INC.', 1), ('MERCER COUNTY HOSPITAL', 1), ('JOHNSON CONROLS -SAFT ADVANCED POWER SOLUTIONS LLC', 1), ('FLOWSERVE U.S. INC.', 1), ('WESTERN WASHINGTON UNIVERSITY', 1), ('MOMOYA JAPANESE RESTAURANT, INC.', 1), ('UNIFIED SYSTEMS, INC.', 1), ('ADVANCEDEMEDIA, INC.', 1), ('HORIZONSOFTSOLUTIONS, INC', 1), ('THERAPIST NETWORK, INC.', 1), ('USFI', 1), ('AMERICAN HEALTHCARE PRODUCTS INC', 1), ('RSM ELECTRON POWER, INC.', 1), ('BAPTIST MEMORIAL MEDICAL GROUP, INC.', 1), ('SEQUENOM, INC.', 1), ('LAHEY CLINIC', 1), ('MSKYNET INC.', 1), ('SUMMERHILL LANDSCAPES INC.', 1), ('ACCUSTANDARD, INC.', 1), ('DOO TAEK LIM', 1), ('HI-LEX CONTROLS, INC.', 1), ('MOTION PICTURE INDUSTRY PENSION & HEALTH PLANS', 1), ('AETEA INFORMATION TECHNOLOGY, INC.', 1), ('FARSOUNDER, INC.', 1), ('INTERNATIONAL STUDENT EXCHANGE, INC.', 1), ('WRANGELL MEDICAL CENTER', 1), ('NUMERICA CORPORATION', 1), ('COLLEGE OF WOOSTER', 1), ('GYRUS ACMI, INC.', 1), (\"EUNJIN INT'L BIO-TECHNOLOGY USA CO.,INC.\", 1), ('SANPULSE TECHNOLOGIES', 1), ('GYRODATA, INC.', 1), ('OCEAN LAND TRUST LTD', 1), ('DERSE, INC.', 1), ('MOLECULAR EPIDEMIOLOGY INCORPORATED', 1), ('INTERVOICE, INC.', 1), ('HRSMART INC.', 1), ('SPRINGFIELD CLINIC, LLP', 1), ('VOICE OF WITNESS', 1), ('CYGATE SOFTWARE & CONSULTING', 1), ('BARSAN INTERNATIONAL, INC.', 1), ('VCA ANTECH INC.', 1), ('HOME STYLE DESSERTS, INC., D/B/A HOMESTYLE DESSERTS BAKERY', 1), ('TRIBORO CARE PT PC', 1), ('SPECTRUM HEALTH MEDICAL GROUP', 1), ('DEL LAMBLEY', 1), ('GM MEDICAL OFFICE, INC.', 1), ('MF GLOBAL HOLDINGS USA INC.', 1), ('TESORO COMPANIES, INC.', 1), ('PSI SYSTEMS, INC.', 1), ('EMP MEDICAL GROUP, LTD.', 1), ('THE MEDTECH GROUP', 1), ('GOEL & ANDERSON, LLC', 1), ('NSB PARTNERS, LLC', 1), ('HURON CONSULTING SERVICES LLC', 1), ('STORMONT-VAIL HEALTHCARE', 1), ('DIANE BURKE', 1), ('YASUDA ENTERPRISE DEVELOPMENT AMERICA INC.', 1), ('RAJAN MAHIMA ASSOCIATES, INC.', 1), ('NEW K.S.A.I.,INC.', 1), ('MAVRICK SOFTWARE AND TELECOM SERVICES, INC.', 1), ('CANCER CARE SPECIALISTS OF CENTRAL ILLINOIS, SC', 1), ('THE WESTIN WALTHAM - BOSTON', 1), ('DAT HONG LU', 1), ('COLLEGE OF IDAHO', 1), ('STRUCTURAL ENGINEERING ASSOCIATES, INC.', 1), ('BIZMATICS, INC.', 1), ('LOTUS SCHOOL FOR EXCELLENCE', 1), ('WEB4, INC.', 1), ('MARSHALL COUNTY HOSPITAL', 1), ('GORDON FOOD SERVICE, LLC', 1), ('MUMBO, INC', 1), ('BULLSEYE TELECOM, INC.', 1), ('BIO-PHARM INC', 1), ('HITEC INFORMATION & TECHNOLOGIES, INC', 1), ('ZGAGE INC.', 1), ('BAYSTATE MEDICAL PRACTICES, INC.', 1), ('TLC OF THE BAY AREA, INC.', 1), ('NAKIDNEYCAREHYPERTENSSIONCENTERPC', 1), ('CALIFORNIA BOWL, INC.', 1), ('BENTELER AUTOMOTIVE', 1), ('OKLAHOMA SCHOOL OF SCIENCE AND MATHEMATICS', 1), ('ENVIREX PEST CONTROL & PROTECTION INC.', 1), ('SOUTH TEXAS REHABILITATION HOSPITAL', 1), ('CIT GROUP (NJ) LLC', 1), ('PITZER COLLEGE', 1), ('BOBST GROUP NORTH AMERICA', 1), ('HAAS AUTOMATION, INC.', 1), ('COMPUTER MANPOWER USA INC.', 1), ('VIRGIN AMERICA', 1), ('CROWN VISION TECHNOLOGY GROUP INC', 1), ('CAME AMERICAS AUTOMATION, LLC', 1), ('JOHN C. KEY DBA KEY ANIMAL CLINIC', 1), ('NEW CENTURY EMERGENCY PHYSICIANS OF WEST VIRGINIA,', 1), ('SPOT TRADING, LLC', 1), ('WOW GLOBAL CORPORATION, LLC(FORMALLY WOMEN OF THE WORLD CORPORATION, LLC)', 1), ('MOUNTAIN MOBILITY GROUP', 1), ('SYBASE, INC.', 1), ('PRADIP S. SHAH, M.D.', 1), ('OORI TRADING INC.', 1), ('MICHELS CORPORATION', 1), ('CONTEMPORARY CONTROL SYSTEMS, INC.', 1), ('AMERICAN INFOSYS,INC', 1), ('TETRIS ONLINE, INC.', 1), ('AIRCELL LLC', 1), ('CARE.COM, INC.', 1), ('W 59 OPERATING, LLC', 1), ('ATLAS DATA SYSTEMS', 1), ('RESEARCH SYSTEMS, INC DBA ITT VIS', 1), ('PANAMERICAN CAPITAL PARTNERS LLC', 1), ('EXXCEL GYMNASTICS AND CLIMBING CENTER, LLC', 1), ('M/A-COM TECHNOLOGY SOLUTIONS, INC.', 1), ('R & N MIDDLETON RESIDENTIAL CARE HOME', 1), ('THE PRINCIPAL CONSULTING INC.', 1), ('DR. ROBBIN USA, INC.', 1), ('ALABAMA A&M UNIVERSITY', 1), ('HAKS', 1), ('NORTHWOOD UNIVERSITY', 1), ('BELLTRADE, INC', 1), ('KONICA MINOLTA LABORATORY USA INC', 1), ('MACYS.COM, INC', 1), ('QUEENS CHILD GUIDANCE CENTER, INC.', 1), ('VIM, INC. DBA LIFE HOME CARE', 1), ('HARRY PEPPER & ASSOCIATES', 1), ('THE MIAMI-BROWARD CORPORATION', 1), ('DELTA SYSTEMS ENGINEERING INC.', 1), ('AURA ENTERPRISES,INC', 1), ('RITE PROS, INC', 1), ('INSIGHT PHYSICIANS, P.C.', 1), ('IXIA', 1), ('SALIENT ASSOCIATES, L.L.C.', 1), ('CAFE TIRAMISU LLC', 1), ('VINE HILL HARDWARE INC.', 1), ('AMADEUS NORTH AMERICA, INC.', 1), ('CPA2BIZ, INC', 1), ('FORMSOLUTIONS, INC.', 1), ('SCHENKER, INC.', 1), ('GUNJAN CUTTING EDGE SOLUTIONS, INC', 1), ('LG&P IN-STORE AGENCY', 1), ('UNIVERSITY OF MEDICINE & DENTISTRY OF NEW JERSEY', 1), ('UGENIUS TECHNOLOGY LLC', 1), ('INDSOFT,INC', 1), ('MRV COMMUNICATIONS, INC.', 1), ('TAAG INDUSTRIES CORP', 1), ('INTERNET BRANDS, INC.', 1), ('HARDINGE INC.', 1), ('MIAS FASHION MFG. CO., INC.', 1), ('VERIGY US INC.', 1), ('FAMILY MEDICAL CARE', 1), ('AAJ COMPUTER SERVICES, INC.', 1), ('URBAN AMERICAN MANAGEMENT, LLC', 1), ('RISA MANAGEMENT CORP', 1), ('JMJ HOSPITALITY', 1), ('CONVENTUAL FRANCISCANS OF ST BONAVENTURE PROVINCE', 1), ('LEAPERS, INC.', 1), ('US DATAWORKS', 1), ('38 STUDIOS, LLC', 1), ('STRATEGIC SOLUTIONS GROUP LLC', 1), ('ALEX MOVING & STORAGE DBA URIBE TRUCKING', 1), ('ADMORE AIRCONDITIONING CORP', 1), ('KENNY CONSTRUCTION COMPANY', 1), ('PLANET POWERSPORTS CORP.', 1), ('NATIONAL PUBLIC RADIO INC', 1), ('UNIVERSITY OF SAN DIEGO', 1), ('IST RMA INVESTMENT CORP', 1), ('SOUTHERN CALIFORNIA ASSOCIATION OF GOVERNMENTS', 1), ('MEMORIAL HOSPITAL-FLAGLER, INC.', 1), ('MEDIACOM WORLDWIDE INC.', 1), ('A&J CONSULTING ENGINEERING SERVICES, P.C.', 1), ('SIERRA PACKAGING & CONVERTING, LLC', 1), ('PAO DE MEL BAKERY, LLC', 1), ('TOYOTA INFOTECHNOLOGY CENTER USA, INC.', 1), ('MARTINSVILLE PHYSICIAN PRACTICES LLC', 1), ('SAADE INC', 1), ('AMJAD RASS M.D., INC.', 1), ('RAMSOFT SYSTEMS, INC.', 1), ('PROMOTECH RESEARCH ASSOCIATES, INC', 1), ('LOS ANGELES SEH IL PRESBYTERIAN CHURCH', 1), ('FLOYD VALLEY HOSPITAL', 1), ('EQUIFAX', 1), ('STONE INSTILE LLC', 1), ('RESOURCES IN, INC.', 1), ('TRI-COUNTY REGIONAL PLANNING COMMISSION', 1), ('KOA INTERNATIONAL INC.', 1), ('M2S, INC', 1), ('SUNRISE TELECOM INCORPORATED', 1), ('CLINPHARMA CLINICAL RESEARCH LLC', 1), ('BEAUTYWOMAN ACUPUNCTURE CLINIC, INC.', 1), ('UNBOUNDED SOLUTIONS, INC.', 1), ('IMPLEMENTATION TECHNOLOGIES CONSULTING, INC.', 1), ('AMERICAN COUNCIL FOR AN ENERGY-EFFICIENT ECONOMY', 1), ('CITCO FUND SERVICES (USA) INC.', 1), ('COMMUNITY BIBLE EVANGELICAL FREE CHURCH', 1), ('NAVISTAR, INC', 1), ('HARRISBURG ENTERPRISES, INC.', 1), ('FORSYTH MEMORIAL HOSPTIAL', 1), ('SNAPRETAIL LLC', 1), ('SELLEN CONSTRUCTION COMPANY, INC.', 1), ('VALEESOFT', 1), ('UNIVERSITY OF TEXAS AT SAN ANTONIO', 1), ('ELEVATIONS INC.', 1), ('PRIME CARE NEVADA, INC. DBA NYE REGIONAL MEDICAL C', 1), ('MEXICORP,LLC', 1), ('LIVINGSTON SLONE, INC.', 1), ('ELMO USA CORP.', 1), ('WMH SUSTAINABILITY CONSULTANTS LLC', 1), ('VAISALA', 1), ('VIKING METALLURGICAL CORP', 1), ('SEVERUD ASSOCIATES CONSULTING ENGINEERS PC', 1), (\"25 SOUTH PEARL LLC D/B/A RJ'S DOG HOUSE & CUSTARD\", 1), ('EQUANT INC.', 1), ('MODERN CLASSIC FINISHES, LLC', 1), ('PEPPERIDGE FARM', 1), ('STATE OF ARIZONA - ARIZONA SUPREME COURT', 1), ('EAGLE ASSET MANAGEMENT', 1), ('MERRIFIELD GARDEN CENTER', 1), ('TRADEWEB MARKETS LLC', 1), ('ASSOCIATES SYSTEMS, LLC', 1), ('WORLD CLASS TAE KWON DO, INC.', 1), ('ZESTRON CORPORATION', 1), ('SOUTHWESTERN UNIVERSITY', 1), ('TOTAL TENNIS AND FITNESS LLC', 1), ('MARUFA AHMED', 1), ('SPICA COMPUTERS, LLC', 1), ('SRS SYSTEMS, LLC', 1), ('SHERWOOD FINE LTD', 1), ('J G TREE CORP. D/B/A PERFECT CUT TREE SERVICE INC.', 1), ('WHR ARCHITECTS, INC.', 1), ('BRITISH SCHOOLS OF AMERICA', 1), ('SMITH & BURGESS LLC', 1), ('TEXAS TECH UNIVERSITY', 1), ('HYDROGENICS USA, INC.', 1), ('SEMTECH CORPORATION', 1), ('SL AMERICA CORPORATION', 1), ('INFORMA SUPPORT SERVICES, INC.', 1), ('BRUGGEMANNCHEMICAL U.S., INC.', 1), ('AB MAURI FOOD INC.', 1), ('A&M BRONX BAKING INC', 1), ('CAMBRIDGE SYSTEMATICS, INC.', 1), ('STEER DAVIES GLEAVE', 1), ('INFINITE SOLUTIONS, INC,', 1), ('ANGL, INC.', 1), ('HSM AMERICAS, INC.', 1), ('PRUDENT TECHNOLOGIES AND CONSULTING INC.', 1), ('TOBAR CONSTRUCTION, INC.', 1), ('DAMAN, INCORPORATED', 1), ('ABSOLUTE REHAB SERVICES, LLC', 1), ('QUARK PHARMACEUTICALS', 1), ('IP ACCESS INC.', 1), ('5 POINTS ELECTRICAL COMPANY, INC.', 1), ('NEW YORK JOO-SHINE CHURCH OF THE PRESBYTERIAN', 1), ('INFOSYS CONSULTING INC.', 1), ('OPENCROWD, INC.', 1), ('STAYMAN ESTATES, LLC', 1), (\"EPISCOPAL HEALTH SERVICES DBA ST JOHN'S EPISCOPAL\", 1), ('SOUTH CHINA RESTAURANT, INC.', 1), ('WATKINS PLUMBING & PIPING', 1), ('ROBERT MORRIS UNIVERSITY', 1), ('IPG GIS US, INC', 1), ('NORDSTROM, INC', 1), ('WASHBURN UNIVERSITY', 1), ('ADVANCED DRAINAGE SYSETMS, INC.', 1), ('BRAUN INTERTEC CORPORATION', 1), ('ACE CERAMIC STUDIO, INC.', 1), ('CREDIGY SOLUTIONS INC.', 1), ('BG NORTH AMERICA, LLC', 1), ('KIEWIT POWER ENGINEERS, CO.', 1), ('TOUCHSENSOR TECHNOLOGIES, LLC', 1), ('QUANTUM INTEGRATORS GROUP, LLC', 1), ('SEVERSTAL COLUMBUS', 1), ('ARVATO SYSTEMS NA,INC.', 1), ('THE NEW YORK TIMES COMPANY', 1), ('SATYAM VENTURE ENGINEERING SERVICES', 1), ('ALAN P. MOELLEKEN, MD., INC', 1), ('ALPHA PHOTOGRAPHY, INC.DBA CATCH THE MOMENT', 1), ('THG, THE HOSPITALIST GROUP, LP', 1), ('GENIE CONSTRUCTION, INC', 1), ('ALTIERRE CORPORATION', 1), ('PORT PLUMBING-HEATING', 1), ('SATAKE USA INC.', 1), ('GLOBAL WORKS GROUP LLC', 1), ('DONG SHIN PRESBYTERIAN CHURCH OF SO. CA', 1), ('BIOMET INC.', 1), ('PRECISION CASTINGS INC', 1), ('GLOBAL AUTOMATION PARTNERS, INC.', 1), ('SPROUTLOUD MEDIA NETWORKS, LLC', 1), ('COLUMBUS BASEBALL TEAM, INC. DBA COLUMBUS CLIPPERS', 1), ('CRYSTAL MONGKEY,INC', 1), ('BLUE CROSS AND BLUE SHIELD OF MASSACHUSETTS, INC.', 1), ('RADIO KOREA USA, INC.', 1), ('RED OAK NURSERY', 1), ('GENSECURE INC.', 1), ('KANTI H SHAH MDPC', 1), ('NASARY MANAGEMENT CORP.', 1), ('IT OBJECTS LLC', 1), ('DELIA ELIAS', 1), ('COMMERCIAL MICROWAVE TECHNOLOGY, INC', 1), ('HOMECARE 1', 1), ('BARD COLLEGE', 1), ('BIMBA MANUFACTURING COMPANY', 1), ('SREE INFOTECH LLC', 1), ('MONICA INSURANCE AGENCY', 1), ('SPLUNK', 1), ('GASTROENTEROLOGISTS, PC', 1), ('VB PHARMACY INC', 1), ('AUTOLINE INDUSTRIES INDIANA, LLC', 1), ('RAMKABIR PHARMACY LLC  DBA  EXPRESSPHARMACY', 1), ('UNITED STRUCTURAL WORKS, INC.', 1), ('ZUMBOX INC', 1), ('LINGTECH CORPORATION', 1), ('3 CCL, LLC', 1), ('NORTHGATEARINSO', 1), ('W. R. GRACE & CO.', 1), ('J.W. SCOTT FARM', 1), ('HARTE-HANKS', 1), ('PEACOCK APPAREL GROUP, INC', 1), ('BAPTIST HEALTH CENTERS, INC', 1), ('HOSPITAL SPECIALISTS, P.A.', 1), ('MERCY HEALTH CENTER', 1), ('AUSTIMPACTORS LLC', 1), ('CALLCOMM TECHNOLOGIES, INC', 1), ('JANSSEN ALZHEIMER IMMUNOTHERAPY R&D, LLC', 1), ('WAVSYS LLC', 1), ('DATABASE INTERNATIONAL GROUP,INC', 1), ('TECHNILEAD INC.', 1), ('INPATIENT PHYSICIAN ASSOCIATES', 1), ('MEDWRITE, INC', 1), ('GULF BUILDING CORP.', 1), ('CHART ENERGY & CHEMICALS, INC.', 1), ('FORT PAYNE CLINIC CORPORATION', 1), ('AMPET, INC.', 1), ('ARIES HEATING AND COOLING CORPORATION', 1), ('JOHN S CHO MD, PC', 1), ('WAHLQUIST & COMPANY, CPAS', 1), ('LOVE CULTURE', 1), ('CAPGEMINI US LLC', 1), ('GRAFTECH INTERNATIONAL HOLDINGS INC.', 1), ('EBIX, INC.', 1), ('POINT ROLL INC.', 1), ('ASIAN COMMUNITY DEVELOPMENT CORPORATION', 1), ('I4DM', 1), ('INCITE REHAB, LLC', 1), ('FRIENDLY CONSULTANTS, INC.', 1), ('E.R. COPPER ROOF SPECIALIST', 1), ('ENVIRONMENTAL RESOURCES MANAGEMENT SOUTHWEST, INC.', 1), ('SK GRAPHICS,INC.', 1), ('ARPOM, INC.', 1), ('DATA PIONEER INC', 1), ('DESERT PALACE, INC.', 1), ('FEDERAL RESERVE BANK OF DALLAS', 1), ('VIRTUAL, INC', 1), ('BOSCHEN DESIGN, ARCHITECTURE', 1), ('GX TECHNOLOGY CORPORATION', 1), ('AVACO TEXTILES INC.', 1), ('LASROCK MEDIA, LLC DBA ACTIVE MEDIA', 1), ('DALLAS INTERNATIONAL SCHOOL', 1), ('COUNCIL FOR EDUCATIONAL TRAVEL USA', 1), ('1040 RAPID TAX AND ESTATE PLANNING', 1), ('AUSBERTO B TAGUINOD DVM INC', 1), ('MIDWEST EMERGENCY DEPARTMENT SERVICES, INC.', 1), ('GREAT RIVER HEALTH SYSTEMS', 1), ('AMERICAN FAMILY MUTUAL INSURANCE COMPANY', 1), ('GS EXECUTION & CLEARING, L.P.', 1), ('FTI CONSULTING, INC.', 1), ('APOLLO ADULT DAY PROGRAM, INC.', 1), ('CARE FIRST ANIMAL HOSPITAL AT GLENWOOD', 1), ('GOKEN AMERICA, LLC', 1), ('OAKLAND PHARMACY RX LLC', 1), ('MIGUEL E. MEGO, D.D.S., M.S., P.A.', 1), ('FAIRYLAND NURSERY SCHOOL', 1), ('L & L HARVEST INC., T/A WOODBINE CHINESE CUISINE', 1), ('KIM CHIROPRACTIC & REHAB CENTER - BLUE BELL', 1), ('SUNGARD HIGHER EDUCATION', 1), ('SYMBIOSYS INC.', 1), ('BI LO INTERNATIONAL, INC.', 1), ('BLUEPEARL NASHVILLE LLC', 1), ('MODCLOTH, INC.', 1), ('KAYA TAX & BOOKKEEPING SERVICES, INC', 1), ('LUMEDX CORPORATION', 1), ('SENSATO INVESTORS LLC', 1), ('MQR TECHNOLOGIES LLC', 1), ('METROPOLIS WINE MERCHANTS, INC.', 1), ('ANYDATA CORPORATION', 1), ('ICCV', 1), ('THE BANK OF NEW YORK MELLON', 1), ('BRANDVERITY, INC.', 1), ('MD INDUSTRIAL, INC', 1), ('WOLTERS KLUWER FINANCIAL SERVICES, INC.', 1), ('R & S SIDING, INC.', 1), ('DRAGON YONG-IN MARTIAL ARTS LEESBURG, INC.', 1), ('GLOW NETWORKS INC.', 1), ('HORIZON COMPUTER SERVICES INC', 1), ('MANITOWOC CRANE LLC', 1), ('NAN YA PLASTICS CORPORATION, AMERICA', 1), ('FUSION SOLUTIONS, INC.', 1), ('AMERICAN ASSIST, INC.', 1), ('LATOUR TRADING LLC', 1), ('GNATHODONTICS, LTD.', 1), ('G.T. JAPAN, INC.', 1), (\"MANHATTAN'S PHYSICIAN GROUP\", 1), ('ELLISON GAGE & ASSOCIATES, PLLC', 1), ('GRESHAM RISK PARTNERS LLC', 1), ('GUIDEWIRE SOFTWARE, INC', 1), ('KARL SCHMIDT UNISIA, INC.', 1), ('YONG S KIM ACUPUNCTURE CLINIC', 1), ('SONA CORPORATION INC.', 1), ('SHOREFRONT JEWISH GERIATRIC CENTER, INC', 1), ('SEVONE, INC.', 1), ('WABTEC RAILWAY ELECTRONICS', 1), ('CASUAL FREEDOM INC', 1), ('BRECKENRIDGE PHARMACEUTICAL, INC.', 1), ('FRED ADAMS PAVING CO., INC.', 1), ('CASEY MANOR', 1), ('VALLEY FORGE IRON WORKS, INC', 1), ('CARNECERIA NUVA VALLARTA', 1), ('INTERACTIVE DATA CORPORATION', 1), ('LAUFER GROUP INTERNATIONAL LTD', 1), ('ROLLAND ENTERPRISES, INC.', 1), ('MISSISSIPPI SYMPHONY ORCHESTRA ASSOCIATION', 1), ('SACC, INC', 1), ('FLORIDA HOLOCAUST MUSEUM, INC.', 1), ('LESCHACO, INC', 1), ('CAPVIEW PARTNERS, LLC', 1), ('CHEMICALS  INCORPORATED', 1), ('MURPHY INDUSTRIES, INC.', 1), ('HARDSTONE CONSTRUCTION LLC', 1), ('VEETHREE ELECTRONICS & MARINE, LLC', 1), ('REUBEN K CHEN DBA WELLSPRING CONSULTING GROUP', 1), ('TECHNO SOFT, INC', 1), ('COMEFRI USA INC', 1), ('LRSH INC. DBA LITTLE RED SCHOOLHOUSE', 1), ('HEALTH E SYSTEMS', 1), ('GEMINI CONSULTING AND SERVICES LLC', 1), (\"MAMCO INC. DBA: OLD MAN RAFFERTY'S\", 1), ('TAYLOR UNIVERSITY', 1), ('TEKPUNDITS INC', 1), ('PRIME HEALTHCARE MANAGEMENT INC.', 1), ('EMMIS INTERACTIVE, INC.', 1), ('CRT CAPITAL GROUP, LLC', 1), ('FAIRWAY TRADING, INC.', 1), ('KNACKTEK, LLC', 1), ('ATLANTA BEAUTY CORPORATION', 1), ('LAW REDD CRONA & MUNROE PA', 1), ('FUSION GLOBAL SOLUTIONS LLC', 1), ('COGENT SYSTEMS, INC.', 1), ('JOSE UY', 1), ('ELLIOT HEALTH SYSTEM', 1), ('S.M.C CONCRETE', 1), ('CLYBOURN EATERY, LLC.', 1), ('BLUE COAT SYSTEMS, INC.', 1), ('STEWARD MEDICAL GROUP', 1), ('ESOLUTECH', 1), ('MERCANTILE BANK', 1), ('AMERICAN INFOTECH SOLUTIONS, INC.,', 1), ('M&N TRADING, LLC', 1), ('PRECISION CUTTING TOOLS, INC.', 1), ('CALIFORNIA SLEEP SOLUTIONS LLC', 1), ('COMP CONSULTS INC', 1), ('THE LIGHTING DESIGN ALLIANCE INC', 1), ('SH&K MARKET LLC', 1), ('ALTECH SERVICES, INC.', 1), ('ESPOC, INC.', 1), ('ANTONIOS K LEE, CPA', 1), ('CASCO CIRCUITS,INC', 1), ('VENIO LLC D/B/A KEANE', 1), ('YEO & YEO, P.C.', 1), ('KURAMOTO US, INC.', 1), (\"TYSON'S CORNER SAKURA, INC.\", 1), ('ANALYTIC PARTNERS, INC.', 1), ('RC STABLES INC.', 1), ('RTC', 1), ('ELIASSEN GROUP LLC', 1), ('FTCAT,LLC. T/A CALIFORNIA TORTILLA', 1), ('DATING GROUND, INC.', 1), ('VAA, LLC', 1), ('THE HURLEY CLINICS', 1), ('GREAT POTENTIAL AUTO CENTER', 1), ('BRASS LANTERN INN', 1), ('EZEN COMPUTER SERVICES INC', 1), ('MATTHEWS DANIEL COMPANY', 1), ('OSI OPTOELECTRONICS, INC.', 1), ('ANTOINE DOUMIT DMD PC GAGS', 1), ('RELIQ, INC.', 1), ('QUALI TECH, INC.', 1), ('SASAKI ASSOCIATES', 1), ('MAGNA E-CAR USA, LP', 1), ('BALANCE CHIROPRACTIC CENTER, LLC', 1), ('EDUPOINT EDUCATIONAL SYSTEMS, LLC', 1), ('SPARK NETWORKS LIMITED', 1), ('LONDONWOOD COMPANY,INC', 1), ('AMERI BLUE HEALTH CARE SERVICES, LLC', 1), ('CRYSTAL DYNAMICS', 1), ('DIGIBLITZ TECHNOLOGIES PRIVATE LIMITED', 1), ('AEROSPACE SERVICE & CONTROLS', 1), ('STATE AUTO INSURANCE COMPANIES', 1), ('W-T ENGINEERING, INC.', 1), ('TECHSOL4U,INC', 1), ('MLSLISTINGS INC', 1), ('INFOGAIN CORPORATION', 1), ('BELDEN, INC.', 1), ('WEIN BAUER, INC.', 1), ('DAE & ASSOC.,LTD DBA GEOTECH ENGINEERING & TESTING', 1), ('VITAMIA PASTA BOY, INC', 1), ('CREED INFOTECH INC', 1), ('FAIRWAY MEDICAL TECHNOLOGIES, INC.', 1), ('UNIVERSITY OF WISCONSIN OSHKOSH', 1), ('ERGON, INC.', 1), ('A&E MUNDO, LLC', 1), ('KWON & ASSOCIATES, INC.', 1), ('APPLIED MECHANICAL', 1), ('CARPE DIEM COLLEGIATE HIGH SCHOOL', 1), ('MILKYWAY EDUCATION CENTER, INC', 1), ('VERITOX, INC.', 1), ('UBERMIND, INC.', 1), ('STARS WIRELESS INC', 1), ('SALISBURY SCHOOL, INC.', 1), ('EVERIC LLC', 1), ('EFFICIENT FRONTIER, INC', 1), ('J-W ADMIN COMPANY', 1), ('LIGHT ROCK SPRING WATER CO, INC.', 1), ('RIGAKU INNOVATIVE TECHNOLOGIES, INC', 1), ('DIRECT DRIVE SYSTEMS INC', 1), ('ALIBABA.COM', 1), ('SCHNEIDER ENTERPRISE RESOURCES', 1), ('INTERGRATED DATA TECHNOLOGY, INC', 1), ('FARALLON CAPITAL MANAGEMENT, L.L.C.', 1), ('GOOD KOREAN METHODIST CHURCH', 1), ('COLORADO COLLEGE', 1), (\"DICK'S SPORTING GOODS\", 1), ('MANSAI CORPORATION', 1), ('FERGUSON ENTERPRISES, INC.', 1), ('RURAL HEALTH CARE INC', 1), ('CROWLEY MARITIME CORPORATION', 1), ('MOON JAE YU, CPA CHTD', 1), ('CALIFORNIA MEDTECH, LLC', 1), ('UCHICAGO ARGONNE, LLC', 1), ('SAVANNAH DISTRIBUTING CO., INC', 1), ('PRIME CIRCLE TECHNOLOGIES, INC.', 1), ('PHOENIX VANGUARD, INC. DBA ECLARO', 1), ('LIGHTSPEED ONLINE RESEARCH, INC.', 1), ('OG TECHNOLOGIES, INC.', 1), ('COMPREHENSIVE BUSINESS ACCOUNTING, INC.', 1), ('SPECTRUM CONTROLS, INC.', 1), ('STEVENS INSTITUTE OF TECHNOLOGY', 1), ('TYEE PRODUCTS INC.', 1), ('HALIFAX COUNTY SCHOOLS', 1), ('NEO WORLD HEALTH CLUB,INC.', 1), ('DELAWARE VALLEY CHARTER HIGH SCHOOL', 1), ('NS WEST 56TH STREET, LLC D/B/A BEACON RESTAURANT', 1), ('PIONEER CORPORATE SERVICES INC.', 1), ('CHINA HORIZON MANAGEMENT LLC', 1), ('NOLTE ASSOCIATES, INC', 1), ('THE TRAVELERS INDEMNITY COMPANY', 1), ('HANCHETT PARK HOUSE', 1), ('ACCESS SOFTEK, INC.', 1), ('IQ ASSOCIATES, INC.', 1), ('PEOPLE POWER COMPANY', 1), ('CONTINENTAL AUTOMOTIVE SYSTEMS US, INC.', 1), ('APOGEE MEDICAL GROUP, PENNSYLVANIA, PC', 1), ('58 EAST COLORADO CORPORATION', 1), ('ANTON OSTERMEIER', 1), ('MASSIMO ZANETTI BEVERAGE USA', 1), ('AMERIKAI MAGYAR HIRLAP, INC.', 1), ('SAIPEM AMERICA INC.', 1), ('EULER HERMES ACI', 1), ('S V TECHNOLOGIES, LLC', 1), ('HARPERCOLLINS PUBLISHERS, LLC', 1), ('CONNING & COMPANY', 1), ('DIVERSIFIED FINANCIAL MORTGAGE, INC.', 1), ('JOHN ZINK COMPANY, LLC', 1), ('LAWRENCE BERKELEY NATIONAL LABORATORY', 1), ('PRATT INDUSTRIES (USA), INC.', 1), ('FAITH CHRISTIAN REFORMED CHURCH', 1), ('YON H. LAI, D.D.S., P.C.', 1), ('SAN FRANCISCO HEALTH AUTHORITY', 1), ('OPENLANE, INC.', 1), ('GLOBAL FINANCIAL ENTERPRISES, LLC', 1), (\"CHRISTOPHER'S WHOLESALE TRADING CO., INC.\", 1), ('MALKA JEWELERS INC. D/B/A EFFY JEWELERS', 1), ('CANNON TECHNOLOGIES, INC.', 1), ('MILLERS OF WYCKOFF, INC. DBA/MILLERS PHARMACY', 1), ('JAMES ALAN HILL', 1), ('FRANCIS CAUFFMAN', 1), ('JOHN A HUDEC CLEVELAND DENTAL HEALTH CENTER, INC', 1), ('IRIS&JUNMING LE FOUNDATION', 1), ('PREZIOSO BROS BAKERY', 1), ('WORLD EDUCATION SERVICES', 1), ('CMS GLOBALSOFT, INC.', 1), ('ERICSSON SERVICES INC.', 1), ('BLAIR MEDICAL ASSOCIATES', 1), ('THE UNIVERSITY OF MISSISSIPPI', 1), ('UNITED MEDICAL, LLC', 1), ('CYBEROPTICS CORPORATION', 1), ('CITIZENS FINANCIAL GROUP, INC.', 1), ('BBB FASHION1, INC.', 1), ('MERCY PHYSICIAN ASSOCIATES, INC.', 1), ('GENGHIS KHAN GUAM, INC.', 1), ('KCC ASSOCIATES LLC', 1), ('ELEMENT FIVE SOLUTIONS, INC.', 1), ('TRUST BENEFIT TECHNOLOGIES, LLC', 1), ('ENBRIDGE EMPLOYEE SERVICES, INC.', 1), ('GRAPHIC SYSTEMS INTERNATIONAL, INC.', 1), (\"PAIK'S SWIFT CLEANING CENTER, INC.\", 1), ('ALERT ENTERPRISE, INC', 1), ('ROCHE BOBOIS, USA LTD', 1), ('FREEBALANCE, INC', 1), ('GEMLAND TEXAS INC', 1), ('SYNERGY GLOBAL TECHNOLOGIES INC.', 1), ('OMNIA ITALIAN DESIGN, INC.', 1), ('BALFOUR BEATTY CONSTRUCTION', 1), ('KAJAL, INC.', 1), ('GCA SAVVIAN ADVISORS, LLC', 1), ('COGENT CONSULTING, INC.', 1), ('CATE SCHOOL', 1), ('WISSEN INC', 1), ('DET NORSKE VERITAS (U.S.A.), INC.', 1), ('ACADEMY OF ENGLISH LANGUAGE', 1), ('DESERT KING INTERNATIONAL', 1), ('LMN ARCHITECTS', 1), ('GILT GROUPE, INC.', 1), ('MUNICH AMERICAN REASSURANCE COMPANY', 1), ('BIDBUY, INC.', 1), ('HILAND PARTNERS GP HOLDINGS, LLC', 1), ('AUDYSSEY LABORATORIES, INC.', 1), ('QUARTESIAN LLC', 1), ('ANGELICA TEXTILE SERVICES, INC.', 1), ('STONE AND EQUIPMENT', 1), ('CAFE DIVAN', 1), ('RIVER REGION PSYCHIATRY ASSOCIATES', 1), ('AQUATECH INTERNATIONAL CORPORATION', 1), ('DAE YANG USA, INC.', 1), ('TACTARA LLC', 1), ('L.A. PAINTING', 1), ('PASTICCERIA ROCCO', 1), ('CENTRO DE SALUD ESPERANZA', 1), ('ISLAND CAPITAL MANAGEMENT, LLC DBA ISLAND STOCK TR', 1), ('ADT SECURITY SERVICE, INC.', 1), ('QATALYS, INC', 1), ('L&B UNIVERSAL, INC.', 1), ('MA ANPURNA, INC., DBA HOLIDAY INN EXPRESS', 1), ('MEDICAL UNIVERSITY OF SC AND AFFILIATES', 1), ('SMITH COLLEGE', 1), (\"CHOI'S WORLD TAE KWON DO, INC.\", 1), ('LCA VISION', 1), ('MISSISSIPPI STATE UNIVERSITY', 1), ('TTBG FRESNO OPCO, LLC', 1), ('KINGMAN REGIONAL MEDICAL CENTER', 1), ('CSS SOLUTIONS INC.', 1), ('CHELTON AVIONICS, INC', 1), ('HSS SYSTEMS VA, LLC', 1), ('NOBLE AMERICAS', 1), ('EDGEPARK MEDICAL SUPPLIES', 1), ('FUNAI SERVICE CORPORATION', 1), ('MOVE, INC.', 1), ('ADPI LLC', 1), ('BASF CORPORATION', 1), ('SUPERIOR HOME HEALTH SERVICES, INC.', 1), ('PANO LOGIC, INC.', 1), ('CYAN OPTICS, INC.', 1), ('MIAMI UNIVERSITY', 1), ('ADVANCE AUTO BUSINESS SUPPORT LLC', 1), ('PARAGON HOME HEALTHCARE, INC', 1), ('POLTEAM RENOVATION CORP.', 1), ('EZ SOLUTIONS INC', 1), ('3I PEOPLE, INC.', 1), ('NOVELIS INC.', 1), ('AMPHENOL TCS', 1), ('OPTIONMONSTER HOLDINGS, INC.', 1), ('THE HANOVER INSURANCE COMPANY', 1), ('BRIDGE ENTERTAINMENT INC., DBA E-POLL', 1), ('FTA-BUSINESS MULTIPLIER LLC', 1), ('SUNFIX TECHNOLOGIES, INC', 1), ('BAILY INTERNATIONAL OF ATLANTA, INC.', 1), ('SCHIAVONE CONSTRUCTION CO., LLC', 1), ('POLMAK, INC.', 1), ('EMETER CORPORATION', 1), ('WINDROSE HEALTH NETWORK, INC.', 1), ('SOLARWORLD INDUSTRIES AMERICA INC.', 1), ('ENSOFTEK, INC.', 1), ('CHA CONSULTING, INC.', 1), ('BUSINESS MANAGEMENT INTERNATIONAL INC', 1), ('RDA INTERNATIONAL INC', 1), ('MERK FUNDS, LLC', 1), ('THE UNIVERSITY OF TEXAS AT ARLINGTON', 1), ('INPATIENT SERIVCES OF MICHIGAN, P.C.', 1), ('TWO SIGMA INVESTMENTS, LLC', 1), ('AMERICAN BEVERAGE MARKETERS', 1), ('ORSYS CONSULTING INC', 1), ('TITLEMAX OF GEORGIA, INC.', 1), ('VOGT GALLERY LLC', 1), ('BERGENARTS AND SCIENCE CHARTER SCHOOL', 1), ('GIBBONS P.C.', 1), ('HORIZON SCIENCE ACADEMY CLEVELAND MIDDLE SCHOOL', 1), ('LOVE BOAT GROUP, INC.', 1), ('ADAK EAGLE ENTERPRISES LLC', 1), ('THALES AVIONICS, INC.', 1), ('MICHELL INSTRUMENTS, INC.', 1), ('HAIR PLUS TRADING CO., INC', 1), ('BUSINESS INTELLI SOLUTIONS, INC.', 1), ('NEW VISTA NURSING & REHAB CENTER', 1), ('K-MOMO INC.', 1), ('ICU MEDICAL, INC.', 1), ('OXFORD CONSULTING GROUP, INC.', 1), ('MAGNA COMPOSITES, L.L.C.', 1), ('GRM OPERATIONS LTD.', 1), ('HSB SOLOMON ASSOCIATES LLC', 1), ('BRASK, INC.', 1), ('THOMAS & BETTS POWER SOLUTIONS, LLC DBA JT PACKARD', 1), ('BRIGHT LAND FARM', 1), ('SAN DIEGO STATE UNIVERSITY', 1), ('PROJECT ENHANCEMENT CORPORATION', 1), ('STOLL KEENON OGDEN PLLC', 1), ('WILMORITE MANAGEMENT GROUP', 1), ('KUKJE, INC.', 1), ('LOCKHEED MARTIN INFORMATION TECHNOLOGY  & GLOBAL SERVICES', 1), ('SMART DATA STRATEGIES, INC', 1), ('GROWBIZ SERVICES, INC.', 1), ('REVEREIT LLC', 1), ('APPLE EDUCATIONAL SERVICES', 1), ('THE NEW SCHOOL', 1), ('LUCASFILM ANIMATION LTD.', 1), ('P J & E, INC.', 1), (\"CHILDREN'S MEDICAL CENTER OF DALLAS\", 1), ('NG PROMOTIONS INC.', 1), ('SOFTWARE TECHNOLOGY INC', 1), ('AT HOUSE INC.', 1), ('KOREA GARDEN INC', 1), ('SUTTONPARK CAPITAL', 1), ('TIRTHLLC', 1), ('IGNITED GAMES, INC.', 1), ('BREVAN HOWARD INC.', 1), ('SOUTHERN WINE & SPIRITS OF AMERICA, INC.', 1), ('THE LINCOLN HOME', 1), ('VALIDITY, INC.', 1), ('OZBURN-HESSEY LOGISTICS', 1), ('COLLEGE OF CHICAGO INC', 1), ('SPOKANE WASHINGTON HOSPITAL COMPANY LLC', 1), ('POPE, SHAMSIE & DOOLEY LLP', 1), ('INSIGHT FOR LIVING', 1), ('THOMSON REUTERS HOLDINGS INC', 1), ('DECIPHER INC.', 1), ('BRIDGETREE INC', 1), ('QUALITREE INC', 1), ('G&G LANDSCAPING CONSTRUCTION, INC.', 1), (\"BOB'S PEACHTREE DINER, INC\", 1), ('DFS CORPORATE SERVICES LLC', 1), ('FORRESTER CONSTRUCTION COMPANY', 1), (\"ELENA'S FINE JEWELRY, INC.\", 1), ('WILSON SONSINI GOODRICH & ROSATI', 1), ('ST. THOMAS UNIVERSITY, INC.', 1), ('PARK  AVENUE RADIOLOGISTS,PC', 1), ('COMPANIA CERVECERA DE PR, INC.', 1), ('INTERNATIONAL MEDICAL CENTER', 1), ('ELENIS NYC, INC.', 1), ('TD BANK, N.A.', 1), ('MONSOON INFOTECH INC', 1), ('SHINSUNG ENG CO LTD', 1), ('CITI INTERNATIONAL FINANCIAL SERVICES, LLC', 1), ('COGENT HEALTHCARE OF IOWA, PC', 1), ('636 LEXINGTON AVENUE RESTAURANT CORP.', 1), ('MOMENTIVE PERFORMANCE MATERIALS USA', 1), (\"BOAR'S HEAD PROVISIONS CO.,INC.\", 1), ('PDX, INC.', 1), ('AMERICAN EAGLE OUTFITTERS', 1), ('CG-VAK SOFTWARE (USA) INC', 1), ('TURNBERRY CARE PROVIDER, INC.', 1), ('MIDATLANTIC VENTURES', 1), ('CALIFORNIA SKATE PARKS, INC.', 1), ('ARBOR REHABILITATION AND HEALTHCARE SERVICES, INC.', 1), ('NIS AMERICA INC', 1), ('GTRAS, INC.', 1), ('JOB SERVICE NORTH DAKOTA', 1), ('ROAD WORKS, INC.', 1), ('IMC ASSET MANAGEMENT, INC', 1), ('U.S. TANK PAINTING INC.', 1), ('MINDSPEED TECHNOLOGIES, INC.', 1), ('WEBHOUSE INC', 1), ('OPTIMA FOODS, INC.', 1), ('YUM RESTAURANTS INTERNATIONAL', 1), ('JULIA W. VALDEZ, MD, INC.', 1), ('WALKER SANDS INC.', 1), ('BIBLICAL THEOLOGICAL SEMINARY', 1), (\"ITALICA RISTORANTE, INC DBA CASA D'ANGELO RISTORAN\", 1), ('KAIZEN TECHNOLOGIES, INC', 1), ('MAURICE PINCOFFS COMPANY, INC.', 1), ('CO-CO NAILS BREWSTER, INC.', 1), ('WALTECH, INC.', 1), ('FUMOTO ENGINEERING OF AMERICA INC', 1), ('TREASURY WINE ESTATES AMERICAS COMPANY', 1), ('GROUP HOSPITALIZATION AND MEDICAL SERVICES INC', 1), ('FOUNTAIN HOUSE, INC.', 1), ('DENTAL REPUBLIC - OAK CLIFF, PC', 1), ('METROPOLITAN PROPERTY AND CASUALTY INSURANCE CO', 1), ('CALIFORNIA INTERCONTINENTAL UNIVERSITY', 1), ('AMERCIAN HOME HEALTH AND HOSPICE CARE, INC', 1), ('SITOA CORPORATION', 1), ('WOMACK SYSTEMS, L.C.', 1), ('METEORCOMM LLC', 1), ('CHICAGO TORCH PRESBYTERIAN CHURCH', 1), ('LOGFIRE, LLC', 1), ('CYRIX DATA SYSTEMS, LLC', 1), ('COMANCHE COUNTY MEDICAL CENTER', 1), ('POSITIVE TRUCKING. INC', 1), ('LEICA GEOSYSTEMS, INC.', 1), ('GUIDANCE SOFTWARE INC.', 1), ('SPLUNK, INC.', 1), ('SOLOMON PAGE GROUP LLC', 1), ('IMMUCOR, INC.', 1), ('SUPERIOR CONTROLS, INC.', 1), ('EAST-WEST MUSIC STUDIO LLC', 1), ('BANDERA JAPANESE FOOD & ENTERPRISES, LLC, D/B/A OSAKA JAPANESE STEAK & SUSHI', 1), ('CRICO/RISK MANAGEMENT FOUNDATION', 1), ('SPELMAN COLLEGE', 1), ('VINTAGE HEALTHCARE SERVICES, INC.', 1), ('FLYP SPORTSWEAR INC.', 1), ('WESTERN UTILITIES TRANSFORMER SERVICE', 1), ('DEKRA CERTIFICATION, INC.', 1), ('DVS INTELESTREAM', 1), ('SC2000, INC.', 1), ('ADNET SYSTEMS, INC.', 1), ('MERCHANDISE TEXTILES & CADS, INC', 1), ('LEONA ARIZONA EMPLOYMENT GROUP, LLC', 1), ('TELEFLEX MEDICAL INCORPORATED', 1), ('CELANESE INTERNATIONAL CORPORATION', 1), ('AVENIR ASSOCIATES INC', 1), ('UNIVERSAL BEAUTY PRODUCTS INC.', 1), ('YOO PETER SUH & CO.', 1), ('THE CHRISTIAN BROADCASTING NETWORK, INC.', 1), ('STANTON UNIVERSITY', 1), ('PEPPER HAMILTON LLP', 1), ('MPG OPERATIONS, LLC', 1), ('HOSSAM MAKKAR, DMD PC.', 1), ('PREMIER, INC.', 1), ('BROADVISION LLC', 1), ('KGF ASSOCIATES INC', 1), ('CHILD HEALTH CORPORATION OF AMERICA', 1), ('HOLLISTER INCORPORATED', 1), ('NAVTEQ NORTH AMERICA, LLC', 1), ('LILAX TECHNOLOGIES,INC', 1), ('SHANG SHUNG INSTITUTE OF AMERICA, INC.', 1), ('CONVERGYS CUSTOMER MANAGEMENT GROUP INC.', 1), ('BERENSON & COMPANY, LLC', 1), ('MHM SERVICES, INC.', 1), ('HANIL ELECTRONICS AMERICA', 1), ('VRAJ PHARMACY CORP', 1), ('ESCHOLAR LLC', 1), ('HIBACHI JAPAN, INC.', 1), ('AMAZON WEB SERVICES LLC', 1), ('ADVANCED ELECTROCIRCUITS CORP.', 1), ('CYBERBRAINS INC', 1), ('CMN INC. D/B/A COLLIERS INTERNATIONAL', 1), ('AUBURNDALE DONUT GROUP INVESTMENT LLC', 1), ('NEW ENGLAND INPATIENT SPECIALIST LLC', 1), ('D-J ENGINEERING, INC', 1), ('JOVA/DANIELS/BUSBY, INC', 1), ('JACOBS RIMELL, INC.', 1), ('PENINSULA PRODUCTION COMPANY', 1), ('SIRRUS ENGINEERS, INC', 1), ('AIRBUS NORTH AMERICA ENGINEERING', 1), ('CIBER, INC.', 1), ('ARCADYAN TECHNOLOGY NORTH AMERICA CORP.', 1), ('MAXIM PRODUCTION CO., INC.', 1), ('THERAPEUTIC RESOURCES PHYSICAL THERAPY', 1), ('SHASTA REGIONAL MEDICAL CENTER', 1), ('TRABEN USA, INC.', 1), ('EURAUPAIR INTERNATIONAL INC.', 1), ('GLOVIS ALABAMA LLC', 1), ('VARTEX COMPANY', 1), ('WAVEMARKET, INC', 1), ('LIFE PHARMA II INC', 1), ('SAM ALKHOURY, DMD, PC', 1), ('CAMPUS MANAGEMENT CORPORATION', 1), ('UNIVERSITY OF NORTH CAROLINA AT GREENSBORO', 1), ('TEJASE TECHNOLOGIES INC', 1), ('SKIRE, INC.', 1), ('UNIVERSITY OF DAYTON', 1), ('KEY AMERICAN HOMES', 1), ('DGC CAPITAL CONTRACTING CORP.', 1), ('LUCAS-MILHAUPT, INC.', 1), ('FRANCISCAN MEDICAL GROUP', 1), ('D.B.A. RESTAURANT X THE BULLY BOYS BAR', 1), ('MARVA MARBLE & GRANITE, INC.', 1), ('CAPITAL 1ST INVESTMENTS LLC DBA: COMFORT INN PENTAGON', 1), ('HIGH RISE FIRE PROTECTION CORP', 1), ('SITE SERVICES INC', 1), ('GLATT AIR TECHNIQUES, INC.', 1), ('QUALCOMM MEMS TECHNOLOGIES, INC', 1), ('PALAYEKAR COMPANIES INC', 1), ('REJIS COMMISSION', 1), ('NAJMUDDIN KARIMJEE DBA LAKEWOOD FAMILY PRACTICE', 1), ('DR. PEPPER/SEVEN UP, INC', 1), ('LITTLE BLOSSOM MONTESSORI SCHOOL,INC.', 1), ('ROLLO MIO LLC', 1), ('DEVELOPMENT DESIGN GROUP, INC.', 1), ('INTERNET SOUND SOLUTIONS', 1), ('ANIMA DOMUS INC', 1), ('BHAVI LLC.', 1), ('EARTHQUAKE SOUND CORPORATION', 1), ('LHOIST NORTH AMERICA, INC.', 1), ('OLYMPIC STEEL INC.', 1), ('PELHAM CONSTRUCTION CORPORATION', 1), ('POLK STATE COLLEGE', 1), ('B VENTURES USA LLC', 1), ('BITSWAVE INC', 1), ('THE ORLANDO VACATION STORE, LLC', 1), ('PHOTONICS INDUSTRIES INTERNATIONAL, INC.', 1), ('XIOTIS REST. CORP.', 1), ('INTERNATIONAL TECHNOLOGIES PRO LLC DBA IQ TECHPROS', 1), ('BURGER & COMER, P.C.', 1), ('CPSG PARTNERS LLC', 1), ('AAEON SYSTEMS, INC.', 1), ('N. C. STATE UNIVERSITY', 1), ('UNIVERSAL HEALTH CARE P.C', 1), ('SHANAHAN HOUSEHOLD', 1), ('HIGHTOWER METAL PRODUCTS COMPANY', 1), ('AURORA UW ACADEMIC MEDICAL GROUP, INC.', 1), ('ROBERT BOSCH LLC', 1), ('QUALITY SWEETS, INC. DBA AMBALA SWEETS & SNACKS', 1), ('MINNESOTA STATE UNIVERSITY MOORHEAD', 1), ('ALL CHICAGO INC', 1), ('NEXTLABS, INC.', 1), ('AMERICAN IMAGING MANAGEMENT, INC.', 1), (\"KIMMY'S RESTAURANT & CARRY-OUT INC.\", 1), ('LEADERS IN EDUCATION INC., D/B/A YOUNG LEARNERS SCHOOL', 1), ('DS WATERS OF AMERICA, INC', 1), ('WIREOX LLC', 1), ('KRONES INC.', 1), ('OPTIMA GLOBAL SOLUTIONS INC', 1), ('PHACIL, INC.', 1), ('LAFARGE NORTH AMERICA, INC.', 1), ('LEEWARD INTERNATIONAL', 1), ('LIBERTY HOME HEALTH CARE, INC.', 1), ('TRUSTWORTHY MORTGAGE CORP', 1), ('TEXAS ENGINEERING EXPERIMENT STATION', 1), ('SIGMANET, INC.', 1), ('ZANTAZ, INC.', 1), ('BNA FEDERAL CREDIT UNION', 1), ('SIC PROCESSING USA LP', 1), ('CHAMPION COMPUTERS INC.', 1), (\"SOTHEBY'S\", 1), ('SASSI AMERICA, INC.', 1), ('COMMUNITY POOL SERVICE', 1), ('VALUE PAYMENT SYSTEMS, LLC', 1), ('REMY INC.', 1), ('CDNETWORKS, INC.', 1), ('CETPA, INC.', 1), ('LONGWOOD UNIVERSITY', 1), ('QUEST DIAGNOSTICS INCORPORATED', 1), ('FDS  ALUMINUM  LLC', 1), ('JOANNE JAFFIN MASON - DOUGLAS W. MASON', 1), ('MICRON SEMICONDUCTOR PRODUCTS, INC.', 1), ('MILWAUKEE MONTESSORI SOCIETY, INC.', 1), ('BILLFLOAT, INC.', 1), ('SKC ACCOUNTING GROUP, INC.', 1), ('ZAHRA CAFE AND BAKERY INC', 1), ('E2E ANALYTIX, INC.', 1), ('SOUTHERN TEXAS PHYSICIANS NETWORK, INC', 1), ('TECHNOLOGISTS INC', 1), ('ACT AMERICA, INC.', 1), ('UNIVERSAL METALS, INC.', 1), ('GAYER ASSOCIATES', 1), ('ANESTHESIOLOGIST ASSOCIATES, P.A.', 1), ('BLUE CROSS & BLUE SHIELD OF MONTANA', 1), ('CALYPSO SOFTWARE INC', 1), ('POLNET COMMUNICATIONS LTD.', 1), ('SOPHIA M.C. YANG & COMPANY, CPA', 1), ('FAURECIA EMISSIONS CONTROL TECHNOLOGIES, USA, LLC', 1), ('BEIGE HOLDING LLC.', 1), ('JONATHAN PARK & ASSOCIATES, LLP', 1), ('OTX CORPORATION', 1), ('FACTORY SUSHI JAPANESE RESTAURANT.INC', 1), ('CTT INC.', 1), ('THE SHAMS GROUP', 1), ('JACOB & SUNDSTROM INC', 1), ('INTERACTIVE DATA MANAGED SOLUTIONS LLC', 1), ('LEX PRODUCTS CORP', 1), ('GLOBAL H2O INVESTMENTS LLC', 1), ('TRANSPORT NJ, INC.', 1), ('NUMERIC TECHNOLOGIES', 1), ('ANDY DENTAL LABORATORY', 1), ('TEVA PHARMACEUTICALS USA, INC.', 1), ('MERGE HEALTHCARE INC.', 1), ('ARCHBOLD MEDICAL CENTER, INC', 1), ('TRIVEC-AVANT CORPORATION', 1), ('DEDERT CORPORATION', 1), ('BCD TRAVEL USA LLC', 1), ('P&K OF NEW YORK MANAGEMENT SERVICES, INC.', 1), ('BRADLEY UNIVERSITY', 1), ('CERNER CORPORATION', 1), ('HANATOUR USA INC', 1), ('NEXSUN ETHANOL, LLC', 1), ('CLASSIC MEDIA, LLC', 1), ('KBS AMERICA, INC.', 1), ('APTINA, LLC', 1), ('THIN FILM TECHNOLOGY', 1), ('CHERRYROAD TECHNOLOGIES INC.', 1), ('KAPASI GLASS MART', 1), ('TESSOLVEDTS, INC', 1), ('YANTRA 119 LLC', 1), ('BAY CONTRACTING INC.', 1), ('ICOP TECHNOLOGY INC.', 1), ('INTERNATIONAL TRADING PHARMACEUTICALS LABORATORIES', 1), ('LAZARD ASSET MANAGEMENT LLC', 1), ('KANTICORP.DBA EMERSON INN', 1), ('NETCHANNEL USA, INC.', 1), ('SAGE SOFTWARE, INC.', 1), ('VIEWSOFT INC.', 1), ('FAMILIA DEVELOPMENT LLC', 1), ('495 J.J.K. CORPORATION D.B.A. ETHOS', 1), ('IDIRECT, INC.', 1), ('EVE-USA, INC.', 1), ('TOURMALINE PARTNERS, LLC', 1), ('HUGO ZAPATA MDPA', 1), ('ACUITY BRANDS, INC.', 1), ('R&B LA JOLLA FAMILY SMILE DESIGN, DENTAL GROUP', 1), ('HANIL KWAN, INC.', 1), ('GLENLAKE TERRACE NURSING AND REHABILITATION CENTRE', 1), ('FULTON EDUCATIONAL SERVICES, INC.', 1), ('PCH MEDICAL PHARMACY', 1), ('CAROLINA TELEPHONE & TELEGRAPH COMPANY LLC', 1), ('AKAL ANIMAL CLINIC, INC DBA AKAL ANIMAL HOSPITAL', 1), ('BEHRENS AND ASSOCIATES INC', 1), ('CREDIT CARD DISCOUNT SERVICES', 1), ('NEWS KOREA TEXAS, INC.', 1), ('GREEN GRILL INC.', 1), ('THE GOLUB CORPORATION', 1), ('VSOFT CORPORATION', 1), ('KOREAN FULL GOSPEL CHURCH OF DAYTON', 1), ('AMMKO, INC.', 1), ('TAMKO BUILDING PRODUCTS, INC.', 1), ('STRATTEC POWER ACCESS, LLC', 1), ('POWER SYSTEMS MFG., LLC (PSM)', 1), ('PACIFIC RAINBOW INTERNATIONAL INC', 1), ('ENDRESS+HAUSER CONDUCTA INC.', 1), ('TOLL GLOBAL FORWARDING (USA) INC.', 1), ('HARKESS-ORD LLC', 1), ('SERVIONT GLOBAL SOLUTIONS INC', 1), ('TAX WISE FINANCIAL SERVICES INC', 1), ('ZOBRIST CONSULTING GROUP, INC', 1), ('MILGARD MANUFACTURING', 1), ('SPUNCAST, INC.', 1), ('TRANSPARENT PRODUCTS, INCORPORATED', 1), ('MICREL, INC.', 1), ('QUADGEN WIRELESS SOLUTIONS INC', 1), ('SHARON GOLDEN', 1), ('TUBEMOGUL, INC.', 1), ('MICRO SYSTEMS ENGINEERING, INC.', 1), ('SKY IT GROUP LLC', 1), ('THE CATHOLIC UNIVERSITY OF AMERICA', 1), ('ICM VENTURES, INC.', 1), ('KLOUT, INC.', 1), ('TIARA CONSULTING SERVICES INC', 1), ('AUROPRO SYSTEMS, INC', 1), ('HOSPITALIST MEDICINE PHYSICIANS OF SYLVANIA, LTD.', 1), ('MAB COMMUNITY SERVICES', 1), ('SEJONG ALABAMA LLC', 1), ('VANTEC WORLD TRANSPORT (USA) INC.', 1), ('IT BUSINESS MANAGEMENT SOLUTIONS INC', 1), ('SEALE & ASSOCIATES, INC.', 1), ('JOSEPH GAD INC', 1), ('BAPTIST HEALTHCARE SYSTEM, INC.', 1), ('R&M ENERGY SYSTEMS', 1), ('BAILY INTERNATIONAL, INC.', 1), ('AFFILIATED MANAGERS GROUP', 1), ('PROFIT PLANNERS, INC', 1), ('LINEAR LIGHTING CORP', 1), (\"MACY'S CREDIT AND CUSTOMER SERVICES\", 1), ('WRCS INC', 1), ('FRIIZE NETWORKS, INC.', 1), ('LAWLESS AND MANGIONE', 1), ('BASIL EQUIPMENT, INC.', 1), ('SIMON KUCHER AND PARTNERS LLC', 1), ('OKI GRAPHICS, INC.', 1), ('SHISEIDO TRAVEL RETAIL AMERICAS, INC.', 1), ('QUALITY HOME CARE SERVICES LTD', 1), ('FIRST BAPTIST CHURCH OF PALATINE DBA NEW HOPE COMM', 1), ('PEGASYSTEMS INC.', 1), ('INITECH GLOBAL, LLC', 1), ('FADNER MEDIA ENTERPRISES, LLC D/B/A MEDIA POST COM', 1), ('KOH HEALTHCARE SYSTEM, INC.', 1), ('HORNY TOAD ACTIVEWEAR INC.,', 1), ('METAPROUSA LLC', 1), ('BOTACH MANAGEMENT', 1), ('VAMDAM TECHNOLOGIES INC.', 1), ('FILEVISION USA LLC', 1), ('MEDIAMORPHOSIS LLC', 1), ('CUBIX LATIN AMERICA', 1), ('24/7 REAL MEDIA', 1), ('SMZ ENTERPRISES INC. T/A THE BAGEL CHATEAU', 1), ('BYBLOS RESTAURANT INC.', 1), ('CABOT CORPORATION', 1), ('GEORGE PACKER', 1), ('PRIDE TECHNOLOGIES LLC', 1), ('PARADIGM HEALTH & WELLNESS, INC.', 1), ('WELLSPRING CULTURAL EDUCATIONAL FOUNDATION', 1), ('F5 NETWORKS, INC.', 1), ('DATAWIZ CORPORATION', 1), ('FORPLAY CATALOG, INC.', 1), ('HILTON ATLANTA', 1), ('IP CONSULTING ACCOUNTANCY CORPORATION', 1), ('HIAWATHA COMMUNITY HOSPITAL', 1), ('IST, INC.', 1), (\"PILGRIM'S PRIDE CORPORATION\", 1), ('LEK SECURITIES CORPORATION', 1), ('INSOFT SYSTEMS INC', 1), ('KEAN UNIVERSITY', 1), ('PENCO ENGINEERING', 1), ('APEX PHARMACY', 1), ('JEWISH COMMUNITY CENTER OF S.I.', 1), ('RADIO HOLLAND USA INC', 1), ('HEALTHPORT TECHNOLOGIES, LLC', 1), ('INEK TECHNOLOGIES LLC', 1), ('BURNS LANDSCAPE MANAGEMENT LLC', 1), ('SERC (STATE EDUCATION RESOURCE CENTER)', 1), ('HARVEST QUEEN FARMS, LTD.', 1), ('KDDI AMERICA, INC.', 1), ('MOTOROLA MOBILITY, INC.', 1), ('GLOBAL TRADE INFORMATION SERVICES', 1), ('BOISE STATE  UNIVERSITY', 1), ('MIEBACH CONSULTING INC.', 1), ('CHARLTON MEMORIAL HOSPITAL', 1), ('A PLUS QUALITY CLEANERS', 1), ('IT LINK, LLC', 1), ('INTERVALZERO INC.', 1), ('CRISP REGIONAL HOSPITAL INC.', 1), ('S. TAHSEEN RAB, M.D., A.P., L.L.C', 1), ('FISHER CAPESPAN USA LLC', 1), ('SPIGIT, INC.', 1), ('RAHIMI & COMPANY', 1), (\"QUALITY EXPRESS INT'L INC\", 1), ('SYSTECH INTEGRATORS INC.', 1), ('BHARGAV COMPUTER CONSULTANTS USA-NJ, INC', 1), ('NESTLE PURINA PETCARE', 1), ('YM DENTAL LAB INC', 1), ('BHC FAIRFAX HOSPITAL', 1), ('U-SEA BULK (USA) INC.', 1), ('NY CHEFS INC', 1), ('LOGICAL CONSULTING GROUP, INC.', 1), ('SAHARA PIZZA HOLDINGS COMPANY', 1), ('MIDWEST SCHOOL OF MUSIC AKA SCHOOLOFMUSIC.COM', 1), ('GREAT RIVER TECHNOLOGY', 1), ('THE ICELANDIC MILK AND SKYR CORPORATION', 1), ('PINES LIQUOR LICENSE LLC D.B.A. PINES MANOR', 1), ('LAW OFFICE OF CHANGHWAN LEE, P.C.', 1), ('SANGWOO, INC', 1), ('H COMMERCE INC', 1), (\"LEE'S ACUPUNCTURE & HERB CLINIC\", 1), ('XIFIN, INC.', 1), ('TNS CUSTOM RESEARCH', 1), ('ZILLION TECHNOLOGIES, INC', 1), ('DINOSAUR SECURITES LLC', 1), ('MILIO BROS CONSTRUCTION LLC', 1), ('IRIDIUM CONSULTING LLC', 1), ('J&U CORPORATION', 1), ('PIONEER STRATEGY GROUP, LLC', 1), ('CASPIAN CAPITAL LP', 1), ('THE WEATHER CHANNEL, LLC', 1), ('CSSN INC', 1), ('STAR MANAGEMENT SERVICES LLC', 1), ('ANIRA SOLUTIONS INC', 1), ('JOHO CAPITAL, L.L.C.', 1), ('QUALITY MATRIX INC', 1), ('IPS GROUP INC.', 1), ('PHYSICIAN SERVICES CORPORATION OF SOUTHERN IL', 1), ('AVAILINK (US), INC.', 1), ('CARABIN & SHAW, P.C.', 1), ('A.R. KAKHSAZ COMPANY', 1), ('SALIBELLO & BRODER LLP', 1), ('SL-ADVANCED SYSTEMS CONSULTING L.L.C.', 1), ('GENESIC SEMICONDUCTOR INC', 1), (\"O'KEEFFE'S INC\", 1), ('PAK 2000, INC.', 1), ('LAX-C INC.', 1), ('TOYOTA RACING DEVELOPMENT', 1), ('DEVICOM INTERNATIONAL, INC.', 1), ('MICHAELS STORES, INC.', 1), (\"HAWAI'I PACIFIC UNIVERSITY\", 1), ('AMERICAN TURNERS NORTHWEST CHICAGO', 1), ('MEDSEEK', 1), ('SWISS ASSET INVESTMENT CO', 1), ('DIGILABS INC', 1), ('RPH HOTELS 51ST ST. OWNER, LLC. DBA: HAMPTON INN', 1), ('J. H. COHN, LLP', 1), (\"GIUSEPPE'S TRATTORIA\", 1), ('NEW YORK INDEPENDENT SYSTEM OPERATOR', 1), ('GWINNETT INTERNATIONAL FARMERS MARKET, INC.', 1), ('PRIMESTREAM CORPORATION', 1), ('REZNICK GROUP, P.C.', 1), ('ONYX ARCHITECTS, INC', 1), ('SANS SOUCI, LLC', 1), ('J.J.S.J. PAK, LLC.', 1), ('SPRY METHODS, INC.', 1), ('AIG GLOBAL SERVICES, INC.', 1), ('PETRO-TECH SERVICES, INC.', 1), ('MORETA & ASSOCIATES, INT.', 1), ('SIU FUNG CHENG', 1), ('ESN NORTH AMERICA, INC.', 1), ('GLOBAL INFORMATION SYSTEMS, INC.', 1), ('SCIENCELOGIC, INC.', 1), ('MARIETTA HEALTH CARE PHYSICIANS, INC', 1), ('MEDICAL SPECIALISTS, INC., P.C.', 1), ('EVOLV HEALTH LLC', 1), ('TRANSYSTEMS CORPORATION', 1), ('MARIA EUGENIA BALLESTEROS', 1), ('STC MANAGEMENT GROUP, LLC', 1), ('LEMEK LLC', 1), ('CHINESE-AMERICAN PLANNING COUNCIL, INC.', 1), (\"WENDPAR,LLC DBA WENDY'S RESTAURANT\", 1), ('HNTB CORPORATION', 1), ('OMYA INC.', 1), ('GCE INDUSTRIES, INC.', 1), ('FREEMAN HEALTH SYSTEM', 1), ('MARTHA GUTIERREZ, DDS', 1), ('INTERCEPT INTERACTIVE DBA UNDERTONE NETWORKS', 1), ('ZUMAHOLDING LLC', 1), ('KNOWLEDGE MANAGEMENT INTERACTIVE, INC.', 1), ('COMPASS SOLUTIONS, LLC', 1), ('DBADIRECT INC.', 1), ('VNC COMMUNICATIONS INC', 1), ('MCFARLAND CLINIC PC', 1), ('GRAND SUPERCENTER INC.', 1), ('ICRESCENDO, LLC', 1), ('MANAGEMENT DYNAMICS INC.', 1), ('SCAP USA, LLC DBA MARKETFORWARD', 1), ('QD VISION, INC.', 1), ('TRAVELALLRUSSIA LLC', 1), ('INDUSTRIAL MOTOR PARTS CORPORATION', 1), ('ANAQUA INC.', 1), ('OBALTAN INC', 1), ('SPARQTRON CORPORATION', 1), ('LATINO COMMUNICATIONS CORPORATION', 1), ('GUTHY-RENKER, LLC', 1), ('MONOGRAM FOOD SOLUTIONS, LLC', 1), ('MOZART ENTERPRISES INC', 1), ('QUALITY STRAPPING, INC.', 1), ('XLSOFT CORPORATION', 1), ('LAUDERDALE TANKERS CORP.', 1), ('SEARS MANUFACTURING COMPANY', 1), ('KOREAN FIRST BAPTIST CHURCH OF ARKANSAS, INC', 1), ('TASACOM TECHNOLOGIES, INC', 1), ('PROFESSIONALS LLC', 1), ('GROVE US LLC', 1), ('NSB RETAIL SYSTEMS, INC.', 1), ('CORA TEXAS MFG. CO. LLC', 1), ('CELTIC, LLC', 1), ('PACE UNIVERSITY', 1), ('NICE SYSTEMS INC', 1), ('ATLANTIC SUNGLASSES, LLC.', 1), ('CATTAIL CREEK COUNTRY CLUB', 1), ('TELEQUIP', 1), ('BARRACUDA NETWORKS, INC.', 1), ('ROY CHIRAYIL, CPA', 1), ('ANJANA SOFTWARE SOLUTIONS INC.,', 1), ('GIANNNI MARIELLA LTD', 1), (\"ST. MARY'S MEDICAL CENTER\", 1), ('BANCO POPULAR DE PUERTO RICO', 1), ('SANTA MONICA KOREAN CHURCH OF CHRIST', 1), ('GROUPHEALTH COOPERATIVE', 1), ('SOFTWARE GLOBAL LTD', 1), ('H MART IRVINE INC', 1), ('POLARTEC, LLC', 1), ('BLUE EDGE CAPITAL LLC', 1), ('SUSQUEHANNA UNIVERSITY', 1), ('WAUKESHA BEARINGS CORPORATION', 1), ('CIGNEX TECHNOLOGIES INC.', 1), ('FTI TECHNOLOGY LLC', 1), ('UNITED SAMPLE, INC.', 1), ('WOONGJIN COWAY USA INC.', 1), ('AVERA MCKENNAN HOSPITAL & UNIVERSITY HEALTH CENTER', 1), ('PANDA ANIMAL CLINIC, INC.', 1), ('GROUP HEALTH COOPERATIVE', 1), ('CHUNG CLINIC,INC.', 1), ('SANTORINI LLC DBA NORA RESTAURANT', 1), ('CAPTION MAKERS', 1), ('ELVIRA J. RIVES, MD', 1), ('SARA COMPUTERS INC.', 1), ('OEC GE MEDICAL SYSTEMS, INC.', 1), ('PANACURE, INC.', 1), ('SIM INFOTECH INC.', 1), ('LILLY USA, LLC', 1), ('CEL EDUCATIONAL SYSTEMS OF TEXAS, INC.', 1), (\"L'OBSERVATOIRE INTERNATIONAL INC.\", 1), ('CAMTRONICS, LLC', 1), ('CHURCH BESIDE STILL WATERS', 1), ('GLOPAK CORPORATION', 1), ('TAO INSTITUTE OF MIND & BODY-BRYN MAWR', 1), ('ENERDEL, INC.', 1), ('IOWA PHYSICIANS CLINIC MEDICAL FOUNDATION', 1), ('AMERICAN BULLION, INC.', 1), ('FESTIVAL CLEANERS AT CLINTON INC.', 1), ('AGORA GROUP, INC.', 1), ('RICARDO CANIZALES', 1), ('INNOVATIVE TRANSDUCER IMPLEMENTATION LLC', 1), ('OAKLEY, INC.', 1), ('ICOBO, INC. DBA EXCELCARE', 1), ('L & L CONNOLLY MANAGEMENT, INC.', 1), ('ADAPTIVESOFT INC.', 1), ('VSP', 1), ('OCLARO, INC.', 1), ('DIRECT SERVICE INC.', 1), ('JAMCO AMERICA, INC', 1), ('GRAND MART INTERNATIONAL FOOD, LLC', 1), ('LEE & J CORPORATION', 1), ('VMD SYSTEMS INTEGRATORS, INC.', 1), ('MITCHELL COUNTY VETERINARY CLINIC', 1), ('MUD MAT, INC.', 1), ('LIVING WATER MISSION CHURCH', 1), ('JOSEPHINE M. PREISNER', 1), ('KYUNG SUNG RESTAURANT INC', 1), ('QUESTPAY, INC.', 1), ('HARBOR FREIGHT TOOLS USA, INC.', 1), ('KALVIN CONSULTING INC', 1), ('ADVANCE FRESH CONCEPTS', 1), ('SYNERGY AMERICA, INC.', 1), ('TINDALE-OLIVER & ASSOCIATES, INC.', 1), ('RESEARCH FOUNDATION OF THE STATE UNIVERSITY OF NEW', 1), ('ACTIVE SINGLES LLC DBA ELITE PERSONAL SEARCH', 1), ('SEVERSTAL DEARBORN, LLC', 1), ('DEWBERRY & DAVIS LLC', 1), ('MYVEST CORPORATION', 1), ('ARIES COMPUTER SYSTEMS, INC.', 1), ('NEC SPHERE COMMUNICATIONS, INC.', 1), ('HAYSLIP DESIGN ASSOICATES, INC.', 1), ('NEXGEN WIRELESS INC.', 1), ('MOBILITY HOME HEALTH SERVICES, INC.', 1), ('JOURNAL SENTINEL, INC.', 1), ('LEHIGH UNIVERSITY', 1), ('S&B INFRASTRUCTURE, LTD.', 1), ('LIEBERMAN RESEARCH WORLDWIDE', 1), ('AMERICAN STAR ALLIANCE, INC', 1), ('SWAROVSKI NORTH AMERICA LTD', 1), ('DURAND REFRIGERATION CORP.', 1), ('EDEN AMBULANCE CORPORATION', 1), ('CUSTOMER CARE INC', 1), ('SCRIBE CONSULTING SERVICES, INC.', 1), ('VELOS, INC.', 1), ('HORIKO CAPITAL MANAGEMENT LLC', 1), ('MARISCOS BAHIA INC', 1), ('J.C. PAINTING, INC.', 1), ('MILFORD ANESTHESIA ASSOCIATES', 1), ('KALVEN TECHNOLOGIES, INC', 1), ('KAZIMIERZ JANOTA', 1), ('NOVELLUS SYSTEMS, INC.', 1), ('HERAEUS TENEVO, LLC', 1), ('KYOCERA AMERICA, INC.', 1), ('IDELIVER TECHNOLOGIES LLC', 1), ('GIANT BIG APPLE BEER LTD.', 1), ('SPECTRA EAST INC.', 1), ('MICRONESIAN INSTITUTE FOR DISEASE PREVENTION AND R', 1), ('THE PROMOTION FACTORY INC', 1), ('VERMONT ELECTRIC POWER COMPANY, INC.', 1), ('MICROSEMI CORPORATION', 1), ('LONGVIEW INDEPENDENT SCHOOL DISTRICT', 1), ('MYSKIN, INC', 1), ('PEERLESS MFG. CO.', 1), ('ESPRYT, INC. D/B/A VERTIGON CONSULTING', 1), ('PACIFIC EXTERIORS, INC.', 1), ('WANG GLOBALNET', 1), ('SPLENDTEK INC', 1), ('PORCELAIN INDUSTRIES, INC.', 1), ('OEGADGIB, INC.', 1), ('NPARIO', 1), ('OHM NAMAH INC', 1), ('SURFACE PROS INC.', 1), ('CYBERTHINK, INC.', 1), ('MEDICAL MANAGEMENT INTERNATIONAL, INC. (DBA BANFIELD, THE PET HOSPITAL)', 1), ('TAYLOR DENTAL PC', 1), ('DOMTAR INDUSTRIES, INC.', 1), ('UNIVERSITY OF OKLAHOMA HEALTH SCIENCES CENTER', 1), ('ALTERIAN INC.', 1), ('CDW TECHNOLOGIES, INC.', 1), ('ENTERASYS NETWORKS', 1), ('DOTSTECHNOLOGIES, INC.', 1), ('THE KOREA TIMES-LOS ANGELES, INC.', 1), ('BRIDGELINE SOFTWARE, INC.', 1), ('MILTECHNOLOGIES, INC.', 1), ('SPM FLOW CONTROL, INC.', 1), ('MEDIANA TECHNOLOGIES CORPORATION', 1), ('ITASCA MART LLC', 1), ('ARVATO DIGITAL SERVICES LLC', 1), ('HYUN & SUNG INC', 1), ('PROFESSIONAL AVIATION MANAGEMENT, INC', 1), ('MUNDY NEW YORK, INC.', 1), ('METAMATION INC', 1), ('ARUN MISRA, P.C.', 1), ('ADVANCED BIOLOGICS, LLC', 1), ('EAGLES ENTERPRISE LLC', 1), ('REEBOK INTERNATIONAL LTD.', 1), ('APPROVA CORPORATION', 1), ('ALION INC.', 1), ('RINA ACCOUNTANCY CORPORATION', 1), ('G-CNY GROUP LLC', 1), ('W S THOMPSON ASSOCIATES DBA ENTERPRISE SOLUTIONS', 1), ('KASSEL CORPORATION (KING TUT CAFE)', 1), ('FALCON AEROSPACE INC.', 1), ('FRONTLINE SYSTEMS, INC.', 1), ('DELPHIX', 1), ('GINZAYA, INC. DBA GINZAYA JAPANESE RESTAURANT', 1), ('MCR INVESTMENT CORPORATION', 1), ('SOFTWARE INTEGRATION SERVICES INC', 1), ('TECTURA CORPORATION', 1), ('SCEPTER TECHNOLOGIES INC', 1), ('RHODE ISLAND SCHOOL OF DESIGN', 1), ('CCTVSTAR, INC.', 1), ('FRENCH MARKET FOODS', 1), ('WARBURG PINCUS LLC', 1), ('LINX-AS, LLC', 1), ('UNIVERSITY OF RHODE ISLAND', 1), ('BUY AND GO, INC.', 1), ('CALIFORNIA STATE UNIVERSITY, FULLERTON', 1), ('CHYRON CORPORATION', 1), ('CITCO TECHNOLOGY MANAGEMENT, INC.', 1), ('VISAM TECHNOLOGIES INC', 1), ('MANILA BAY FOODS, INC.', 1), ('LPA, INC', 1), ('GENERAL PLASMA INC', 1), ('TS TECHNO SERVICE INC.', 1), (\"MIMI'S CONVENIENCE\", 1), ('WORLDLINK, INC', 1), ('MAKE, LLC', 1), ('CHURCH OF REJOICE', 1), ('FUZZY LOGIX, LLC', 1), ('BENCHMARK ELECTRONICS', 1), ('MUDIAM INC', 1), ('WHOLESALE BUILDING SUPPLY CORP.', 1), ('PHARMACEUTICS INTERNATIONAL, INCORPORATED', 1), ('NINTENDO TECHNOLOGY DEVELOPMENT INC.', 1), ('AMERICAN AXLE & MANUFACTURING, INC.', 1), ('ELECTRONIC COOLING SOLUTIONS, INC.', 1), ('CLINTON CITY SCHOOLS', 1), ('VIRGINIA CHRISTIAN UNIVERSITY', 1), ('BIAMP SYSTEMS', 1), ('ITAGROUP', 1), ('P.E. MOSELEY & ASSOCIATES, INC.', 1), ('SOUTHERN COMPANY SERVICES, INC.', 1), ('IVS CONSULTING, INC', 1), ('ASPIRE SYSTEMS, INC', 1), ('ROCKWELL CUISINE CONCEPTS, LLC', 1), ('THE CHUGH FIRM', 1), ('ALCON RESEARCH, LTD.', 1), ('WASHINGTON EDUCATION GROUP,INC.', 1), ('FSV PAYMENT SYSTEMS, INC.', 1), ('INSIGHT OUT OF CHAOS, LLC', 1), ('C&D TECHNOLOGIES, INC.', 1), ('GLENWOOD SYSTEMS, LLC', 1), ('KNOWLEDGE SOLUTIONS LLC', 1), ('AMEC-BCI ENGINEERS & SCIENTISTS, INC.', 1), ('SUN LIFE FAMILY HEALTH CENTER, INC.', 1), ('SMITH CARTER USA LLC', 1), (\"ANTONIO CRUZ MENDOZA III DBA TONY'S WORKSHOP\", 1), ('DYNAMIC SIGNAL, INC.', 1), ('INDEPENDENT PROFESSIONAL SERVICES, INC.', 1), ('LENLYN LTD.', 1), ('LAW OFFICES OF PJ LEE, P.C.', 1), ('EDUCATIONDYNAMICS, LLC', 1), ('GEHTSOFT USA LLC', 1), ('ROSSPORT INVESTMENTS LLC', 1), ('SANDIS', 1), ('GOOD SHEPHERD HEALTH CARE SYSTEM', 1), ('TEMPLE INLAND', 1), ('NAWAB OF RALEIGH, INC', 1), ('RAISMAN CORPORATION', 1), ('FLORIDA INSTITUTE OF TECHNOLOGY', 1), ('WASHINGTON DENTAL SERVICE', 1), ('JOY QUEENS NAIL INC. D/B/A QUEENS NAILS', 1), ('HATHAWAY-SYCAMORES CHILD AND FAMILY SERVICES', 1), ('SALUS REHABILITATION', 1), ('ATLANTIC DIAGNOSTIC LABORATORIES, LLC', 1), ('BATH & BODY WORKS DIRECT, INC.', 1), ('ROSEMOUNT ANALYTICAL INC.', 1), ('EUNSUNG INTERNATIONAL INC', 1), ('INET EXPERT INC.', 1), ('WOODBRIDGE HOLDINGS INC.', 1), ('MID-MICHIGAN PHYSICIANS, P.C.', 1), ('BLUE CROSS BLUE SHIELD OF NORTH CAROLINA', 1), ('JOSEPHINE DEVELOPMENT, LLC.', 1), ('GETCO LLC', 1), ('JMU TAX & FINANCIAL', 1), ('NTRUST INFOTECH INC.', 1), ('MEDAMERICA GROUP', 1), ('MICROTURN SYSTEMS INC', 1), ('LEBANON VELLEY COLLEGE', 1), ('ADVENTIST HEALTHCARE', 1), ('MEDLINE INDUSTRIES', 1), ('SYNECHRON', 1), ('AURORA BANK FSB', 1), ('OPTIMOS INTERNATIONAL', 1), ('AMPHENOL CORP/AMPHENOL AEROSPACE', 1), ('ISYMMETRY,  INC.', 1), ('BAYSHORE CHEVROLET, INC', 1), ('NHK INTEX CORPORATION', 1), ('NORTHWEST ADMINISTRATORS, INC.', 1), ('ROSKAMP INSTITUTE INC', 1), ('HAN SONG ENTERPRISE, LLC', 1), ('CORPTAX INC', 1), ('T & G VENDING', 1), ('ONWARD TECHNOLOGIES INC', 1), ('HAUNI RICHMOND, INC.', 1), ('ACHIEVA I.T INC', 1), ('FOSSIL PARTNERS LP', 1), ('TRADEPRO INC', 1), ('NORTHERN MICHIGAN UNIVERSITY', 1), ('AXYGEN, INC.', 1), ('SYNAPTICS, INC', 1), ('KATHERINE KIM (DBA KIDSLAND)', 1), ('SONIAN, INC.', 1), ('PACIFIC CENTURY CUSTOMS SERVICE, INC.', 1), ('AVION SYSTEMS INC', 1), ('MICROLIFE MEDICAL HOME SOLUTIONS, INC.', 1), ('WATCHGUARD TECHNOLOGIES, INC.', 1), ('FAIRMONT SCHOOLS', 1), ('FAR EAST SERVICE, CORP.', 1), ('ENTHONE, INC.', 1), ('LIPSCOMB UNIVERSITY', 1), ('MXOTECH', 1), ('LONG TERM CARE GROUP D/B/A UNIVITA HEALTH, INC.', 1), ('PEGASUS VERTEX, INC.', 1), ('HEERASOFT INC', 1), ('A & F FIRE PROTECTION CO., INC.', 1), ('DELTA COMPUTER CONSULTING', 1), ('NSTAR ELECTRIC & GAS CORPORATION', 1), ('ALERE HEALTH, LLC', 1), ('MACROSOFT INC.', 1), ('OIKOS UNIVERSITY (SHEPHERD UNIVERSITY IN SF)', 1), ('AERIA GAMES & ENTERTAINMENT, INC.', 1), ('HELLMUTH, OBATA & KASSABAUM, P.C.', 1), ('CORNERSTONE PEDIATRICS', 1), ('INTERTHINX, INC.', 1), ('KUSTOM SIGNALS, INC.', 1), ('MCKISSACK & MCKISSACK MIDWEST', 1), ('DEPARTMENT OF FINANCE AND ADMINISTRATION - OIS', 1), ('J SUNG ACCOUNTANCY CORP', 1), ('EDWARDS ASSOCIATES COMMUNICATIONS, INC.', 1), ('SANSUM DIABETES RESEARCH INSTITUTE', 1), ('CALIFORNIA STATE AUTOMOBILE ASSOCIATION', 1), ('KOURAGE INC.', 1), ('EWORTHY TECHNOLOGY SOLUTIONS', 1), ('MECHANICAL CONTRACTORS, INC.', 1), ('ALVARADO COMMODITIES, INC.', 1), ('RIVERCREST SOLUTIONS LLC', 1), ('COGENTHEALTHCARE FORT MYERS, LLC', 1), ('OLIN PARTNERSHIP, LTD.', 1), ('FLURRY', 1), ('OCTAGON RESEARCH SOLUTIONS, INC.', 1), ('REPRODUCTIVE GENETICS INSTITUTE', 1), ('PHYSICAL THERAPY INTERNATIONAL', 1), ('VF CORPORATION', 1), ('SOUTH CAROLINA STATE UNIVERSITY', 1), ('LINCOLN PARK TERRACE', 1), ('BERTIE COUNTY SCHOOLS', 1), ('RELATIONAL NETWORKS INC', 1), ('TRANS TEXAS TIRE OF MOUNT PLEASANT, INC.', 1), ('SCS ENERGY', 1), ('S4 ENERGY SOLUTIONS, LLC', 1), ('PERIGONSOFT LLC', 1), ('MCGI TEC, INC', 1), ('VICKEN ARSLANIAN', 1), ('CYBRID, INC.', 1), ('BOSCH SOFTWARE INNOVATIONS CORP', 1), ('CT SOLUTIONS, INC.', 1), ('ADVENTIST DEVELOPMENT & RELIEF AGENCY INTERNATIONA', 1), ('TENET HEALTH SYSTEM MEDICAL INC.', 1), ('PK LINE', 1), ('IDAHO FOREST GROUP', 1), ('MB-TECHNOLOGY NA LLC', 1), ('SCHOOL FOOD ENTERPRISES, INC.', 1), ('GOLDMAN SACHS, & CO.', 1), ('DONGHANG CHURCH INC', 1), ('BAMM INC', 1), ('WANG INSURANCE AGENCY, INC.', 1), ('CHARCO 2000, INC.', 1), ('THE REGENCE GROUP', 1), ('DOWNTOWN REEL PRODUCTIONS, INC.', 1), ('FAIRFAX 123 HOTEL LIMITED PARTNERSHIP', 1), ('AES CORPORATION', 1), ('CBS RADIO SERVICES INC.', 1), ('FREEDOM LEGAL PLANS', 1), ('M S INTERNATIONAL, INC.', 1), (\"MONTESSORI CHILDREN'S HOUSE\", 1), ('INVOICING AND MANAGEMENT SERVICES, INC.', 1), ('HOBAN E&C USA, INC. DBA WAIKELE COUNTRY CLUB', 1), ('TINY PLANET INC', 1), ('MARK LOGIC CORPORATION', 1), ('GARNET CAPITAL ADVISORS, LLC', 1), ('SHAKE-N-GO FASHION, INC.', 1), ('CHOKSHI LL.C.', 1), ('RENDULIC PACKING COMPANY', 1), ('DURA OPERATING, LLC', 1), ('AVL POWERTRAIN ENGINEERING, INC.', 1), ('OPTIMUM COMPUTER SOLUTIONS, INC.', 1), ('HARI OM PHARMACY LLC DBA BENZER PHARMACY', 1), ('X BY 2', 1), ('PEDIATRIX MEDICAL GROUP OF KANSAS, P.A.', 1), ('MASSADA HOME SALES INC.', 1), ('GAMESA ENERGY USA, LLC', 1), ('NEW YORK CHEESE CORP', 1), ('KMT WIRELESS, LLC', 1), ('Z3 TECHNOLOGIES,INC', 1), ('BRIDGESTONE AMERICAS, INC.', 1), (\"SAINT ANTHONY'S PHYSICIAN GROUP\", 1), ('OSSTEM INC.', 1), ('LE CHOCOLATE OF ROCKLAND', 1), ('IWATT', 1), ('MONTEREY BAY AQUARIUM RESEARCH INSTITUTE', 1), ('ASPIRE LOGIX SOLUTIONS INC', 1), ('DOMINION HEALTH MEDICAL ASSOCIATES', 1), ('CREATIVE MICRO DESIGNS INC', 1), ('MACQUARIE FUNDING HOLDINGS INC.', 1), ('TEXOMA NEUROLOGY ASSOCIATES', 1), ('NOVISYS LLC.', 1), ('SOUTHWEST COMMUNITY HEALTH CENTER', 1), ('ROSETTA M. CABRALES', 1), ('FLUKE CORPORATION', 1), ('BLUENOG CORPORATION', 1), ('PETFRIENDS, LLC', 1), ('DISCOVERY MEDICAL NETWORK', 1), ('BPR-BECHTEL GENERAL PARTNER, INC.', 1), ('GNN CORPORATION', 1), ('VCA ENGINEERS INC', 1), ('UNITED TELEVISION BROADCASTING SYSTEMS, INC.', 1), ('SILA SOLUTIONS GROUP', 1), ('ANIMAL HOSPITAL OF HODGES & SANPABLO', 1), ('RAG & BONE INDUSTRIES, LLC', 1), ('FORT CAROLINE GARDENS, INC.', 1), ('PPF INC', 1), ('TFWELLNESS, INC', 1), ('COGNEX CORPORATION', 1), ('N. HARRIS COMPUTER CORPORATION TENEX DIVISION', 1), ('ICAP SERVICES NORTH AMERICA LLC', 1), ('GENESIS TECHNOLOGY USA, INC.', 1), ('DAY AND ZIMMERMANN', 1), ('APTUDE INC', 1), ('CYQUENT, INC.', 1), ('HARTFORD UNIVERSAL, INC.', 1), ('FAULKNER HOSPITAL', 1), ('LEHIGH CONSUMER PRODUCTS CORPORATION', 1), ('ANCORA, INC', 1), ('PRIMARY CARE DOCTORS GROUP, PC', 1), ('MARY MCLEOD BETHUNE DAY ACADEMY PCS', 1), ('R&S SIDING INC', 1), ('PULMONARY CLINICS OF SOUTHERN MICHIGAN, P.C.', 1), ('KAY ACCESSORIES, INC.', 1), ('GREENBANK DEVELOPMENT, LLC', 1), ('SPA CASTLE INC.', 1), ('TERRA GLOBAL CAPITAL, LLC', 1), ('MATCOR, INC.', 1), ('FLORIDIAN YACHT SALES LLC', 1), ('ONI CORP', 1), ('FACTIVA, INC', 1), ('YAKIMA MEMORIAL HOSPITAL', 1), ('ROBERT S. KAUFMAN', 1), ('BOSTON TECHNOLOGY CORPORATION', 1), ('TOYOTA TSUSHO AMERICA INC', 1), ('WEIGHT WATCHERS INTERNATIONAL, INC.', 1), ('WILDSMILES,LLC', 1), ('MID-SOUTH INFECTIOUS DISEASE ASSOC. PLLC', 1), ('ONE HOTELS LLC', 1), ('C & S BEAUTY, INC.', 1), ('IT PEOPLE CORP', 1), (\"J O'DRISCOLL ELECTRICAL\", 1), ('GREAT PLAINS OF PHILLIPS CO., INC.', 1), ('CITIGROUP MANAGEMENT CORP.', 1), ('ALL NATIONS CHURCH', 1), ('PANGBORN COLLECTION', 1), ('SPARC TECHNOLOGIES INC', 1), ('KERNS MANUFACTURING CORPORATION', 1), (\"COLLEGE HILL WOMEN'S HEALTH CENTER\", 1), ('TRUEBLUE, INC', 1), (\"VICTORIA'S SECRET STORES, LLC\", 1), ('TUMON CORPORATION', 1), ('CHAMPION MAINTENANCE CONTRACTORS, INC.', 1), ('KJWW, P.C.', 1), ('NORAMTEC CONSULTANTS AMERICAS, INC.', 1), ('BAYA INC.', 1), ('PENZA BAILEY ARCHITECTS', 1), ('RU & ROTT, INC.', 1), ('VISUAL CONSULTANTS, INC', 1), ('HD TECHNOLOGY INC', 1), ('AMERITAS LIFE INSURANCE CORP', 1), ('SAM SUNG ACUPUNCTURE & HERB CLINIC, INC.', 1), (\"UNIVERSITY OF MASSACHUSETTS PRESIDENT'S OFFICE\", 1), ('FURNITURE CONNECTION OUTLET', 1), ('EMERALD COAST TITLE SERVICES INC.', 1), ('POLLUX CONSULTANCY SERVICES LLC', 1), ('LENOX TERRACE PHARMACY', 1), ('PITTSBURG ISD', 1), ('LOPEZ LANDSCAPING, INC.', 1), ('MILO BEAR, INC.', 1), ('JMOC BUILDERS INC', 1), ('SAM HOUSTON STATE UNIVERSITY', 1), ('SAP GLOBAL MARKETING, INC.', 1), ('LAYHER, INC.', 1), ('OAK CREEK ENERGY SYSTEMS, INC', 1), ('MOSAIC SOLUTIONS, INC', 1), ('NIKSUN', 1), ('HARVEST POWER', 1), ('PROFESSIONALS FOR GLOBAL MISSIONS', 1), ('AMMANN & WHITNEY, INC.', 1), ('GEORGE JUE MANUFACTURING CO., INC.', 1), ('SQL DATA SOLUTIONS, INC.,', 1), ('HEALTHEDGE SOFTWARE, INC.', 1), ('DATA CONNECTION CORPORATION', 1), ('GURUS INFORMATION TECHNOLOGY SERVICES LLC', 1), ('J BAR CONSTRUCTION,  INC.', 1), ('HOUSTON OCTG GROUP, INC.', 1), ('SELF REGIONAL HEALTHCARE', 1), ('TRINITY CONSULTANTS', 1), ('YOUNG INDUSTRIAL SUPPLY CO.', 1), ('NET MATRIX SOLUTIONS', 1), ('SUMITOMO ELECTRIC WIRING SYSTEMS, INC.', 1), ('PA CONSULTING GROUP, INC.', 1), ('SAMURAI JAPANESE RESTAURANT', 1), ('WORLD VISION CHURCH', 1), ('FOXLINK INTERNATIONAL, INC.', 1), ('NEW JERSEY INSTITUTE OF TECHNOLOGY', 1), ('CAVE CREEK UNIFIED SCHOOL DISTRICT 93', 1), ('MORGAN PARK ACADEMY', 1), ('QUEEN APPAREL NY INC.', 1), ('WHITTIER UNION HIGH SCHOOL DISTRICT', 1), ('DONG BO,INC.', 1), ('SIVAKUMAR THALAMUTHU', 1), ('CHIPOTLE MEXICAN GRILL', 1), ('SUBEX TECHNOLOGIES INC', 1), ('PRESTERA CENTER FOR MENTAL HEALTH SERVICES, INC.', 1), ('INDECON SOLUTIONS', 1), ('DIGITAL MANAGEMENT, INC.', 1), ('HAN YANG CONSTRUCTION', 1), ('ALERE, LLC', 1), ('SWIFT BEEF COMPANY', 1), ('WESTGLEN GASTROINTESTINAL CONSULTANTS', 1), ('KDDI GLOBAL L.L.C.', 1), ('DAVID A LEVY CPA PC', 1), ('DOWEL TEX., INC.', 1), ('OMINO SUSHI JAPANESE CUISINE', 1), ('SEAMLESS NORTH AMERICA, LLC', 1), ('UNITED STATES ENDOSCOPY GROUP', 1), ('INTEGRATED EQUIPMENT, INC.', 1), ('PEDIATRIC GROUP OF ACADIANA, LLC', 1), ('GRANDEUR MANAGEMENT INC', 1), ('COMPUGAIN CORPORATION', 1), ('TECHFORZA, INC.', 1), ('HYGLOSS PRODUCTS, INC', 1), ('ESSENTIAL TECHNOLOGIES, INC', 1), ('WAHA MONTESSORI SCHOOL', 1), ('FAIRDEAL EVALUATION SERVICES', 1), (\"FRANK'S PIZZA AT SPARTA, INC.\", 1), ('COLUMBUS CHEMISTS LLC', 1), ('EMMA WILLARD SCHOOL', 1), ('DELPHI 360', 1), ('MARUZEN OF AMERICA, INC.', 1), ('DESERT HEIGHTS CHARTER SCHOOL', 1), ('ROHM AND HAAS ELECTRONIC MATERIALS LLC', 1), ('NETSTAR-1, INC.', 1), ('BELLA TERRA COSMETICS GROUP', 1), ('UTILITY RELAY COMPANY, LTD.', 1), ('WCK TX I, LLC DBA LEO JONES INSULATING COMPANY', 1), ('CIRCUITCO ELECTRONICS LLC', 1), ('CACTUS SEMICONDUCTOR, INC', 1), ('THE LOUIS BERGER GROUP, INC', 1), ('NEW HOUSTON HEALTH', 1), ('ARTESIA HOSPITALITY LLC', 1), ('CTC LOGISTICS LA, INC.', 1), ('TRIPLE POINT TECHNOLOGY, INC.', 1), ('CRYSTAL WINDOW & DOOR SYSTEMS, LTD.', 1), ('ROBERT HUTCHENS', 1), ('LANCESOFT INC.', 1), ('CABARRUS COUNTY SCHOOLS', 1), ('GEMINI SYSTEMS LLC', 1), ('WOOODBINE CAPITAL ADVISORS', 1), ('JOHN KEVIN BRANDBERGH', 1), ('CANUSA CORPORATION', 1), ('GOODY, CLANCY & ASSOCIATES, INC.', 1), ('INTELLEFLEX CORPORATION', 1), ('EXTERRAN ENERGY SOLUTIONS, L.P.', 1), ('BELCORP OF AMERICA, INC.', 1), ('HARDSCRABBLE CLUB CORP.', 1), ('CENTRIC SOFTWARE', 1), ('NINEALPHA CAPITAL LLP', 1), ('LINDH USA BIZMAP, INC.', 1), ('HAMMERHEAD GROUP, INC.', 1), ('M-I L.L.C. (A/K/A M-I SWACO)', 1), ('CIVIC CENTER PEDIATRICS', 1), ('PROJECT CONCORD, INC.', 1), ('EDUCATION AFFILIATES, INC.', 1), ('WASHINGTON COLLEGE', 1), ('KRONOS INCORPORATE', 1), ('INTERNET EXCHANGE TECHNOLOGY, INC., A CALIFORNIA C', 1), ('MOLINA INFORMATION SYSTEMS, LLC', 1), ('ACQUAVELLA, CHIARELLI, SHUSTER, BERKOWER & CO., LL', 1), ('AMERICAN PUBLIC UNIVERSITY SYSTEM', 1), ('Y.E.S FINANCIAL RESEARCH INC DBA EMATRIX SOLUTIONS', 1), ('TURNPIKE ENTERPRISE ONE, INC.', 1), ('HUGHES SYSTIQUE CORPORATION', 1), ('ROYAL APPLIANCE MFG. CO. DBA TTI FLOOR CARE N.A.', 1), ('HEMIN INTERNATIONAL, INC.', 1), ('CHILDRENS HOSPITAL LOS ANGELES', 1), ('PROFESSIONAL POWER CONSULTING,INC', 1), ('W&M ENTERPRISES, INC.', 1), (\"MARKT ON LADIES' MILE LLC\", 1), ('IRENE FELLER', 1), ('IBC-HEARTHWARE INC.', 1), ('PHOTON DYNAMICS, INC.', 1), ('HEALTHPRO NURSING SOLUTIONS LLC', 1), ('INVAGEN PHARMACEUTICALS, INC', 1), ('CUSTOM BUILDING PRODUCTS', 1), ('BALTIMORE CITY PUBLIC SCHOOL SYSTEM', 1), ('SLEEP INNOVATIONS', 1), ('THE DICTIONARY PROJECT', 1), ('K & B PRODUCTIONS, INC.', 1), ('SELERIX SYSTEMS, INC.', 1), ('YOU ENGINEERING LLC', 1), ('AGILIANCE, INC.', 1), ('AVANTOR PERFORMANCE MATERIALS, INC.', 1), ('IKHANA GROUP, INC.', 1), ('THE CHILD AND FAMILY GUIDANCE CENTER', 1), ('LISA WALKER', 1), ('CLYDE BERGEMANN US INC', 1), ('MEDICAL SCIENCE & COMPUTING, INC.', 1), ('SAATCHI & SAATCHI HEALTHCARE COMMUNICATIONS, INC.', 1), ('FASHION POWER, INC.', 1), ('LEXISNEXIS RISK SOLUTIONS INC.', 1), ('SHARED HEALTH', 1), ('EMETRIC LLC', 1), ('RISHI PHARMACY CORP', 1), ('FTR INTERNATIONAL INC.', 1), ('OLIN CORPORATION', 1), ('ALTOSOFT CORPORATION', 1), ('ISTA NORTH AMERICA', 1), ('TEMPLE UNIVERSITY', 1), ('KOINFO IT & WEB SOLUTIONS, INC', 1), ('MANNKUL, INC.', 1), ('RAD DATA COMMUNICATIONS INC', 1), ('BRIAN GRIFFIN', 1), ('GAUGE CONSULTING, INC.', 1), ('BATES COLLEGE', 1), ('SMART INFORMATION MGMT SYS INC', 1), ('SIBERIA HOUSTON LNA, LLC DBA EXPRO AUTO COLLISION', 1), ('DELPHI CORPORATION', 1), ('UNITED TECHNOLOGIES CORP', 1), ('INFOSMART TECHNOLOGIES, INC.', 1), ('GAMJA LLC (MODERN CLEANERS)', 1), ('SYLVESTER ROOFING CO, INC.', 1), ('DREAMER ENTERPRISES, INC.', 1), ('DAUERFLORA USA INC.', 1), ('SCENIC WINDOW AND WALL SYSTEM INSTALLERS INC', 1), ('HOUSTON SHIP REPAIR, INC.', 1), ('DINALIC LLC', 1), ('OPTCAPITAL, LLC', 1), ('SUNERA TECHNOLOGIES, INC', 1), ('SWLHS, INC. DBA, INTERNAL MEDICINE CLINIC OF LAKE', 1), ('OPEN SOLUTIONS INC', 1), ('JILL KALLET- LUSTIGMAN', 1), ('UNIVERSITY OF NORTH FLORIDA', 1), ('W2BI, INC', 1), ('AMERICAN PHYSICAL SOCIETY', 1), ('DIRECT ENERGY', 1), ('GUERNSEY HEALTH SYSTEMS', 1), ('DEALOGIC LLC', 1), ('BETHESDA COUNTRY CLUB, INC.', 1), ('CULTURE LINK INC.-CHAMPION YOUTH ENRICHMENT SCHOOL', 1), ('WOODCREST PRE SCHOOL, INC.', 1), ('UNITED COMMERCE CENTERS, INC.', 1), ('ITEK CONSTRUCTION', 1), ('READY TO LEARN DAY CARE CENTER', 1), ('STREFFCO CONSULTANTS, INC.', 1), ('FRANCESCAS SANTORELLI', 1), ('JOBVITE, INC.', 1), ('SADIE POINSETT - WHITE', 1), ('SIGNATURE HEALTHCARE', 1), ('PARK WEST LANDSCAPE MAINTENANCE, INC.', 1), ('INVESTMENT METRICS, LLC', 1), ('ADVENTIST HEALTH SYSTEM/SUNBELT INC D/B/A FLORIDA', 1), ('TEXAS STATE UNIVERSITY-SAN MARCOS', 1), ('MA ENGINEERING CONSULTANTS, INC', 1), ('FUNCTIONAL LIFE ACHIEVEMENT, INC.', 1), ('FLORIDA CLINICAL LABORATORY, INC.', 1), ('APPTREE, INC.', 1), ('ELECTRIC POWER GROUP, LLC', 1), ('LG CHEM POWER INC', 1), ('REGIONAL ASSOCIATES,LP', 1), ('DIGITAS, INC.', 1), ('FULTON SCIENCE ACADEMY, INC.', 1), ('YOUR PART-TIME CONTROLLER, LLC', 1), ('SIMON & EDWARD, LLP', 1), ('SIGMAWAYS, INC', 1), ('MEDIA EXCEL, INC.', 1), ('J & D EQUIPMENT CORPORATION', 1), ('INDUSTRIAL VIDEO & CONTROL CO.', 1), ('TEITLER & TEITLER, LLP', 1), (\"ST. LUKE'S PHYSICIAN GROUP\", 1), ('NORTHEAST ARC', 1), ('PACIFIC LUTHERAN UNIVERSITY', 1), ('MACRONIX AMERICA INC', 1), ('ALLEGHENY LUDLUM CORPORATION', 1), ('APOGEE MEDICAL GROUP, WASHINGTON, PC', 1), ('ELLIS & WATTS INTERNATIONAL, LLC', 1), ('SMARTCARE, INC', 1), ('STAR ANALYTICS, INC', 1), ('LPB VENTURES INC', 1), ('NUGARESE INC', 1), ('HEMISPHERE TRADING OF NY, LLC', 1), ('SLABE MACHINE PRODUCTS', 1), ('ROBERTS ENGINEERING GROUP, LLC', 1), ('DOWN EAST COMMUNITY HOSPITAL', 1), ('BENGAL ENGINEERING & TECHNOLOGY ASSOCIATES, INC.', 1), ('MLOGICA, INC.', 1), ('SAMSUNG TELECOMMUNICATIONS AMERICA, LP', 1), ('SBP CONSULTING INC', 1), ('CENTURY CONSTRUCTION INC', 1), ('TOP DRAWER CUSTOM CABINETRY', 1), ('WOO SUNG AHN MD, INC.', 1), ('SOUTH HEART CLINIC, PLLC', 1), ('SANTA CLARA COUNTY OFFICE OF EDUCATION', 1), ('CAPITAL POINT FUNDING GROUP, INC.', 1), ('NPD GLOBAL INC', 1), ('KARMAK, INC.', 1), ('GREATER PHILADELPHIA CHAMBER OF COMMERCE', 1), ('ENGINEERING SERVICES CONSULTANCY LLC', 1), ('NETEFFECTS, INC.', 1), ('CENTRAL TEXAS ANGB RESTAURANT FUNDING, LLC', 1), ('A & A ENGINEERING, CIVIL AND STRUCTURAL ENGINEERS', 1), ('FOXCONN ASSEMBLY LLC', 1), ('SONIC FOUNDRY, INC', 1), ('OPTIMAL INC.', 1), ('TEJANO CENTER FOR COMMUNITY CONCERNS', 1), ('LOGISTICS PLUS', 1), ('MULTI-SHOT, LLC', 1), ('NANOMETRICS, INC.', 1), ('RADIX SYSTEMS INC', 1), ('HAZEL TILE & GRANITE, INC.', 1), ('MATRIX INTERNATIONAL TEXTILES, INC.', 1), ('ALPHA APPALACHIA SERVICES, INC.', 1), ('DAA DRAEXLMAIER AUTOMOTIVE OF AMERICA', 1), ('SUPPORTIAN INC.', 1), ('AMERICAN TECH SOLUTIONS INC', 1), ('YORK CONSTRUCTION CO INC D/B/A FLORA MOTEL', 1), ('MARKET DYNAMICS, INC', 1), ('FULCRUM LOGIC, INC.', 1), ('AUTHENTIX, INC.', 1), ('HARMONIX MUSIC SYSTEMS, INC.', 1), ('ENTEGEE, INC.', 1), ('UNIVERSITY PHYSICIAN GROUP', 1), ('INTERNATIONAL COMMUNICATIONS GROUP, INC.', 1), ('LAUREL MAIN STREET PHARMACY', 1), ('1800 GIFT CERTIFICATES LLC', 1), ('G. C. WALLACE, INC.', 1), ('SKANSKA USA CIVIL NORTHEAST INC.', 1), ('SKIM ANALYTICAL INC', 1), ('UNITED PATHOLOGY LTD', 1), ('MAGNETAR CAPITAL LLC', 1), ('SAN MARCOS CONSOLIDATED INDEPENDENT SCHOOL DISTRIC', 1), ('LINCOLN MANUFACTURING USA, LLC', 1), ('GAZIVODA REALTY CO., INC.', 1), (\"YOUNG'S SUPPLY INC.\", 1), ('ALLOY AND STAINLESS FASTENERS', 1), ('EYE SURGEONS OF INDIANA, P.C.', 1), ('SAMHO TOUR INC.', 1), ('WEBJECT SYSTEMS, INC.', 1), ('VERISIGN, INC.', 1), ('HILL-ROM SERVICES, INC.', 1), ('TYSON FOODS, INC.', 1), ('REHAB SPECIALISTS I, LLC', 1), ('HOWMEDICA OSTEONICS CORP/STRYKER ORTHO', 1), ('PACIFIC PHARMACY SERVICE, INC.', 1), ('CONCEPT SOFTWARE & SERVICES, INC', 1), ('NATIONAL TELECONSULTANTS', 1), ('FASHION LA FAMA, INC.', 1), ('SIEMENS PLM SOFTWARE INC.', 1), ('ITA FINANCIAL SERVICES, LLC', 1), ('GEORGIA-PACIFIC CONSUMER PRODUCTS LP', 1), ('TRANSCORE ITS, LLC', 1), ('CAFE RUSTICA', 1), ('CLEAN CASTLE, INC.', 1), ('DR. JORGE F. SANCHEZ, D.D.S.', 1), (\"ST. MARY'S HOSPITAL\", 1), ('WIENERSCHNITZEL #287', 1), ('GBC KITCHEN & BATH, LLC', 1), ('MICROLAN INTEGRATION, INC.', 1), ('BANSAR TECHNOLOGIES INC', 1), ('CITY OF DENTON', 1), ('FORREST SOLUTIONS, INC.', 1), ('MOBILE ASPECTS INC.', 1), ('VIRGINIA ARTS FESTIVAL', 1), ('SECURITY STORAGE OF WASHINGTON', 1), ('BAKER CONCRETE CONSTRUCTION, INC.', 1), ('SUNDANCE MANAGEMENT GROUP LLC', 1), ('TULLY CONSTRUCTION CO INC', 1), ('DYNA-BI SYSTEMS, INC', 1), ('SNOWBIRD', 1), ('HMC GROUP DBA HMC ARCHITECTS', 1), (\"PAT AND CARLA'S ITALIAN EATERY\", 1), ('EXPRESS LINE CORPORATION', 1), ('CYPRESS FAIRBANKS ISD', 1), ('GE HEALTHCARE BIOSCIENCES CORP.', 1), ('TRIWAY ENTERPRISE, INC.', 1), ('RIVER CITY EDUCATION SERVICES, INC', 1), ('AMERICAN COUNCILS FOR INTERNATIONAL EDUCATION', 1), ('WEICRO GRAPHICS, INC. DBA LEMON TREE STATIONERY', 1), ('S AND S MANAGEMENT INC.', 1), ('OLYMPIC HOSPITALIST PHYSICIANS, P.S.', 1), ('J. TYSON & ASSOCIATES, INC', 1), ('PINE TREE LANDSCAPE SYSTEMS INC.', 1), ('ETEAM INC', 1), ('COVENANT LOS ANGELES CHURCH', 1), ('CITIZENS OF HUMANITY, LLC.', 1), ('THE SHADE STORE LLC', 1), ('QTS L.L.C', 1), ('TOWNCARE DENTAL PARTNERSHIP, INC.', 1), ('EDGEWARE COMPUTERS, INC.', 1), ('TEQUILA SUNRISE OF WESTCHESTER', 1), ('SB & COMPANY, LLC', 1), ('ALTA VISTA SOLUTIONS, INC.', 1), ('SCI FUNERAL & CEMETERY PURCHASING COOPERATIVE, INC', 1), ('SANFORD CASTING', 1), ('LESCHACO, INC.', 1), ('CRANFORD JOHNSON ROBINSON WOODS', 1), ('ROSEVILLE AREA SCHOOLS, ISD623', 1), ('PRIMECARE DENTAL LLC', 1), ('ENDOLOGIX, INC.', 1), ('21ST CENTURY OF JACKSONVILLE, LLC', 1), ('ASMO GREENVILLE OF NORTH CAROLINA', 1), ('MEDFIX INTERNATIONAL LLC', 1), ('R.M. HARRIS CO INC', 1), ('INFOTECH INSTITUTE,INC', 1), (\"FX ALLIANCE, LLC ('FXALL')\", 1), ('MIRA DENTAL CARE, PLLC', 1), ('AGFA CORPORATION', 1), ('TORTILLERIA EL MAIZAL', 1), ('MBM AUTO MANAGEMENT INC.', 1), ('MEDIA CREATION TECHNOLOGIES, INC.', 1), ('DETROIT HEAVY TRUCK ENGINEERING, LLC', 1), ('TREND SMART AMERICA LTD.', 1), ('COMPU-VISION CONSULTING, INC.', 1), ('COMERICA', 1), ('COMPRESSORWORKS, INC.', 1), ('LOGEN AMERICA EXPRESS,LLC', 1), ('WAH HUNG INTERNATIONAL MACHINERY INC', 1), ('CAMBRIC CORPORATION', 1), ('HORIZON HOBBY, INC.', 1), ('ASG GENERAL PARTNER INC.', 1), ('AERA ENERGY SERVICES COMPANY', 1), ('JDC HEALTHCARE PLLC', 1), ('SPORTS & IMPORT SERVICES, LLC', 1), ('LMB STEEL STRUCTURES, INC.', 1), ('RP TAX AND ACCOUNTING SERVICES, LLC', 1), ('SKYVIEW COOLING CO.', 1), ('SID COMPUTER GROUP, INC.', 1), ('RADM CORP', 1), ('COALESCENT SYSTEMS LLC', 1), ('PENN MUTUAL LIFE INSURANCE COMPANY', 1), ('TICKET SOFTWARE, LLC', 1), ('PLURAL ENTERTAINMENT, INC.', 1), ('VALLEY BETHEL PRESBYTERIAN CHURCH', 1), ('SYSTEM PRODUCE AMERICA CORP.', 1), ('MONTEBELLO AUTO CRAFT INC', 1), ('MEXI-CALI INC', 1), ('ONESCREEN INC.', 1), ('EVA CARE GROUP, LLC', 1), ('HANGBOK, INC.', 1), (\"BANGKOK JOE'S\", 1), ('ACCESS BIO, INC.', 1), ('QUANTITATIVE SERVICES GROUP LLC', 1), ('BURTON CORPORATION', 1), ('CALEB BRETT USA, INC.', 1), ('DEMAR SERVICES, LLC', 1), ('TOTALLY NETWORKED, INC', 1), ('643DP, INC.', 1), ('SAN MATEO FOSTER CITY SCHOOL DISTRICT', 1), ('RE SCIENCE INC.', 1), ('CHERISH HOME HEALTH SERVICES INC', 1), ('NHK GROUP,INC', 1), ('FROG DESIGN, INC.', 1), ('PREDICTIVE DATA AND ANALYTICS', 1), ('FLORIDA POWER AND LIGHT COMPANY', 1), ('ION MEDIA NETWORKS', 1), ('BIG DESIGN, INC.', 1), ('CBI NOOR INC', 1), ('DEPT OF VETERAN AFFAIRS MEDICAL CENTER', 1), ('INTELLECT BUSINESS SOLUTIONS', 1), ('TRANSCANADA USA SERVICES INC.', 1), ('DAWN TECHNOLOGIES CORPORATION', 1), ('MEMORIAL HOSPITAL', 1), ('UBISENSE INC.', 1), ('SYSGAIN, INC.', 1), ('CHICAGO FOOD CORP', 1), ('GALLERIA RETAIL TECHNOLOGY SOLUTIONS INC', 1), ('JEWEL OF INDIA RESTAURANT', 1), ('PAGESOUTHERLANDPAGE', 1), ('DREAM CONSTRUCTION FRESNO,INC.', 1), ('WORLDWIDE COMMUNICATIONS INC.', 1), ('GMA ACCESSORIES INC', 1), ('A ROYAL TOUCH INC', 1), (\"CHICO'S FAS, INC.\", 1), ('VAKTECH CORPORATION LLC', 1), ('PELHAM COUNTRY CLUB INC.', 1), ('PARADIGM MANAGEMENT SERVICES, LLC', 1), ('NYSARC; INC.,NYC CHAPTER', 1), ('DROGA5, LLC', 1), ('UNIVERSITY OF SOUTHERN INDIANA', 1), ('ACH FOOD COMPANIES, INC.', 1), ('ARDAMAN & ASSOCIATES, INC.', 1), ('OAKSTON TECHNOLOGIES', 1), ('THOUGHTWORKS, INC.', 1), ('CAMPHILL SPECIAL SCHOOL', 1), ('LTC DESIGN GROUP', 1), ('INTERTRUST TECHNOLOGIES CORPORATION', 1), ('PSJ PHARMACY LLC', 1), ('EXAIMAGE CORPORATION', 1), ('MCKINSTRY CO., LLC', 1), ('BAXTER HEALTHCARE CORPORATION', 1), ('PRODUCTOPOP INC.', 1), ('A&P FOOD SERVICES INC.', 1), ('METRO HOME CARE INC.', 1), ('BIMBO BAKERIES USA, INC.', 1), ('THE STEEL NETWORK, INC.', 1), ('SORENSON ENGINEERING, INC.', 1), ('GREAT LAKES MEDICINE, PLC', 1), ('G&K SERVICES, INC', 1), ('KLU, KLU & KLU, INC. DBA SIMS', 1), ('MUNDO HISPANICO ACQUISITIONS LLC', 1), ('ROSALIND FRANKLIN UNIVERSITY OF MEDICINE AND SCIEN', 1), ('JARVIK HEART, INC.', 1), ('CHOIS INTERNTIONAL, INC.', 1), ('ROSENHAUS, JORDAN', 1), ('ROCKVILLE BANK', 1), ('CH2M HILL ENGINEERS INC.', 1), ('MORNINGSTAR INVESTMENT SERVICES, INC.', 1), ('BENIHANA', 1), ('ROYAL 4 SYSTEMS', 1), ('SALLIE MAE, INC.', 1), ('SELF TUCKER ARCHITECTS, INC.', 1), ('KOBELCO CONSTRUCTION MACHINERY AMERICA LLC', 1), ('THOMPSON, COBB, BAZILIO & ASSOCIATES, P.C.', 1), ('SCAD GROUP, INC.', 1), ('CG POWER SYSTEMS USA INC', 1), ('C-SHELL, INC', 1), ('HARMAN INTERNATIONAL INDUSTRIES, INC', 1), ('CENGAGE LEARNING, INC.', 1), ('MERCY MEDICAL CENTER, INC.', 1), ('BLOOMSBURG UNIVERSITY OF PENNSYLVANIA', 1), ('BLOOMINGTON MUSIC ACADEMY LLC', 1), ('CHIPTON-ROSS, INC.', 1), ('OLYMPUS CORPORATION OF THE AMERICAS', 1), ('ISLAND PACIFIC SUPERMARKETS, INC', 1), ('L&H INDUSTRIAL, INC', 1), ('SES GROUP & ASSOCIATES, LLC', 1), ('SMITHFIELD PACKING COMPANY, INC.', 1), ('LIVONIA DIAGNOSTICS SERVICES INC', 1), ('WANNABE FASHION CORP.', 1), ('RANDOLPH MEDICAL ASSOCIATES', 1), ('HOSPITAL SPECIALISTS PLLC (KMC)', 1), ('RAMONA CARE HOME', 1), ('FABICA INC', 1), ('FIRST MANAGED CARE OPTION', 1), ('SOLARIS S CORP', 1), ('PROGRESS FINANCIAL', 1), ('SOVEREIGN BANK', 1), ('TCMI, INC.', 1), ('M2 RESOURCES INC', 1), ('U.S. FOOD MART', 1), ('EPI-USE AMERICA INC', 1), ('CORE JEWELRY INC.', 1), ('AMR CAPITAL TRADING CORP.', 1), ('NATIONAL HOPSITALIST SERVICES, PC', 1), ('NEW DIRECTION SPORT , INC.', 1), ('HERITAGE PROVIDER NETWORK', 1), ('BUILD-EZ CONSTRUCTION, INC.', 1), ('HASBRO MANAGERIAL SERVICES LLC', 1), ('PRECISION ACADEMY SYSTEM', 1), ('SV SYSTEMS INC', 1), ('DIAGNOSTIC CLINIC OF LONGVIEW, P. A.', 1), ('WENTWORTH-DOUGLASS PHYSICIAN CORPORATION', 1), ('FR DESIGNS LLC', 1), ('J-NETWORK INC.', 1), ('RADHIKA CORP DBA GROVELAND PHARMACY', 1), ('ALLIANCE MACHINE SYSTEMS INTL., LLC', 1), ('MAXIMA CONSULTING INC', 1), ('FLUSHING MARKET INC.', 1), ('INDEPENDENT FRENCH MANUFACTURERS, INC.', 1), ('THE SHIPLEY SCHOOL', 1), ('NANDA, INC.', 1), ('SOFTNICE INC.', 1), ('HIGHBRIDGE CAPITAL MANAGEMENT, LLC', 1), ('MCPHERSON COLLEGE', 1), ('AVE MARIA SCHOOL OF LAW', 1), ('SCRIBBLES AND GIGGLES PEDIATRIC DAY HEALTH CENTER', 1), ('RICHARD LIN INSURANCE AGENCY', 1), ('GEONINE INC.', 1), ('AMBIOPHARM, INC.', 1), ('BLAKELY SOKOLOFF TAYLOR & ZAFMAN LLP', 1), ('TECHNO MARKETING GROUP LLC', 1), ('SEMINOLE ISD', 1), ('FEDERAL INTERNATIONAL INC', 1), ('RCT CORPORATION', 1), ('I3LOGIX, INC', 1), ('ANDREA ALBAN-DAVIES', 1), ('XAVIER UNIVERSITY', 1), ('PENOBSCOT VALLEY HOSPITAL', 1), ('COLLEGE OF THE HOLY CROSS', 1), ('ASH GROVE MATERIALS CORPORATION', 1), ('ONE ON ONE MARKETING', 1), ('JUMBO INTERNATIONAL FOOD, INC', 1), ('CHARTIS OVERSEAS ASSOCIATION', 1), ('MBH ARCHITECTS', 1), ('ACQUAVELLA, CHIARELLI, SHUSTER, BERKOWER & CO, LLP', 1), ('SMART TAX OF NC INC.', 1), ('GIFFORD FONG ASSOCIATES', 1), ('MIK GROUP INC', 1), ('KSM BUSINESS SERVICES, INC.', 1), ('LAMONT FRUIT FARM INC', 1), ('IMEX CONSTRUCTION & DEVELOPMENT, INC', 1), ('AGILYSYS, INC.', 1), ('KERSHAW COUNTY SCHOOL DISTRICT', 1), ('AGAMA SOLUTIONS INC.', 1), ('HUGHES DESIGN ASSOCIATES', 1), ('DEHRA MIOTKE, LLC', 1), ('C K SPORTSWEAR, INC.', 1), ('QUALIFIED EMERGENCY SPECIALISTS INC', 1), ('MOUNT AUBURN PROFESSIONAL SERVICES', 1), ('LENZING FIBERS INC.', 1), ('I365 INC. (A SEAGATE COMPANY)', 1), ('EARTHCARE A DBA OF TULLY ENVRIONMENTAL INC.', 1), ('ALLSTON TRADING, LLC', 1), ('COLE HAAN, INC.', 1), ('SUE J HYUNG CPA PC', 1), ('NEW YORK LIFE INVESTMENT MANAGEMENT LLC', 1), ('AMERICAN PORTWELL TECHNOLOGY INC.', 1), ('BRIGHTPOINT NORTH AMERICA L.P', 1), ('CHINA TELECOM (AMERICAS) CORPORATION', 1), ('TAE MEN PROPERTY, INC. DBA CYBER DEPOT TECHNOLOGY', 1), ('PUBLICIS, INC.', 1), ('SUPERIOR QUARTZ DBA SILICA ENGINEERING GROUP', 1), ('INFOTECH CONSULTING, INC.', 1), ('SOCCER WAZA LLC', 1), ('GLOBAL CASE TECHNOLOGIES, INC.', 1), ('EXTOL INTERNATIONAL, INC.', 1), ('ACE AMERICAN INSURANCE COMPANY', 1), ('EAU CLAIRE COOPERATIVE HEALTH CENTER', 1), ('RIVERSIDE MEDICAL CENTER', 1), ('WHIPSAW, INC.', 1), ('GNHSOFT INC', 1), ('MGH TRANSPORTATION SERVICES LLC', 1), ('IRISE', 1), ('DATAWORKS CONSULTING GROUP CORPORATION', 1), ('DURABOTICS INC', 1), ('GREAT PLAINS OF REPUBLIC COUNTY', 1), ('SENTRANA, INC.', 1), ('BRONX COMMUNITY COLLEGE OF THE CITY UNIVERSITY OF NEW YORK', 1), ('HEALTHY FAMILY DENTISTRY PA', 1), ('HOBNOB, INC.', 1), ('ODYSSEY RESEARCH SERVICES INC.', 1), ('GREENWICH HOSPITAL', 1), ('GROWER DIRECT NUT CO', 1), ('IKNOWVATE TECHNOLOGIES INC', 1), ('LANTANA TRADING, LLC', 1), ('CK TAX AND ACCOUNTING SERVICES, LLC', 1), ('KELLS FARMS', 1), ('MERCED SYSTEMS, INC.', 1), ('THE CAREY SCHOOL', 1), ('RECIF, INC', 1), ('GALAXE.SOLUTIONS', 1), ('MY TECH US LLC', 1), ('ACADEMY OF OUR LADY OF GUAM', 1), ('MERU NETWORKS, INC.', 1), ('3840 FORMOSA CORPORATION', 1), ('IPSEN INC', 1), ('KATE KEATING ASSOCIATES, INC.', 1), ('SEPARATOR TECHNOLOGY SOLUTIONS US INC', 1), ('AURITAS LLC', 1), ('HAVERFORD COLLEGE', 1), ('MERIDIAN DESIGN ASSOCIATES ARCHITECTS, PC', 1), ('XIOTECH CORPORATION', 1), ('LTL STRATEGIES, INC.', 1), ('ATMI, INC.', 1), ('KALUSTYAN CORPORATION', 1), ('POINTWEST  TECHNOLOGIES CORPORATION', 1), ('VISCOGLIOSI BROS., LLC', 1), ('MAJESTIC SYSTEMS INTEGARTION CO.INC', 1), ('ASPEN HILL GENERAL AND COSMETIC DENTISTRY', 1), ('YOUNG HARRIS COLLEGE', 1), ('AMPLE STORAGE', 1), ('UDIG LLC', 1), ('INFOTECH PRISM LLC', 1), ('YOUNEX BUILDER CORP.', 1), ('FORUM ASSET MANAGEMENT, LLC', 1), ('EQUITY PACKAGING INC.', 1), ('FIRST TEK TECHNOLOGIES INC.', 1), ('THE PRESS RESTAURANT GROUP INC', 1), ('HARVARD PILGRIM HEALTH CARE', 1), ('AVIS BUDGET CAR RENTAL, LLC', 1), ('MARANA HEALTH CENTER', 1), ('GTS, INC.', 1), ('NORTHERN REHAB INC.,', 1), ('VEHMA INTERNATIONAL OF AMERICA INC.', 1), ('WIRT DESIGN GROUP, INC.', 1), ('ELEMENT CAPITAL MANAGEMENT LLC', 1), ('FASTPULSE TECHNOLOGY, INC.', 1), ('AFFORDABLE DENTAL OF TN', 1), ('CISPHARMA INC', 1), ('HANA SHIN INC', 1), ('LAMAR INSTITUTE OF TECHNOLOGY', 1), ('CALIFORNIA RESTAURANTS, INC. DBA CITRUS CITY GRILL', 1), ('CALIFORNIA TRINITY UNIVERSITY', 1), ('MOTORS INSURANCE CORPORATION', 1), ('NATIONAL SECURITIES CORPORATION', 1), ('DENNIS M. SMITH', 1), ('VERIAN TECHNOLOGIES LLC', 1), ('GE-HITACHI NUCLEAR ENERGY AMERICAS, LLC', 1), ('MCI COMMUNICATIONS SERVICES, INC.', 1), ('PENTA ENGINEERING CO. LLC', 1), ('DISTRICT OF COLUMBIA DEPT OF MENTAL HEALTH', 1), ('EDWARD W SPARROW HOSPITAL ASSOCIATION', 1), ('ASCO POWER TECHNOLOGIES, LP', 1), ('FAMILY STAR', 1), ('TEKTRONIX, INC.', 1), ('SEACHANGE INTERNATIONAL', 1), ('MASHDOTS COLLEGE', 1), ('NEXUS SYSTEMS, INC.', 1), ('ACE MANAGEMENT INC.', 1), ('MEI, LLC', 1), ('CAPE FEAR CARDIOLOGY ASSOCIATES, P.A.', 1), ('RAYNHAM FAMILY DENTAL, INC.', 1), ('CIVISTA', 1), ('GRAND CIRCLE CORPORATION', 1), ('CREDIT SUISSE ASSET MANAGEMENT, LLC', 1), ('PACE COMMUNICATIONS', 1), ('SOFTWARE TECHNOLOGY GROUP', 1), ('ALBIAN CONSULTING LLC', 1), ('KENNECOTT EXPLORATION COMPANY', 1), ('NEWORKS NEW YORK LTD', 1), ('NORTHWESTERN MEDICAL FACULTY FOUNDATION', 1), ('NESTLÉ USA, INC.', 1), ('BIOVIGILANT SYSTEMS, INC', 1), ('FAMILY HEALTH CENTER OF WORCESTER, INC.', 1), ('NATIONAL CABLE SERVICES, INC.', 1), ('DEARBORN MID-WEST CONVEYOR CO.', 1), ('NES, LLC.', 1), ('DEVELOPMENTEX.COM INC', 1), ('ICT-ENABLE TECHNOLOGY, INC.', 1), ('MARTIN SPOLLEN & JIE CHEN', 1), ('JOHNSON IMMIGRATION LAW, PC', 1), ('KHALIFEH & ASSOCIATES, INC.', 1), ('BACKBONE ENTERTAINMENT', 1), ('OLYMPIA MEDICAL CENTER', 1), ('INTERNATIONAL QUALITY HOME CARE CORPORATION', 1), ('B AMERICA CORPORATION', 1), ('MAGNA ELECTRONICS', 1), ('AMBITO LLC', 1), ('ADA CORE TECHNOLOGIES, INC.', 1), ('WINSTON MANOR', 1), ('DR. WARREN E. SMITH HEALTH CENTERS', 1), ('HALEY TECHNOLOGIES, INC', 1), ('CONSULTAX, INC.', 1), ('NATEK INCORPORATED', 1), ('BAHWAN CYBERTEK INC', 1), ('YASKAWA ELECTRIC AMERICA, INC.', 1), ('IMAGETREND, INC.', 1), ('SAMFORD UNIVERSITY', 1), ('FSI INTERNATIONAL, INC.', 1), ('SPX COOLING TECHNOLOGIES, INC.', 1), ('SANDATA TECHNOLOGIES, LLC', 1), ('EXIM TRADING LLC', 1), ('GERMAN-AMERICAN INTERNATIONAL SCHOOL', 1), ('ANL LIGHTING, LLC', 1), ('SDIL INC', 1), ('SYSKA HENNESSY GROUP, INC.', 1), ('CALKO TRANSPORT COMPANY, INC.', 1), ('TECTONIC ENGINEERING & SURVEYING CONSULTANTS, P.C.', 1), ('BATTERY MANAGEMENT CORP', 1), ('KOTAK MAHINDRA INC', 1), ('RAINBOW SCHOOL, LLC', 1), ('JOY IMPORT & WHOLESALE, INC.', 1), ('LUZ SOCIAL SERVICES, INC.', 1), ('INSTITUTE OF INTERFAITH DIALOG FOR THE WORLD PEACE', 1), ('MOBITV', 1), ('KLEPP WOOD FLOORING CORP', 1), ('NATIONAL MEDICAL CARE, AN FMC COMPANY', 1), ('HFR ASSET MANAGEMENT LLC', 1), ('SHAN MCNAUGHTON, ARCHITECT', 1), ('SUNY POTSDAM', 1), ('MACKENZIE KECK, INC.', 1), ('KIDNEY CONSULTANTS OF EL PASO, PA', 1), ('AJEL TECHNOLOGIES, INC.', 1), ('LEAP ACADEMY UNIVERSITY CHARTER SCHOOL', 1), ('MSRCOSMOS LLC', 1), ('OBJECT COMPUTING, INC.', 1), ('APOGEE MEDICAL GROUP, MISSOURI, INC.', 1), ('DCS GLOBAL SYSTEMS INC.', 1), ('WESTMINSTER COLLEGE', 1), ('EURO RSCG HEALTHVIEW INC.', 1), ('ALLIED MINDS', 1), ('SIMPSON GUMPERTZ & HEGER INC.', 1), ('DOW CORNING CORPORATION', 1), ('PHYSICIANS GROUP, LC', 1), (\"STEP N' FETCH IT\", 1), ('G.E.J FOODS, LLC T/A CRANFORD FAMILY RESTAURANT', 1), ('NUVOTON TECHNOLOGY CORPORATION AMERICA', 1), ('ONE WILLIAM STREET CAPITAL MANAGEMENT, L.P.', 1), ('HOLLISTER SCHOOL DISTRICT', 1), ('EMPIRE MEDICAL ASSOCIATES, PC', 1), ('CARPOOL INVESTORS LP', 1), ('LOYOLA UNIVERSITY NEW ORLEANS', 1), ('CHOICE HOTELS INTERNATIONAL', 1), ('HS SOLUTIONS INC.', 1), ('1ST FINANCIAL FUNDING & INVESTMENT CORPORATION', 1), ('SIMULATIONS PLUS, INC.', 1), ('CCE SOFTWARE, INC.', 1), ('GRACE HOMES LLC', 1), ('LIVING STREAM PRESBYTERIAN CHURCH', 1), ('TEXAS HEALTH RESOURCES', 1), ('KT EDUCATIONAL, INC.', 1), ('SABIOSCIENCES CORPORATION', 1), ('TETRA TECH', 1), ('KERRY FORTUNE', 1), ('SHOGUN.INC.DBA SHOGUN JAPANESE STEAK HOUSE', 1), ('BATTERYCORP, INC.', 1), ('CYBEX INTERNATIONAL', 1), ('TECHNOSOFT CORPORATION', 1), ('TOUCH OF BEAUTY SUPPLY, INC.', 1), ('NES OVERSEAS (USA) LLC', 1), ('DETROIT ENGINEERED PRODUCTS', 1), ('PERKINELMER HOLDINGS INC', 1), ('BRIDGE ENERGY GROUP, INC.', 1), ('CHARGER INDUSTRIES, LP', 1), ('ADVANCED RADIATION PHYSICS SERVICE INC.', 1), ('STELLARRAY, INCORPORATED', 1), ('COMMERCIAL VEHICLE GROUP', 1), ('EMDEON BUSINESS SERVICES LLC', 1), ('INSOL, INC.', 1), ('EBISU MARKETING, CORP.', 1), ('DISCOVER FINANCIAL SERVICES LLC', 1), ('TURNBERRY SOLUTIONS, INC', 1), ('GR OVERSEAS TRADING CORP', 1), ('VISION CABINET, INC.', 1), ('BLOOMINGTON-NORMAL SEATING COMPANY', 1), ('GURU DENIM DBA TRUE RELIGION BRAND JEANS.COM', 1), ('GROUPWARE TECHNOLOGY, INC', 1), ('KREIS JEWELRY USA CORP', 1), ('JONES APPAREL GROUP USA, INC.', 1), ('DAEKYO AMERICA, INC', 1), ('EVOLUTION ROBOTICS, INC.', 1), ('TOTALOGISTIX, INC.', 1), ('SS CONSULTANTNET, LLC', 1), ('BUSINESSOBJECT SOLUTIONS INC.', 1), ('LAKE REGION MEDICAL GROUP P.A.', 1), ('ABU AZIZULLAH MD PA', 1), ('A123SYSTEMS, INC.', 1), ('COMPREHENSIVE LOGISTICS INC.', 1), ('BROCKTON NEIGHBORHOOD HEALTH CENTER', 1), ('ELIZABETH GLASER PEDIATRIC AIDS FOUNDATION', 1), ('CHO & SO, INC.', 1), ('IMPERVA, INC', 1), ('ROANOKE CHOWAN COMMUNITY HEALTH CENTER, INC.', 1), ('KOLALOKA INDUSTRIES LP', 1), ('GAMMA TECHNOLOGIES, INC.', 1), ('AMERICAN MULTI-CINEMA, INC', 1), ('WIRTZ BEVERAGE ILLINOIS, LLC', 1), ('CORPORATE BIZ SOLUTIONS INC', 1), ('DHS MANAGMENT SERVICES', 1), ('TUV RHEINLAND PTL LLC', 1), ('TLH CONSTRUCTION CORP.', 1), ('CAROLINA OUTREACH LLC', 1), ('AVIDYNE CORPORATION', 1), ('BURLINGTON COAT FACTORY WAREHOUSE CORPORATION', 1), ('COINSTAR, INC.', 1), ('CREATIVE CONSERVATION COMPANY, INC.', 1), ('E-EMPHASYS TECHNOLOGIES INC', 1), ('CHICAGO BRIDGE & IRON COMPANY (DELAWARE)', 1), ('BETHESDA HEALTHCARE SYSTEM, INC', 1), ('AREVA NP INC.', 1), ('A -1 CONSULTING, INC.', 1), ('ROBERT W. BAIRD & CO. INCORPORATED', 1), ('STRATEGIC SYSTEMS, INC', 1), ('TAMPA ELECTRIC COMPANY', 1), ('MTI LABORATORY, INC.', 1), ('PULMONARY & SLEEP PHYSICIANS OF SOUTH JERSEY, PA', 1), ('LIBRA ADVISORS, LLC', 1), ('ACTIVE KNITWEAR RESOURCES INC.', 1), ('KIDNEY CARE CONSULTANTS P.C.', 1), ('C.S.I. DEVELOPERS INC', 1), ('ESPRIT US RETAIL, LTD.', 1), ('RAG ELECTRIC, INC.', 1), ('MADSEN FLATHMANN DAMERON & BABCOCK ARCHITECTS, INC', 1), ('ALMASED USA, INC.', 1), ('RHEUMATOLOGY ASSOCIATES', 1), ('ILLINOIS TOOL WORKS', 1), ('MARION HAYDEN', 1), ('MULTINATIONAL BENEFIT ASSOCIATES, INC.', 1), ('SONY ONLINE ENTERTAINMENT', 1), ('CPK TECHNOLOGIES', 1), ('MARSHALL ENGINEERING CORPORATION', 1), ('MINNESOTA ONCOLOGY HEMATOLOGY P.A.', 1), ('MARY KAY INC.', 1), ('AC PROPULSION, INC.', 1), ('CHRISTIANA CARE', 1), ('GREAT LIGHT ZOEUN FULLERTON JOEUN CHURCH', 1), ('TRINITI CORPORATION', 1), ('AFFINION GROUP', 1), ('QUEENSBOROUGH COMMUNITY COLLEGE', 1), ('EPICENTER STAR LLC', 1), ('RELIANCE GLOBAL SERVICES', 1), ('E - INFOTEK SOLUTIONS, INC.', 1), ('WORLD VISION INTERNATIONAL', 1), ('VITRIA TECHNOLOGY', 1), ('KOREAN HEALTH, EDUCATION, INFORMATION AND RESEARCH', 1), ('MATRIX SOLUTIONS CORP.', 1), ('REGISTRIA, INC.', 1), ('PROVIDENCE HEALTH AND SERVICES', 1), ('AILEEN ATKINS', 1), ('SOFTPATH SYSTEM,LLC', 1), ('TOSHIBA AMERICA INFORMATION SYSTEMS, INC.', 1), ('S&C ELECTRIC COMPANY', 1), ('ILLINOIS MUTUAL LIFE INSURANCE COMPANY', 1), ('C&D ZODIAC', 1), ('SUNG SOOK AN', 1), ('AVISENA, INC.', 1), ('BRAINSTORM DIGITAL, INC.', 1), ('AMERICAN IT RESOURCE GROUP INC', 1), ('CENZIC, INC.', 1), ('SOFTWARE PROFESSIONALS, INC', 1), ('H SUPPLY INC', 1), ('JACOBUS ENERGY, INC.', 1), ('UNIQUE LOGISTICS INTERNATIONAL (NYC), LLC', 1), ('PIXSTAR, INC', 1), (\"ELLE'S CARE HOME\", 1), ('SAMARA TECH, LLC', 1), ('S & J WORLDWIDE, INC.', 1), ('INSTITUTE OF INTERNATIONAL EDUCATION, INC.', 1), ('EMIDS TECHNOLOGIES PRIVATE LIMITED', 1), ('TECTURE LLC', 1), ('SUNRIDER INTERNATIONAL', 1), ('NANCY CASTLE', 1), ('VAN ACKER CONSTRUCTION', 1), ('THE LIGHTING SCIENCE GROUP CORPORATION', 1), ('MOUNT VERNON NEIGHBORHOOD HEALTH CENTER , INC.', 1), ('GRANITE ESCROW SERVICES', 1), ('WALTON PRESS INC', 1), ('ACTIX, INC.', 1), ('GSSR, INC', 1), ('MIRANDA ALLIANCE BUSINESS DEVELOPMENT, LLC', 1), ('ONCEPT INCORPORATED', 1), ('LINMARA QUEST INC. DBA TERRA COTTA HOME', 1), ('COFFEYVILLE RESOURCES REFINING & MARKETING, LLC', 1), ('AMADI CARPET INCORPORATED', 1), ('APPPERFECT CORPORATION', 1), (\"MASTER CHO'S TALIUM INC\", 1), ('TOOR BROTHERS CORPORATION', 1), ('GREENLEAF HOTEL INC.', 1), ('PANTAR SOLUTIONS INC', 1), ('MEI WU ACOUSTICS', 1), ('TREPP, LLC', 1), ('AMERICAN MANAGEMENT GROUP LLC', 1), ('ELECTRIC POWER SYSTEMS', 1), ('MATTHEWS INTERNATIONAL CAPITAL MANAGEMENT, LLC', 1), ('RENAL ASSOCIATES, P.A.', 1), ('UBICS, INC.', 1), ('DAE HYUP CHUNG', 1), ('DEVON ENERGY CORP', 1), ('BERKELY CLEANERS', 1), ('48WS.COM LLC', 1), ('VENTECH ENGINEER INTERNATIONAL COMPANY', 1), ('MASTER CONSULTANTS PLUS INC.', 1), ('THE FAY SCHOOL, INC.', 1), ('TEXAS A&M INTERNATIONAL UNIVERSITY', 1), ('RAMTRON INTERNATIONAL CORPORATION', 1), ('PHILADELPHIA ACCIDENT AND INJURY CENTER LLC', 1), ('21ST CENTURY ONCOLOGY OF JACKSONVILLE, LLC', 1), ('WYNDHAM WORLDWIDE OPERATIONS, INC.', 1), ('DURR MECHANICAL CONSTRUCTION, INC.', 1), ('FASTKIT CORP.', 1), ('SUMTOTAL SYSTEMS, INC.', 1), ('OBJECTWIN TECHNOLOGY, INC.', 1), ('AMAX ENGINEERING CORPORATION', 1), ('MARKIT ON DEMAND', 1), ('JUN Y PARK DDS', 1), ('CHEMTEX ENVIRONMENTAL LABORATORY INC.,', 1), ('NETCOM SYSTEMS, INC.', 1), ('LAWRENCE COUNTY MEMORIAL HOSPITAL', 1), ('EMPIRE STATE AUTO, CORP.', 1), ('HICO AMERICA SALES & TECHNOLOGY, INC.', 1), ('ENERGY BBDO', 1), ('PHOENIX PARTNERS GROUP LP', 1), ('FEDERAL HOME LOAN BANK OF CHICAGO', 1), ('FRITO-LAY, INC.', 1), ('SOUTHERN UTAH UNIVERSITY', 1), ('RAVELLO SOLUTIONS, LLC', 1), ('CLARKSTON-POTOMAC GROUP, INC.', 1), ('COMMUNITY HEALTH CENTER OF SNOHOMISH COUNTY', 1), ('K&L BROTHERS, INC. T/A PEKING PAVILLION', 1), ('LRK INC.', 1), ('CALUMET PUBLIC SCHOOL DISTRICT 132', 1), ('SGS NORTH AMERICA INC.', 1), ('MALCOLM & CISNEROS', 1), ('COWBOY BURGERS & BBQ', 1), ('VISUAL CITI INC.', 1), ('TOWER INSURANCE COMPANY OF NEW YORK', 1), ('UTCA, INC.', 1), ('GREEN VALLEY TURF CO.', 1), ('LAW OFFICES OF KYUNG HEE LEE, PC', 1), ('RDICONNECT, INC.', 1), ('ANLAC, LLC', 1), ('THE WHITE PALADIN GROUP, INC.', 1), ('DC GROUP, INC., D.B.A. UNIQUESETTINGS OF NEW YORK', 1), ('AVNET, INC.', 1), ('FLORIDA INTERCULTURAL ACADEMY', 1), ('YOUNG WILLIAMS, PC', 1), ('KF RINALDI LLC', 1), ('THE JEWELRY CHANNEL, INC.', 1), ('LEMONGRASS LLC. DBA LEMONGRASS MODERN THAI CUISINE', 1), ('TULSA HOSPITALISTS INC', 1), ('ROGERS MARVEL ARCHITECTS PLLC', 1), ('ASUS COMPUTER INTERNATIONAL', 1), ('J. GOLDMAN & CO., L.P.', 1), ('BRAZIL PRODUCTS COMPANY', 1), ('DEPT. OF VETERANS AFFAIRS MEDICAL CENTER', 1), ('IONIC CONTRACTION, CORP', 1), ('DEPT OF MEDICINE MEDICAL SERVICE GROUP @ SUNY HSC', 1), ('COGENT HEALTHCARE OF PENNSYLVANIA, INC.', 1), ('DU  JAPON  HAIR  CLUB', 1), ('OTO BAILEY FUKUMOTO & MISHIMA, INC.', 1), ('FEDBID, INC.', 1), ('SOFTDOCS, INC.', 1), ('CREDIT CARD SERVICES', 1), ('TUTTO II GIORNO II D/B/A TUTTO IL GIORNO', 1), ('MAVE ENTERPRISES, INC.', 1), ('COALITION DEVELOPMENT (US) INC.', 1), ('CONCERN WORLDWIDE (US) INC.', 1), ('CTU PRECAST', 1), ('TELLABS NORTH AMERICA, INC.', 1), ('SYNTHES', 1), ('SHAHZ BROTHERS INC.', 1), ('EXPRESS MACHINERY, INC.', 1), ('3201 HOTEL LLC', 1), ('GOOD NEIGHBOR YOUTH CHURCH', 1), ('TOP TERMITE CO., INC.', 1), ('WIENER DENTAL LLC', 1), ('ITG ANALYTICS, INC.', 1), ('TRI VALLEY GOLDEN CARE', 1), ('JW HARRIS COMPANY, INC.', 1), ('SMITH INTERNATIONAL, INC.', 1), ('PASHA, INC. D/B/A PASHA MEZZE', 1), ('SQL STAR INTERNATIONAL INC', 1), ('ALL AMERICAN TICKETS INC.', 1), ('NOVAKS GYMNASTICS CENTER, INC.', 1), ('CLARIDGE IMPERIAL LTD', 1), ('NUMERIX LLC', 1), ('MOANA TECHNOLOGIES, L.L.C.', 1), ('CALIFORNIA STEEL INDUSTRIES, INC.', 1), ('CAPITAL HEALTH PLAN INC', 1), ('GOSHEN TRADING, INC.', 1), ('THE NATURE CONSERVANCY', 1), ('DELUXE CORPORATION', 1), ('HELI ONE INC', 1), ('ICYNERGY TECHNOLOGY PARTNERS, INC.', 1), ('SCHOONER INFORMATION TECHNOLOGY', 1), ('HUDSON DATA LLC', 1), ('JJR SALES INC.', 1), ('GREYHOUND LINES, INC.', 1), ('MONTESSORI WEST, INC.', 1), ('BOCO CLEANING SERVICE, LLC', 1), ('SOLAZYME, INC.', 1), ('POLARIS ASSOCIATES, INC', 1), ('CALANCE CORPORATION', 1), ('CUSTOM VINYL WINDOWS AND DOORS', 1), ('RAZAVI APPLICATION DEVELOPERS, INC.', 1), ('IMD MEDICAL GROUP INC.', 1), ('M.C. HARRY AND ASSOCIATES, INC.', 1), ('CAPITAL FUND MANAGEMENT INTERNATIONAL INC', 1), ('HOLY FAMILY UNIVERSITY', 1), ('ERA HELICOPTERS', 1), ('ELIZABETH CITY STATE UNIVERSITY', 1), (\"TODAY'S FRESH START CHARTER SCHOOL\", 1), ('ADORN CLOTHING MFG., INC.', 1), ('SOLAE LLC', 1), ('OXYGEN CLOUD, INC.', 1), ('FAIRWAY AND GREENE, LTD.', 1), ('E-BASE TECHNOLOGIES, INC', 1), ('TNET TECHNOLOGY', 1), ('ZAFFERA LLC', 1), ('SAINT LEO UNIVERSITY', 1), ('J TRADING, LLC', 1), ('LUMINATOR HOLDING LP', 1), ('NCL BAHAMAS LTD', 1), ('VICTORIA WEST SERVICES, INC.', 1), ('SPORTS CLOUB MANAGEMENT, LLC', 1), ('TARAR CORPORATION', 1), ('VELOCENT SYSTEMS INC.', 1), ('LERNER TRADING GROUP, LLC', 1), ('SPI MANAGEMENT SERVICES, LLC', 1), ('VERSA PRODUCTS COMPANY INC', 1), ('EBATES SHOPPING.COM, INC.', 1), ('NORDSTROM, INC.', 1), ('PACT, INC.', 1), ('HIGH QUALITY ORGANICS', 1), ('PHO BASIL RESTAURANT', 1), (\"MOODY'S RESEARCH LABS, INC.\", 1), ('A & J MAINTENANCE COMPANY', 1), ('THE URBAN INSTITUTE', 1), ('APTIVA CORP', 1), ('SCINTERA NETWORKS, INC.', 1), ('DURATECH COATING INC', 1), ('FLOWERSON HOLDINGS, INC.', 1), ('WOLVERINE WORLD WIDE, INC.', 1), ('NETWORK DIRECT SOLUTIONS, INC.', 1), ('DCB TREE AND LANDSCAPES INC.', 1), ('CMO INC.', 1), ('DELSOLAR DEVELOPMENT DELAWARE LLC', 1), ('WOLTERS KLUWER HEALTH, INC.', 1), ('AAXIS GROUP CORPORATION', 1), ('WHAMCLOUD, INC.', 1), ('FORTEX TECHNOLOGIES, INC.', 1), ('GC OF SDA DBA ADVENTIST BROADCASTING SERVICES INC', 1), ('F&S PROJECTS CORP', 1), ('MISSIONARY CHURCH INC', 1), ('PS TECHNOLOGY INC.', 1), ('LG HOUSEHOLD & HEALTH CARE AMERICA, INC.', 1), ('SOFTWARE TRANSFORMATIONS INC', 1), ('NOVARTIS CONSUMER HEALTH, INC (OTC)', 1), ('OLLIVIER CORPORATION', 1), ('SAM HWA ACUPUNCTURE', 1), ('GLENVILLE FARMS', 1), ('NUWARE TECHNOLOGY CORP', 1), ('ONASSET INTELLIGENCE, INC.', 1), ('S.N.R. GRAPHICS, INC.', 1), ('WOJENSKI RESTORATION LLC', 1), ('VAPOR BUS INTERNATIONAL', 1), ('RENOIR PROPERTY MANAGEMENT, INC.', 1), ('ASHE MEMORIAL HOSPITAL, INC', 1), ('NESTLÉ R&D CENTER, INC.', 1), ('AGILE GLOBAL SOLUTIONS, INC', 1), ('GLOBAL ENVIRONMENTAL NETWORK, INC.', 1), ('WARD TANK & HEAT EXCHANGER CORP.', 1), ('DOWNEY COMMUNITY HEALTH CENTER', 1), ('MEDWINS PHARMACY', 1), ('CENTER MANUFACTURING', 1), ('CINCOM SYSTEMS, INC.', 1), ('PHYSICIANS MUTUAL', 1), ('PACIFIC IMAGE ELECTRONICS INC.', 1), ('MDV MANAGEMENT CO., L.L.C.', 1), ('RAZORSIGHT CORPORATION', 1), ('CMI EPTI, LLC', 1), ('ZL TECHNOLOGIES, INC.', 1), ('SORRENTO LACTALIS, INC', 1), ('LAFARGE NORTH AMERICA INC.', 1), ('CORRUGATED SYNERGIES INTERNATIONAL, LLC', 1), ('SMART CANDLE LLC', 1), ('PEPPINO IN CALLICOON, INC. D/B/A PEPPINOS FAMILY PIZZEERIA RESTAURANT ON BEHALF OF CRISTOBAL CRUZ.', 1), ('ALL ABOUT CHILDREN PEDIATRIC PARTNERS, PC', 1), ('THE SCOOTER STORE', 1), ('STONE HILL WINE COMPANY INC', 1), ('TABS GROUP, INC.', 1), ('ERAN VINER COMPANY INC', 1), ('L.A. BURRITO,  INC', 1), ('GOURMET GURU INC', 1), ('VORNADO AIR LLC', 1), ('ASSI PLAZA PA, INC. D/B/A ASSI PLAZA', 1), ('SRNL INTERNATIONAL, INC.', 1), ('KABUKI DEARBORN INC.', 1), ('ROYAL CLEANERS', 1), ('FIRST KOREAN CHURCH IN CAMBRIDGE, INC.', 1), ('IMM GROUP', 1), ('PERIPHERAL COMPUTER SUPPORT, INC.', 1), ('ROYAL TECHNOCRATS INC', 1), ('C&K HEALING TOUCH PHYSICAL THERAPY, P.C.', 1), ('REALPAGE, INC.', 1), ('SEEGENE, INC.', 1), ('QUILTED CARE OPERATIONS, LLC', 1), ('ISRAEL DISCOUNT BANK OF NEW YORK', 1), ('MERCY MEDICAL CENTER', 1), ('AXIEM INTERNATIONAL D/B/A AXIEM ENGINEERING', 1), ('HENCO BOOK EXCHANGE, INC.', 1), ('EAST 110TH STREET LLC', 1), ('KNS SERVICES, INC.', 1), ('ACHIEVEMENT PREPARATORY ACADEMY', 1), ('FRESNO OXYGEN AND WELDING SUPPLIERS, INC.', 1), ('NORTH CAROLINA CENTRAL UNIVERSITY', 1), ('ADVANCED ENERGY INDUSTRIES, INC.', 1), ('LOGISTICA SOLUTIONS INC.', 1), ('SPANSOFT INC', 1), ('WOLSELEY NORTH AMERICAN SERVICES, INC.', 1), ('TELE-TRACKING TECHNOLOGIES INC', 1), ('SEPATON, INC', 1), ('EASTERN NEW MEXICO UNIVERSITY', 1), ('ASTEA INTERNATIONAL INC.', 1), ('GERICARE MED SUPPLY, INC', 1), ('UIS CONSULTING LLC', 1), ('PARIS LIMOUSINE SERVICE CORPORATION', 1), ('BOMBARDIER TRANSPORTATION', 1), ('ZENTECH INC.', 1), ('FEDERAL INC', 1), ('TRIBRIDGE HOLDINGS, LLC', 1), ('CKR GROUP', 1), ('EBS HEALTHCARE', 1), ('LA PIANA, INC., DBA TUTTO ITALIANO', 1), ('ENQUIZIT INC.', 1), ('F&I ADMINISTRATION SOLUTIONS, LLC', 1), ('CHARLES RIVER LABORATORIES', 1), ('ATLANTA INTERNATIONAL SCHOOL', 1), ('ATEA TECHNOLOGIES LLC.', 1), ('TYCO INTERNATIONAL MANAGEMENT COMPANY', 1), ('MEDRAD INC.', 1), ('CENTRAL IOWA HOSPITAL CORP', 1), ('SAM YANG INVESTMENT, INC', 1), ('MFG.COM,INC.', 1), ('M-DIS DESIGN GROUP', 1), ('SRS CONSULTING INC', 1), ('S3G ASSOCIATES LLC', 1), ('VISWA SOFT INC', 1), ('SMS INFOCOMM CORPORATION', 1), ('TRAVELFAST INTERNATIONAL', 1), ('FORT WORTH INDEPENDENT SCHOOL DISTRICT', 1), ('ST. GARABED ARMENIAN APOSTOLIC CHURCH', 1), ('GROUP EXCELLENCE, LTD.', 1), ('XLF INC.', 1), ('PENSON FINANCIAL SERVICES, INC', 1), ('W.C. BRADLEY CO.', 1), ('SWINSOFT INC', 1), ('GEORGIA SOUTHWESTERN STATE UNIVERSITY', 1), ('BARJEN INC.', 1), ('THE UNIVERSITY OF MONTANA', 1), ('DHC INTERNATIONAL, INC.', 1), ('WATER ST. FAMILY DENTAL P.C.', 1), ('GODWIN RONQUILLO PC', 1), ('PARSONS TRANSPORTATION GROUP, INC.', 1), ('KANEKA TEXAS CORPORATION', 1), ('SMITHGROUP COMPANIES, INC.', 1), ('1626 MINI MART, CORP.', 1), ('SAM SCHWARTZ ENGINEERING PLLC', 1), ('82 CORNER MARKET, INC.', 1), ('BOSCH SECURITY SYSTEMS, INC.', 1), ('BERKELEY DESIGN TECHNOLOGY INC', 1), ('THE ACADEMY AT HARVARD SQUARE INC', 1), ('INTERSECTIONS INC.', 1), ('SHERYL WOLKOWITZ', 1), ('NORTHWEST PHYSICIANS LLC', 1), ('COGENT HEALTHCARE OF CALIFORNIA, P.C.', 1), ('AUSTAL USA', 1), ('HOBSONS', 1), ('RELIASYS INCORPORATED', 1), ('NORC', 1), ('CARING FAMILY HOME, LLC', 1), ('TANDOORI ENTERPRISE INC.', 1), ('ECBYTES INC', 1), ('SWENSON TECHNOLOGY, INC.', 1), ('GL TRADE CAPITAL MARKETS SOLUTIONS INC.', 1), ('SKF USA INC.', 1), ('TER-ABRAMYAN, INC', 1), ('ACCOR NORTH AMERICA, INC.', 1), ('ALAMO NAVAJO SCHOOL BOARD, INC.', 1), ('REDPRAIRIE CORPORATION', 1), ('INTERCULTURALMONTESSORIFOREIGLANG.IMMERSIONSCHOOL', 1), ('MINDRIM SYSTEMS LLC', 1), ('TIRUPATI INC', 1), ('CAMPAGNA LAWN CARE, INC.', 1), ('PRITHVI INFORMATION SOLUTIONS', 1), ('GIARDINO RESTAURANT INC', 1), ('MIKE MIN W. KANG, DDS, INC.', 1), ('AMERICAN CADASTRE LLC', 1), ('POWER INTEGRATIONS, INC.', 1), ('EVERBRIDGE, INC.', 1), ('KIM MARTIAL ARTS, LLC MOUNTAIN', 1), ('DASWANI VI INC', 1), ('FARM CREATIVE PARLOUR LLC', 1), ('CAYLOR-NICKEL CLINIC, PC', 1), ('DUNNHUMBYUSA, LLC', 1), ('FROST & SULLIVAN', 1), ('GMED, INC.', 1), ('LINDENWOOD FEMALE COLLEGE', 1), ('MGL AMERICAS, INC.', 1), ('ROOSEVELT GENERAL HOSPITAL', 1), ('TOTAL TENNIS SAUGERTIES NY LLC', 1), ('ALLSTON HOLDINGS LLC', 1), ('DEDICATED TECHNOLOGIES, INC.', 1), ('STERLING CATERERS & RESTAURANT LLC', 1), ('JAD & ASSOCIATES LLC', 1), ('CANADIAN SOLAR USA INC.', 1), ('RECTORSEAL', 1), ('TENNECO, INC.', 1), ('ESYSTEMS INC.', 1), ('INTEGRAL CONSULTING SERVICES, INC.', 1), ('KIMBLE CHASE LIFE SCIENCE & RESEARCH PRODUCTS LLC', 1), ('NJR SERVICE CORPORATION', 1), ('ABYE BABY KOUNTRY KITCHEN', 1), ('ARNOLD ELECTRONICS, INC.', 1), ('SU CLINICA FAMILIAR', 1), ('HARINAM, LLC', 1), ('DPI SPECIALTY FOODS, INC.', 1), ('MODERN PARKING, INC.', 1), ('JPAK & ASSOCIATES, ACCOUNTANCY CORP', 1), ('ASPEN DENTAL ASSOCIATES OF WESTERN PA, PC', 1), ('OLYMPIA LOGISTICS AND SERVICES', 1), ('AFTERFX CUSTOMS LLC', 1), ('GLEN ISLAND CENTER FOR NURSING AND REHABILITATION', 1), ('IHS GLOBAL INC', 1), ('ELIZABETH ARDEN SPAS, INC.', 1), ('SAINT VINCENT PHYSICIAN SERVICES, INC.', 1), ('ADEPTMAX CORPORATION', 1), ('MAXEAN FIRST, INC. D/B/A OXFORD CLEANERS', 1), ('CENTRAL AC SYSTEM CORP.', 1), ('IQOR US INC', 1), ('MYCOM NORTH AMERICA', 1), ('AGREEYA SOLUTIONS, INC.', 1), ('WOOD FLOORING BY WALSH LLC', 1), ('APPLABS TECHNOLOGIES PRIVATE LIMITED', 1), ('ADVANCED TECHNOLOGY CONSULTING SERVICE INC', 1), ('RAPP WORLDWIDE TEXAS, INC.', 1), ('STOKE, INC.', 1), ('AMERICAN MUSICAL SUPPLY', 1), ('MEDIALETS, INC.', 1), ('CONEXANT SYSTEMS, INC.', 1), ('DEALERTRACK, INC.', 1), ('WASHINGTON SPORTS GROUP LLC', 1), ('AUTO SALON 2000 INC', 1), ('PRESTIGE COSMETICS CORPORATION', 1), ('SITIME CORPORATION', 1), ('DAIWA CAPITAL MARKETS AMERICA INC.', 1), ('HIGHLAND PHARMACY, LLC', 1), ('HF SERVICES LLC', 1), ('ANTHONY H. SPANN, DDS & ASSOC EASTLAND-COLUMBUS', 1), ('HOUSEHOLD OF DR. VENA UY', 1), ('ENCORA, INC', 1), ('BRAY INTERNATIONAL, INC.', 1), ('AMEC EARTH &  ENVIRONMENTAL', 1), ('RX REVERSE DISTRIBUTORS, INC.', 1), ('TGS-NOPEC GEOPHYSICAL COMPANY', 1), ('OMEGA CARD SERVICES, INC.', 1), ('MEMORIAL HEALTH SYSTEM OF EAST TEXAS', 1), ('RIAMEDICAL LLC', 1), ('NEXTXAP INC', 1), ('CNC SOFTWARE, INC.', 1), ('HAMWORTHY PEABODY COMBUSTION INC.', 1), ('GREATER AUSTIN MERCHANTS COOPERATIVE ASSOCIATION', 1), ('HANUSOFT INC', 1), ('GRID DYNAMICS CONSULTING SERVICES', 1), ('OPTIMA USA CORP.', 1), ('JULIE DAMMEIER', 1), ('ELECTRO-MOTIVE DIESEL INC', 1), ('MEDCENTER ONE, INC.', 1), ('EDUARDO ARMENTA', 1), ('ANDREW K. BROBBEY, MD', 1), ('UNIVERSITY OF KANSAS', 1), ('SEATTLE UNIVERSITY', 1), ('LIVING FOREST, INC.', 1), ('ASPEN DENTAL ASSOCIATES OF NEPA PLLC', 1), ('THE UNIVERSITY OF AKRON', 1), ('NEVADA HEALTH CENTERS, INC.', 1), ('JAMESTOWN AREA MEDICAL ASSOCIATES, LLP', 1), ('UNIVERSITY OF NORTHERN COLORADO', 1), ('BOWHEAD SYSTEMS MANAGEMENT, INC.', 1), ('DOUGLAS PARDEE', 1), (\"LLOYD'S REGISTER QUALITY ASSURANCE, INC.\", 1), ('TOP5, INCORPORATED', 1), ('MICHEL DYENS & CO. LLC', 1), ('SAPUTO CHEESE USA INC.', 1), ('ROCKLAND BAKERY, INC.', 1), ('COBANK, ACB', 1), ('NEW ENGLAND FOOT & ANKLE, PC', 1), ('ALAMO ENERGY CORP', 1), ('AMERICAN ASSIST TRAVEL SERVICES, INC.', 1), ('KYOCERA TECHNOLOGY DEVELOPMENT, INC.', 1), ('GDF SUEZ ENERGY NORTH AMERICA, INC.', 1), ('APPROACH IT INC', 1), ('ARCHER DANIELS MIDLAND', 1), ('SMART ALABAMA LLC', 1), ('1800FLOWERS.COM,INC.', 1), ('USTAS TECHNOLOGIES, INC.', 1), ('CAFESPICE(GTC)  INC.', 1), ('REAL ESTATE IDEA, INC.', 1), ('SILVER PEAK', 1), ('ASPEN DENTAL ASSOCIATES OF NEW ENGLAND, PC', 1), ('SAINT PAUL CHRISTIAN SCHOOL', 1), ('CDC SOFTWARE, INC.', 1), ('UNITED CONVEYOR SUPPLY COMPANY', 1), ('FLORIDA REALTY OF MIAMI CORP.', 1), ('UNIVERSITY OF NEW ENGLAND', 1), ('GLOBALPOINT, INC', 1), ('LILEE SYSTEMS, LTD.', 1), ('NIKO DEVELOPMENT CORP', 1), ('POINTEL, INC.', 1), ('DYNPRO, INC.', 1), ('MONUMENTAL LIFE INSURANCE COMPANY', 1), ('DFUSE TECHNOLOGIES', 1), ('OIKOS PROPERTIES D/B/A WINGATE LAGRANGE', 1), ('SILVER XIS', 1), ('REFLEX TRADING INC', 1), ('PRECISION GLOBAL CONSULTING, INC.', 1), ('POWELL PEDIATRIC CARE', 1), ('MARTIN & DROUGHT P.C.', 1), ('ANGEL TIPS NAIL CORP', 1), ('MANJU BHATANGAR, PROF. DENTAL CORP.', 1), ('M & R CONSULTANTS CORP.', 1), (\"JOHN'S BEST PIZZA RESTAURANT\", 1), ('NATIONWIDE INSURANCE', 1), ('COSTAR GROUP', 1), ('CAMO TECHNOLOGIES, INC', 1), ('THE UNITED KOREAN CHURCH OF NEW YORK', 1), ('GREAT AMERICAN INSURANCE COMPANY', 1), ('EVERROCK MULTIMEDIA, INC. DBA. KEMS TV', 1), ('CLARITY SOLUTIONS GROUP,LLC', 1), ('BETHESDA CHEVY CHASE BEER & WINE, LLC', 1), ('MEDCO HEALTH SERVICES, INC.', 1), ('PARDEE HOMES', 1), ('THE BUSINESS BRIDGE, INC., DBA CLINOVO, INC.', 1), ('FORDHAM UNIVERSITY', 1), ('MCCI GROUP HOLDINGS, LLC', 1), ('INFO-MATRIX CORPORATION', 1), ('ROCKET FUEL INC.', 1), ('NETGEAR, INC.', 1), ('DICE TECHNOLOGIES, INC.', 1), (\"BUCKLEY'S FLOWER SHOP INC.\", 1), ('THE NORTH HIGHLAND COMPANY', 1), ('VIVIDO LABS', 1), ('MONTESSORI OF FLORIDA', 1), ('EVENPRO USA LLC', 1), ('IHS GLOBAL INSIGHT INC.', 1), ('TURN INC.', 1), ('STAR TRIBUNE MEDIA COMPANY LLC', 1), ('EPL INC', 1), ('LANDAUER, INC.', 1), ('BASIC ENERGY SERVICES', 1), ('WYLIE & ASSOCIATES, INC.', 1), ('FUTURE TEXTILES, INC', 1), ('JIN GO GAE, INC.', 1), ('LK MARKET, LLC', 1), ('PHYSICIAN AFFILIATE OF NEW YORK', 1), ('UNITED WAY OF CENTRAL IOWA', 1), ('CHIPPEWA COUNTY WAR MEMORIAL HOSPITAL', 1), ('MAYFLOWER GREENHOUSE', 1), ('VOLT MANAGEMENT CORP.', 1), ('AVA DESIGN LLC', 1), ('ROFIN-SINAR, INC', 1), ('BASE TECHNOLOGIES, INC.', 1), ('GLOBALPUNDITS TECHNOLOGY CONSULTANCY, INC.', 1), ('SANTA MONICA WHOLESALE LIGHTING AND ELECTRIC SUPPL', 1), ('EXECUTIVE RESIDENCES CORP', 1), ('WEITZ & LUXENBERG, P.C.', 1), ('FERUS CORP.', 1), ('GENERAL MARINE CONTRACTORS, LLC', 1), ('AARP', 1), ('THE VANGUARD GROUP', 1), ('GEORGE VENTURES LLC', 1), ('CHESTERFIELD DENTAL CENTER PLLC', 1), ('RS SOFTWARE INDIA LIMITED', 1), (\"DREYER'S GRAND ICE CREAM, INC.\", 1), ('COASTAL CAROLINA UNIVERSITY', 1), ('DLB ASSOCIATES CONSULTING ENGINEERS P.C. NJ', 1), ('KITWARE, INC.', 1), ('SOUND HOSPITALISTS OF CENTURA HEALTH PC', 1), ('MARUTI DONUTS INC', 1), (\"GRASSI & CO. CPA'S P.C.\", 1), ('RESERVE CONSULTING AND CONTRACTING, LLC', 1), ('ELLIPSE SOLUTIONS LLC', 1), ('SAM NAJMABADI', 1), ('SUNRAY INFORMATICS, INC', 1), ('MALABARHILL ENTERPRISES,INC.', 1), ('NAGANO MORITA LLP', 1), ('CHINESE PERFORMING ARTS OF AMERICA', 1), ('JOOSARANG UNITED METHODIST  CHURCH', 1), ('HUMANITARY PHARMACY INC.', 1), ('FRANCIS PARKER SCHOOL', 1), ('BOONEY & ASSOCIATES,INC', 1), ('DEFIANCE TESTING & ENGINEERING', 1), ('ANA-DATA CONSULTING INC', 1), ('PERSICO CONTRACTING & TRUCKING, INC.', 1), ('ITW BUILDING COMPONENTS GROUP INC.', 1), ('ETERNA - TEA & COFFEE INC.', 1), ('ZEVEX, INC. DOING BUSINESS AS MOOG MEDICAL DEVICES', 1), ('WEST BAY IMPORTS, INC.', 1), ('AGRIBAG, INC.', 1), ('BLACKHAWK NETWORK, INC.', 1), ('EFINANCIAL', 1), ('GREAT LAKES CENTER FOR YOUTH DEVELOPMENT', 1), ('BETH MONTESSORI, INC.', 1), ('ROSETTA STONE LTD.', 1), ('ACUMEN SOLUTIONS, INC.', 1), ('UNIVERSITY OF CENTRAL ARKANSAS', 1), ('WHITLEY BROS, LLC', 1), ('GLOBAL IT GROUP INC.', 1), ('ACADEMIE LAFAYETTE', 1), ('NABORS DRILLING USA, LP', 1), ('IU HEALTH, INC DBA IU MEDICAL GROUP PRIMARY CARE', 1), ('HENKEL OF AMERICA, INC.', 1), ('ISOLVETECHNOLOGY INC', 1), ('PRIDE MOBILITY PRODUCTS CORP.', 1), ('SPECIAL CARE, INC.', 1), ('TNA NORTH AMERICA, INC.', 1), ('TECNON SUPPLY, LLC', 1), ('ALABAMA GAS CORPORATION', 1), ('ARIRANG OF JAPAN, INC.', 1), ('JONES LANG LASALLE AMERICAS, INC.', 1), ('INGALLS MEMORIAL HOSPITAL', 1), ('ACTION BUILDING MAINTENANCE & CLEANING NY, INC', 1), ('MARATHON OIL CORPORATION', 1), ('HEAD USA, INC.', 1), ('SCHAKRA INC', 1), ('M.C. ANGEL ENTERPRISES, INC.', 1), ('PROFESSIONAL ALTERNATIVE,  INC', 1), ('BOSTON MUTUAL LIFE INSURANCE COMPANY', 1), ('HANDPIECE SOLUTIONS, INC.', 1), ('SEVERINA V. WHITESELL', 1), ('DEWBERRY & DAVIS, INC.', 1), ('MODERN SPORTSWEAR CORP', 1), ('APOGEE MEDICAL GROUP, TEXAS, PA', 1), ('FERGUSON CONSULTING, INC.', 1), ('GPS SOLUTIONS INC.', 1), ('CENTRAL COMPUTER SYSTEMS, INC.', 1), ('UNITED RESOURCES INFORMATION, INC.', 1), ('PPC COMMUNICATIONS INC.', 1), ('HOMEOWNERS CHOICE, INC.', 1), ('PACHA TOURS INTERNATIONAL, INC.', 1), ('AMERICAN AUTOMATIC SPRINKLER CO.INC', 1), ('INTEC BILLING, INC', 1), ('K & S SPORTSWEAR, INC.', 1), ('GUNDERSON DETTMER STOUGH', 1), ('FOXFIRE RESTAURANT, INC.', 1), ('AMERICAN INSTITUTE OF CERTIFIED PUBLIC ACCOUNTANTS', 1), ('BERDON LLP', 1), ('LOS ANGELES KOREAN METHODIST CHURCH INC.', 1), ('VINPOWER, INC.', 1), ('MEDICAL HOLISTIC CENTER', 1), ('COMPUTER PACKAGES INC.', 1), ('AJ KHAIR CONSTRUCTION, INC.', 1), ('SEI-TOMOKO INC.', 1), ('FIORENZO GULLA DBA PIZZA TOWN', 1), ('LEAD STAFFING CORPORATION', 1), ('SAEHAN ELECTRONICS AMERICA, INC.', 1), ('ESOTERIX GENETIC LABORATORIES, LLC', 1), ('TOLK, INC.', 1), ('PARK NICOLLET HEALTH SERVICES', 1), ('GRAND MOTORS,INC.', 1), ('FOXIT CORPORATION', 1), ('BALDWIN & LYONS, INC.', 1), ('SMG CIRCUITS CORP.', 1), ('RED HAT, INC.', 1), ('THE JOHNS HOPKINS HOSPITAL', 1), ('PARKLAND COLLEGE', 1), ('MOBIS NORTH AMERICA, LLC. (SUBSIDIARY OF AAI)', 1), ('EPIC GAMES, INC.', 1), ('BIOCLINICA, INC.', 1), ('ALDEC, INC.', 1), ('TRIS PHARMA, INC.', 1), ('UNIVERSITY OF MARYLAND', 1), ('URBAN ACADEMY CHARTER SCHOOL', 1), ('OPTOPLEX CORPORATION', 1), ('XTALIC CORPORATION', 1), ('KMGP SERVICES COMPANY, INC.', 1), ('QUANTENNA COMMUNICATIONS, INC.', 1), ('SECURE MEDICAL, INC.', 1), ('CARIBBEAN UNIVERSITY', 1), ('LUNA BECK MD & ASSOCIATES PA', 1), ('CIRCLE B ENTERPRISES, INC.', 1), ('GRACE WILLIAMS, C.P.A., P.C.', 1), (\"KOHL'S DEPARTMENT STORES, INC.\", 1), ('MGA RESEARCH CORPORATION', 1), ('CULPEPER COUNTY PUBLIC SCHOOLS', 1), ('INFOPRO SYSTEMS, INC', 1), ('RAPID CONN INC', 1), ('AURORA LODGING MANAGEMENT INC.', 1), ('VINTAGE PHARMACEUTICALS LLC', 1), ('MIRI INFOTECH INC.', 1), ('SHIFT COMMUNICATIONS', 1), ('SUNRISE HOSPITALITY INC', 1), ('MUSLIM CENTER OF MIDDLESEX COUNTY', 1), ('PIXLOGIC, INC.', 1), ('DESERT SANDS PUBLIC CHARTER, INC.', 1), ('NEXTEER AUTOMOTIVE', 1), ('EGAIN COMMUNICATIONS CORPORATION', 1), ('SANS CONSULTING SERVICES, INC.', 1), ('ARGAMAAN INC.,DBA ITALY 2000', 1), ('OPTIONSXPRESS', 1), ('SABRE COMMUNICATIONS CORPORATION', 1), ('KWIKSET CORPORATION', 1), ('KOREAN COMMUNITY SERVICES, INC.', 1), ('ADATA TECHNOLOGY (U.S.A.) CO., LTD.', 1), ('WORLD RESOURCE SOLUTIONS CORPORATION', 1), (\"MANNY'S LIGHTING &ELECTRIC CORP\", 1), ('PHARMAVITE', 1), ('TEKALLIANZ CORPORATION', 1), ('WOORI JIB RESTAURANT, LTD.', 1), ('GT CHINESE ACADEMY LIMITED LIABILITY COMPANY', 1), ('CONKLIN HRUZEK & CO., P.C.', 1), ('EMERGENCY SERVICES LLC', 1), ('MARVEL TECHNOLOGIES INC', 1), ('MDI ENGINEERING, INC.', 1), ('ALBIAN CONSULTING CORP', 1), ('SYNCREON AMERICA INC. F/K/A TDS AUTOMOTIVE US INC.', 1), ('TESSCO INCORPORATED', 1), ('ARLINGTON CENTER FOR DENTISTRY', 1), ('AVOCENT HUNTSVILLE CORP.', 1), ('TEN ADVERTISING, LLC', 1), ('NEW CONTAINER LINE, INC.', 1), ('HARBOR RESTAURANT', 1), ('LAPUS, GREINER, LAI & CORSINI, LLC', 1), ('SIMPSON SPENCE & YOUNG', 1), ('GLOBAL DATA SOLUTIONS INC', 1), ('SOFTWARE GALAXY SYSTEMS, LLC', 1), ('CORGAN ASSOCIATES, INC.', 1), ('SOLUGENIX CORPORATION', 1), ('DUTCHER AND COMPANY', 1), ('CORETECHS PERSONNEL, LLC', 1), ('DYNTEK SERVICES, INC.', 1), ('BAYSIDE PAIN & REHABILITATION MEDICINE, P.C.', 1), ('EXIGEN INSURANCE SOLUTIONS, INC.', 1), ('INTERCALL', 1), ('W.W. GRAINGER, INC.', 1), ('NATURENER USA, LLC', 1), ('BLOSSOM SOLUTIONS, INC', 1), ('WEBSULTING, LLC', 1), ('CVM SOLUTIONS LLC', 1), ('THRIFTY MANAGEMENT SERVICES, INC', 1), ('FIELDGLASS, INC.', 1), ('TEKSEED SOLUTIONS LLC', 1), ('AMER BROTHERS INTERNATIONAL, INC.', 1), ('DALLAS CHINA INTERNATIONAL,INC.', 1), ('SCOTT JEFFREY COHEN', 1), ('ELECTRONIC CABLE SPECIALIST', 1), ('MARSHALL HEALTH SERVICES, INC.', 1), ('SIMONE M. CHONG', 1), ('TRANSPLACE TEXAS, LP', 1), ('CROWN CORK & SEAL COMPANY, INC.', 1), ('CNET GLOBAL SOLUTIONS, INC', 1), ('SYMONA, INC. DBA MONA MONTESSORI ACADEMY', 1), ('GOOD SHEPHERD PRESBYTERIAN CHURCH', 1), ('GUADALUPE ALTERNATIVE PROGRAMS', 1), ('ADAIR COUNTY MEMORIAL HOSPITAL', 1), ('POLTEAM RENOVATION, CORP.', 1), ('DATASERV INC', 1), ('HARVARD LABEL', 1), ('NBCUNIVERSAL MEDIA LLC', 1), (\"HARRAH'S OPERATING COMPANY, INC.\", 1), ('THE WASHINGTON CENTER FOR INTERNSHIPS AND ACADEMIC', 1), ('ATTIVASOFT', 1), ('ORPHAGEN PHARMACEUTICALS', 1), ('ECONOMIC SYSTEMS INC.', 1), ('UCSF MEDICAL CENTER', 1), ('BANCARD FINANCIAL SERVICES', 1), ('NASIMA PERFUMES, INC.', 1), ('WASEEM HAIDER', 1), ('HANWA AMERICAN CORP.', 1), ('RIO VISTA TEXTILES, INC.', 1), ('DR. NEIDE COUTINHO & ASSOCIATES, PC', 1), ('TAHIR ENTERPRISES, INC.', 1), ('TAC, INC', 1), ('SKYLIGHT HEALTHCARE SYSTEMS, INC.', 1), ('ADVANCED CONSTRUCTION TECHNOLOGIES', 1), ('BREEZE BUILDING SERVICES INC', 1), ('PRP WINE INTERNATIONAL, INC.', 1), ('DATA POINT SYSTEMS, INC.', 1), ('K.E.S. TEXTILE, INC.', 1), ('ORPINE INC', 1), ('USHA MARTIN AMERICAS INC', 1), ('OOCL (USA) INC.', 1), ('KERR CORPORATION', 1), ('PACESETTER INC. DBA ST. JUDE MEDICAL CRMD', 1), ('LAW OFFICE OF STEPHEN GLEIT', 1), ('JM EAGLE', 1), ('NETNUMBER, INC.', 1), ('MICROLAND LIMITED', 1), ('R SYSTEMS INC', 1), ('HERITAGE NURSING HOME, INC.', 1), ('CCIC NORTH AMERICA INC.', 1), ('CREDIT ONE BANK', 1), ('KENDALL L HOUGHTON, PRIVATE HOUSEHOLD', 1), ('MAN MIN, INC', 1), ('WOODLAND HILL MONTESSORI SCHOOL', 1), ('FUSEPROJECT LLC', 1), ('PROLOGIC TECHNOLOGY SYSTEMS, INC.', 1), ('S.R. GAMBREL, INC.', 1), ('PC NET INC', 1), ('CONVERSE TECHNOLOGY SOLUTIONS', 1), ('QUAL-PRO CORPORATION', 1), ('PLANTRONICS, INC', 1), ('RAULAND-BORG CORPORATION', 1), ('EDDA TECHNOLOGY, INC.', 1), ('INFINITY CARGO SERVICES', 1), ('ARIZONA AGRIBUSINESS & EQUINE CENTER', 1), ('PRIME CARE, INC.', 1), ('STRATMARK LTD.', 1), ('MG LLC', 1), ('A ROYAL FLUSH', 1), ('AMCOR RIGID PLASTICS USA, INC.', 1), ('LOUISIANA STATE UNIVERSITY AND A & M COLLEGE', 1), ('LAKESHORE ENVIRONMENTAL CONTRACTORS, LLC', 1), ('SHORE HEALTH SYSTEM', 1), ('INTERACTIVE DATA REAL-TIME SERVICES, INC.', 1), ('REXNORD INDUSTRIES, LLC', 1), ('NET@WORK INC.', 1), ('SYSTEMS ADVISORY SERVICES, INC.', 1), ('NEXUS HOME HEALTH, INC.', 1), ('INTERNATIONAL FEDERATION OF ACCOUNTANTS', 1), ('AURORA WORLD, INC.', 1), ('AMERICAN INTERNATIONAL GROUP, INC.', 1), ('ONE LAPTOP PER CHILD ASSOCIATION, INC.', 1), ('EGAR TECHNOLOGY INC', 1), ('APPLIED PRECISION ACQUISITION CORPORATION', 1), ('YELLOWJACKET, INC.', 1), ('AMRITA REDDY DMD PC', 1), ('AVONDALE CONSULTING LLC', 1), ('MOUNT DESERT ISLAND HOSPITAL', 1), ('ESSEX GROUP, INC', 1), ('ZAMAN LTD.', 1), ('CATALYST REPOSITORY SYSTEMS', 1), ('AKINGCO,INC', 1), ('CALIFORNIA STATE UNIVERSITY, FRESNO', 1), ('AREA INCORPORATED', 1), ('DELTA DENTAL OF PENNSYLVANIA', 1), ('MSI MIAMI CORP.', 1), ('TRANS MARINE PROPULSION SYSTEMS, INC.', 1), ('PEOPLE ENCOURAGING PEOPLE INC', 1), ('LOUIS CAPITAL MARKETS, LP', 1), ('T3 TRADING GROUP', 1), ('TRANSPARENT HOUSE', 1), ('DAWN PHARMACY INC.', 1), ('AGRIGENETICS D/B/A MYCOGEN CORPORATION', 1), ('CORNELL FORGE COMPANY', 1), ('INFOYOGI LLC', 1), ('ING USA ANNUITY & LIFE INSURANCE COMPANY', 1), ('DOTT CORPORATION', 1), ('MACROSYS RESEARCH AND TECHNOLOGY', 1), ('MIDWEST HOSPITALISTS', 1), ('AVLON INDUSTRIES, INC.', 1), ('ASSE INTERNATIONAL, INC.', 1), ('TECHNOLOGY SOFTWARE INC', 1), ('FENWAY FLOOR, INC', 1), ('WAFRA INVESTMENT ADVISORY GROUP, INC.', 1), ('SUNSTONE INC', 1), ('SAN JUAN REGIONAL MEDICAL CENTER, INC.', 1), ('MELISSA ROSALES', 1), ('BELL SYSTEMS, INC.', 1), ('GIORGIO SPANU', 1), ('EARTHCOLOR, INC.', 1), ('SCORSAN INC,', 1), ('99RUNS INC.', 1), ('THE BOEING COMPANY', 1), ('TECHNOGYM USA CORP', 1), ('PALVAI GLOBAL SERVICES INC', 1), ('TEKNOBIT SOLUTIONS, INC.', 1), ('BIOHEALTH LLC', 1), ('BASILIA R. ROSALES HOUSEHOLD', 1), ('PIC USA INC', 1), ('MOELIS & COMPANY HOLDINGS LP', 1), ('NORTH HUDSON COMMUNITY ACTION CORPORATION', 1), ('COUNTRY PICNIC SHOPS OF AMERICA INC. D/B/A COUNTRY PICNIC', 1), ('SKORUZ TECHNOLOGIES INC', 1), ('LAB X TECHNOLOGIES, LLC', 1), ('MATSUTANI AMERICA, INC.', 1), ('MINING EQUIPMENT LTD.', 1), ('SUMMIT SYSTEMS, INC (D/B/A MISYS BANKING SYSTEMS)', 1), ('NEW MARKET PHARMACY LLC', 1), ('FORE RESEARCH & MANAGEMENT, LP', 1), ('DROISYS INC', 1), ('J & A CONTRACTORS CORP.', 1), ('INNOVATIVE ELECTRONICS GROUP', 1), ('HOLLAND AMERICA LINE, INC', 1), ('IT TRANSFORMERS INC', 1), ('HALLMARK BUSINESS CONNECTIONS', 1), ('PEABODY ENERGY', 1), ('OKLAHOMA CHRISTIAN UNIVERSITY, INC.', 1), ('PCI CONSTRUCTION, INC', 1), ('CME GROUP INDEX SERVICES LLC', 1), ('LUK USA LLC', 1), ('THE COLLEGE OF SAINT ROSE', 1), ('SANGUN SHIN DBA MINATOSUSHI', 1), ('NORTHERN WESTCHESTER HOSPITAL', 1), ('METABYTE', 1), ('DB GLOBAL TECHNOLOGY', 1), ('ASSEMBLY OF GOD IN QUINCY', 1), ('MAGUSA LOGISTICS CORP.', 1), ('HHI FORMTECH LLC', 1), ('PHILIPS MEDICAL SYSTEMS MR, INC.', 1), ('JC CONSTRUCTION BUILDERS INC.', 1), ('DUCSON IMPORTS, INC.', 1), ('MADISON REALTY CAPITAL ADVISORS LLC', 1), ('DANIELLA KOREN, INC.', 1), ('MEDRAD, INC', 1), ('MIRACLE SYSTEMS, LLC', 1), ('GLOBAL COLLECT SERVICES USA INC.', 1), ('TULLETT PREBON HOLDINGS CORP.', 1), ('VBS DATA RESOURCES, INC.', 1), ('NEXIUS SOLUTIONS INC.', 1), ('OASYS TECHNOLOGIES INC', 1), ('JAVEN TECHNOLOGIES, INC.', 1), ('FINESSE SOLUTIONS, LLC', 1), ('ALL ABOUT CARE, LLC', 1), ('WOMEN AGAINST ABUSE', 1), ('GS GLOBAL SERVICES INC.', 1), ('LUZO FISHING GEAR, INC.', 1), ('WIENER & GARG, LLC', 1), ('K.S. CUSTOM CABINET CO INC.', 1), ('THE RIM CORPORATION, INC.', 1), ('LINKLATERS', 1), ('THE READING HOSPITAL AND MEDICAL CENTER', 1), ('KAA DESIGN GROUP, INC.', 1), (\"OKS'N ASSOCIATES, INC.\", 1), ('CISCO CONSUMER PRODUCTS, LLC', 1), ('EAGLE INVESTMENT SYSTEMS LLC', 1), ('AOL ADVERTISING INC.', 1), ('M. REILLY FOOD CORP', 1), ('CATHOLIC HEALTHCARE WEST', 1), ('NOVA DATACOM, LLC', 1), ('DR. Q. PAIN & SPINE, P.A.', 1), ('PROS CONSULTING, LLC', 1), ('UNIVERSITY OF NEVADA, LAS VEGAS', 1), ('EAST-WEST ASSOCIATES, INC.', 1), ('H. S. TECHNOLOGY, INC', 1), ('CONSTELLATION ENERGY COMMODITIES GROUP', 1), ('BISH & HAFFEY, PC', 1), ('ASSET ALLOCATION & MANAGMENT COMPANY', 1), ('EXIGEN SERVICES USA INC.', 1), ('SUMMAR FINANCIAL, LLC', 1), ('SQA LABS, INC', 1), ('VIRGINIA GATEWAY PLAZA, INC.', 1), ('BAUDUCCO FOODS INC.', 1), ('SUPER CLEANING BONTRAGER INC.', 1), ('I-BEHAVIOR INC.', 1), ('WILLAMETTE VALLEY CLINICS LLC', 1), ('PLANETPRO INC.', 1), ('BI-LINGUAL INTERNATIONAL ASSISTANT SERVICES', 1), ('STAR AND BEE BEAUTY DISTRIBUTOR INC', 1), ('MILLS ENTERPRISE, LLC', 1), ('ELMHURST STAR PHARMACY INC', 1), (\"UDI'S HEALTHY FOODS\", 1), ('FLORIDA DEPARTMENT OF EDUCATION', 1), ('AMERICAN BEVERAGE CORPORATION', 1), ('DELAGNES, MITCHELL & LINDER, LLP', 1), ('MARTINEZ MANAGEMENT, INC.', 1), ('AVIATION PERFORMANCE SOUTIONS LLC', 1), ('JEFFREY J. LEE & COMPANY', 1), ('PRODIGY MANAGEMENT NY', 1), ('GEORGE R. WILLY, P.C.', 1), ('UNIVERSITY OF COLORADO AT DENVER AND HEALTH SCIENC', 1), ('RIGHTCARE HOME HEALTH SERVICES, INC.', 1), ('IMAD ABRAHAM', 1), ('INTRAHEALTH INTERNATIONAL INCORPORATED', 1), ('AER ELECTRONICS, INC.', 1), ('ZILLIANT INCORPORATED', 1), ('MT. DIABLO UNIFIED SCHOOL DISTRICT', 1), ('PSICOAXIS CORPORATION', 1), ('CELERION, INC.', 1), ('CORNET TECHNOLOGY INC', 1), ('SOUTHWEST REHABILITATION ASSOCIATES, LTD.', 1), ('PHD MEDIA LLC', 1), ('BHARGAV COMPUTER CONSULTING USA-MA INC', 1), ('ACTIVE SPRING TECH CORP.', 1), ('WILSHIRE ASSOCIATES INC.', 1), ('LIVEOPS INC.', 1), ('ST AEROSPACE MOBILE, INC', 1), ('CABLE WIRING SPECIALISTS INC.', 1), ('AVON PRODUCTS, INC', 1), ('SARAS AMERICA INCORPORATED', 1), ('PALO ALTO UNIFIED SCHOOL DISTRICT', 1), ('EXPLORE CONSULTING, LLC', 1), ('T&T 130 PIZZA CORP. D/B/A BELLA NAPOLI', 1), ('DUBOIS REGIONAL MEDICAL CENTER', 1), ('TASTY WHOLESALE BAGELS INC.', 1), ('FEELIS USA, INC.', 1), ('DUNN-EDWARDS CORPORATION', 1), ('BAKKE CHIROPRACTIC CLINIC', 1), ('FS PATRIOT LLC, DBA BRAINTREE REHAB HOSPITAL', 1), ('STUDIO V ARCHITECTURE', 1), ('UMB FUND SERVICES, INC.', 1), ('CIBERGATE, INC D/B/A IT FIRST SOURCE', 1), ('SANGHA CPA, P.C.', 1), ('SOUTHWESTERN MEDICAL CENTER', 1), ('THOUGHTWAVE SOFTWARE AND SOLUTIONS INC', 1), ('ONWARD BEACH RESORT', 1), ('SPECIAL SERVICE FOR GROUPS', 1), ('AMERICAN MARAZZI TILE, INC.', 1), ('SKOUT, INC.', 1), ('MERCY HEALTH PARTNERS', 1), ('TAL INTERNATIONAL CONTAINER CORPORATION', 1), ('SAVA GROUP, LIMITED', 1), ('TORO GRANITE, INC.', 1), ('ROHDE AND SCHWARZ, INC.', 1), ('HILLSIDE FAMILY OF AGENCIES', 1), ('THE AWTY INTERNATIONAL SCHOOL', 1), ('A&S INTERNATIONAL CORPORATION', 1), ('SGS TECHNOLOGIE LLC', 1), (\"SHELLEY'S PRIME MEATS\", 1), ('CYBECYS, INC', 1), ('PRODEE UNIVERSITY', 1), ('NEW RIVER VALLEY COMMUNITY SERVICES', 1), ('WACHTELL, LIPTON, ROSEN & KATZ', 1), ('PENNSYLVANIA COUNSELING SERVICES, INC', 1), ('ENVISION PERIPHERALS, INC.', 1), ('SPACECO BUSINESS SOLUTIONS', 1), ('ARTREV.COM INC.', 1), ('CVK SUBS INC', 1), ('BENQ AMERICA CORP.', 1), ('XPRUDENT CORP', 1), ('VALERO ENERGY CORP', 1), ('FIESTA COLLECTION INC', 1), ('NBTY, INC.', 1), ('CITY OFWESTLAKE, OHIO', 1), ('DENALI SOURCING SERVICES, INC.', 1), ('J&B VEGETABLES INC', 1), ('PROPOSE#101INC', 1), ('SCPF AMERICA LLC', 1), ('SANG WOO ACUPUNCTURE, INC.', 1), ('UNISOL GROUP, INC', 1), ('ISPACE, INC.', 1), ('NOVAD MANAGEMENT CONSULTING', 1), ('SKYTECHNOLOGIES L.L.C', 1), ('MANHATTAN CARPET CO.', 1), ('WESTERN REFINING SOUTHWEST, INC', 1), ('INNOVATECH SOLUTIONS INC.', 1), ('LOWER EAST SIDE FAMILY UNION', 1), ('DANOIS ARCHITECTS, P.C.', 1), ('MADAME JOY SKIN CARE, INC.DBA SALON JOY', 1), ('VILLA MADONNA ACADEMY', 1), ('NEW CREATION ENGINEERING AND BUILDERS', 1), ('INFORMATION RESOURCES, INC.', 1), ('DANBURY OFFICE OF PHYSICIAN SERVICES, P.C.', 1), ('RI ANIMAL MEDICAL CENTER-FOUR PAWS PET RESORT, INC', 1), ('DAVID FAWKES RACING, INC.', 1), ('VINFEN CORPORATION', 1), ('EPEOPLE TECHNOLOGIES, INC.', 1), ('FAMILIA DENTAL NB PLLC', 1), ('THE ORCHARD ENTERPRISES, INC.', 1), (\"ST. JOHN'S HOSPITAL - BERRYVILLE\", 1), ('VIVA GROUP LLC (DBA RENT.COM)', 1), ('CROWDSTAR INC.', 1), ('MIURA NORTH AMERICA INC.', 1), ('SANDFORCE, INC.', 1), ('EXCELA HEALTH SYSTEM', 1), ('COMPOSITE RIGGING LIMITED AND CO.', 1), ('RUSSIAN SCHOOL OF MATH', 1), ('ELEMENT115 LLC', 1), ('DICK BLICK HOLDINGS', 1), ('G2 INVESTMENT GROUP', 1), ('LYNDON HANES RATCLIFFE', 1), ('SMARTINSIGHT, LLC', 1), ('SDI HEALTH LLC', 1), ('BUSINESS INTELLIGENCE SOLUTIONS INC', 1), ('MORLEY AND ASSOCIATES, INC.', 1), ('UNIVERSITY OF TEXAS - PERMIAN BASIN', 1), ('PHARMLINE, INC.', 1), ('US ONCOLOGY', 1), ('GUIDEPOINT GLOBAL', 1), ('SONY DADC US INC', 1), ('DELAWARE MEDICAL CARE, P.A.', 1), ('SANDRA TAUBER', 1), ('INSTITUTE FOR INTERNATIONAL COOPERATION AND DEVELO', 1), ('BAYER HEALTHCARE LLC', 1), ('EVEREST PRODUCTION CORPORATION', 1), ('REPUBLIC SERVICES', 1), ('BOSTON CAPITAL HOLDINGS LP', 1), ('YUNA CORPORATION', 1), ('BSH HOME APPLIANCES CORP', 1), ('SPACENET INC.', 1), ('BIAS CORPORATION', 1), ('WESTERN INSTITUTIONAL REVIEW BOARD, INC.', 1), ('TRIANZ CONSULTING INC', 1), ('GEMINI TANKERS L.L.C.', 1), ('PARAQUAD, INC.', 1), ('SILVER LAKE TECHNOLOGY MANAGEMENT, LLC', 1), ('JACOBS MINERALS INC.', 1), ('SILFEX INCORPORATED', 1), ('BILL SMITH STUDIO', 1), ('IT RESONANCE INC.', 1), ('MYRON CISLO', 1), ('CARHARTT, INC', 1), ('POTOMAC MORTGAGE CAPITAL, INC.', 1), ('COUNTY OF GILA GLOBE SCHOOL DISTRICT', 1), ('SYSTEMEDGE (USA) LLC', 1), ('GOKUL INC. OF NY', 1), ('ROME RESEARCH CORP', 1), ('HALO PHARMACEUTICAL INC.', 1), ('KUMAR INDUSTRIES', 1), ('MARKETLIVE, INC.', 1), ('ADVANCED COATING TECHNOLOGIES, INC', 1), ('UNIVERSITY OF NORTH CAROLINA ASHEVILLE', 1), ('AUTOMATION, INC. D/B/A PCAMERICA', 1), ('INTERFAITH DIALOG CENTER, INC.', 1), ('COOKE CENTER FOR LEARNING AND DEVELOPMENT', 1), ('CATHEDRAL CHAPEL SCHOOL', 1), ('GLOBAL WORKFORCE PARTNERS INC', 1), ('MICROSOFT CARIBBEAN, INC.', 1), ('PALL CORPORATION', 1), ('SUN-IT SOLUTIONS, INC', 1), ('THE NUTRO COMPANY', 1), ('MAXLINEAR INC', 1), ('SPLN INTERNATIONAL LLC', 1), ('PEN HOMES INCORPORATED', 1), ('BLUE SKY STUDIOS, INC.', 1), ('ROSEMONT PERSONAL CARE HOME', 1), ('ULTIMATE SOFTWARE', 1), ('MARGARET TIETZ NURSING HOME AND REHAB CENTER', 1), ('NARCONON GULF COAST, INC.', 1), ('BRUDERER MACHINERY, INC', 1), ('ELMORE COMMUNITY HOSPITAL', 1), ('DB US HOLDING CORPORATION', 1), ('TRAVEL TRADERS LLC', 1), ('OCEAN VIEW HOME CARE, INC. DBA OCEAN VIEW HOME', 1), ('DYNAMIC SOFTWARE CONSULTANTS, INC.', 1), ('INDEX DIGITAL MEDIA, INC.', 1), ('GIANT CEMENT HOLDING INC', 1), ('ERIC R STEINWALD ACCOUNTANCY CORP', 1), ('MIDWEST ENGINEERING, INC.', 1), ('BLEY LLC', 1), ('PROCESS GLOBAL INC', 1), ('KIM AND JUNG CORP. D/B/A YASU', 1), ('VERITIS GROUP INC', 1), ('PRO-ACTIVE WELLNESS CENTER', 1), ('HOUSEHOLD BILIKSU DOUGLAS & WILLIAM DOUGLAS', 1), ('ICMA-RC', 1), ('KENYON COLLEGE', 1), ('MAJOR TEXTILE IMPORTS, INC.', 1), ('INTELLIGENT MEXICAN MARKETING, LLC', 1), ('OMNICOMM SYSTEMS', 1), ('THOUGHTMATRIX, INC.', 1), ('SOFT LABS NA INC.,', 1), ('FOUAD ZUMOT D/B/A SUNRISE COMMERCIAL SERVICES', 1), ('KERN-LIEBERS USA, INC.', 1), ('LCB VILLAGE, INC.', 1), ('GARRAD HASSAN AMERICA, INC.', 1), ('HAYS MEDICAL CENTER', 1), ('HUBBELL POWER SYSTEMS, INC', 1), ('PROMONTORY INTERFINANCIAL NETWORK, LLC', 1), ('AV INVESTMENT CO.', 1), ('JACKSON HOSPITAL & CLINIC', 1), ('ATTENDING HOME CARE SERVICES, LLC', 1), ('WABASH GENERAL HOSPITAL DISTRICT', 1), ('BAGEL TIME, LLC.', 1), ('CARNIVAL CORPORATION', 1), ('NOOR ENTERPRISE', 1), ('PIONEER APPAREL, INC.', 1), ('BEACON BIOSCIENCE, INC.', 1), ('J.B. HUNT TRANSPORT, INC', 1), ('NANO SECURITY INC', 1), ('LIDONNI NURSERY', 1), ('VOLUSIA ANIMAL EMERGENCY CLINIC', 1), ('VITAL IMAGES', 1), ('SRILU INFORMATION SYSTEMS, INC.', 1), ('COUNTY OF RIVERSIDE', 1), ('LOS ANGELES SPORTS AND ENTERTAINMENT COMMISSION', 1), ('SCHULTE ROTH & ZABEL LLP', 1), ('MINNELL CONCEPTS', 1), ('PHOEBE WORTH MEDICAL CENTER', 1), ('IKEA DISTRIBUTION SERVICES, INC', 1), ('MERCK & CO., INC.', 1), ('GE ZENITH CONTROLS', 1), ('STARS INVESTMENT, INC.  D/B/A VENOY MEDICAL PHARMA', 1), ('YABOO FENCE COMPANY, INC.', 1), ('NOMURA HOLDING AMERICA INC.', 1), ('WALLENIUS WILHELMSEN LOGISTICS AMERICAS, LLC', 1), ('BMO CAPITAL MARKETS CORP.', 1), ('SOUTHWEST ELECTRIC CO.', 1), ('ECI TELECOM INC.', 1), ('STATE UNIVERSITY OF NEW YORK AT NEW PALTZ', 1), ('MEDLYTIX, LLC', 1), ('SOUTH COUNTY KIDNEY AND ENDOCRINE CENTER', 1), ('C&K COMPONENTS', 1), (\"SCHWAN'S GLOBAL SUPPLY CHAIN, INC.\", 1), ('YASHRAJ TECHNOLOGIES INC', 1), ('QUANTCAST CORPORATION', 1), ('CORNERSTONE ARCHITECTS', 1), ('PARIVEDA SOLUTIONS, INC.', 1), ('HELICOPTER TRANSPORT SERVICES, LLC', 1), ('3L MEDIA INC.', 1), ('NOVAQUEST LLC', 1), ('TOP REHAB INC', 1), ('FAST ENTERPRISES LLC', 1), ('XAXIS SOLUTIONS, INC.', 1), ('HATCH ASSOCIATES CONSULTANTS, INC.', 1), ('RICARDO INC.', 1), ('DHK SUPREME, INC.', 1), ('PULMONARY MEDICINE, INFECTIOUS DISEASE, AND CRITIC', 1), ('HANOVER MEDICAL MANAGEMENT SERVICES, LLC', 1), ('ALPHA ACADEMY', 1), ('BESTUNG CARBIDE INC.', 1), ('COMITY DESIGNS INC', 1), ('NEW YORK FORWARDING SERVICES, INC.', 1), ('JAGRO CUSTOMS BROKERS AND INTERNATIONAL FREIGHT FO', 1), ('SILICON STAFF IT SERVICES INC', 1), ('3MD, INC', 1), ('NATIONAL RAILROAD PASSENGER CORPORATION (AMTRAK)', 1), ('4MEDICA', 1), ('SAN BENITO MEDICAL ASSOCIATES, INC.', 1), ('CUSTON CABINET BY FRANK, INC', 1), ('APFEL, INC', 1), ('GLOBAL PARTNERSHIP SCHOOLS, INC.', 1), ('M3 ENGINEERING & TECHNOLOGY CORP', 1), ('TESTENGEER, INC.', 1), ('PACIFIC UNIVERSITY', 1), ('INPATIENT SERVICES OF NEW JERSEY, P.A.', 1), ('ELLEN & ERIC ENTERPRISES, INC.', 1), ('NETSOFT USA INC.', 1), ('SOLARIA CORPORATION', 1), ('BATTELLE MEMORIAL INSTITUTE', 1), ('SMYRNA BILINGUAL ACADEMY', 1), ('SPYGLASS SENIOR VILLA', 1), ('QUALITY TILE CORP.', 1), ('QUALCOMM CONSUMER SERVICES, INC.', 1), ('MICHON INC, DBA DEFINITION 6 LLC', 1), ('LONG ISLAND UNIVERSITY', 1), ('LAURUS INFORMATION SYSTEMS LLC', 1), ('WORLD WILDLIFE FUND', 1), ('PROSPECT KOREAN CHRISTIAN CHURCH', 1), ('ASSOCIATION OF STATE AND TERRITORIAL CHRONIC DISEASE PROGRAM DIRECTORS', 1), ('SERENITY THERAPY SERVICES', 1), ('KONICA MINOLTA MEDICAL IMAGING USA, INC.', 1), ('ACT HOME HEALTH SERVICE', 1), ('STERNBERG LANTERNS INC', 1), ('INSPERITY SERVICES, LP', 1), ('MIDDLESEX SURGERY CENTER LLC', 1), ('Y.K.HAIR CLUB INC.DBA HILLS BEAUTY CLUB', 1), ('6 PLEASANT RIDGE LLC', 1), ('MEDICAL DATA EXPRESS', 1), ('GEORGIA STONE QUARRIES, INC.', 1), ('USHA INC, DBA SUBWAY # 2880', 1), ('BOART LONGYEAR COMPANY', 1), ('CONTINENTAL AUTO PARTS LLC', 1), ('PETERSON AND COLLINS, INC.', 1), ('INTERNATIONAL F.Y.I., INC.', 1), ('AGISTIX INC', 1), ('RIDGECREST HEALTHCARE CENTER', 1), ('ALLETE, INC.', 1), ('MAXPRO INC', 1), ('INTEGRATED DOCUMENT SOLUTIONS, INC.', 1), ('MERIT HEALTHCARE, PC', 1), ('ORTHOPAEDIC & NEUROLOGICAL REHAB, INC.', 1), ('RUDER FINN', 1), ('UBC HEALTH CARE ANALYTICS, INC.', 1), ('PIXAWARE TECHNOLOGIES', 1), ('KBE BUILDING CORPORATION', 1), ('SKIDMORE COLLEGE', 1), ('COMBUSTION COMPONENTS ASSOCIATES, INC.', 1), ('ROMAN CATHOLIC CHURCH OF THE KOREAN MARTYRS', 1), ('HART HERITAGE, INC.', 1), (\"SLEEPY'S, LLC\", 1), ('LVMH WATCH & JEWELRY, USA', 1), ('INFOTREE SERVICE, INC', 1), ('USI MANUFACTURING SERVICES INC.', 1), ('TENOR CAPITAL MANAGEMENT COMPANY LP', 1), ('PREMIER FAMILY HEALTH CARE, A PROFESSIONAL CORP', 1), ('MINI-CIRCUITS', 1), ('USMLEWORLD, LLC', 1), ('RONCO PLASTICS, INC.', 1), ('RAYNAULT FOUNDATION', 1), ('WESTERN EMULSIONS, INC.', 1), ('MCKAY ARCHITECT DESIGN', 1), (\"SHAHYLAL INC. SHAHAN'S ANARKALI RESTAURANT\", 1), ('STATEN ISLAND UNIVERSITY HOSPITAL', 1), ('NAM INFO INC', 1), ('FLEWELLING & MOODY INC', 1), ('STOP GLOBAL YAWNING, INC.DBA WHALEN, HENNIG & MERR', 1), ('ACC10 MIAMI CATALONIA COMPETITIVENESS AGENCY INC', 1), ('DEEP CREEK RNC LLC DBA PORT CHARLOTTE REHABILITATI', 1), ('TROPICAL SHIPPING', 1), ('BLUE CROSS AND BLUE SHIELD OF FLORIDA, INC.', 1), ('KIDS II, INC.', 1), ('ACTIONTEC ELECTRONICS, INC.', 1), ('SEUNGSAN PACK AMERICA CORPORATION', 1), ('ARUP LABORATORIES', 1), ('COGENT HEALTHCARE OF MONTANA, PC', 1), ('SCHNABEL ENGINEERING, INC.', 1), ('FORTUNE PLASTIC & METAL, INC.', 1), ('ORION HEALTH, INC.', 1), ('Z & G INDUSTRIES, INC. D/B/A CLASS A AUTOBODY', 1), ('BP3 GLOBAL, INC.', 1), ('ABIDA INSURANCE AGENCY INC', 1), ('CHROMOCELL CORPORATION', 1), ('DOME USA LLC', 1), ('LADONA, LLC', 1), ('SOFTPROS, INC.', 1), ('JELD-WEN, INC.', 1), ('DAVIS POLK & WARDWELL', 1), ('UNIWORLD TOURS, INC.', 1), ('INDOTRONIX INTERNATIONAL CORPORATION', 1), ('PDI WORLD GROUP LLC', 1), ('SYSMIND LLC', 1), ('NORESCO', 1), ('MOVARIS INC., A DIVISION OF TRINTECH, INC.', 1), ('SUISHTA SAIGAL', 1), ('NEUMIN PRODUCTION COMPANY', 1), ('GALL ZEIDLER CONSULTANTS, LLC', 1), ('DEAF REACH, INC.', 1), ('KITCHEN PRO CABINETRY INC', 1), ('H.F.F. INVESTMENTS, CORP.', 1), ('TRISTAR TERMINALS GUAM, INC.', 1), ('HARNEY & SONS TEA CORP', 1), ('ALPHA SCHOOL, INC.', 1), ('BIOWORLD MERCHANDISING, INC', 1), ('LIFE ALERT EMERGENCY RESPONSE, INC.', 1), ('ESSAI, INC.', 1), ('SUMMITWORKS TECHNOLOGIES, INC.', 1), ('OPSTECHNOLOGY', 1), ('PRIMEON INC', 1), ('INTERNET COMMERCE CORPORATION', 1), ('TEXAS A&M UNIVERSITY-KINGSVILLE', 1), ('CAVENDISH KINETICS, INC.', 1), ('LULU MAHINDA-ABIAKA', 1), ('PEACE OFFICERS RESEARCH ASSN OF CA (PORAC)', 1), ('FIRST KOREAN PRESBYTERIAN CHURCH OF LAS VEGAS', 1), ('UNIVERSITY OF ARKANSAS', 1), ('OVERSEAS FREIGHT, INC.', 1), ('SURYA, INC.', 1), ('ONVIA, INC.', 1), ('RESOURCE AMERICA INFORMATION TECHNOLOGY INC', 1), ('ZICONSYS CORPORATION', 1), ('ETS CONTRACTING, INC.', 1), ('WEALTHVEST MARKETING, INC.', 1), ('WHH TRICE & CO.', 1), ('SAGEONE, INC', 1), ('GLOBAL PHARMACY', 1), ('MARSHALL MILLER AND ASSOCIATES, INC.', 1), ('RADIAN GUARANTY INC.', 1), ('FOREST GOURMET MARKET, INC. (DBA: ZEYTINIA)', 1), ('DEMAND INSIGHTS LLC DBA TRAJECTORY ASSET MGMT LLC', 1), ('CGGVERITAS SERVICES (US) INC.', 1), ('INTELLIGENT OPTICAL SYSTEMS, INC.', 1), ('DANIEL D KIM DDS, LLC', 1), ('BECKER COLLEGE', 1), ('HICKSVILLE UNION FREE SCHOOL DISTRICT', 1), ('KODIAK NETWORKS, INC.', 1), ('OAKLAND DEVELOPMENT GROUP, LLC', 1), (\"SUNNY'S INVESTMENT INC.\", 1), ('MART MANAGEMENT, LLC', 1), ('NEUSTAR', 1), ('HESS REHABILITATION AND CHIROPRACTIC CENTERS, INC.', 1), ('NORTHEAST VALLEY HEALTH CORPORATION', 1), ('ANJDEV ENTERPRISES INC', 1), ('SUPPORTSOFT,INC', 1), ('WALLIS ENTERPRISES, CORP.', 1), ('SHREE KRISHNA HOLDING LLC', 1), ('BELLA BETHESDA SALON', 1), ('L.A. TRANSLATION AND INTERPRETATION', 1), ('CELAYA BAKERY', 1), ('THERMASYS CORPORATION', 1), ('GLOBALSCHOLAR, INC.', 1), ('WILHELMINA P. FERANDOS, MD', 1), ('GENEFLUIDICS', 1), ('WESTERN UNIVERSITY OF HEALTH SCIENCES', 1), ('MURRAY STATE UNIVERSITY', 1), ('SDK TECH CORPORATION', 1), ('ALTIMA TECHNOLOGIES, INC.', 1), ('MEDSTAR-GEORGETOWN MEDICAL CENTER, INC.', 1), ('NEXEON TECHNOLOGY & BUSINESS SERVICES', 1), ('QUINN EMANUEL URQUHART & SULLIVAN, LLP', 1), ('THURSDAY ENTERPRISES, LLC', 1), ('HORIZON SCIENCE ACADEMY OF LORAIN, INC.', 1), ('CHAMPLAIN VALLEY PHYSICIANS HOSPITAL MEDICAL CENTE', 1), ('ALFA LAVAL INC', 1), ('ITRON, INC.', 1), ('ACUPUNCTURE HEALTHCARE PLAZA II, P.C', 1), ('POSTEDIGITAL LLC', 1), ('ABNA ENGINEERING, INC.', 1), ('RGA REINSURANCE COMPANY', 1), ('DIRECT ADMIN, INC .,A WHOLLY OWNED SUB DGC', 1), ('YOUNG MAN KIM PHYSICAL THERAPY P.C.', 1), ('INTEGRACORE LLC', 1), ('EMERGINT TECHNOLOGIES INC', 1), ('JP FAMILY DENTAL, PC', 1), ('DICKINSON COLLEGE', 1), ('INTERNATIONAL TRAINING & EXCHANGE, INC.', 1), ('MIZKAN AMERICAS', 1), ('ADVISEN LTD', 1), ('HWASHIN AMERICA CORPORATION', 1), ('CAMBRIDGE HEALTH ALLIANCE', 1), ('CHANAB INTERNATIONAL LLC D/B/A WESTMINSTER OCEANIC', 1), ('CLEAR THOUGHT SOLUTIONS LLC', 1), ('DANCO', 1), ('TPF SOFTWARE INC', 1), ('YERUSHALMI BROTHERS DIAMONDS USA INC.', 1), ('NEVATECH COMPUTER INC', 1), ('GENUINEIT LLC', 1), ('IMPINJ, INC.', 1), (\"GOLD STREET PHARMA INC D/B/A NICK'S PHARMACY\", 1), ('THYSSENKRUPP ELEVATOR', 1), ('AVCO CONSULTING INC', 1), ('VESDEL FOOD, INC', 1), ('CHEMTURA CORPORATION', 1), ('DKW COMMUNICATIONS, INC.', 1), ('SOUTHERN MEDICAL PARTNERS, LLC', 1), ('S & J CARPET INC', 1), ('SONUS NETWORKS, INC', 1), ('THE PARTHENON GROUP, LLC', 1), ('SREERAM SOFTWARE SOLUTIONS, INC', 1), ('ROBERT LEOPARD HOMEBUILDERS, INC.', 1), ('OLIVIA FLEMING', 1), ('ROYAL JEWELERS LLC', 1), ('GOWORLDNET INC', 1), ('JALAPENO CORPORATION', 1), ('ACADEMIC INTERNAL MEDICINE SPECIALIST, P.L.L.C.', 1), ('HERBERT H. LEHMAN COLLEGE', 1), ('AGA GLOBAL RESOURCES CORP.', 1), ('MORTON COUNTY HEALTH SYSTEM DBA MORTON COUNTY HOSP', 1), ('RITEK SOLUTIONS INC', 1), ('RSM MCGLADREY, INC.', 1), ('ADVANCED INDUSTRIAL MANAGEMENT INC.', 1), ('PHOTRONICS, INC.', 1), ('LANDMARK TECHNOLOGIES INC.', 1), ('PREMIER ASSET LOGISTICS NETWORK, LLC', 1), ('CALIFORNIA LUTHERAN UNIVERSITY', 1), ('REVE PRODUCTIONS LLC', 1), (\"SCHWAN'S SHARED SERVICES, LLC\", 1), ('ANESTHESIA 24/7 PC', 1), ('EBSCO PUBLISHING', 1), ('SEBRING HMA PHYSICIAN MANAGEMENT LLC', 1), ('CYTOKINETICS, INC.', 1), ('PROVIDENCE', 1), ('ESKYE SOLUTIONS, INC.', 1), ('SOLARIS PAPER, INC.', 1), ('AMG-SOUTHERN TENNESSEE LLC', 1), ('GES USA, INC.', 1), ('SILVIES VALLEY RANCH', 1), ('BRIGHTSTARR US LLC', 1), ('GLOBAL INFORMATION SERVICES, INC', 1), ('E.I. DUPONT DE NEMOURS AND COMPANY', 1), ('NOISE FREE WIRELESS, INC', 1), ('SAGGEZZA INC', 1), ('SOLUTIONSIQ', 1), ('REGIONAL PHYSICIANS, LLC', 1), ('HIGHGATE HOTELS LP', 1), ('PEAK6 INVESTMENTS, L.P.', 1), ('OAKLAND UNIFIED SCHOOL DISTRICT', 1), ('CROSSWAY COMMUNITY', 1), ('DORMINY MEDICAL CENTER', 1), ('SPH2 ENTERPRISES,  LLC', 1), ('DIAMOND INNOVATIONS', 1), ('QUALCOMM GLOBAL SERVICES, INC.', 1), ('LEPORT EDUCATIONAL INSTITUTE, INC.', 1), ('Z&A INFOTEK CORPORATION', 1), ('LASZLO SYSTEMS, INC.', 1), ('BR GLOBAL LEARNING AND CONSULTING CORP.', 1), ('OXFORD SOLUTIONS, INC.', 1), ('CHAPEL HILL-CARRBORO CITY SCHOOLS', 1), ('DERCO AEROSPACE, INC', 1), ('WISDOM INFOTECH', 1), ('EDWARD M. ROSENSTEEL D/B/A ROSENSTEEL LAW', 1), ('CHARLES BROS, INC III', 1), ('MEDBED CONNECT LLC.', 1), ('CUSTOM AEROSPACE COMPONENTS', 1), ('DR. MARTIN LUTHER KING JR HEALTH CENTER, INC', 1), ('SOUTHERN ADVENTIST UNIVERSITY', 1), ('JSSB FAIRFAX, LLC T/A TODAI FAIRFAX', 1), ('SOCIAL REALITY', 1), ('RICHARD MEIER & PARTNERS ARCHITECTS LLP', 1), ('MECHATRONICS INC.', 1), ('INSTITUTE OF ELECTRICAL & ELECTRONICS ENGINEERS', 1), ('CARBONFIVE INC.', 1), ('LITA & AVA INC. DBA A GRACE SUB-ACUTE & SKILLED', 1), ('LA RESERVE, INC.', 1), ('HILL CREST BEHAVIORAL HEALTH SERVICES', 1), ('PREMIER ORTHOPEADICS AND SPORTS MEDICINE', 1), ('IONA COLLEGE', 1), ('VOCERA COMMUNICATIONS, INC.', 1), ('AIRLINES REPORTING CORPORATION', 1), ('THOMAS JEFFERSON UNIVERSITY', 1), ('SITA CORP', 1), ('MR YOUTH, LLC', 1), ('MG ENGINEERING P.C.', 1), ('GOLDEN DRAGON', 1), ('HISTOSERV, INC.', 1), ('STATSOFT, INC.', 1), ('METROWORTH CONSULTING LLC', 1), ('CAMPBELL ALLIANCE GROUP, INC.', 1), ('DELFIN GROUP USA, LLC', 1), ('NATHAN LITTAUER HOSPITAL & NURSING HOME', 1), ('APPLIED CONTROL TECHNOLOGY', 1), ('NEW YORK GREAT FAITH CHURCH', 1), ('BEN VENUE LABORATORIES, INC.', 1), ('VENSOFT LLC', 1), (\"FLANAGAN BROTHER'S INC.\", 1), ('JASENG CENTER CORPORATION', 1), ('CORAL SEA POOLS SERVICE CORP.', 1), ('NEXUS IS, INC.', 1), ('TOWERS WATSON DELAWARE INC.', 1), ('GETTYSBURG COLLEGE', 1), ('CLIFFSIDE MEDICAL LLC', 1), ('CONTROL-TEC, LLC', 1), ('JEFF & MILDRED SELF', 1), ('SYNQOR, INC.', 1), ('RENAL CARE CONSULTANTS, PC', 1), ('SHINKENSHA USA INC.', 1), ('INTERNATIONAL SECURITIES EXCHANGE, LLC', 1), ('ROBROY INDUSTRIES', 1), ('THE CHILD CENTER OF NY', 1), ('M ROTHMAN', 1), ('POONAM SRIVASTAVA M.D., P.C.', 1), ('OHIO FARMERS INSURANCE COMPANY', 1), ('LOGICBRIDGE INC', 1), ('ALBERTSONS LLC', 1), ('OSI SYSTEMS, INC.', 1), ('SPECIALTY MEDICAL GROUP CENTRAL CALIFORNIA, INC', 1), ('S.A. BENDHEIM LTD', 1), ('SALYERSVILLE MEDICAL CENTER, LLC', 1), (\"CABELA'S, INC.\", 1), ('HOSPITAL MEDICINE ASSOCIATES, LLC', 1), ('HCONN, INC.', 1), ('IRONSHORE MANAGEMENT INC.', 1), ('EINHORN YAFFEE PRESCOTT, AE', 1), ('MACROTECH (USA), INC.', 1), ('KRISBI TRAVEL INC.', 1), ('PHOENIX AMERICAN INCORPORATED', 1), ('CHERIE ZUCKER INC', 1), ('FRENCH WOODS MANAGEMENT', 1), ('EVEREST TECHNOLOGIES INC.', 1), ('JOHN JAY COLLEGE OF CRIMINAL JUSTICE', 1), ('CONGREGATION KHAL TIFERETH YISRAEL INC', 1), ('POSEDGE INC', 1), ('MARCOS VALENTIN DEL ROSARIO', 1), ('GENWORTH NORTH AMERICA CORPORATION', 1), ('AVERETT UNIVERSITY', 1), ('I & I SOFTWARE, INC', 1), ('MINAKO AMERICA CORPORATION, DBA: MINCO', 1), ('UNICOM TECHNOLOGIES, INC.', 1), (\"MOODY'S ANALYTICS\", 1), ('WONWOO ENGINEERING USA INC.', 1), ('TEKSYSTEMS, INC', 1), ('BROOKS USA INC', 1), ('TJ BEAUTY, INC', 1), ('CHAPMAN UNIVERSITY', 1), ('UNIVERSAL ALLOY CORP', 1), ('CLOUDFLARE, INC.', 1), ('GROUNDHOG TECHNOLOGIES INC', 1), ('CALMTEL USA INC', 1), ('CALIFORNIA Z CARS, INC.', 1), ('RAFAEL VINOLY ARCHITECTS PC', 1), ('SONY PICTURES ENTERTAINMENT INC.', 1), ('AMERICAN HOME RESPIRATORY CARE INC. D/B/A MONROE', 1), ('BEYONDSOFT CONSULTING, INC.', 1), ('COMMUNITY UNIT SCHOOL DISTRICT 300', 1), ('THE HALL OF TYRANNUS MISSION', 1), ('AMERICAN ENERGY DISTRIBUTION, LP', 1), ('SUNTRANS INTERNATIONAL INC', 1), ('PRIME METALS USA, INC.', 1), ('ISANI CONSULTANTS', 1), ('SHENLEY SOFA INC.', 1), ('WILLIAMS MIDSTREAM SERVICES, LLC', 1), ('NICOINFO SYSTEMS, INC', 1), ('JERALD BROWNSTEIN', 1), ('MARKETSPHERE CONSULTING, LLC', 1), ('AVI TECHNOLOGIES INC.', 1), ('THE KOREAN BAPTIST CHURCH OF NEW JERSEY', 1), ('ADVANCED DENTAL CARE & COSMETICS INC', 1), ('WOODWAY COUNTRY CLUB, INC.', 1), (\"JOHN'S OF BLEECKER STREET\", 1), ('HEADWAY TECHNOLOGIES, INC.', 1), ('K2/D&S MANAGEMENT CO., LLC', 1), ('LIGHT RESTAURANTS LLC', 1), ('BETH ISRAEL MEDICAL CENTER', 1), ('WRAP TOP CONSTRUCTION, INC', 1), ('CONIFER FUND SERVICES, LLC', 1), ('UNIKO TRADING, INC.', 1), ('ORIENT PRECISION AMERICA, INC.', 1), ('WILSON COUNTY SCHOOLS', 1), ('NAVAJO HEALTH FOUNDATION - SAGE MEMORIAL HOSPITAL', 1), ('LODESTAR SYSTEMS, INC.', 1), ('MCCONNELL JONES LANIER & MURPHY', 1), ('HORIZON SCIENCE ACADEMY DAYTON', 1), ('PHILLIPS LYTLE LLP', 1), ('TOTAL CARE PHARMACY', 1), ('Y2S TRADING INC.', 1), ('UNIVERSITY OF ILLINOIS AT SPRINGFIELD', 1), ('NT CONSULTING INC', 1), ('SHUD WCV, INC', 1), ('DIGITAL SYSTEMS SUPPORT, INC.', 1), ('UNIVERSITY OF NORTH CAROLINA AT PEMBROKE', 1), ('LYNCHBURG NEPHROLOGY PHYSICIANS, P.L.L.C.', 1), ('ARGUS MEDIA, INC.', 1), ('SEAMICRO INC', 1), ('DOOCO ELECTRONICS USA, INC', 1), ('ARCHITECTURE RESEARCH OFFICE LLC', 1), ('L.B.J. JEANS CORP.', 1), ('GATX CORPORATION', 1), ('THE METROHEALTH SYSTEM', 1), ('SOFTIONS CONSULTING INC.', 1), ('R & J ENTERPRISE LLC', 1), ('VEKA INC.', 1), ('GEMINI MANUFACTURING CO.', 1), ('AMERICAN TRADING INTERNATIONAL INC.', 1), ('LEADER MUTUAL FREIGHT SYSTEM (CHICAGO) INC.', 1), ('EDF TRADING NORTH AMERICA, LLC', 1), ('CAGNAY INC', 1), ('VSOFT CORPORATION INC', 1), ('ALPHA CONSULTING ENGINEERS, INC.', 1), ('TV KOREA USA, INC.', 1), ('ORGANON PROFESSIONAL SERVICES', 1), ('AMERICAN INSTITUTE OF MEDICAL SCIENCES & EDUCATION', 1), ('EXEZIDIS & ASSOCIATES, PC', 1), ('TNS MANAGEMENT SERVICES INC.', 1), ('ADMINOVATION TECHNOLOGIES', 1), ('AVIAT U.S., INC.', 1), ('DATAMART SYSTEMS INC', 1), ('JOSE E. LIRANZO / KARINA J. GUAMAN', 1), ('LILY AND TAYLOR', 1), ('INFOSTRETCH CORPORATION', 1), ('XORIANT CORPORATION', 1), ('I-MANY, INC.', 1), ('REARDEN COMMERCE, INC.', 1), ('REVSTONE INDUSTRIES, LLC', 1), ('APPS ASSOCIATES', 1), ('DENTAL SERVICES OF WESTERN PENNSYLVANIA LLC', 1), (\"PRESTER JOHN'S CORPORATION\", 1), ('WOOD TEXTURES, INC.', 1), ('CONTOUR ENERGY SYSTEMS, INC.', 1), (\"C.M.S.J., INC. D/B/A CARMINE'S PIZZERIA RESTAURANT\", 1), ('WYMOND ASSOCIATES LLC', 1), ('GRAMEEN AMERICA, INC.', 1), ('REVEILLE TECHNOLOGIES,INC', 1), ('MAINSTREAM ADVERTISING INC', 1), ('BLUE RIDGE HOME CARE', 1), ('MICROAGILITY, INC.', 1), ('THE LUNG CLINIC, P.A.', 1), ('PRECISION STEEL DETAILING', 1), ('SPEECHCYCLE', 1), ('NEWPORT MEDICAL INSTRUMENTS, INC.', 1), ('790 FRENCH LLC', 1), ('WCIRB OF CALIFORNIA', 1), ('CALIFORNIA STATE UNIVERSITY, MONTEREY BAY', 1), ('SUPFINA MACHINE COMPANY, INC.', 1), ('VENTURA DESIGNS & MEDIA, INC.', 1), ('MIHATA CORP.', 1), ('AVALON BUILDING MAINTENANCE OF THE INLAND EMPIRE, INC.', 1), ('PROVIDENCE HEALTH & SERVICES- WA', 1), ('SAKSOFT INC', 1), ('VECTREN CORPORATION', 1), ('3A TECHNOLOGIES INC.', 1), ('DMG EAST MARKET LLC', 1), ('VEGA CONSULTING SOLUTIONS, INC.', 1), ('TYCO THERMAL CONTROLS LLC', 1), ('ROCHELLE COMMUNITY HOSPITAL', 1), ('REGENCY TEXTILE OF CA, INC', 1), ('VIRTUAL CONSTRUCTION INC.', 1), ('5TH AVENUE APARTMENT COMPLEX LLC', 1), ('BUILTRITE SOLUTIONS, INC', 1), ('METANOIA SOLUTIONS INC', 1), ('C&T CONSULTING SERVICES, LLP', 1), ('UNIVERSITY OF IOWA COMMUNITY MEDICAL SERVICES, INC', 1), ('JTB INTERNATIONAL, INC.', 1), ('NATIONAL JEWISH HEALTH', 1), ('DDC ADVOCACY', 1), (\"CANDOR ENTERPRISES, INC., DBA L'AFFAIRE II BAKESHOP\", 1), ('UNIVERSITY OF NORTH DAKOTA', 1), ('INTER-MACH SERVICE CO.', 1), ('XPERT TECHNOLOGIES INC', 1), ('FNX STUDIOS INC.', 1), ('KPK TECHNOLOGIES, INC.', 1), ('SMC SYSTEMS, INC. DBA SKYETEC', 1), ('THE REHABILITATION INSTITUTE OF CHICAGO', 1), ('WOOD GROUP PRATT & WHITNEY INDUSTRIAL TURBINE SERVICES, LLC', 1), ('SELF-EMPLOYED CONTRACTOR/SUBCONTRACTOR', 1), ('WALTER P. RAWL & SONS, INC.', 1), ('G.Q.M., INC.', 1), ('WALID TOUNI,DDS,A PROFESSIONAL CORP', 1), ('SAPTOPIA CONSULTING LLC', 1), ('J.H. BRADBY, INC.', 1), ('APOLLO BAKERY INC.', 1), ('ENVIRONMENTS FOR LEARNING INC', 1), ('NEWCOURTLAND LIFE PROGRAM', 1), ('IMC, INC', 1), ('CARLINVILLE AREA HOSPITAL ASSOCIATION', 1), ('CIGLER TRUCKING COMPANY', 1), ('VISTRONIX, INC.', 1), ('ADVANCED TECHNOLOGY MANAGEMENT, INC.', 1), ('LIFETIMEOPPORTUNITY, INC.', 1), ('SAM MOON TRADING ENTERPRISES, LTD.', 1), ('OBERLIN COLLEGE', 1), ('MEDICOMP SYSTEMS, INC.', 1), ('ITCENTRAL INC.', 1), (\"RIKYU LLC DBA NAKED-FISH'S SUSHI & GRILL\", 1), ('CLARUS MARKETING GROUP LLC', 1), ('MADISON 88 LTD', 1), ('CSMSOFTWARE USA LLC', 1), ('MIDWAYUSA', 1), ('PAX SCIENTIFIC, INC.', 1), ('JINHYUNG, INC.', 1), ('AMPLA HEALTH', 1), ('EUTELSAT AMERICA CORP', 1), ('JLL PARTNERS INC.', 1), ('UNIVERSITY OF SOUTHERN MAINE', 1), ('GLOBAL CONNECT NETWORK, INC.', 1), ('GOLDMAN SACHS BANK USA', 1), ('MCGLADREY & PULLEN, LLP', 1), ('WALDRON ENGINEERING & CONSTRUCTION INC.', 1), ('ST CONSULTING INTERNATIONAL INC', 1), ('R&B MARINE POWER ENGINEERS, INC', 1), ('GREYCELL LABS INC', 1), ('ARDA TECHNOLOGIES', 1), ('MARY O DODD', 1), ('VSS MONITORING, INC.', 1), ('MELTZER/MANDL ARCHITECTS, P.C.', 1), ('SABRA, WANG & ASSOCIATES, INC.', 1), ('MAKO SURGICAL CORP.', 1), ('CORE PROJECTS & TECHNOLOGIES LTD.', 1), ('VISUAL ANALYTICS INC.', 1), ('THE BALDWIN GROUP, INC.', 1), ('FLODESIGN WIND TURBINE CORP.', 1), ('FIRST CLASS PHYSICAL THERAPY, PC', 1), ('CHINA CITY LLC', 1), ('ONLY IT SOLUTIONS INC', 1), ('IVY CHRISTIAN ACADEMY', 1), ('GUY CARPENTER AND COMPANY, LLC', 1), ('ANGELES NATIONAL GOLF CLUB', 1), ('AVIANA GLOBAL TECHNOLOGIES, INC', 1), ('DURGA CONSULTING LLC', 1), ('DRIVE AUTOMOTIVE INDUSTRIES OF AMERICA, INC.', 1), ('VIVA USA INC.', 1), ('BUCYRUS INTERNATIONAL INC.', 1), ('LITTLE TREE MONTESSORI INC.', 1), ('SYSTEMS CONSULTING GROUP LLC', 1), ('IDEX HEALTH & SCIENCE, LLC', 1), ('BEST BUY ENTERPRISE SERVICES, INC.', 1), ('MS ORTHODONTICS ASSOCIATES, LLC', 1), ('JDH CAPITAL, LLC.', 1), ('MODERN DENTAL VISION, P.C.', 1), ('SUNRISE SENIOR LIVING MANAGEMENT, INC.', 1), ('MRC ENERGY COMPANY', 1), ('SHINJYU GLOBAL IP COUNSELORS, LLP', 1), ('IL S KIM DDS INC.', 1), ('LABYRINTH SOLUTIONS INC.', 1), ('GE MEDICAL SYSTEMS, INC.', 1), (\"ELMER'S DINER, INC.\", 1), ('IBLESOFT INC', 1), ('PONCE DAVIS ESTATES, INC.', 1), ('ASTOR & SANDERS CORPORATION', 1), ('KTM HOLDINGS INC', 1), ('AONSOFT INTERNATIONAL, INC', 1), ('RVM ENTERPRISES, INC.', 1), ('MG MAKO INC', 1), ('CENTURY STRINGS, INC.', 1), ('FABERGENT, INC.', 1), ('KYRA INFOTECH INC.', 1), ('RIVERSIDE MILITARY ACADEMY', 1), ('HENSLEY INDUSTRIES, INC.', 1), ('PACIFIC QUALITY PACKAGING CORPORATION', 1), ('GUAM JRC LOGISTICS,LLC', 1), ('OMNITECH SYSTEMS', 1), ('SCOTIA CAPITAL USA INC', 1), ('TRIPLEPOINT', 1), ('STATE OF NEW HAMPSHIRE', 1), ('ADVOCARE, INC.', 1), ('K PEARL CORPORATION D/B/A MONICA JEWELERS', 1), ('CARLSON ADVISORS, LLC', 1), ('MICHELLE BEAUTY SUPPLY INC.', 1), ('BRADSHAW CONSTRUCTION CORPORATION', 1), ('NOVATIME TECHNOLOGY, INC.', 1), ('MEE INDUSTRIES, INC.', 1), ('SOLUTIONS DELIVERY INC', 1), ('LIGHT & SALT PRESBYTERIAN CHURCH', 1), ('TRANSNUCLEAR INC.', 1), ('THE FIREHOUSE RESTAURANT & BAR', 1), ('ACCOLITE INC', 1), ('JARVIS PRODUCTS CORP', 1), ('MIDDLESEX SCHOOL', 1), ('PREH, INC.', 1), ('NORTHWEST HEALTH SERVICES, INC.', 1), ('ENVIRONMENTAL SYSTEMS DESIGN, INC.', 1), ('R.J. BEHAR & COMPANY, INC.', 1), ('STERLING 5, INC.', 1), ('SAIC ENERGY, ENVIRONMENT & INFRASTRUCTURE, LLC', 1), ('INTERNATIONAL SOURCES, INC', 1), ('INSURANCE TECHNOLOGIES, LLC.', 1), ('MIAMI BEACH 411 CORPORATION', 1), ('PALM BAY INTERNATIONAL, INC.', 1), ('HARP & EAGLE RESTAURANT CO. INC', 1), ('WILLMAR POULTRY COMPANY', 1), ('BARCLAYS BANK PLC', 1), ('NET COM DEVELOPMENT', 1), ('LUCKY CLEANERS', 1), ('KOUSA USA, INC', 1), ('HALCROW, INC', 1), ('CAS SEVERN, INC.', 1), ('TOPTICA PHOTONICS, INC.', 1), ('GERSON LEHRMAN GROUP', 1), ('L.A. WEBMASTER, INC.', 1), ('LOPINUS, INC.', 1), ('EL TIO TIRES ROAD SERVICES, INC', 1), ('COMPLETE HOME RENTALS, LLC', 1), ('INTERNATIONAL AUTOMOTIVE COMPONENTS GROUP NORTH AM', 1), ('BILLY N. GERIS, M.D., MEDICAL CLINIC', 1), ('THE TOWN NEWS, INC.', 1), ('LAPHA & COMPANY AMERICA, INC.', 1), ('SEASONS HEALTHCARE MANAGEMENT', 1), ('URBAN LOGIC CONSULTANTS', 1), ('PARKVIEW HOSPITAL, INC.', 1), ('NEWCOMB & BOYD', 1), ('CANYON KOREAN BAPTIST CHURCH', 1), ('ACCESSLINE COMMUNICATIONS CORP.', 1), ('HANBIT CHURCH', 1), ('YPIS OF STATEN ISLAND, INC', 1), ('ADVANCED EPOXY FLOORING', 1), ('CHONGSHAN CHEN', 1), ('MAYBERRY HOMES, LLC', 1), ('MICHAEL T. MURRAY, M.D., INC. D/B/A CAMINO ENT', 1), ('TINYCO, INC.', 1), ('SOUTHERN ILLINOIS UNIVERSITY CARBONDALE', 1), ('GT INDUSTRIES, INC', 1), ('ACTUATE CORPORATION', 1), ('IMA LIFE NORTH AMERICA', 1), ('E & E CO., LTD. DBA JLA HOME', 1), ('ADVANCED ENVIRONMENTAL RECYCLING TECHNOLOGIES, INC', 1), ('TUYA COLLECTION, INC.', 1), ('GRU FINANCIAL CORP', 1), ('ROYA HAKAKIAN', 1), ('FONESYS COMMUNICATIONS INC.', 1), ('SUN SOFT TECHNOLOGIES, INC', 1), ('SUR TRADING DBA NATIVA FURNITURE', 1), ('BAILARD', 1), ('TEK TREE LLC', 1), ('PALO ALTO RESEARCH CENTER INC. (PARC)', 1), ('PARAM JEET SINGH DBA PEARLAND EYE CENTER', 1), ('SUE H. BAE, PH.D., P.C.', 1), ('EUN HA ENTERPRISES, INC.', 1), ('SOCAL TURNAROUND PARTNERS LLC DBA PROMAX SYSTEMS', 1), ('COMPTECH ASSOCIATES INC.', 1), ('CSSI, INC.', 1), ('TURNER CONSTRUCTION COMPANY', 1), ('FOREVER CREATION INC.', 1), (\"O'CONNOR ANIMAL HOSPITAL\", 1), ('SOLO CLIP, INC.', 1), ('WESTERN NEW ENGLAND COLLEGE', 1), ('BRANDON CONSULTING ASSOCIATES, INC', 1), ('LIEBHERR CRANES, INC.', 1), ('MOBILE DOCTORS', 1), ('OCKHAM DEVELOPMENT GROUP, INC.', 1), ('WESTERN NEW ENGLAND UNIVERSITY', 1), ('ASHLAND MEDICAL GROUP, P.S.C.', 1), ('JOHNSON & JOHNSON PHARMACEUTICAL R&D, LLC', 1), ('NEW STAR REALTY & INVESTMENT CORP.', 1), ('DEPARTMENT OF VETERANS AFFAIRS MEDICAL CENTER', 1), ('MEXICO FOOD LLC', 1), ('NSW INSTALATION INC.', 1), ('SMALL SMILES OF ROANOKE,LLC', 1), ('ROYAL MAJESTY HOME CARE INC.', 1), ('HAMPDEN CHARTER SCHOOL OF SCIENCE', 1), ('FRANK RUSSELL COMPANY', 1), ('PRITHVI CATALYTIC INC.', 1), ('BLOOMSBURG HOSPITALIST ASSOCIATES (LLC)', 1), ('DEZER HOTEL MANAGEMENT LIMITED', 1), ('ELSEVIER', 1), ('STRYKER MEDICAL, A DIVISION OF STRYKER CORPORATION', 1), ('K&A WIRELESS, LLC', 1), ('SOUTH DAKOTA STATE UNIVERSITY', 1), ('FOG KIST OF SANTA CRUZ, LLC', 1), ('CRISTINO DELEON', 1), ('A.F.PAREDES & CO., LLP, CPAS', 1), ('VERONA AREA SCHOOL DISTRICT', 1), ('CHARLENE PRODUCTS INC.', 1), ('NEWS CORP STAR US LLC', 1), ('DAY 1 STUDIOS, LLC', 1), ('GLOBAL PAYMENT HOLDING COMPANY', 1), ('AUTOMATED PRECISION, INC.', 1), (\"AVCB&B II LLC DBA AMERICA'S VEIN CENTERS OF RI\", 1), ('ACI INFOTECH INC', 1), ('LANDSCOPE, INC.', 1), ('AEQUOR TECHNOLOGIES, INC.', 1), ('BHN INTERNATIONAL, LLC (DBA. LAVA HEAT ITALIA)', 1), ('SUPREMESOFT CORPORATION', 1), ('D.W. ADCOCK ORTHOPAEDIC CLINIC, LLC', 1), ('NEPHROLOGY ASSOCIATES, M.D., P. A', 1), (\"JO'SAK USA INC.\", 1), ('RAJA FOODS, L.L.C.', 1), ('SCHOOLCITY, INC.', 1), ('SUBWAY', 1), ('ADVANTECH CORPORATION', 1), ('PERSONAL TOUCH ENTERPRISES', 1), ('ETS-LINDGREN, L.P.', 1), ('THAILAND INTERNATIONAL CORPORATION', 1), ('NETSTEPS', 1), ('TRINITY COLLEGE', 1), ('TEX-ELLENT, INC. (DBA. PARAMOUNT TEXTILES)', 1), ('GASTROENTEROLOGY CONSULTANTS', 1), ('APPS CONSULTANTS INC.', 1), ('ECOLOGY AND ENVIRONMENT, INC.', 1), ('FINITE STATES, INC.', 1), ('BEAUTY PLUS TRADING CO., INC', 1), ('OLD CASTLE APG', 1), ('GILBERT HOSPITAL, LLC', 1), ('GOLDCREEKFOODS,LLC', 1), ('UNUMPROVIDENT', 1), ('HEALTHSTREAM, INC.', 1), ('COCOMO ISLAND INC.', 1), ('OSHKOSH CORPORATION', 1), ('RANA HOTELS LLC', 1), ('MILLIGAN COLLEGE', 1), ('ASIAN & PACIFIC ISLANDERS COALITION ON HIV/AIDS, I', 1), ('KAI MEDICAL, INC.', 1), ('MATTSON TECHNOLOGY INC.', 1), ('THE NORTHERN TRUST COMPANY', 1), ('POTEN & PARTNERS INC.', 1), ('TRIGEM USA, INC.', 1), ('STONE CONNECTION LOS ANGELES INC.', 1), ('FITH USA, INC.', 1), ('TATCO INSTALLATIONS, INC.', 1), ('CELL BUSINESS EQUIPMENT', 1), ('WEAVER & TIDWELL, L.L.P.', 1), ('SOUTHWEST KEY PROGRAMS', 1), ('MISSOURI WESTERN STATE UNIVERSITY', 1), ('CALIFORNIA AGRICULTURAL INVESTMENT GROUP INC', 1), ('EXCELERATE ENERGY', 1), ('KVL SOLUTIONS INC', 1), ('WHI SOLUTIONS, INC.', 1), ('AFFORDABLE TIRE, LLC', 1), ('SCHWEITZER ENGINEERING LABORATORIES, INC.', 1), ('PEOPLECORP AMERICA INC', 1), (\"DADD'S REFINISHING & UPHOLSTERY\", 1), ('TICKETS.COM, INC.', 1), ('FM:SYSTEMS, INC.', 1), ('ONCHIP DEVICES, INC.', 1), ('TRANSUNION INTERACTIVE, INC.,', 1), ('TOMPKINS ASSOCIATES, INC.', 1), ('PAUL C. HWANG, CPA', 1), ('NESTLE NUTRITION R&D CENTERS,INC.', 1), ('PORTER RANCH MEDICAL CENTER', 1), ('CP KELCO, A HUBER COMPANY', 1), ('BELDEN WIRE AND CABLE COMPANY', 1), ('WILLIAM CHARLES CONSTRUCTION COMPANY, LLC', 1), ('OGE ENOGEX HOLDINGS LLC', 1), ('HORIZONS CONSTRUCTION COMPANY INTL. INC.', 1), ('COURTYARD BY MARRIOTT LOS ANGELES WESTSIDE', 1), ('SINGH CAR CARE SERVICES INC', 1), ('BR RENO STAR LLC', 1), ('KAIST LEARNING CENTER, LLC D/B/A KAIST LEARNING CENTER', 1), ('DAVIS PANTRY, INC.', 1), ('PDDN INC', 1), ('ROMEX TEXTILES INC', 1), ('SYSCONS CORPORATION', 1), (\"DOCTOR'S EXCHANGE OF GEORGIA, P.C.\", 1), ('MERCER UNIVERSITY', 1), ('HEALTHMEDIA, INC.', 1), ('MAYA PUBLISHING GROUP, LLC', 1), ('ALLIANCE LIFE SCIENCES CONSULTING GROUP, INC', 1), ('ELITE GROUP INTERNATIONAL MARKETING AND TRADING IN', 1), ('GIFFORD & WEST PAHRMACY INC', 1), ('CLEAR CONNECT COMMUNICATION, LLC', 1), ('MEVIS MEDICAL SOLUTIONS, INC.', 1), ('BIG M INC.', 1), ('H MART WEST, INC.', 1), ('UNITED AIRLINES', 1), ('SIEMENS INDUSTRY, INC', 1), ('KARDAL INC.', 1), ('KIYOHARA & TAKAHASHI', 1), ('INTERTEK USA INC.', 1), ('R.J.VENTURES INC', 1), ('HELIOS CHIROPRACTIC LLC', 1), ('KUTLUG, INC.', 1), ('PERCEPTIVE TECHNOLOGIES, INC.', 1), ('SAI RESTAURANTS, INC.', 1), ('HIGHTECH PASSPORT LTD.', 1), ('SAI SIVA HEALTH CARE LLC', 1), ('PILZ AUTOMATION SAFETY LP', 1), ('CURTIS INSTRUMENTS', 1), ('KRAFT FOODS GLOBAL, INC.', 1), ('VERA INSTITUTE OF JUSTICE, INC.', 1), ('CORNERSTONE ONDEMAND, INC.', 1), ('DEXTER DENTAL LLC', 1), ('INDEPENDENT SECURING SERVICES, INC.', 1), ('RTTV AMERICA, INC.', 1), ('BNSF RAILWAY COMPANY', 1), ('OPTIMUM POLYMER TECHNOLOGIES', 1), ('OEMETRIX LLC', 1), ('DATA MIGRATION RESOURCES INC.', 1), ('APOGEE MEDICAL GROUP, NEW MEXICO, INC.', 1), ('ALL ROOFING CORP.', 1), ('JOLLY HOTEL MADISON TOWERS', 1), ('TRIPADVISOR LLC', 1), ('ZENOSYS LLC', 1), ('LEIGHFISHER INC.', 1), ('OUR LADY OF LOURDES HOSPITAL AT PASCO', 1), ('GREAT VEGETABLE FARM, INC.', 1), ('PROMET SOLUTIONS, CORP.', 1), ('NUESTRA COMUNIDAD DEVELOPMENT CORPORATION', 1), ('ELITE SQUAD TENNIS CLUB', 1), ('SAN DIEGO STATE UNIVERSITY RESEARCH FOUNDATION', 1), ('HRC GUAM CO. DBA: HARD ROCK CAFE GUAM', 1), ('SOUTHERN WINE & SPIRITS OF NEW YORK, INC.', 1), ('MOA MOA, INC.', 1), ('CASCADE TECHNOLOGIES, INC.', 1), ('MEDPLUS, INC., A QUEST DIAGNOSTICS COMPANY', 1), ('ROCKTENN', 1), ('ZEECO, INC.', 1), ('TELEDYNE SCIENTIFIC & IMAGING', 1), ('SANOH AMERICA INC.', 1), ('ITASCA DENVER, INC.', 1), ('INFO SYSTEM MEDIA LLC', 1), ('SPRING ARBOR UNIVERSITY', 1), ('MODULO CUCINA LLC', 1), ('ANDRITZ, INC.', 1), ('PJ&JR WELDING MANUFACTURING, LLC', 1), ('CELLHUT.COM, INC.', 1), ('1701 RUSSELL STREET, LLC', 1), ('MICHAEL PAGE INTERNATIONAL, INC.', 1), ('GLOBAL CAPITAL RESOURCES CORPORATION', 1), ('ICSA INC', 1), ('MOTIVATIONAL ENTERTAINMENT, INC', 1), ('GLOBAL CARE QUEST, INC.', 1), ('HANSOFT INC', 1), ('WARNACO, INC.', 1), ('LGR TELECOMMUNICATIONS, INC.', 1), ('THE NPD GROUP', 1), ('OAK HILL FAMILY CARE CENTER', 1), ('EMERALD CREATIONS INC.', 1), ('NTELICOR, L.P.', 1), ('COMPUTECH, INC.', 1), ('NATHELYNE A. KENNEDY & ASSOCIATES', 1), ('JOSEPH GOVE PLUMBING AND HEATING INC.', 1), ('SOLARFREE INC.', 1), ('FITCH, INC', 1), ('WAUKEGAN PUBLIC SCHOOLS', 1), ('DUFF & PHELPS, LLC', 1), ('INPATIENT CONSULTANTS OF FLORIDA, INC.', 1), ('RHK TECHNOLOGY, INC.', 1), ('THIEL COLLEGE', 1), ('BEEKLEY CORPORATION', 1), ('MITCHELL & TITUS LLP', 1), ('MARTON PRECISION MANUFACTURING', 1), ('DRAS INC DBA GURU INDIAN CUISINE', 1), ('MALONEBAILEY, LLP', 1), ('GEFIT LIVERNOIS ENGINEERING LLC', 1), ('MERITCARE MEDICAL GROUP', 1), ('PROCADENCE SYSTEMS INC', 1), ('DIRECT FLOWER DISTRIBUTORS, INC', 1), ('STAVIS & COHEN FINANCIAL LLC', 1), ('TAKI LAW OFFICES, A PROFESSIONAL CORPORATION', 1), ('CAESARS ENTERTAINMENT OPERATING COMPANY INC.', 1), ('NEURO REHABILITATION MEDICAL SERVICES OF S.I .PC', 1), ('GLODYNE TECHNOSERVE, INC', 1), ('EL VAQUERO CHIDO', 1), ('ZENAIDA M. CARPIO', 1), ('YAMAMOTO R. LANDSCAPING', 1), ('RADISE INTERNATIONAL', 1), ('NEW PLAN LEARNING, INC.', 1), ('H & J PHARMACEUTICAL INC', 1), ('NIFCO AMERICA CORP', 1), ('DRAKE COLLEGE OF BUSINESS', 1), ('DREAM ENTERPRISES INC D/B/A HANANOKI', 1), ('PIQUETE CORP', 1), ('TEXAS A&M AGRILIFE RESEARCH', 1), ('Y.N.L.C. CAFE CORP.,', 1), ('GIGOPTIX LLC', 1), ('CENTURYTEL SERVICE GROUP, LLC', 1), ('MARUTHI TECHNOLOGIES , L.L.C.', 1), ('ROUGH ROCK SCHOOL BOARD, INC.', 1), ('ILLINOIS WESLEYAN UNIVERSITY', 1), ('LUCKY SUPPLY INC.', 1), ('CIRQUE CORPORATION', 1), ('ZOLON TECH SOLUTIONS, INC.', 1), ('SHIVAM INFOTECH INC.', 1), ('VISUAL INTELLIGENCE, LP', 1), ('SZECHUAN RESTAURANT', 1), ('HS AUTOMOTIVE ALABAMA INC', 1), ('CAMBRIDGE BIOMARKETING GROUP, LLC', 1), ('TRW AUTOMOTIVE', 1), ('FOKKER ELMO, INC.', 1), ('NORTH POINT IT CORP', 1), ('UNIVERSITY OF CALIFORNIA, SAN DIEGO', 1), ('5TH CELL MEDIA LLC', 1), ('OB/GYN CENTERS OF MEMPHIS, PLLC', 1), ('CULTURAL HOMESTAY INTERNATIONAL', 1), ('GENESIS CORP', 1), ('CENTURY AUTOMOTIVE MANUFACTURING, INC.', 1), ('DIGESTIVE DISEASES SPECIALISTS P.C', 1), ('SRG GLOBAL, INC.', 1), ('CONCORD UNIVERSITY', 1), ('WOODCLIFF CORPORATION', 1), ('H/2 CREDIT MANAGER LP', 1), ('COMMERCIAL CONSTRUCTION & IMPROVEMENT', 1), ('IL CREATION OF MARYLAND, INC.', 1), ('FEASTER CHARTER SCHOOL', 1), ('FULL GOSPEL NEW YORK CHURCH', 1), ('COMMUNITY CONNECTIONS, INC.', 1), (\"BAPTIST ST. ANTHONY'S HOSPITAL CORPORATION\", 1), ('PANDUIT CORPORATION', 1), ('TRIPLE DOT CORP', 1), ('GROUPON, INC.', 1), ('HALL & ASSOCIATES, LLC', 1), ('SYNERGY FLAVORS, INC.', 1), ('MINNESOTA STATE UNIVERSITY, MANKATO', 1), ('SIP SAK INC.', 1), ('LAKIREDDY DENTAL PC', 1), ('PASADENA ISD', 1), ('VERANS BUSINESS SOLUTIONS INC.', 1), ('SPACEAGE CONSULTING CORP', 1), ('ULTIMA CONSTRUCTION, INC.', 1), ('INTERNATIONAL PLANNED PARENTHOOD FEDERATION/WHR', 1), ('MEDIA DESIGN ASSOCIATES', 1), ('MARKETING AND PLANNING SYSTEMS, LLC', 1), ('MAGNA EXTERIORS & INTERIORS AMERICA HOLDINGS INC', 1), ('KEMA, INCORPORATED', 1), ('SONOS, INC', 1), ('NABROS INC', 1), ('APEX ENGINEERS & CONSULTANTS, INC.', 1), ('THE ASIA NETWORK ENTERPRISE, INC', 1), ('THE DUPAGE CLUB, LLC', 1), ('THE HIBBERT COMPANY', 1), ('ZENSAR TECHNOLOGIES INC.', 1), ('UNITED STATES NAVAL ACADEMY', 1), ('CABOT MICROELECTRONICS CORPORATION', 1), ('NORTH AMERICAN COLLEGE', 1), ('JIVA INFOTECH, INC', 1), ('PRIME COLOR, INC.', 1), ('PAC WEST LAND CARE, INC.', 1), ('DENISON UNIVERSITY', 1), ('ROOFING BY CLASSIC RESTORATION INC', 1), ('ATEN TECHNOLOGY, INC', 1), ('ACRONIS,INC', 1), ('ASPEN INSURANCE US SERVICES, INC.', 1), ('SCOTTRADE, INC.', 1), ('JORDAN SPECIALTY FOOD', 1), ('BENDER ENTERPRISES, INC.', 1), ('NAMCO BANDAI GAMES', 1), ('MIDATLANTIC CONSTRUCTION & DESIGN ASSOCIATES, INC.', 1), ('ALAN M FREUND DDS PA', 1), ('APPLIED MEDICAL RESOURCES CORPORATION', 1), ('TÜV SÜD AMERICA INC', 1), ('MEMORIAL HEALTH UNIVERSITY MEDICAL CENTER', 1), ('SMART DESIGN LLC', 1), ('SKANSKA USA BUILDING INC.', 1), ('MARKITSERV, LLC', 1), (\"SUNNY'S EXECUTIVE SEDAN SERVICE INC\", 1), ('LINN COUNTY RURAL ELECTRIC COOPERATIVE ASSN', 1), ('GILA LLC', 1), ('GENTLE DENTAL TABOR ROAD, LLC', 1), ('SILVERLEAF RESORTS, INC.', 1), ('ABS TRADING, INC. D/B/A ANGIES BEAUTY', 1), ('CATALYST RX', 1), ('APPLIED BIOTECH INDUSTRIES INC', 1), ('SCG COMMERCIAL REAL ESTATE, LLC', 1), ('BENTLEY UNIVERSITY', 1), ('RABOBANK NEDERLAND', 1), ('HWI INTERNATIONAL, INC.', 1), ('COUNTY OF MILWAUKEE', 1), ('MICHAEL GITLIN D.D.S., P.C.', 1), ('WASHINGTON & JEFFERSON COLLEGE', 1), ('TEKBANK CONSULTANTS INC.', 1), ('LUNARLINE, INC.', 1), ('ROLLS-ROYCE COMMERCIAL MARINE', 1), ('OFFICE 4 ARCHITECTURE, PC', 1), ('CBHSP ARIZONA, INC.', 1), ('AVIVA USA CORPORATION', 1), ('NEMCO GROUP LLC', 1), ('GKN DRIVELINE NORTH AMERICA, INC.', 1), ('IL DO TAE KWON DO ASSOCIATION INC.', 1), ('CG ROXANE', 1), ('FOXCONN CORPORATION', 1), ('K H K REHAB, CORP.', 1), ('CHRIST CHURCH EPISCOPAL SCHOOL', 1), ('WEST HAVEN MEDICAL GROUP, LLC', 1), ('INGREDIENT SUPPLY CORPORATION', 1), ('LOGOS CHURCH', 1), ('WAINWRIGHT INDUSTRIES, INC.', 1), ('WELLING PHYSICAL THERAPY AND ACUPUNCTURE', 1), ('HORIZON HEALTH AND SUB-ACUTE LLC', 1), ('4-SERV SOLUTIONS INC', 1), ('HEMATOLOGY-ONCOLOGY MEDICAL GROUP OF FRESNO, INC', 1), ('ULAB, INC.', 1), ('BRICKENS CONSTRUCTION INC', 1), ('INSTITUTE FOR POLICY STUDIES', 1), ('HLW INTERNATIONAL LLP', 1), ('BEHAR LAW GROUP', 1), ('CS NAILS INC', 1), ('AGILE SYSTEMS, INC', 1), ('TEKSMART CONSULTING LLC', 1), ('WINTHROP UNIVERSITY', 1), ('SEDA CONSULTING ENGINEERS, INC.', 1), ('PROINCI INVESTMENT', 1), ('CASORGANIC US CORPORATION', 1), ('NORTHEAST MEDICAL GROUP, INC.', 1), ('HURMAT INC', 1), ('K -TEK RESOURCING LLC', 1), ('RED OAK DINER', 1), ('SHERMAN OAKS HOSPITAL', 1), ('JEWISH PHYSICIAN GROUP', 1), ('COGENT DATA SOLUTIONS LLC', 1), ('N.E.E. CONSULTING, LTD.', 1), ('PRTM MANAGEMENT CONSULTANTS,INC', 1), ('NTRUST INFOTECH (PRIVATE) LIMITED', 1), ('GENERAL ELECTRIC COMPANY (TRANSPORTATION)', 1), ('IN-UI ACUPUNCTURE, INC.', 1), ('BRONX LEBANON HOSPITAL CENTER', 1), ('LMS NORTH AMERICA', 1), ('STANDARD CHARTERED BANK', 1), ('CONVERGE INFO SYSTEMS', 1), ('TENTEK, INC.', 1), ('TOTAL PORCELAIN SERVICES', 1), ('LONG ISLAND CONSERVATORY', 1), ('MOBIS ALABAMA, LLC', 1), ('JOU MUSIC INSTITUTE', 1), ('MAGNABYTE LATIN AMERICA INC', 1), ('PRN HEATLH SERVICES, INC. DBA NURSES PRN', 1), ('BRAHMA CONSULTING SERVICES INC', 1), ('TTA, INC. DBA TOKYU TRAVEL AMERICA, INC.', 1), ('IMASEN BUCYRUS TECHNOLOGY, INC', 1), ('RELIABLE VAN & STORAGE CO.', 1), ('HONG KONG CHEF', 1), ('PLUS DIAGNOSTICS', 1), (\"SAM'S TRADE DEVELOPMENT CORP\", 1), ('HYDRO-AIRE, INC.', 1), ('TECHNICAL OPERATIONS, INC.', 1), ('JS ALLIANCE CORP.', 1), ('BOND & STEELE CLINIC, P.A.', 1), ('FREUDENBERG FILTRATION TECHNOLOGIES, L.P.', 1), ('RIVERDALE FARMS , INC', 1), ('AMEDISYS GEORGIA, LLC', 1), ('A & H HOSPITALITY, INC. D/B/A HOLIDAY INN EXPRESS', 1), ('EAST SAN RAFAEL VETERINARY CLINIC INC.', 1), ('MEDICAL EDUCATION TECHNOLOGIES, INC.', 1), ('COLORADO SCHOOL OF MINES', 1), ('GOURMET  INDIA  LLC', 1), ('EPISCOPAL DIVINITY SCHOOL', 1), ('ROCKVILLE GOURMET HALAL MEAT MARKET, INC.', 1), ('NATIONAL BANK OF CANADA FINANCIAL INC.', 1), ('PCT INTERNATIONAL INC.', 1), ('THE BG GROUP, LLC', 1), ('N.J. CHRISTIAN ACADEMY, INC.', 1), ('CGH TECHNOLOGIES, INC.', 1), ('LUCKY JEWELERS, INC.', 1), ('BEST HOME FASHION INC.', 1), ('BEST PRACTICE SERVICE, LLC', 1), ('PULMONARY WELLNESS REHABILITATION P.T. P.C.', 1), ('I.B.I.S., INC.', 1), ('LEARJET INC.', 1), ('OWENS CORNING SCIENCE AND TECHNOLOGY, LLC', 1), ('SAMHITHMED PRO INC', 1), ('BLACK DRUGS, INC D/B/A GARRO DRUGS', 1), ('THE ROCKEFELLER UNIVERSITY', 1), ('BIZLINK TECHNOLOGY, INC.', 1), ('RUSSELL REYNOLDS ASSOCIATES, INC.', 1), ('NATIONAL COMPUTER SYSTEMS', 1), ('VICTORY PRODUCE,LLC.  DBA TOP TOMATO', 1), ('BIGELOW & PUGLISI, P.C.', 1), ('TAVANT TECHNOLOGIES INC', 1), (\"KIMMY'S RESTAURANT & CARRYOUT, INC.\", 1), ('EVERGE GROUP', 1), ('CTB/MCGRAW-HILL', 1), ('PURITAN REFORMED THEOLOGICAL SEMINARY', 1), ('CONSORCIO INVERSIONISTA AUTOMOTRIZ INC', 1), ('U & F, INC. D/B/A MEZZALUNA', 1), ('SUMMIT ADVISORS GROUP LLP', 1), ('SREENU ADA MD PC', 1), (\"JEON'S TAE KWON DO ACADEMY\", 1), ('TIME INC.', 1), ('STEEL WAREHOUSE COMPANY LLC', 1), ('SULLIVAN ROOFING INC', 1), ('GENERAL ELECTRIC COMPANY (HOME & BUSINESS SOLUTION', 1), ('LANDTEC NORTH AMERICA INC', 1), ('IKEA PROPERTY INC', 1), ('PURDUE PHARMA LP', 1), ('GERALD METALS LLC', 1), ('NOBLE ENERGY INC.', 1), ('HORIZON SCIENCE ACADEMY, INC.', 1), ('BRIAR CLIFF UNIVERSITY', 1), ('GLOBAL SYSTEMS LLC', 1), (\"SUN CHONG'S TAE KWON DO, INC. D/B/A MASTER CHONG'S WORLD CLASS TAE KWON DO CENTER\", 1), ('COMPU-CELL, LLC.', 1), ('SAILPOINT TECHNOLOGIES, INC.', 1), ('GLG PRO', 1), ('ATLAS MATERIAL TESTING TECHNOLOGY LLC', 1), ('FRED MEYER STORES INC. DBA QUALITY FOOD CENTERS', 1), ('SUNTECH AMERICA, INC.', 1), ('FAIRWAY ASSET CORPORATION', 1), ('CORNERSTONE APPAREL, INC.', 1), ('ROGERS MEMORIAL HOSPITAL', 1), ('99 CENT ONLY STORES', 1), ('DOOSAN INFRACORE INTERNATIONAL, INC.', 1), ('GREATER MILWAUKEE CC AND PULM. ASSOC. S.C', 1), ('THAICOAST,INC', 1), ('ATMEL CORPORATION', 1), ('FUN BITS INTERACTIVE LLC', 1), ('DUKES HEALTH SYSTEM, LLC', 1), ('STAMPED METAL AMERICAN RESEARCH TECHNOLOGY', 1), ('NORTH SHORE-LONG ISLAND JEWISH HEALTH SYSTEM', 1), ('SIMPLYSHE INC.', 1), ('ADAM INFORMATION TECHNOLOGIES, LLC', 1), ('ACTUANT CORPORATION', 1), ('ATOS ORIGIN, INC.', 1), ('NORTHWEST COLLEGE', 1), (\"ABE'S TRUCK REPAIR SHOP INC.\", 1), ('ADVA OPTICAL NETWORKING NORTH AMERICA, INC.', 1), ('ASSISTED LIVING MGMT. SERVICES, INC.', 1), (\"CHILDREN'S HOSPITAL MEDICAL CENTER OF AKRON\", 1), ('TELECROSSLABS INC', 1), ('EASTERN UNIVERSITY/PALMER THEOLOGICAL SEMINARY', 1), ('FAITHFUL & GOULD, INC.', 1), ('GARLAND INDEPENDENT SCHOOL DISTRICT', 1), ('FORTNA INC.', 1), ('ECORE INC', 1), ('LA RED HEALTH CENTER, INC.', 1), ('INVENSENSE, INC.', 1), ('DESIGN SUPPORT SERVICES \\\\ JOHNSON SERVICE GRP. INC', 1), ('AVE MARIA UNIVERSITY', 1), ('BATTERIES PLUS, LLC', 1), ('B & S FRAGRANCES & COSMETICS INC.', 1), (\"NEO'S PIZZA HOUSE\", 1), ('EHARMONY, INC.', 1), ('DPR CONSTRUCTION, INC.', 1), ('SUNFLOWER ELECTRIC POWER CORPORATION', 1), ('FARMERS SERVICES, LLC', 1), (\"THE CHILDREN'S GUILD, INC.\", 1), ('KENTUCKY  COMMUNITY AND TECHNICAL COLLEGE SYSTEM (KCTCS)', 1), ('DELTA HEALTH CENTER, INC.', 1), ('CERADYNE, INC', 1), ('HUGULEY MEDICAL ASSOCIATES, INC.', 1), ('VERTIS, INC.', 1), ('GESTAMP ALABAMA LLC', 1), ('CYRACOM INTERNATIONAL, INC', 1), ('CRITERION SOFTWARE, LLC', 1), ('BARGAIN BROTHERS INC.', 1), ('COLLEGE PREP ACADEMY', 1), ('ON ASSIGNMENT, INC.', 1), ('MAVERICK CAPITAL, LTD.', 1), ('AIR TIGER EXPRESS (USA), INC.', 1), ('IPS INDUSTRIES, INC.', 1), ('STAR BUILDING SYSTEMS, A DIVISION OF ROBERTSON-CEC', 1), ('SPITFIRE CONTROL, INC.', 1), ('XARAF MANAGEMENT LLC', 1), ('MARVIN LUMBER AND CEDAR COMPANY', 1), ('IT ELITE INC', 1), ('TRADE SUPPLIES, INC.', 1), ('KANTUTAS RESTAURANT,LLC.', 1), ('PENTAHO CORPORATION', 1), ('WISSEN INFOTECH INC', 1), ('SUNPLUS DATA GROUP, INC.', 1), ('EASE, INC', 1), ('FENWICK & WEST LLP', 1), ('LUISA SAAVEDRA MD', 1), ('UNIVERSITY HOSPITALS HEALTH SYSTEM INC.', 1), ('UC4 SOFTWARE, INC.', 1), ('THE CHINA PRESS', 1), ('CALIFORNIA CRYOBANK, INC.', 1), ('BENEV COMPANY', 1), ('ICELLA, INC.', 1), ('COALINGA STATE HOSPITAL', 1), ('S & S LAW CORP DBA US LAW CENTER', 1), ('AMEDISYS, INC.', 1), ('ANHEUSER-BUSCH, LLC', 1), ('DORIS USA, INC.', 1), ('PARMIGIANI FLEURIER DISTRIBUTION AMERICAS LLC', 1), ('NETHERLANDS REFORMED CHRISTIAN', 1), ('INTERACTIVE BROKERS LLC', 1), ('WANG ENGINEERING, INC.', 1), ('WORLD AGAPE MISSION CHURCH', 1), ('INFOTECH ENTERPRISES ELECTRONIC DESIGN SERVICESINC', 1), ('BORGESS MEDICAL CENTER', 1), ('SALO-SALO GRILL', 1), ('TIGER SPORTS ACADEMY, INC.', 1), ('FOREX CAPITAL MARKETS', 1), ('BREEN ENGINEERING, INC.', 1), ('ANCHORAGE PRODUCTIONS MEDIA GROUP CORP.', 1), ('ASHLAND INC.', 1), ('MEMPHIS NEUROLOGY, PLLC', 1), ('ALL-IN-1, INC.', 1), ('SABRE INC.', 1), ('SPECIAL TESTING AND CONSULTING, LLC', 1), ('TERUMO HEART, INC.', 1), ('LOLA PRODUCTS', 1), ('EBUSINESS APPLICATION SOLUTIONS INC.', 1), ('ADVANCED COMPUTING INSTITUTE, LLC', 1), ('FINANCIAL SCIENCES CORPORATION', 1), ('ELLINGTON MANAGEMENT GROUP,LLC', 1), ('REFLEXIS SYSTEMS', 1), ('TECHNO CONSULT, INC.', 1), ('DAVID BARNES COMPANY', 1), ('HELPING HANDS ADULT DAY HEALTH CARE CENTER', 1), ('PURDHIT & ASSOCIATES DBA STAYBRIDGE SUITES', 1), ('TRINUS CORPORATION', 1), ('TEKVISTA INC', 1), ('VECTOR SYSTEM, INC', 1), ('ACCEL BIOTECH, INC.', 1), ('AUBURN THEOLOGICAL SEMINARY', 1), ('WUNDERLICH-MALEC ENGINEERING', 1), ('LEE KUM KEE (USA) FOODS, INC', 1), ('FLAD & ASSOCIATES, INC.', 1), ('BLADEX ASSET MANAGEMENT', 1), ('LATEK LOGISTICS USA, INC.', 1), ('E & S INTERNATIONAL ENTERPRISES, INC.', 1), ('OSISOFT, LLC', 1), ('PIPESTREAM INC', 1), ('KOREAN COMMUNITY CHURCH OF NEW JERSEY', 1), ('UNIVERSITY OF CALIFORNIA, SAN FRANCISCO', 1), ('LANDER VETERINARY CLINIC, INC.', 1), ('CEFIAN FASHION, INC.', 1), ('SNRLABS CORPORATION', 1), ('BEST COMPUTER SYSTEMS INC.', 1), ('SANDVIK MINING AND CONSTRUCTION USA, LLC', 1), ('TANHA&PREET INC.', 1), ('AMERICAN BROADCASTING COMPANIES, INC.', 1), ('FRESH CLEANERS AT ELK GROVE INC', 1), ('ALVAREZ & MARSAL, INC', 1), ('AMERICAN INFORMATION TECHNOLOGY CORPORATION', 1), ('HOSPITALIST MEDICINE PHYS. OF IMPERIAL CTY., INC.', 1), ('UNIVERSITY OF WEST FLORIDA', 1), ('BOTNBOT, INC.', 1), ('LIDIA MANAGEMENT CORP.', 1), ('LAUREN ENGINEERS AND CONSTRUCTORS, INC.', 1), ('AGI NORTH AMERICA LLC', 1), ('GENERAL CIGAR COMPANY, INC.', 1), ('VYSHNAVI INFOTECH LLC', 1), ('PROF RESOURCES IN INFO SYSTEMS MGMT, INC.', 1), ('CTC GROUP, INC. DBA DOUBLETREE BY HILTON TORRANCE', 1), ('TEXAS INSTRUMENTS', 1), ('BONE SIMPLE DESIGN LLC', 1), ('RICHARD & ASSOCIATES,CPAS', 1), ('ROOT LAW GROUP', 1), ('ATRIX, INC.', 1), ('SHOE EXCHANGE INC.', 1), ('QUANTUM RESERVOIR IMPACT', 1), ('TELEFLORA, LLC', 1), ('NAV CONSULTING', 1), ('NETPACE, INC', 1), ('MASSACHUSETTS ALLIANCE OF PORTUGUESE SPEAKERS', 1), ('SOMERSET OB/GYN ASSOCIATES', 1), ('TAILWIND ASSOCIATES', 1), ('BOEHRINGER INGELHEIM CHEMICALS, INC.', 1), ('THE HEBREW HOME FOR THE AGED AT RIVERDALE', 1), ('ART.COM', 1), ('DIALYSIS CLINIC, INC.', 1), ('HABASH TRADING, INC.', 1), ('PERICOM SEMICONDUCTOR CORPORATION', 1), ('SERRASTREET TECHNOLOGIES INC', 1), ('INTEGRATED INFORMATICS (USA) INC.', 1), ('BONAMAR CORP.', 1), ('SYNERGY PROFESSIONAL CONSULTING SERVICES', 1), ('ROCKMELT, INC.', 1), ('1ST FAMILY DENTAL OF ELGIN PC', 1), ('DENTAL CENTER @ LAKE RIDGE', 1), ('AUSTIN SPICE CAFE LLC', 1), ('MIKE SUSHI INC', 1), ('SOFPAK TECHNOLOGIES, INC.', 1), ('EMAG L.L.C.', 1), ('AGAIN MOBILE, LLC', 1), ('ENDPLAY', 1), ('CARBO CERAMICS, INC.', 1), ('SKILLNET SOLUTIONS INC.', 1), ('MURPHY OIL USA, INC', 1), ('MARIA MEDIDA (MEDIDA HOUSEHOLD)', 1), ('THE WESTERLY HOSPITAL', 1), ('WALSH CONSTRUCTION COMPANY', 1), ('BIOSENSE WEBSTER, INC.', 1), ('SAPOT SYSTEMS INC', 1), ('SCRIPPS NETWORKS INTERACTIVE, INC.', 1), ('JABIL CIRCUIT INC', 1), ('IFYI, INC.', 1), ('KOHLBERG KRAVIS ROBERTS & CO.', 1), ('OCEAN GROUP, INC.', 1), ('HITACHI AMERICA, LTD.', 1), ('EDUCATION FIRST INCORPORATED', 1), ('ODEON CAPITAL GROUP LLC', 1), ('HELEN OF TROY NEVADA CORPORATION', 1), ('DENVER COUNTY SCHOOL DISTRICT AKA DENVER PUBLIC SC', 1), ('R&R SYSTEMS, INC D/B/A X-PERTIZE', 1), ('QUALITY SYSTEM PROFESSIONALS', 1), ('AIA ENGINEERS, LTD', 1), ('CD RESTAURANTS, INC.', 1), ('LEISURE TIME MARKETING, INC', 1), ('JAPAN SOCIETY', 1), ('STA DEVELOPMENT, LLC FORMERLY SOLAR MILLENNIUM,LLC', 1), ('HARTFORD FIRE INSURANCE COMPANY', 1), ('COMPASSIONATE DOCTORS MEDICAL CORPORATION', 1), ('ACCUTRON, INC.', 1), ('UNIVERSITY OF CALIFORNIA, IRVINE', 1), ('MVP CONSULTING PLUS, INC.', 1), ('ADHESIVES RESEARCH, INC.', 1), ('SMISLOVA, KEHNEMUI & ASSOCIATES PA', 1), ('INNIS COMMUNITY HEALTH CENTER , INC.', 1), ('HORSE PROTECTION ASSOCIATION OF FLORIDA', 1), ('PET EMERGENCY CLINICS AND SPECIALTY HOSPITAL', 1), ('CHECKFREE CORPORATION NOW PART OF FISERV', 1), ('JUN CHANG CPA & ASSOCIATES, AC', 1), ('ENEL GREEN POWER NORTH AMERICA, INC.', 1), ('EXIGENCE HOSPITALIST MEDICAL SERVICESOFERIE COUNTY', 1), ('BERND GOECKLER ANTIQUES, INC.', 1), ('CARACO PHARMACEUTICAL LABORATORIES, LTD.', 1), ('RESPONSIVE TECHNOLOGIES, INC', 1), ('SHINN FU COMPANY OF AMERICA, INC.', 1), ('TOYOTA MOTOR CREDIT CORPORATION', 1), ('IMPLIFY, INC.', 1), ('NURSING RESOURCE HOME HEALTH SERVICES, INC.', 1), ('DAILYFEATS, INC.', 1), ('TEREX USA LLC', 1), ('CASENET, LLC', 1), ('THE YANKEE CANDLE COMPANY, INC.', 1), ('AKER SUBSEA INC.', 1), ('FASHION RESOURCES CORPORATION', 1), ('LONG TERM CARE MANAGEMENT, LLC', 1), ('WEST LEGEND CORP.', 1), ('SOFTWARE CONSULTANTS INC', 1), ('DC CHARTERED HEALTH PLAN', 1), ('LIFE BEYOND ABUSE, INC.', 1), ('MITRA ADAMS', 1), ('BECKLEY PHARMACY', 1), ('VISION CHAIN INC', 1), ('EBUSINESS APPLICATION SOLUTION INC.', 1), ('HI-FASHION GROUP LLC', 1), ('BENEFITFOCUS.COM, INC.', 1), ('BROOKDALE SENIOR LIVING COMMUNITIES, INC.', 1), ('DHARMA ENTERPRISE INC.', 1), ('S.F. TURKEY CREEK LLC', 1), ('INFOWEB SYSTEMS, INC.', 1), ('MEDEX PHARMACY LLC', 1), ('SUPPLYSIDEUSA INC', 1), ('HENDERSON PRODUCTS, INC.', 1), ('HORMANN LLC', 1), ('WILLIAMSON-DICKIE MANUFACTURING COMPANY', 1), ('HEINOLD-BANWART, LTD.', 1), ('PRODUCTION MODELING CORPORATION', 1), ('AUSTIN PEAY STATE UNIVERSITY', 1), ('MANAGED CARE, INC.', 1), ('TSR CONSULTING SERVICES, INC.', 1), ('SIMEIO SOLUTIONS, LLC', 1), ('STONELINE GROUP, LLC', 1), ('LFG EMPLOYEES GROUP, LLC', 1), ('Q-INDUSTRIES, INC.', 1), ('M&C UNIFORMS, INC.', 1), ('WEST GLENN MANOR INC', 1), ('CAMELOT ENTERPRISES, INC', 1), ('TULSA HOSPITALISTS, INC', 1), ('FOXCONN ELECTRONICS INC.', 1), ('DREAMWORKS ANIMATION LLC', 1), ('LOGICTREE CORPORATION', 1), ('KGB USA, INC.', 1), ('KUEHNE + NAGEL, INC.', 1), ('SKYFIRE LABS INC', 1), ('LAW OFFICES OF MELITON B. GARRATON & ASSOCIATES', 1), ('SUNNINGDALE COUNTRY CLUB, INC.', 1), ('NEA CONSULTING, INC.', 1), ('FOOLUN', 1), ('CHEM-MASTER INTERNATIONAL INC.', 1), ('AXIAN, INC.', 1), ('NAAN STUDIO', 1), ('SIMPLEX INVESTMENTS, LLC', 1), ('OMNI SOFT, INC (MI)', 1), ('BLACKSMITH APPLICATIONS', 1), ('DINYARI, INC.', 1), (\"DONOVAN'S OF BAYSIDE, LLC\", 1), ('DISTRICT 45 DAIRY LLP', 1), ('C. K. COOPER & COMPANY, INC', 1), ('GASBARRE PRODUCTS, INC.', 1), ('NAZARETH NURSERY/NAZARETH DAY NURSERY', 1), ('INPATIENT CONSULTANTS OF MICHIGAN, PC', 1), ('MANOLO BLAHNIK USA, LTD', 1), ('HARTFORD FAMILY MEDICINE CENTER, LLC', 1), ('ARM, INC.', 1), ('CLOUD.COM, INC.', 1), ('RHODES TECHNOLOGIES', 1), ('DATACARD GROUP', 1), ('UNION COLLEGE', 1), ('NINEL EXPERT CLEANERS CORP', 1), ('HARLAN LABORATORIES, INC.', 1), ('ADVANCED & COMFORT DENTISTRY', 1), ('MEMORIAL HEALTHCARE', 1), ('MARQUETTE UNIVERSITY', 1), ('EDUARDO TANUR DDS MS PA', 1), ('STRATEGY ANALYTICS, INC.', 1), ('OPHELIA JAVIER DBA CJ HOMES I & II', 1), ('HBK NEW YORK LLC.', 1), ('SUGARHOUSE SAMPAN INC.', 1), ('ATLANTIC TRADING USA LLC', 1), ('H-S MEDICAL INC.', 1), ('STERLING JEWELERS INC.', 1), ('DAVIS PARTNERSHIP, PC', 1), ('AHS HOSPITAL CORP.', 1), ('JKST INC', 1), ('BAYER HEALTHCARE PHARMACEUTICALS', 1), ('HISCO INTERNATIONAL INC', 1), ('ROMUALDO J. SEGUROLA, JR. M.D., P.A.', 1), ('INTERCONTINENTALEXCHANGE, INC.', 1), ('INABATA AMERICA CORPORATION', 1), ('QUINSTREET, INC.', 1), ('CS GROUP PAYROLL SERVICES', 1), ('SHERMAN & SHERMAN, P.A.', 1), ('DIVENSI INC.', 1), ('KENTUCKY HEART INSTITUTE D/B/A KENTUCKY HEART & VA', 1), ('SMALL SMILES DENTAL CENTERS OF COLUMBIA, LLC', 1), ('TURNER BROADCASTING SYSTEM, INC.', 1), ('BROADSOFT', 1), ('AIRPORT SHOPPES, CORP.', 1), ('LINCOLN UNIVERSITY', 1), ('HIROSE ELECTRIC (U.S.A.), INC.', 1), ('AEROCOSTA GLOBAL GROUP, INC.', 1), ('CALIFORNIA FURNITURE SOLUTIONS INC', 1), ('ISR INFO WAY,INC', 1), ('PHARMACEUTICS INTERNATIONAL, INC.', 1), ('OOMA, INC', 1), ('N & W ORTHO, LLC', 1), ('BI SERVICES, INC.', 1), ('BLUWARE, INC.', 1), ('STARBUCKS COFFEE COMPANY', 1), ('A NO.1 PIZZA  RESTAURANT, INC', 1), ('NISHIMOTO TRADING CO., LTD.', 1), ('ROSNER HOME HEALTHCARE INC', 1), ('MATTISON CONSULTING & PUBLISHING', 1), ('ELECTRONIC CABLE SPECIALISTS', 1), ('TEAMSOFT TECHNOLOGIES LLC', 1), ('ON-RAMP WIRELESS INC', 1), ('ORIGINAL WIRELESS, INC.', 1), ('JIREH SOLUTIONS, LLC', 1), ('SIGMA GROUP INC', 1), ('FAST LANE CONSULTING AND EDUCATION SERVICES INC', 1), ('MASTER PAINTS & CHEMICASL CORP.', 1), ('ACI WORLDWIDE', 1), ('KOOL SMILES, P.C.', 1), ('GOOFY LOOFAH INC.', 1), ('NAVISTAR FINANCIAL CORPORATION', 1), ('NCR CORPORATION', 1), ('MJM ENGINEERING PLLC.', 1), ('ORMET PRIMARY ALUMINUM CORPORATION', 1), ('CXHABITAT LLC', 1), ('THE PENINSULA NEW YORK', 1), ('AISIN WORLD CORP. OF AMERICA', 1), ('PINE RIVER CAPITAL MANAGEMENT L.P.', 1), ('REAL INTENT, INC.', 1), ('THREE SISTERS RESTAURANT', 1), ('NATIONAL VISION, INC', 1), ('ESPED.COM, INC.', 1), ('SPRINGSOFT USA, INC.', 1), ('TOUCHSTONE MANAGEMENT', 1), ('KIMLEY-HORN AND ASSOCIATES, INC.', 1), ('MR ARCHITECTURE & DECOR, P.C.', 1), ('EXPONENT, INC.', 1), ('LA OPEN DOOR PRESBYTERIAN CHURCH', 1), ('AMERICAN FIDELITY ASSURANCE COMPANY', 1), ('SIGMATEX INC', 1), ('KOREAN MEDIA GROUP, LLC', 1), ('INGRAIN, INC', 1), ('UNIVERSITY OF CENTRAL OKLAHOMA', 1), ('AUDIENZ, LLC', 1), ('FLASHER EQUIPMENT COMPANY', 1), ('MAYA DESIGN, INC.', 1), ('VHM DBA METROWEST PHYSICIAN SERVICES', 1), ('ZYXEL COMMUNICATIONS, INC.', 1), ('CUMMINS NORTHEAST, LLC', 1), ('MISSOURI STATE UNIVERSITY', 1), ('SEOUL ACADEMY CORPORATION', 1), ('NEW YORK & COMPANY', 1), ('MONTCLAIR INTERNAL MEDICINE', 1), ('HAMILTON-MADISON HOUSE', 1), ('GURHAN NEW YORK, INC', 1), ('TRINITAS REGIONAL MEDICAL CENTER', 1), ('TECO-WESTINGHOUSE MOTOR COMPANY', 1), ('LAWRENCE UNIVERSITY', 1), ('GALLERIA FIFTH AVENUE INC.', 1), ('INTERDYN LANAC TECHNOLOGY CORP.', 1), ('DASSAULT SYSTEMES ENOVIA CORP.', 1), ('ERINJOE, INC.', 1), ('BEACH BUNNY HOLDINGS, LLC', 1), ('VCORE TECHNOLOGY PARTNERS LLC', 1), ('KNAPP LOGISTICS AUTOMATION', 1), ('CHAT AMERICAN GRILL', 1), ('M J DRAPERIES CORPORATION', 1), ('INTERNATIONAL CALVARY CHURCH', 1), ('ATLAS HOME HEALTH CARE SERVICES, INC.', 1), ('KANSAS CITY #33 SCHOOL DISTRICT', 1), ('JENIKE & JOHANSON, INC.', 1), ('SVLSRESEARCH, LP', 1), ('WRIGHT FORD YOUNG & CO.', 1), ('CONSUMERINFO.COM', 1), ('GE OIL & GAS PRESSURE CONTROL LP', 1), ('PROMETRIC INC.', 1), ('DASSAULT SYSTEMES SOLIDWORKS CORPORATION', 1), ('SERO IMMUNO DIAGNOSTICS INC.', 1), ('OCEANEERING INTERNATIONAL, INC.', 1), ('KOCH MODULAR PROCESS SYSTEMS, LLC', 1), ('EMPTORIS INC.', 1), ('WEB-TECH SOLUTIONS, INC.', 1), ('AMER TECHNOLOGY', 1), ('INNOVATIVE BIOTHERAPIES, INC.', 1), ('PRIME ENGINEERING AND ARCHITECTURE, INC.', 1), ('INTEL ACADEMY, INC.', 1), ('SEALED AIR CORPORATION (US)', 1), ('EDS & CO INC', 1), ('KING FUELS, INC.', 1), ('DREXEL UNIVERSITY', 1), ('PROFESSIONAL ACCESS LTD', 1), ('ROUSH MANAGEMENT LLC', 1), (\"GURNEY'S INN RESORT & SPA LTD.\", 1), ('INTEGRATED PLANNING AND DESIGN INC', 1), ('ANALYSIS & DESIGN APPLICATION CO., LTD.', 1), ('JLG INDUSTRIES, INC.', 1), ('SCANDINAVIAN BOILER SERVICE, INC.', 1), ('NTL NAIGAI TRANS LINE (USA) INC.', 1), ('NICOLAUDIE AMERICA INC.', 1), ('PURE FOODS INC', 1), ('AMERICAN SOFTWARE RESOURCES, INC', 1), ('SEYY CO., D/B/A IN JAPAN', 1), ('NEBRASKA FURNITURE MART', 1), ('REXAM INC.', 1), ('COLUMBIA DAY SPA', 1), ('SKYGRID INC', 1), ('TWS FINANCIAL, LLC', 1), ('AL-HAMD, INC.', 1), ('A. M. CASTLE & CO.', 1), (\"GULF COAST CHILDREN'S CLINIC\", 1), ('VALLEY INTENSIVISTS, PULMONOLOGISTS AND SLEEP SPEC', 1), ('HUISOON KIM PROFESSIONAL ACUPUNCTURE CORP', 1), ('AMERICAN BUSINESS SOLUTIONS INC.', 1), ('FILTRATION GROUP LLC', 1), (\"ST. HILDA'S & ST. HUGH'S SCHOOL\", 1), ('GSS INFOTECH,INC.', 1), ('INSOURCE TECHNOLOGY CORPORATION', 1), ('WEST COAST CLINICAL TRIALS, LLC', 1), ('GREG MILLER LLC', 1), ('VIRTUAL MATRIX CORPORATION', 1), ('CELLNET TECHNOLOGY, INC.', 1), ('DONNAN FARMS, INC.', 1), ('GETLOADED CORPORATION', 1), ('HOME SERVICE NETWORK, INC', 1), ('GOVERNOR CONTROL SYSTEMS, INC.', 1), ('LEAPFROG SYSTEMS', 1), ('RCR TECHNOLOGY CORPORATION', 1), ('CHAWLA & ASSOCATES INC.', 1), ('AGRI COMMODITY TRADE LLC.', 1), ('KIMSTAR PLASTICS, INC.', 1), ('CYBERTEC INC', 1), ('AEB INTERNATIONAL, INC.', 1), ('ZIPREALTY, INC.', 1), ('HOME TOWN DENTAL OF SHERMAN, PC', 1), ('GOLDER ASSOCIATES INC.', 1), ('HOTEL NIKKO GUAM', 1), ('ST. ALEXIUS MEDICAL CENTER', 1), ('RENAISSANCE JEWELRY NEW YORK INC.', 1), ('AVANADE INC.', 1), ('AUGUSTA TECHNOLOGY USA INC.', 1), ('CARLETON COLLEGE', 1), ('H & N PHARMACY INC', 1), ('BASCON CORPORATION', 1), ('SEVEN SEVEN SOFTWARES, INC.', 1), ('CENTRAL NURSING AND REHABILITATION CENTER', 1), ('TMI SOLUTIONS INC', 1), ('EATON HYDRAULICS LLC', 1), ('BAC FLORIDA BANK', 1), ('IMNYLV, LLC', 1), ('RB COMMUNICATIONS,INC', 1), ('ENTERPRISEDB CORPORATION', 1), ('BOMBARDIER TRANSPORTATION HOLDINGS', 1), ('RIDE CONTROL, LLC', 1), ('F.M. HOME IMPROVEMENT, INC.', 1), ('RNC INVESTMENT GROUP LLC', 1), ('ATREVETE, INC.', 1), ('PLANAR SYSTEMS, INC.', 1), ('GSPANN TECHNOLOGIES INC', 1), ('ZOMEGA TERAHERTZ CORP', 1), ('HEALTHFIRST FAMILY CARE CENTER, INC', 1), ('MUMMAW AND ASSOCIATES, INC.', 1), ('VIKAS TIWARI', 1), ('RADIANT ENTERPRISES INC', 1), ('JALARAM PRODUCTION INC', 1), ('CHOOCHEE INC.', 1), ('TRENTON INDIAN SERVICE AREA', 1), ('ANASTASIA BEVERLY HILLS, INC.', 1), (\"CHINESE TODAY, INC. (DBA) LEE KAN'S ASIAN GRILL\", 1), ('NEX WORLDWIDE EXPRESS INC.', 1), ('COHEN & SCHAEFFER, P.C.', 1), ('CARLE HEALTH CARE INCORP DBA CARLE PHYSICIAN GROUP', 1), ('ANA CHADWICK', 1), ('DHANSOL SOFTWARE SOLUTIONS, LLC', 1), ('WASHINGTON CONVENTION AND TOURISM CORPORATION', 1), ('SMOKY PARK HOSPITALITY, INC', 1), ('VIRTU FINANCIAL LLC', 1), ('HISPANIC BUSINESS SOLUTIONS GROUP LLC', 1), ('DIAMOND INFORMATION SYSTEMS', 1), ('PRIMA POWER NORTH AMERICA, INC', 1), ('TOP NETWORK SOLUTIONS, INC.', 1), ('ASSI SUPER, INC.', 1), ('BUILDINGENERGYSOLUTIONS&TECHNOLOGYINC.DBA BES-TECH', 1), ('MAKAI OCEAN ENGINEERING, INC.', 1), ('SAN JOAQUIN VALLEY PULMONARY MED GROUP, INC', 1), ('WESTFIELD, LLC', 1), ('GSE SYSTEMS, INC.', 1), ('HAMRE, SCHUMANN, MUELLER & LARSON, P.C.', 1), ('HMP OF RAPIDES PARISH, LLC', 1), ('DREAM CT INC. DBA HOSOONYI RESTAURANT', 1), ('TRINITY CONSULTING, INC', 1), ('BETTER GARDENS FLORIST INC.', 1), ('LAGO AZUL LLC', 1), ('RADIUMSOFT INC', 1), (\"POWER RESOURCES INT'L, INC\", 1), ('CAMPBELL-EWALD', 1), ('GATES CORPORATION', 1), ('FOURSQUARE LABS, INC.', 1), ('WILSON SPORTING GOODS CO.', 1), ('REALTIME UTILITY ENGINEERS, INC.', 1), ('NET PUB', 1), ('DAVID Z INC', 1), ('BONCHON U.S.A. INC.', 1), ('UNIVERSITY RADIOLOGY ASSOCIATES, LLP', 1), ('BROWN SHOE COMPANY, INC.', 1), ('BHB CONSULTING ENGINEERS', 1), ('MECHOSHADE SYSTEMS INC.', 1), ('PITTSBURG UNIFIED SCHOOL DISTRICT', 1), ('NORTHWEST IMMIGRANT RIGHTS PROJECT', 1), ('ABACHERLI ENGINEERING INC', 1), ('SYMCON, INC.', 1), ('MERIDIAN MEDICAL ASSOCIATES, P.C.', 1), ('LASERTEL, INC.', 1), ('HAMADEH EDUCATIONAL SERVICES, INC.', 1), ('MOHAMMAD WASEEM KAGZI MD LTD.', 1), ('JENNY CRAIG, INC.', 1), ('PARIS BAGUETTE, INC', 1), ('STELLARTECH RESEARCH CORPORATION', 1), ('TSI LAVAJET, CORP', 1), ('MATTEL LATIN AMERICA EXPORT, INC.', 1), ('PRINCETON INFORMATION, LTD.', 1), ('IS3C, INC. DBA: SELECT SOURCE INTERNATIONAL', 1), ('MEDICUS GROUP INTERNATIONAL INC.', 1), ('CH2M HILL ENGINEERING SERVICES, INC.', 1), ('AMERICAN TECHNOLOGY SERVICES, INC.', 1), ('PARAMOUNT PICTURES CORPORATION', 1), ('GOOD MART INC', 1), ('DICE ELECTRONICS, LLC', 1), ('EXPERIENCE PROJECT, INC.', 1), ('TEJAS TUBULAR PRODUCTS', 1), ('1422 FULTON ST., ENT DBA POPEYES', 1), ('SG INTERACTIVE, INC.', 1), ('EMPIRE EDITIONS, LLC DBA EMPIRE EDITIONS', 1), ('ALTIMA ADVISORS AMERICAS LP', 1), ('GMAC', 1), ('BUILDING CONSULTING ENGINEERS INC', 1), ('DOMINIONTEK INC.', 1), ('RICOH LOGISTICS CORPORATION', 1), ('BRADFORD PRODUCTS, LLC', 1), ('JETBLUE AIRWAYS', 1), ('NOBLETEK', 1), ('JAPANESE ASSISTANCE NETWORK INC.', 1), ('CONSTRUCTION SOFTWARE TECHNOLOGIES, INC.DBA ISQFT', 1), ('THE UNIVERSITY OF TEXAS AT BROWNSVILLE', 1), ('CONVERGENT CONSULTING, INC', 1), ('THE LIBRARY CORPORATION', 1), ('DENTIS USA', 1), ('CONTINENTAL LAB PRODUCTS, IC. DBA BIOTIX, INC.', 1), ('WASHINGTON COUNTY REGIONAL MEDICAL CENTER', 1), ('DC GROUP D/B/A UNIQUE SETTINGS OF NEW YORK', 1), ('BRATTLEBORO MEMORIAL HOSPITAL', 1), ('NORTHEAST CHILDRENS DENTISTRY', 1), ('OVE ARUP & PARTNERS CONSULTING ENGINEERS PC', 1), ('HORIZON EDUCATIONAL SERVICES OF COLUMBUS', 1), ('DELL MARKETING L.P.', 1), ('SANDOKAN SOLUTIONS, LLC', 1), ('EMERGISOFT CORPORATION', 1), ('PUTNAM RETAIL MANAGEMENT, LP', 1), ('ALLEGHENY MEDICAL PRATICE NETWORK', 1), ('KOMOLO NJ CORPORATION', 1), ('BODYCOTE IMT, INC.', 1), ('DOO K INC.', 1), ('NORTH HILLS MEDICAL CENTER LLC', 1), ('SOLAR ENERGY GROUP LLC', 1), ('ECLAT INTEGRATED SOFTWARE SOLUTIONS, INC', 1), ('DK HEALTHCARE SERVICES, INC.', 1), ('MAYDAL LLP', 1), ('MAGNUM ENERGY, LLC', 1), ('GUFLMARK AMERICAS, INC.', 1), ('RIZBRONICS INC.', 1), ('PARK MANOR HOMES, LLC', 1), ('LAM RESEARCH CORPORATION', 1), ('PROVIDENCE HEALTH & SERVICES - WASHINGTON', 1), ('SAF SIMULATION, ANALYSIS AND FORECASTING USA INC.', 1), ('GANTEC CORPORATION', 1), ('EZE CASTLE SOFTWARE LLC, A BNY CONVERGEX GROUP COMPANY', 1), ('AMERICAN PROFESSIONAL COMPUTER CONSULTANTS GROUP', 1), ('LAFOURCHE PARISH SCHOOL BOARD', 1), ('THE CASTLE CUSTOM CABINET MILL WORK, INC.', 1), ('CENTURY 21 KING', 1), ('FIRST PRIORITY EMERGENCY VEHICLES INC.', 1), ('TISHCON CORPORATION', 1), ('TELEDYNE RD INSTRUMENTS', 1), ('CAPITAL CARE, INC', 1), ('IMAGEWORK TECHNOLOGIES CORPORATION', 1), ('NARASIMHAN CONSULTING SERVICES, INC.', 1), ('X-TREME CARE, LLC', 1), ('NINYO & MOORE', 1), ('GLAMOUR, INC.', 1), ('CALLIDUS SOFTWARE INC.', 1), ('MERCURI INTERNATIONAL USA. INC.', 1), (\"PHILLIP'S HOSIERY COMPANY\", 1), ('TRICADIA HOLDINGS, L.P.', 1), ('BLACK CONSTRUCTION CORPORATION', 1), ('WIRELESS GENERATION, INC.', 1), ('GEOVERA HOLDINGS, INC.', 1), ('SCHULER & SHOOK, INC.', 1), ('MXENERGY INC.', 1), ('PISCATAWAY DONUTS INC', 1), ('COLLEGE OF MOUNT SAINT VINCENT', 1), ('AKEHURST LANDSCAPE SERVICE', 1), ('MT. ENTERPRISE COMMUNITY HEALTH CLINIC', 1), ('DAVID CUMMINGS', 1), ('THE MCGRAW-HILL COMPANIES, INC.', 1), ('ATLAS SYSTEMS INC', 1), ('COLD-FORMED STEEL EXPERT, LLC', 1), ('NEW YEAR TRAVEL, INC', 1), ('LUITPORIA SOFTWARE CONSULTANCY INC.', 1), ('A-SONIC LOGISTICS (USA), INC', 1), ('INJ SOFTWARE SOLUTIONS LLC', 1), ('BENSYM INC.- NEVADA', 1), ('OPTICSPLANET, INC.', 1), ('TULLETT PREBON (AMERICAS) HOLDINGS INC.', 1), ('WORDS AND PICTURES CREATIVE SERVICE, INC.', 1), ('JOSEPH J. MAGNOLIA, INC.', 1), ('ASHYANA BANQUETS', 1), ('GREENCORE USA, INC', 1), ('GOLDEN GATE UNIVERSITY', 1), ('RADIUMONE, INC.', 1), ('RADNET, INC.', 1), ('SOUTHAMPTON HOSPITAL', 1), ('ATLANTA RADIO KOREA INC', 1), ('CHARLES KOMAR & SONS, INC.', 1), ('SUMMA TECHNOLOGY GROUP, INC', 1), ('CAREER SUCCESS SCHOOLS', 1), ('THE BARBARIAN GROUP', 1), ('LEEYO SOFTWARE, INC.', 1), ('SANMINA-SCI CORPORATION', 1), ('BALTIMORE GAS AND ELECTRIC COMPANY', 1), ('BETA USA INC.', 1), ('&TV COMMUNICATIONS, INC.', 1), ('KIDIST SHOAAMARE', 1), ('HAP CAPITAL ADVISORS, LLC', 1), ('BIOLEGEND, INC.', 1), ('ROYALTYSTAT LLC', 1), ('PULSE360', 1), ('SAS WORLD INC D/B/A IC ELECTRONICS', 1), ('ITERIS, INC.', 1), ('M & J SHOES, LLC.', 1), ('TH HILL ASSOCIATES, INC', 1), ('KLINGSTUBBINS', 1), ('JS APPAREL, INC', 1), ('THERANOS, INC.', 1), ('MITRATECH HOLDINGS INC', 1), ('THE TERRACE CLUB INC.', 1), ('SV IT INC', 1), ('TOWN & COUNTRY FOODS INC.', 1), ('CONNEXXIONS INTERNATIONAL USA, INC.', 1), ('WOLVERINE ASSET MANAGEMENT, LLC', 1), ('JACEK KRZOSEK INSURANCE AGENCY, INC', 1), ('STAR PRECISION FABRICATING, LTD', 1), ('WIRELESS RONIN TECHNOLOGIES, INC.', 1), ('4INFO, INC.', 1), ('YMCA OF SOUTH HAMPTON ROADS', 1), ('AVF CONSULTING, INC.', 1), ('MELENDREZ ASSOCIATES', 1), ('KELLY & ASSOCIATES INSURANCE GROUP, INC.', 1), ('YI-SUN CHIU COMPANY INC DBA ACE AUTO', 1), ('DAHAE LIQUORS INC', 1), (\"LA RABIDA CHILDREN'S HOSPITAL\", 1), (\"ORTEGA, INC. DBA DENNY'S\", 1), ('OKANOGAN CO. PUBLIC HOSPITAL NO. 3 DBA/ MID-VALLEY', 1), ('B3 CORP.', 1), ('KRG TECHNOLOGIES INC', 1), ('LOGANBRITTON, INC.', 1), ('HTNS AMERICA INC', 1), ('QUORA, INC.', 1), ('PRODUCT DEVELOPMENT CORPORATION', 1), ('BRAINORAMA INC', 1), ('METABOLON', 1), ('VIRGINIA COMMONWEALTH UNIVERSITY', 1), ('NERASIA, INC. D/B/A  SLICED BUN', 1), ('COMPUTER RESOURCE SOLUTIONS', 1), ('CLINICA SIERRA VISTA', 1), ('P.T. CONSTRUCTION CO, INC.', 1), ('CLICK SALES INC', 1), ('MERITOR, INC.', 1), ('NIPPON SHOSEKI HANBAI, INC.', 1), ('GHANIMIAN ENTERPRISES INC.', 1), ('KINGSTON CONSULTING, LLC', 1), ('MASTERCARD INTERNATIONAL', 1), ('DETICA SOLUTIONS INC', 1), ('THE LAXMI GROUP INC.', 1), ('DAIKANYAMA CORPORATION', 1), ('SOULBRAIN MI, INC.', 1), ('GOLDMAN,SACHS & CO.', 1), ('OMNI MEDICALDIAGNOSTICS PC', 1), ('SULZER METCO US INC', 1), ('GLOTECH, INC', 1), ('PEACE VALLEY FOUNDATION', 1), ('GRATIOT MEDICAL CENTER', 1), ('WMGG CORP.', 1), ('LEADING EDGE SYSTEMS RICHMOND', 1), ('PANDA DENTAL SOFTWARE, INC.', 1), ('BROOKSIDE DINER & LOUNGE, INC.', 1), ('ARDENT TECHNOLOGIES INC', 1), ('INFOMATICS CORP', 1), ('CRYOVAC, INC.', 1), ('HANCOCK PHARMACY VII LLC', 1), ('MOULIN & ASSOCIATES INC', 1), ('NUCOR CORPORATION', 1), ('CERBERUS CAPITAL MANAGEMENT LP', 1), ('ARIA HEALTH PHYSICIAN SERVICES', 1), ('PROSPECT ASSET MANAGEMENT, INC.', 1), ('MEMORIAL MEDICAL CENTER', 1), ('ININE TECHNOLOGIES, LLC', 1), ('ROYAL STONE, INC.', 1), ('UNIVERSITY OF TENNESSEE CHATTANOOGA', 1), ('VARNAR INC', 1), ('ASM AMERICA, INC.', 1), ('QUINNOX INC.', 1), ('OSMOSE, INC.', 1), ('GLOBAL MONTESSORI INTERNATIONAL SCHOOL', 1), ('CHAPEL HILL INDEPENDENT SCHOOL DISTRICT', 1), ('BRONX-LEBANON SPECIAL CARE CENTER', 1), ('E! ENTERTAINMENT TELEVISION, INC.', 1), ('MAR-BAL, INC.', 1), ('MIND OVER MACHINES, INC.', 1), ('LAMPLIGHTER APARTMENT', 1), ('MATTEL, INC.', 1), ('REHAB STRATEGIES', 1), ('EKA TECHNOLOGIES, INC', 1), ('JET AVIATION ST. LOUIS', 1), ('UNIFORM INDUSTRIAL CORP. USA', 1), ('UNIVERSITY OF TEXAS AT AUSTIN', 1), ('KSQ ARCHITECTS, PC', 1), ('WORLD MAX LLC', 1), ('SALLIE B HOWARD SCHOOL', 1), ('JOHN D. MUDROCK, MD', 1), ('FESTO CORPORATION', 1), ('JAPAN TV NEWS, INC. DBA SPORTS J', 1), ('ATKINSON & MULLEN TRAVEL II LLC', 1), ('ZYLOG SYSTEMS LIMITED DBA ZSL INC.', 1), ('D HILLSIDE PLACE I', 1), ('CRYPTIC STUDIOS', 1), ('BALBOA VETERINARY HOSPITAL', 1), ('CENTERLINE CAPITAL GROUP', 1), ('INFOGROUP', 1), ('THE SHARP TREATMENT OF SOUTH BAY INC.', 1), ('PETER GISOLFI ASSOCIATES', 1), ('KRISTEN GARDNER', 1), ('JANGSOO HEALTH LIFE, LLC.', 1), ('WCI CONSULTING LIMITED', 1), ('GLORIA APPAREL INC', 1), ('CROUSE HOSPITAL', 1), ('PROGEON LIMITED', 1), ('NORTH AMERICAN STAINLESS', 1), ('JOONSUNG TRADING', 1), ('PARK TRANSLATIONS', 1), ('CHRISTIAN ALLIANCE FOR HUMANITARIAN AID, INC.', 1), (\"MICHAEL'S RAMILY RESTAURANT VII\", 1), ('GOODMAN MANUFACTURING COMPANY, L.P.', 1), ('ROWLAND HTS KOREAN BAPTIST CHURCH DBA AMAZING GRAC', 1), ('MALIK EXPRESS, LLC', 1), ('SMARTECH COMMUNICATIONS', 1), ('HRP METALS, INC.', 1), ('4 DOGS,INC.', 1), ('INDUSTRIAL BANK OF KOREA NEW YORK BRANCH', 1), ('GREATER ORLANDO HOSPITALISTS,PA', 1), ('KEIVAN KHORSHID DDS LTD DBA ABC DENTAL CARE', 1), ('DYNASOFT SYNERGY INC', 1), ('C-VISION INC', 1), ('TELCORDIA TECHNOLOGIES, INC.', 1), ('AMERICAN CAPITAL, LTD.', 1), ('VIVID EDGE CORP', 1), ('KIDNEY & HYPERTENSION ASSOCIATES, INC.', 1), ('ABN AMRO HOLDINGS USA LLC', 1), ('GREENVILLE PUBLIC SCHOOL DISTRICT', 1), ('ALPHATEC SPINE, INC.', 1), (\"ONE WORLD FOODS DBA STUBB'S LEGENDARY KITCHEN\", 1), ('INTEGRATED MANUFACTURING TECHNOLOGIES', 1), ('ALMATIS, INC', 1), ('CODERYTE, INC.', 1), ('COVANEX, INC.', 1), ('WELLNESS & PREVENTION, INC.', 1), ('BROCK FARM NURSERIES, INC', 1), ('ATRENTA INC.', 1), ('ADVAITAA TECHNOLOGIES INC.', 1), ('GOTOMEDIA, LLC', 1), ('THE UNITED SOLUTIONS GROUP INC.', 1), (\"THE LEAST PEOPLE'S CHURCH\", 1), ('CSD SERVICES, INC.', 1), ('CUMMING CONSTRUCTION MANAGMENT INC. (DBA, CUMMING)', 1), ('UNIVERSITY SETTLEMENT', 1), ('THE CANTOR SEINUK GROUP INC D/B/A WSP CANTOR SEINUK', 1), ('KRESS CORPORATION', 1), ('UNIVERSITY OF NEW MEXICO', 1), ('LAW FIRM OF OJ LAWAL & ASSOCIATES', 1), ('TOMRA OF NORTH AMERICA, INC', 1), ('GLOBECOMM SYSTEMS INC.', 1), ('WELL LUCK CO. INC.', 1), ('SPIDERS SOFTWARE SOLUTIONS LLC', 1), ('PARSONS COMMERCIAL TECHNOLOGY GROUP INC.', 1), ('HARRIS MASSEY HERINCKX, INC.', 1), ('SHUBH ENTERPRISES, INC. DBA PARK POINT MONTESSORI NORTH', 1), ('NORDEN TANKERS & BULKERS USA, INC', 1), ('AD SAFE MEDIA LTD', 1), ('SJA, INC', 1), ('TURBO ION INC.', 1), ('PHARO MANAGEMENT LLC', 1), ('THE SERVICEMASTER COMPANY', 1), ('B.A.B. EVENTS INC.', 1), ('SUCCESSFACTORS, INC.', 1), ('OUTBACK STEAKHOUSE', 1), ('INFOVISION TECHNOLOGIES INC', 1), ('GGEM MANAGEMENT', 1), ('FOXSEMICON, LLC', 1), ('RARITAN PHARMACEUTICALS', 1), ('DYNAFLO CORPORATION', 1), ('CRISPIN PORTER + BOGUSKY LLC', 1), ('ECOMMQUEST', 1), ('JOONG-ANG DAILY NEWS ATLANTA, INC.', 1), (\"RAINERI'S SERVICE STATION, INC.\", 1), ('WARABEYA U.S.A., INC.', 1), ('NETSOFT HOLDINGS LLC', 1), ('QUEEN CITY SUPPLY DBA MQ AUTOMATION', 1), ('INFOTECH ENTERPRISES AMERICA, INC.,', 1), ('TPC GROUP LLC', 1), ('GARY J SCHUMMER, PHD, APC', 1), ('NOBLE ACADEMY-COLUMBUS, INC.', 1), ('AFFINNOVA', 1), ('BARTLETT PARK DISTRICT', 1), ('AMERICAN FAMILY & GERIATRIC CARE, P.A.', 1), ('ROBYN L MURPHY', 1), ('J S JEWELERS INC', 1), ('GLOBALFOUNDRIES AMERICAS INC', 1), ('PUBLISHERS CIRCULATION FULFILLMENT, INC.', 1), ('POWER SOURCE SYSTEMS, INC.', 1), ('ALLEN PARISH SCHOOL BOARD', 1), ('TOTALLY BASEMENTS', 1), ('TALBRIDGE CORPORATION', 1), ('EVANS SPORTING GOODS', 1), ('TIMEX GROUP USA, INC.', 1), (\"CERMELE'S CATERING & ENTERPRISES CORP.\", 1), ('UB FAMILY MEDICINE, INC.', 1), ('WORLD BEER & SODA DISTRIBUTORS INC.', 1), ('PORTER SCOTT', 1), ('ALBANY INTERNATIONAL CORP.', 1), ('TRUSTEES OF THE ESTATE OF BERNICE PAUAHI BISHOP', 1), ('INVENSYS SYSTEMS, INC.', 1), ('TMW SYSTEMS, INC.', 1), ('SZECHUAN HOUSE RESTAURANT, INC.', 1), ('MERCHANDIZING OF AUTOMOTIVE AND COMPONENTS, INC.', 1), ('COGNILYTICS', 1), ('ESPIRITO SANTO BANK', 1), ('PRINCIPLE PLASTICS', 1), ('COMMUNITY HOSPITALS AND WELLNESS CENTERS', 1), ('ADLER SCHOOL OF PROFESSIONAL PSYCHOLOGY', 1), ('THREE-C ELECTRICAL COMPANY INC.', 1), ('COGENT HEALTHCARE OF MICHIGAN, P.C.', 1), ('FRIENDS AMERICA, INC.', 1), ('BL MULTIMEDIA USA, INC.', 1), ('SYSNET TECHNOLOGY SOLUTIONS', 1), ('MERCER HEALTH & BENEFITS LLC', 1), ('PENNINGTON BIOMEDICAL RESEARCH CENTER', 1), ('THE ESTEE LAUDER COMPANIES INC.', 1), ('PROPERTY SERVICES LANDSCAPING, INC', 1), ('MONTCLAIR HOSPITAL MEDICAL CENTER', 1), ('EAGLEMONT ENTERPRISES,INC., D/B/A THRIFTY FOOD MART', 1), ('BLACKROCK CAPITAL MANAGEMENT, INC.', 1), ('TELEDYNE ODOM HYDROGRAPHIC INC', 1), ('CITATION TECHNOLOGIES INC.', 1), ('C SQUARED SYSTEMS, LLC', 1), ('ANCHOR GENERAL INSURANCE AGENCY, INC', 1), ('UNIVAR USA INC.', 1), ('COMPUNETIX, INC.', 1), ('EXPAND NETWORKS, INC', 1), ('FLOWSERVE MANAGEMENT COMPANY', 1), ('SHOCKING TECHNOLOIGES', 1), ('MIDCOM CORPORATION', 1), ('THE AMERICAN LANGUAGE KOLLEGE, INC. D/B/A TALK INTERNATIONAL', 1), ('MCCARTHY MAMBRO BERTINO LLC', 1), ('H&E EQUIPMENT SERVICES, INC', 1), ('ALERE INC.', 1), ('BAYLOR RESEARCH INSTITUTE', 1), ('CHAMBERS OF MEDICINE', 1), ('SYNAPTICORE, LLC', 1), ('BAFTER FOOD CORP D/B/A MET FOOD SUPERMARKET', 1), ('PRECISION TECHNOLOGY, INC', 1), ('TECHNOPARK CORPORATION', 1), ('KARA SCHOOL OF MUSIC, INC.', 1), ('NORTHSTAR TECHNOLOGIES, INC.', 1), ('HILLSPIRE LLC', 1), ('WETZEL COUNTY HOSPITAL', 1), ('MILESTONE TECHNOLOGIES, LLC', 1), ('INTERNATIONAL ORTHOPEDIC CENTER FOR JOINT DISORDERS', 1), ('TOSHIBA MEDICAL RESEARCH INSTITUTE USA, INC.', 1), ('PARIS BAGUETTE AMERICA', 1), ('HEALTH MARKET SCIENCE', 1), ('IBM GLOBAL SYSTEMS INC', 1), ('CAFE CRISAN, INC.', 1), ('PACIFIC LIFE INSURANCE COMPANY', 1), ('WELLCARE PHARMACY SERVICES, INC', 1), ('E INK CORPORATION', 1), ('GTECH CORPORATION', 1), ('LEHMAN BROTHERS HOLDINGS INC.', 1), ('J.A.W AQUA BELLA DBA EUROPEAN CRYSTAL BANQUETS', 1), ('BROOKS JUCHA & ASSOCIATES', 1), ('H.K.DESIGNS INC', 1), ('ENVISION, LLC', 1), ('ACCO BRANDS USA LLC', 1), ('STRUCTURAL GROUP, INC.', 1), ('BRYN MAWR COLLEGE', 1), ('U C SERVICE CORPORATION', 1), ('ONE STOP UNDERCAR RIVERSIDE INC.', 1), ('ESSILOR OF AMERICA, INC', 1), ('RESOURCE AMERICA, INC.', 1), ('CWC INTERNATIONAL INC.', 1), ('ALBERT EINSTEIN COLLEGE OF MEDICINE OF YESHIVA UNI', 1)] \n",
      "\n",
      "employer_state [('CA', 3639), ('NY', 1714), ('NJ', 1353), ('TX', 1312), ('IL', 896), ('WA', 639), ('PA', 604), ('VA', 603), ('MA', 593), ('FL', 531), ('MI', 484), ('GA', 474), ('MD', 328), ('OH', 301), ('NC', 279), ('CT', 236), ('MO', 199), ('AZ', 194), ('IN', 178), ('WI', 176), ('MN', 172), ('CO', 142), ('DC', 123), ('TN', 112), ('DE', 89), ('AL', 87), ('IA', 76), ('OK', 72), ('KS', 70), ('SC', 66), ('KY', 65), ('OR', 62), ('UT', 56), ('LA', 54), ('AR', 53), ('RI', 52), ('NE', 50), ('ID', 48), ('NV', 47), ('NH', 42), ('GU', 38), ('SD', 22), ('ND', 21), ('WV', 20), ('VT', 20), ('HI', 19), ('PR', 18), ('MS', 16), ('NM', 16), ('ME', 15), ('WY', 10), ('AK', 9), ('MT', 4), ('VI', 3), ('MP', 1)] \n",
      "\n",
      "naics_2007_us_title [('Custom Computer Programming Services', 2911), ('Colleges, Universities, and Professional Schools', 1020), ('Computer Systems Design Services', 726), ('Software Publishers', 560), ('Computer Systems Design and Related Services', 534), ('Engineering Services', 517), ('Other Computer Related Services', 415), ('General Medical and Surgical Hospitals', 354), ('Investment Banking and Securities Dealing', 343), ('Offices of Physicians (except Mental Health Specialists)', 318), ('Elementary and Secondary Schools', 274), ('Semiconductor and Related Device Manufacturing', 249), ('Radio and Television Broadcasting and Wireless Communications Equipment Manufacturing', 201), ('Full-Service Restaurants', 200), ('Administrative Management and General Management Consulting Services', 198), ('Semiconductor and Other Electronic Component Manufacturing', 149), ('Electronic Computer Manufacturing', 130), ('Offices of Certified Public Accountants', 124), ('Electronic Shopping', 119), ('Commercial Banking', 105), ('Management Consulting Services', 94), ('Other Computer Peripheral Equipment Manufacturing', 90), ('Offices of Dentists', 89), ('Data Processing, Hosting and Related Services', 78), ('Offices of Other Holding Companies', 76), ('Pharmacies and Drug Stores', 75), ('Offices of Lawyers', 75), ('Architectural Services', 70), ('Private Households', 69), ('Offices of Physical, Occupational and Speech Therapists, and Audiologists', 68), ('Marketing Consulting Services', 65), ('Nursing Care Facilities', 64), ('Portfolio Management', 64), ('Financial Transactions Processing, Reserve, and Clearinghouse Activities', 63), ('Religious Organizations', 60), ('Offices of Physicians', 59), ('Investment Advice', 58), ('Temporary Help Services', 58), ('Other Accounting Services', 56), ('Medical Equipment and Supplies Manufacturing', 54), ('Management, Scientific, and Technical Consulting Services', 54), ('Direct Health and Medical Insurance Carriers', 53), ('Hotels (except Casino Hotels) and Motels', 52), ('Miscellaneous Financial Investment Activities', 52), ('All Other Professional, Scientific, and Technical Services', 52), ('Engine, Turbine, and Power Transmission Equipment Manufacturing', 51), ('Pharmaceutical Preparation Manufacturing', 50), ('Other Management Consulting Services', 50), ('Marketing Research and Public Opinion Polling', 50), ('Computer and Peripheral Equipment Manufacturing', 49), ('All Other Information Services', 49), ('Other Scientific and Technical Consulting Services', 48), ('Commercial and Institutional Building Construction', 48), ('Other Electronic Component Manufacturing', 46), ('Advertising Agencies', 45), ('Pharmaceutical and Medicine Manufacturing', 44), ('Process, Physical Distribution, and Logistics Consulting Services', 43), ('Wireless Telecommunications Carriers (except Satellite)', 42), ('Research and Development in the Physical, Engineering, and Life Sciences', 42), ('Freight Transportation Arrangement', 40), ('Telephone Apparatus Manufacturing', 40), ('Support Activities for Oil and Gas Operations', 37), ('Securities Brokerage', 37), ('Educational Support Services', 37), ('Accounting, Tax Preparation, Bookkeeping, and Payroll Services', 36), ('Electromedical and Electrotherapeutic Apparatus Manufacturing', 36), ('Credit Card Issuing', 35), ('Direct Property and Casualty Insurance Carriers', 34), ('Home Health Care Services', 34), ('Surgical and Medical Instrument Manufacturing', 33), ('Electronic Auctions', 33), ('Automobile Manufacturing', 32), ('Computer Facilities Management Services', 32), ('Electric Power Generation, Transmission and Distribution', 32), ('Supermarkets and Other Grocery (except Convenience) Stores', 31), ('Cable and Other Subscription Programming', 31), ('All Other Insurance Related Activities', 30), ('Other Electronic Parts and Equipment Merchant Wholesalers', 29), ('Newspaper Publishers', 29), ('Medical, Dental, and Hospital Equipment and Supplies Merchant Wholesalers', 28), ('Medicinal and Botanical Manufacturing', 28), ('Crude Petroleum and Natural Gas Extraction', 28), ('Motion Picture and Video Production', 27), ('Human Resources Consulting Services', 27), ('Electrical Contractors and Other Wiring Installation Contractors', 26), ('Limited-Service Restaurants', 26), ('Insurance Agencies and Brokerages', 25), ('Construction Machinery Manufacturing', 25), ('HMO Medical Centers', 24), ('Medical Laboratories', 24), ('Veterinary Services', 24), ('Computer Storage Device Manufacturing', 24), ('Other Communications Equipment Manufacturing', 23), ('Monetary Authorities-Central Bank', 22), (\"Women's, Children's, and Infants' Clothing and Accessories Merchant Wholesalers\", 22), ('Computer and Computer Peripheral Equipment and Software Merchant Wholesalers', 22), ('Other Services Related to Advertising', 22), ('Computer and Electronic Product Manufacturing', 22), ('Television Broadcasting', 22), ('Corporate, Subsidiary, and Regional Managing Offices', 21), ('Motor Vehicle Parts Manufacturing', 21), ('Oil and Gas Field Machinery and Equipment Manufacturing', 21), ('Insurance Carriers', 21), ('Landscaping Services', 21), ('Other Heavy and Civil Engineering Construction', 20), ('Research and Development in the Social Sciences and Humanities', 20), ('Aircraft Manufacturing', 20), ('Communications Equipment Manufacturing', 20), ('Offices of All Other Miscellaneous Health Practitioners', 20), ('Wired Telecommunications Carriers', 20), ('Telecommunications', 19), ('Reinsurance Carriers', 19), ('Direct Life Insurance Carriers', 19), ('Air-Conditioning and Warm Air Heating Equipment and Commercial and Industrial Refrigeration Equipment Manufacturing', 19), ('Travel Agencies', 19), ('Testing Laboratories', 19), ('Oil and Gas Extraction', 19), ('Optical Instrument and Lens Manufacturing', 18), ('Construction', 18), ('Other Miscellaneous Durable Goods Merchant Wholesalers', 18), ('Industrial Building Construction', 18), ('Scientific Research and Development Services', 18), ('All Other Financial Investment Activities', 18), ('Graphic Design Services', 17), ('Scheduled Passenger Air Transportation', 17), ('Gasoline Stations with Convenience Stores', 17), ('Plumbing, Heating, and Air-Conditioning Contractors', 17), ('Child Day Care Services', 17), ('Environmental Consulting Services', 16), ('Electric Bulk Power Transmission and Control', 16), ('Other Individual and Family Services', 16), ('Heavy Duty Truck Manufacturing', 16), ('Jewelry, Watch, Precious Stone, and Precious Metal Merchant Wholesalers', 16), ('Iron and Steel Mills', 16), ('Deep Sea Freight Transportation', 16), ('All Other Miscellaneous Manufacturing', 16), ('Other Activities Related to Real Estate', 16), ('Other Miscellaneous Nondurable Goods Merchant Wholesalers', 16), ('Industrial Gas Manufacturing', 15), ('Industrial Design Services', 15), ('Residential Building Construction', 15), ('Offices of Chiropractors', 15), ('Other Specialized Design Services', 15), ('Petrochemical Manufacturing', 15), ('Power, Distribution, and Specialty Transformer Manufacturing', 15), ('Specialty (except Psychiatric and Substance Abuse) Hospitals', 15), ('Audio and Video Equipment Manufacturing', 15), ('Other Aircraft Parts and Auxiliary Equipment Manufacturing', 14), (\"Drugs and Druggists' Sundries Merchant Wholesalers\", 14), ('Consumer Lending', 14), ('Convenience Stores', 14), ('Book Publishers', 13), ('Golf Courses and Country Clubs', 13), ('Commodity Contracts Dealing', 13), ('Beauty Salons', 13), ('Drycleaning and Laundry Services (except Coin-Operated)', 13), ('Instruments and Related Products Manufacturing for Measuring, Displaying, and Controlling Industrial Process Variables', 13), ('Cosmetics, Beauty Supplies, and Perfume Stores', 13), ('Other Information Services', 13), ('Bread and Bakery Product Manufacturing', 13), ('Printed Circuit Assembly (Electronic Assembly) Manufacturing', 13), ('Offices of Physicians, Mental Health Specialists', 12), ('Cut and Sew Apparel Manufacturing', 12), ('Search, Detection, Navigation, Guidance, Aeronautical, and Nautical System and Instrument Manufacturing', 12), ('Family Clothing Stores', 12), ('All Other Motor Vehicle Parts Manufacturing', 12), ('All Other Outpatient Care Centers', 12), ('Janitorial Services', 12), ('Other Grocery and Related Products Merchant Wholesalers', 12), ('Electronic Connector Manufacturing', 12), ('Aerospace Product and Parts Manufacturing', 12), (\"Women's Clothing Stores\", 12), ('Other Footwear Manufacturing', 11), ('Interior Design Services', 11), ('All Other Miscellaneous Food Manufacturing', 11), ('Services for the Elderly and Persons with Disabilities', 11), ('Semiconductor Machinery Manufacturing', 11), ('Secondary Market Financing', 11), ('Fine Arts Schools', 11), ('Administration of Education Programs', 11), ('Educational Services', 11), ('Hardware Manufacturing', 10), ('Other Engine Equipment Manufacturing', 10), ('Industrial Machinery and Equipment Merchant Wholesalers', 10), ('Sports and Recreation Instruction', 10), ('Apparel, Piece Goods, and Notions Merchant Wholesalers', 10), ('Business to Business Electronic Markets', 10), ('Other Financial Investment Activities', 10), ('Periodical Publishers', 10), ('All Other Personal Services', 10), ('Chemical Manufacturing', 10), ('Legal Services', 10), ('Discount Department Stores', 10), ('Other Electrical Equipment and Component Manufacturing', 10), ('Software Reproducing', 10), ('New Single-Family Housing Construction (except Operative Builders)', 10), ('Employment Services', 10), ('All Other Basic Inorganic Chemical Manufacturing', 10), ('Securities, Commodity Contracts, and Other Financial Investments and Related Activities', 10), ('Wine and Distilled Alcoholic Beverage Merchant Wholesalers', 10), ('Relay and Industrial Control Manufacturing', 10), ('Activities Related to Real Estate', 9), ('Office Administrative Services', 9), ('General Line Grocery Merchant Wholesalers', 9), ('Nonresidential Property Managers', 9), ('Perishable Prepared Food Manufacturing', 9), ('Homes for the Elderly', 9), ('Other Motor Vehicle Electrical and Electronic Equipment Manufacturing', 9), ('Bare Printed Circuit Board Manufacturing', 9), ('Commercial Bakeries', 9), ('Offices of Mental Health Practitioners (except Physicians)', 9), ('Drilling Oil and Gas Wells', 9), ('Motor Vehicle Transmission and Power Train Parts Manufacturing', 9), ('Miscellaneous Intermediation', 9), ('Other Commercial Printing', 9), ('Packaging Machinery Manufacturing', 9), ('All Other Industrial Machinery Manufacturing', 9), ('Home Furnishing Merchant Wholesalers', 9), ('Furniture Stores', 9), ('Painting and Wall Covering Contractors', 8), ('Food Service Contractors', 8), ('Biological Product (except Diagnostic) Manufacturing', 8), ('Hospitals', 8), ('Casino Hotels', 8), ('Electrical Apparatus and Equipment, Wiring Supplies, and Related Equipment Merchant Wholesalers', 8), ('Satellite Telecommunications', 8), ('Professional Organizations', 8), ('Electric Power Generation', 8), ('Poultry Processing', 8), (\"Women's and Girls' Cut and Sew Apparel Manufacturing\", 8), ('Electronic Shopping and Mail-Order Houses', 8), ('Book, Periodical, and Newspaper Merchant Wholesalers', 8), ('Farm Machinery and Equipment Manufacturing', 8), ('Motor Vehicle Supplies and New Parts Merchant Wholesalers', 8), (\"Flower, Nursery Stock, and Florists' Supplies Merchant Wholesalers\", 8), ('Securities and Commodity Exchanges', 8), ('Geophysical Surveying and Mapping Services', 8), ('Child and Youth Services', 8), ('Fitness and Recreational Sports Centers', 8), ('Junior Colleges', 8), ('Other Activities Related to Credit Intermediation', 7), ('Power and Communication Line and Related Structures Construction', 7), ('Water and Sewer Line and Related Structures Construction', 7), ('Cheese Manufacturing', 7), ('Jewelry Stores', 7), ('Wholesale Trade', 7), ('Commercial and Industrial Machinery and Equipment (except Automotive and Electronic) Repair and Maintenance', 7), ('Apparel Manufacturing', 7), ('Sporting and Athletic Goods Manufacturing', 7), ('Turbine and Turbine Generator Set Units Manufacturing', 7), ('Advertising, Public Relations, and Related Services', 7), ('All Other Miscellaneous General Purpose Machinery Manufacturing', 7), ('Caterers', 7), ('Landscape Architectural Services', 7), ('Electrical Equipment Manufacturing', 7), ('All Other Plastics Product Manufacturing', 7), ('Food Manufacturing', 7), ('Instrument Manufacturing for Measuring and Testing Electricity and Electrical Signals', 7), ('Management of Companies and Enterprises', 7), ('Real Estate Property Managers', 7), ('General Automotive Repair', 7), ('Residential Remodelers', 7), ('Dental Equipment and Supplies Manufacturing', 7), ('Automotive Parts and Accessories Stores', 7), ('All Other Miscellaneous Store Retailers (except Tobacco Stores)', 7), ('Security Systems Services (except Locksmiths)', 7), ('Wholesale Trade Agents and Brokers', 7), ('Electric Power Distribution', 7), ('Other Telecommunications', 7), ('Home Centers', 7), ('Ship Building and Repairing', 7), ('Exam Preparation and Tutoring', 7), ('Third Party Administration of Insurance and Pension Funds', 7), ('All Other Miscellaneous Schools and Instruction', 6), ('Natural Gas Liquid Extraction', 6), ('Radio, Television, and Other Electronics Stores', 6), ('Jewelry (except Costume) Manufacturing', 6), ('Commercial, Industrial, and Institutional Electric Lighting Fixture Manufacturing', 6), ('Other Social Advocacy Organizations', 6), ('Offices of Optometrists', 6), (\"Men's and Boys' Clothing and Furnishings Merchant Wholesalers\", 6), ('All Other Miscellaneous Electrical Equipment and Component Manufacturing', 6), ('Other Residential Care Facilities', 6), ('Sporting and Recreational Goods and Supplies Merchant Wholesalers', 6), ('Dental Laboratories', 6), ('Highway, Street, and Bridge Construction', 6), ('Vocational Rehabilitation Services', 6), ('Commercial Lithographic Printing', 6), ('Finance and Insurance', 6), ('Water Supply and Irrigation Systems', 6), ('Directory and Mailing List Publishers', 6), ('Professional Employer Organizations', 6), ('Real Estate Credit', 6), ('All Other Miscellaneous Chemical Product and Preparation Manufacturing', 6), ('Construction of Buildings', 6), ('Office Supplies and Stationery Stores', 6), ('Flooring Contractors', 6), ('Solid Waste Collection', 6), ('Automotive Body, Paint, and Interior Repair and Maintenance', 6), ('Grantmaking Foundations', 6), ('Packaging and Labeling Services', 6), ('Sales Financing', 6), ('Greenhouse, Nursery, and Floriculture Production', 6), ('Power Boiler and Heat Exchanger Manufacturing', 6), ('Furniture Merchant Wholesalers', 6), ('Specialized Design Services', 6), ('Offices of Real Estate Agents and Brokers', 6), ('Public Relations Agencies', 6), ('Primary Aluminum Production', 6), ('Apparel Accessories and Other Apparel Manufacturing', 6), ('Machine Tool (Metal Cutting Types) Manufacturing', 6), ('Roofing Contractors', 6), ('Retail Bakeries', 6), ('Surgical Appliance and Supplies Manufacturing', 6), ('All Other Food Manufacturing', 6), ('Dairy Cattle and Milk Production', 6), ('Pipeline Transportation of Natural Gas', 6), ('Motor and Generator Manufacturing', 6), ('Pulp, Paper, and Paperboard Mills', 5), ('Machinery, Equipment, and Supplies Merchant Wholesalers', 5), ('Civic and Social Organizations', 5), ('Iron and Steel Pipe and Tube Manufacturing from Purchased Steel', 5), ('Residential Mental Health and Substance Abuse Facilities', 5), ('Coffee and Tea Manufacturing', 5), ('Radio Networks', 5), ('Commodity Contracts Brokerage', 5), ('Other Professional Equipment and Supplies Merchant Wholesalers', 5), ('Other Financial Vehicles', 5), ('Video Tape and Disc Rental', 5), ('Soft Drink Manufacturing', 5), ('Fresh Fruit and Vegetable Merchant Wholesalers', 5), ('Oil and Gas Pipeline and Related Structures Construction', 5), ('All Other Miscellaneous Store Retailers', 5), ('Administration of General Economic Programs', 5), ('Packaged Frozen Food Merchant Wholesalers', 5), ('Masonry Contractors', 5), ('New Multifamily Housing Construction (except Operative Builders)', 5), ('Credit Bureaus', 5), ('Petroleum and Petroleum Products Merchant Wholesalers (except Bulk Stations and Terminals)', 5), ('Museums', 5), ('Computer and Software Stores', 5), ('Integrated Record Production/Distribution', 5), ('Continuing Care Retirement Communities', 5), ('Architectural, Engineering, and Related Services', 5), ('Department Stores', 5), ('Automatic Environmental Control Manufacturing for Residential, Commercial, and Appliance Use', 5), ('Motor Vehicle Seating and Interior Trim Manufacturing', 5), ('Industrial Supplies Merchant Wholesalers', 5), ('Collection Agencies', 5), ('Other Commercial and Service Industry Machinery Manufacturing', 5), ('Remediation Services', 5), ('Dry, Condensed, and Evaporated Dairy Product Manufacturing', 5), ('Medical and Diagnostic Laboratories', 5), ('General Freight Trucking, Local', 5), ('Mortgage and Nonmortgage Loan Brokers', 5), ('Lessors of Nonfinancial Intangible Assets (except Copyrighted Works)', 5), ('Natural Gas Distribution', 5), ('Translation and Interpretation Services', 5), ('Credit Unions', 5), ('Fish and Seafood Merchant Wholesalers', 5), ('Shoe Stores', 5), ('Grocery and Related Product Merchant Wholesalers', 5), ('Polystyrene Foam Product Manufacturing', 5), ('Radio and Television Broadcasting', 4), ('Electrical and Electronic Goods Merchant Wholesalers', 4), ('Automotive Mechanical and Electrical Repair and Maintenance', 4), ('Lessors of Nonresidential Buildings (except Miniwarehouses)', 4), ('Deep Sea Passenger Transportation', 4), ('Couriers and Express Delivery Services', 4), ('Pension Funds', 4), ('Scheduled Freight Air Transportation', 4), ('Other Apparel Accessories and Other Apparel Manufacturing', 4), ('Other Building Material Dealers', 4), ('All Other General Merchandise Stores', 4), ('Sports Teams and Clubs', 4), ('Scheduled Air Transportation', 4), ('Other Direct Selling Establishments', 4), ('Securities and Commodity Contracts Intermediation and Brokerage', 4), ('Fossil Fuel Electric Power Generation', 4), ('Wineries', 4), ('Transportation Equipment and Supplies (except Motor Vehicle) Merchant Wholesalers', 4), ('All Other Rubber Product Manufacturing', 4), ('Vitreous China Plumbing Fixture and China and Earthenware Bathroom Accessories Manufacturing', 4), ('Petroleum Refineries', 4), ('Electronic and Precision Equipment Repair and Maintenance', 4), ('Independent Artists, Writers, and Performers', 4), ('Industrial Machinery Manufacturing', 4), ('Other Professional, Scientific, and Technical Services', 4), ('Support Activities for Animal Production', 4), ('Piece Goods, Notions, and Other Dry Goods Merchant Wholesalers', 4), ('Digital Printing', 4), ('Diet and Weight Reducing Centers', 4), ('Carburetor, Piston, Piston Ring, and Valve Manufacturing', 4), ('Tour Operators', 4), ('Office Supplies (except Paper) Manufacturing', 4), ('Iron and Steel Mills and Ferroalloy Manufacturing', 4), ('Computer and Office Machine Repair and Maintenance', 4), ('Metal Service Centers and Other Metal Merchant Wholesalers', 4), ('Mining Machinery and Equipment Manufacturing', 4), ('Adhesive Manufacturing', 4), ('Media Representatives', 4), ('Analytical Laboratory Instrument Manufacturing', 4), ('Storage Battery Manufacturing', 4), ('Welding and Soldering Equipment Manufacturing', 4), ('Heavy and Civil Engineering Construction', 4), ('Automobile and Other Motor Vehicle Merchant Wholesalers', 4), ('Poured Concrete Foundation and Structure Contractors', 4), ('Language Schools', 4), ('Nail Salons', 4), ('Prefabricated Metal Building and Component Manufacturing', 4), ('Breakfast Cereal Manufacturing', 4), ('Open-End Investment Funds', 4), ('All Other Nondepository Credit Intermediation', 4), ('All Other Amusement and Recreation Industries', 4), ('Electric Housewares and Household Fan Manufacturing', 4), ('Drycleaning and Laundry Services', 4), ('Basic Chemical Manufacturing', 4), ('Iron and Steel Forging', 4), ('Business Associations', 4), ('Cement Manufacturing', 4), ('Pesticide and Other Agricultural Chemical Manufacturing', 4), ('Spice and Extract Manufacturing', 4), ('Other Miscellaneous Manufacturing', 4), ('Administration of Urban Planning and Community and Rural Development', 4), ('Tax Preparation Services', 4), ('Employment Placement Agencies and Executive Search Services', 4), ('All Other Specialty Trade Contractors', 4), ('Dairy Product (except Dried or Canned) Merchant Wholesalers', 3), ('Direct Insurance (except Life, Health, and Medical) Carriers', 3), ('All Other Automotive Repair and Maintenance', 3), ('Motor Vehicle Metal Stamping', 3), ('Abrasive Product Manufacturing', 3), ('Limited-Service Eating Places', 3), ('Plastics Product Manufacturing', 3), ('Other Electric Power Generation', 3), ('Hazardous Waste Treatment and Disposal', 3), ('Footwear Manufacturing', 3), ('Outpatient Mental Health and Substance Abuse Centers', 3), ('All Other Publishers', 3), ('Other Support Activities for Transportation', 3), ('New Car Dealers', 3), ('Promoters of Performing Arts, Sports, and Similar Events without Facilities', 3), ('Warehousing and Storage', 3), ('Motor Vehicle Steering and Suspension Components (except Spring) Manufacturing', 3), ('Meat Markets', 3), ('Transportation and Warehousing', 3), ('Mail-Order Houses', 3), ('Power-Driven Handtool Manufacturing', 3), ('Metal Window and Door Manufacturing', 3), ('Paint and Coating Manufacturing', 3), ('Toy and Hobby Goods and Supplies Merchant Wholesalers', 3), ('All Other Legal Services', 3), ('Communication and Energy Wire and Cable Manufacturing', 3), ('Coated and Laminated Packaging Paper Manufacturing', 3), ('Textile and Fabric Finishing (except Broadwoven Fabric) Mills', 3), ('Rubber and Plastics Footwear Manufacturing', 3), ('Brick, Stone, and Related Construction Material Merchant Wholesalers', 3), ('Industrial Truck, Tractor, Trailer, and Stacker Machinery Manufacturing', 3), ('Advertising Material Distribution Services', 3), ('Wood Kitchen Cabinet and Countertop Manufacturing', 3), ('Doll and Stuffed Toy Manufacturing', 3), ('Linen Supply', 3), ('Department Stores (except Discount Department Stores)', 3), ('Photographic and Photocopying Equipment Manufacturing', 3), ('Teleproduction and Other Postproduction Services', 3), ('Recreational and Vacation Camps (except Campgrounds)', 3), ('Motor Vehicle Brake System Manufacturing', 3), ('Kidney Dialysis Centers', 3), ('All Other Miscellaneous Fabricated Metal Product Manufacturing', 3), ('Other Chemical Product and Preparation Manufacturing', 3), ('Petroleum Lubricating Oil and Grease Manufacturing', 3), ('Commercial Air, Rail, and Water Transportation Equipment Rental and Leasing', 3), ('Recyclable Material Merchant Wholesalers', 3), ('General Freight Trucking, Long-Distance', 3), ('Motor Vehicle and Motor Vehicle Parts and Supplies Merchant Wholesalers', 3), ('Machine Tool (Metal Forming Types) Manufacturing', 3), ('Consumer Electronics Repair and Maintenance', 3), ('Other Farm Product Raw Material Merchant Wholesalers', 3), (\"Women's, Girls', and Infants' Cut and Sew Apparel Contractors\", 3), ('Bottled Water Manufacturing', 3), ('Offices of All Other Health Practitioners', 3), ('Line-Haul Railroads', 3), ('Automotive Repair and Maintenance', 3), ('Major Appliance Manufacturing', 3), ('Railroad Rolling Stock Manufacturing', 3), ('Electrical and Electronic Appliance, Television, and Radio Set Merchant Wholesalers', 3), ('Offices of Podiatrists', 3), ('Hydroelectric Power Generation', 3), ('Flat Glass Manufacturing', 3), ('Footwear Merchant Wholesalers', 3), ('Fluid Power Valve and Hose Fitting Manufacturing', 3), ('Rail Transportation', 3), ('Clothing and Clothing Accessories Stores', 3), ('Tire Manufacturing (except Retreading)', 3), ('Beer, Wine, and Liquor Stores', 3), ('Reupholstery and Furniture Repair', 3), ('All Other Schools and Instruction', 3), ('Other Gasoline Stations', 3), (\"Women's and Girls' Cut and Sew Lingerie, Loungewear, and Nightwear Manufacturing\", 3), ('Residential Property Managers', 3), ('Other Depository Credit Intermediation', 3), ('All Other Consumer Goods Rental', 3), ('Florists', 3), ('Drywall and Insulation Contractors', 3), ('Psychiatric and Substance Abuse Hospitals', 3), (\"Men's and Boys' Cut and Sew Apparel Contractors\", 3), ('Tile and Terrazzo Contractors', 3), ('Spring (Heavy Gauge) Manufacturing', 3), ('Automobile and Light Duty Motor Vehicle Manufacturing', 3), ('Lessors of Residential Buildings and Dwellings', 3), ('International Trade Financing', 3), ('Nonscheduled Chartered Freight Air Transportation', 3), ('Surveying and Mapping (except Geophysical) Services', 3), ('Residential Mental Retardation Facilities', 3), ('Aircraft Engine and Engine Parts Manufacturing', 3), ('Administration of Public Health Programs', 3), (\"Children's and Infants' Clothing Stores\", 3), (\"Women's and Girls' Cut and Sew Other Outerwear Manufacturing\", 2), ('Watch, Clock, and Part Manufacturing', 2), ('Farm Management Services', 2), ('Gold Ore Mining', 2), ('Office Equipment Merchant Wholesalers', 2), ('Professional and Commercial Equipment and Supplies Merchant Wholesalers', 2), ('Automobile Dealers', 2), ('Fruit and Vegetable Markets', 2), ('Industrial Valve Manufacturing', 2), ('Home Furnishings Stores', 2), ('Measuring and Dispensing Pump Manufacturing', 2), ('Electric Lamp Bulb and Part Manufacturing', 2), ('Other Lighting Equipment Manufacturing', 2), ('Refrigerated Warehousing and Storage', 2), ('Commercial Laundry, Drycleaning, and Pressing Machine Manufacturing', 2), (\"Women's and Girls' Cut and Sew Dress Manufacturing\", 2), ('Outpatient Care Centers', 2), ('All Other Miscellaneous Wood Product Manufacturing', 2), ('Jewelry and Silverware Manufacturing', 2), ('Plastics Pipe and Pipe Fitting Manufacturing', 2), ('Environment, Conservation and Wildlife Organizations', 2), ('Gypsum Product Manufacturing', 2), ('Industrial Process Furnace and Oven Manufacturing', 2), ('Emergency and Other Relief Services', 2), ('Chemical and Allied Products Merchant Wholesalers', 2), ('Other Chemical and Allied Products Merchant Wholesalers', 2), ('Lumber, Plywood, Millwork, and Wood Panel Merchant Wholesalers', 2), ('Specialized Freight (except Used Goods) Trucking, Long-Distance', 2), ('Motor Vehicle Body and Trailer Manufacturing', 2), ('All Other Business Support Services', 2), (\"Men's Clothing Stores\", 2), ('Motor Vehicle Manufacturing', 2), ('Health Care and Social Assistance', 2), ('Commercial Flexographic Printing', 2), ('Pump and Pumping Equipment Manufacturing', 2), ('Radio Stations', 2), ('Art Dealers', 2), (\"Game, Toy, and Children's Vehicle Manufacturing\", 2), ('Plastics and Rubber Industry Machinery Manufacturing', 2), ('Other Services to Buildings and Dwellings', 2), ('Motor Vehicle Body Manufacturing', 2), ('Motion Picture and Video Industries', 2), ('Newspaper, Periodical, Book, and Directory Publishers', 2), ('Tobacco and Tobacco Product Merchant Wholesalers', 2), ('Other Motion Picture and Video Industries', 2), ('All Other Electrical Equipment and Component Manufacturing', 2), ('News Syndicates', 2), ('Other General Government Support', 2), ('All Other Transit and Ground Passenger Transportation', 2), ('Agencies, Brokerages, and Other Insurance Related Activities', 2), ('Confectionery Merchant Wholesalers', 2), ('Musical Instrument and Supplies Stores', 2), ('All Other Cut and Sew Apparel Manufacturing', 2), ('Cut and Sew Apparel Contractors', 2), ('Air Purification Equipment Manufacturing', 2), ('Specialized Freight (except Used Goods) Trucking, Local', 2), ('Crushed and Broken Limestone Mining and Quarrying', 2), ('Other Communication and Energy Wire Manufacturing', 2), ('Clothing Accessories Stores', 2), ('Gold Ore and Silver Ore Mining', 2), ('Finish Carpentry Contractors', 2), ('Office Furniture (except Wood) Manufacturing', 2), ('Nonscheduled Chartered Passenger Air Transportation', 2), ('Food Product Machinery Manufacturing', 2), ('Other Investment Pools and Funds', 2), ('Communication Equipment Repair and Maintenance', 2), ('Construction and Mining (except Oil Well) Machinery and Equipment Merchant Wholesalers', 2), ('Photographic Film, Paper, Plate, and Chemical Manufacturing', 2), ('Musical Instrument Manufacturing', 2), ('Transportation Equipment Manufacturing', 2), ('Plumbing and Heating Equipment and Supplies (Hydronics) Merchant Wholesalers', 2), ('Paper Industry Machinery Manufacturing', 2), ('Wood Window and Door Manufacturing', 2), ('Breweries', 2), ('Other Technical and Trade Schools', 2), ('Glass and Glazing Contractors', 2), ('Fabricated Structural Metal Manufacturing', 2), ('Other Support Activities for Air Transportation', 2), ('Plastics Packaging Film and Sheet (including Laminated) Manufacturing', 2), ('Structural Steel and Precast Concrete Contractors', 2), ('Navigational, Measuring, Electromedical, and Control Instruments Manufacturing', 2), ('Support Activities for Air Transportation', 2), ('Other Measuring and Controlling Device Manufacturing', 2), ('Electronics and Appliance Stores', 2), ('Payroll Services', 2), ('Private Mail Centers', 2), ('Fiber Optic Cable Manufacturing', 2), ('Other Direct Insurance (except Life, Health, and Medical) Carriers', 2), ('Hog and Pig Farming', 2), ('Beer and Ale Merchant Wholesalers', 2), ('Libraries and Archives', 2), ('Social Assistance', 2), ('Animal (except Poultry) Slaughtering', 2), ('Primary Battery Manufacturing', 2), ('Other Schools and Instruction', 2), ('Motor Vehicle Air-Conditioning Manufacturing', 2), ('Support Activities for Rail Transportation', 2), ('Other Specialty Food Stores', 2), ('Telemarketing Bureaus and Other Contact Centers', 2), ('Seafood Canning', 2), ('Upholstered Household Furniture Manufacturing', 2), ('Professional, Scientific, and Technical Services', 2), ('Ventilation, Heating, Air-Conditioning, and Commercial Refrigeration Equipment Manufacturing', 2), ('Other Health and Personal Care Stores', 2), ('Battery Manufacturing', 2), ('Other Fabricated Metal Product Manufacturing', 2), ('Other Insurance Related Activities', 2), ('Household Appliance Manufacturing', 2), ('Luggage and Leather Goods Stores', 2), ('All Other Specialty Food Stores', 2), ('Printing and Writing Paper Merchant Wholesalers', 2), ('Mechanical Power Transmission Equipment Manufacturing', 2), ('Lawn and Garden Tractor and Home Lawn and Garden Equipment Manufacturing', 2), ('Machine Shops', 2), ('Direct Mail Advertising', 2), ('Merchant Wholesalers, Durable Goods', 2), ('Artificial and Synthetic Fibers and Filaments Manufacturing', 2), ('Special Die and Tool, Die Set, Jig, and Fixture Manufacturing', 2), ('Insurance and Employee Benefit Funds', 2), ('Sporting Goods Stores', 2), ('Vehicular Lighting Equipment Manufacturing', 2), ('Freestanding Ambulatory Surgical and Emergency Centers', 2), ('Plastics Bottle Manufacturing', 2), ('Machinery Manufacturing', 2), ('Boat Building', 2), ('Ceramic Wall and Floor Tile Manufacturing', 2), ('Cookie and Cracker Manufacturing', 2), ('Other Cut and Sew Apparel Manufacturing', 2), ('Support Activities for Coal Mining', 2), ('Dog and Cat Food Manufacturing', 2), ('Sheet Metal Work Manufacturing', 2), ('Parking Lots and Garages', 2), ('General Freight Trucking', 2), ('Other Electronic and Precision Equipment Repair and Maintenance', 2), ('Business Service Centers', 2), ('Steel Product Manufacturing from Purchased Steel', 2), ('All Other Travel Arrangement and Reservation Services', 2), ('Other Commercial and Industrial Machinery and Equipment Rental and Leasing', 2), ('Nonupholstered Wood Household Furniture Manufacturing', 2), ('Elevator and Moving Stairway Manufacturing', 2), ('Snack and Nonalcoholic Beverage Bars', 2), ('Metal Heat Treating', 2), ('Building Finishing Contractors', 1), ('Nonwoven Fabric Mills', 1), ('Pump and Compressor Manufacturing', 1), ('Baked Goods Stores', 1), ('Flight Training', 1), ('Other Snack Food Manufacturing', 1), ('In-Vitro Diagnostic Substance Manufacturing', 1), ('Snack Food Manufacturing', 1), ('Used Car Dealers', 1), ('Services to Buildings and Dwellings', 1), ('American Indian and Alaska Native Tribal Governments', 1), ('Office Furniture (including Fixtures) Manufacturing', 1), ('Coin-Operated Laundries and Drycleaners', 1), ('All Other Support Services', 1), ('Irradiation Apparatus Manufacturing', 1), (\"Jewelers' Material and Lapidary Work Manufacturing\", 1), ('Manufacturing and Reproducing Magnetic and Optical Media', 1), ('Aluminum Extruded Product Manufacturing', 1), ('Regulation of Agricultural Marketing and Commodities', 1), ('All Other Home Furnishings Stores', 1), ('Paper (except Newsprint) Mills', 1), ('Appliance Repair and Maintenance', 1), ('Clothing Stores', 1), ('Human Rights Organizations', 1), ('Distilleries', 1), ('Taxi Service', 1), ('Fertilizer (Mixing Only) Manufacturing', 1), ('Plastics Bag and Pouch Manufacturing', 1), ('Household Cooking Appliance Manufacturing', 1), ('Roasted Nuts and Peanut Butter Manufacturing', 1), ('Other Support Services', 1), ('Cement and Concrete Product Manufacturing', 1), ('Sanitary Paper Product Manufacturing', 1), ('Correctional Institutions', 1), ('Industrial Launderers', 1), ('Other Support Activities for Road Transportation', 1), ('General Warehousing and Storage', 1), ('Support Activities for Water Transportation', 1), ('Motor Vehicle Gasoline Engine and Engine Parts Manufacturing', 1), ('Custom Compounding of Purchased Resins', 1), ('Other Foundation, Structure, and Building Exterior Contractors', 1), ('Hobby, Toy, and Game Stores', 1), ('Funeral Homes and Funeral Services', 1), ('Direct Life, Health, and Medical Insurance Carriers', 1), ('Textile and Fabric Finishing Mills', 1), ('Exterminating and Pest Control Services', 1), ('Carbon and Graphite Product Manufacturing', 1), ('Commercial Screen Printing', 1), ('Rubber Product Manufacturing for Mechanical Use', 1), ('Truck Trailer Manufacturing', 1), ('Manufacturing', 1), ('Printing and Related Support Activities', 1), ('Nursery and Tree Production', 1), ('Industrial and Commercial Fan and Blower Manufacturing', 1), ('Musical Groups and Artists', 1), ('All Other Transportation Equipment Manufacturing', 1), ('Converted Paper Product Manufacturing', 1), ('Executive, Legislative, and Other General Government Support', 1), ('Urethane and Other Foam Product (except Polystyrene) Manufacturing', 1), ('Wood Preservation', 1), ('General Freight Trucking, Long-Distance, Truckload', 1), ('Other Gambling Industries', 1), ('All Other Chemical Product and Preparation Manufacturing', 1), ('Mayonnaise, Dressing, and Other Prepared Sauce Manufacturing', 1), ('Industrial and Personal Service Paper Merchant Wholesalers', 1), ('Toilet Preparation Manufacturing', 1), ('Beer, Wine, and Distilled Alcoholic Beverage Merchant Wholesalers', 1), ('All Other Textile Product Mills', 1), ('Title Abstract and Settlement Offices', 1), ('Sign Manufacturing', 1), ('Corrugated and Solid Fiber Box Manufacturing', 1), ('Fluid Power Pump and Motor Manufacturing', 1), ('Skiing Facilities', 1), ('Activities Related to Credit Intermediation', 1), ('Other Vegetable (except Potato) and Melon Farming', 1), ('All Other Miscellaneous Ambulatory Health Care Services', 1), ('Regulation and Administration of Transportation Programs', 1), ('Metal Tank (Heavy Gauge) Manufacturing', 1), ('Stationery and Office Supplies Merchant Wholesalers', 1), ('Rubber and Plastics Hoses and Belting Manufacturing', 1), ('Cookie, Cracker, and Pasta Manufacturing', 1), ('Other Clothing Stores', 1), ('Family Planning Centers', 1), ('Nonferrous Metal (except Aluminum) Production and Processing', 1), ('Tortilla Manufacturing', 1), ('Dried and Dehydrated Food Manufacturing', 1), ('Photographic Equipment and Supplies Merchant Wholesalers', 1), ('Display Advertising', 1), ('Fluid Power Cylinder and Actuator Manufacturing', 1), ('Building Equipment Contractors', 1), ('Other Specialty Trade Contractors', 1), ('Other Ambulatory Health Care Services', 1), ('Crop Production', 1), ('Printing', 1), ('Dry Pea and Bean Farming', 1), ('Chicken Egg Production', 1), ('Other Noncitrus Fruit Farming', 1), ('Postharvest Crop Activities (except Cotton Ginning)', 1), ('Ophthalmic Goods Manufacturing', 1), ('Agriculture, Construction, and Mining Machinery Manufacturing', 1), ('Pipeline Transportation of Refined Petroleum Products', 1), ('Secondary Smelting, Refining, and Alloying of Nonferrous Metal (except Copper and Aluminum)', 1), ('Vending Machine Operators', 1), ('Fabricated Metal Product Manufacturing', 1), ('Document Preparation Services', 1), ('Blind and Shade Manufacturing', 1), ('Unlaminated Plastics Film and Sheet (except Packaging) Manufacturing', 1), ('Service Establishment Equipment and Supplies Merchant Wholesalers', 1), ('Alkalies and Chlorine Manufacturing', 1), ('Fluid Milk Manufacturing', 1), ('Totalizing Fluid Meter and Counting Device Manufacturing', 1), ('Waste Collection', 1), ('Tire and Tube Merchant Wholesalers', 1), (\"Men's and Boys' Cut and Sew Other Outerwear Manufacturing\", 1), ('Other Travel Arrangement and Reservation Services', 1), ('Paperboard Mills', 1), ('Navigational Services to Shipping', 1), ('Optical Goods Stores', 1), ('Other Aquaculture', 1), ('Courts', 1), ('Poultry Hatcheries', 1), ('Nursery, Garden Center, and Farm Supply Stores', 1), ('Heating Equipment (except Warm Air Furnaces) Manufacturing', 1), ('Promoters of Performing Arts, Sports, and Similar Events', 1), ('Building Material and Supplies Dealers', 1), ('Record Production', 1), ('Other Miscellaneous Store Retailers', 1), ('Agents and Managers for Artists, Athletes, Entertainers, and Other Public Figures', 1), ('Broadwoven Fabric Finishing Mills', 1), ('Other Nonscheduled Air Transportation', 1), ('Synthetic Rubber Manufacturing', 1), ('Motion Picture Theaters (except Drive-Ins)', 1), ('Bed-and-Breakfast Inns', 1), ('Ethyl Alcohol Manufacturing', 1), ('Limousine Service', 1), ('Ornamental and Architectural Metal Work Manufacturing', 1), ('Beverage Manufacturing', 1), ('Farm Supplies Merchant Wholesalers', 1), ('Other Construction Material Merchant Wholesalers', 1), ('Printing Ink Manufacturing', 1), ('Other Community Housing Services', 1), ('Gasoline Engine and Engine Parts Manufacturing', 1), ('Business Support Services', 1), ('Dimension Stone Mining and Quarrying', 1), ('Seafood Product Preparation and Packaging', 1), ('Animal Slaughtering and Processing', 1), ('Media Buying Agencies', 1), ('Farm Labor Contractors and Crew Leaders', 1), ('Computer Training', 1), ('Administration of Housing Programs, Urban Planning, and Community Development', 1), ('Passenger Car Rental and Leasing', 1), ('Mattress Manufacturing', 1), ('Septic Tank and Related Services', 1), ('Tire Dealers', 1), ('Motor Vehicle Electrical and Electronic Equipment Manufacturing', 1), ('Narrow Fabric Mills', 1), ('Other Pressed and Blown Glass and Glassware Manufacturing', 1), ('Food (Health) Supplement Stores', 1), ('Doll, Toy, and Game Manufacturing', 1), ('Conveyor and Conveying Equipment Manufacturing', 1), ('All Other Motor Vehicle Dealers', 1), ('Other Personal and Household Goods Repair and Maintenance', 1), ('Nature Parks and Other Similar Institutions', 1), ('Miscellaneous Durable Goods Merchant Wholesalers', 1), ('Grocery Stores', 1), ('Commercial Photography', 1), ('Book Stores', 1), ('Sugarcane Mills', 1), ('Vegetable and Melon Farming', 1), ('Insurance Carriers and Related Activities', 1), ('Health and Personal Care Stores', 1), ('Cut Stock, Resawing Lumber, and Planing', 1), ('Public Finance Activities', 1), ('Ophthalmic Goods Merchant Wholesalers', 1), ('Nonstore Retailers', 1), ('Animal Production', 1), ('Facilities Support Services', 1), ('Magnetic and Optical Recording Media Manufacturing', 1), ('Radio Broadcasting', 1), ('All Other Basic Organic Chemical Manufacturing', 1), ('Grain and Field Bean Merchant Wholesalers', 1), ('Other Nonferrous Foundries (except Die-Casting)', 1), ('All Other Grain Farming', 1), ('Roofing, Siding, and Insulation Material Merchant Wholesalers', 1), ('Support Activities for Forestry', 1), ('Hat, Cap, and Millinery Manufacturing', 1), ('Other Personal Care Services', 1), ('Construction, Mining, and Forestry Machinery and Equipment Rental and Leasing', 1), ('Flavoring Syrup and Concentrate Manufacturing', 1), ('Small Arms Manufacturing', 1), ('Other Building Finishing Contractors', 1), ('Apple Orchards', 1), (\"Administration of Veterans' Affairs\", 1), ('Metal and Mineral (except Petroleum) Merchant Wholesalers', 1), ('Other Building Equipment Contractors', 1), ('Frozen Specialty Food Manufacturing', 1), ('Synthetic Organic Dye and Pigment Manufacturing', 1), ('Specialty Food Stores', 1), ('Ready-Mix Concrete Manufacturing', 1), ('Wood Container and Pallet Manufacturing', 1), ('Lighting Fixture Manufacturing', 1), ('Lessors of Other Real Estate Property', 1), ('Other Tobacco Product Manufacturing', 1), (\"Women's Footwear (except Athletic) Manufacturing\", 1), ('Electron Tube Manufacturing', 1), ('Taxi and Limousine Service', 1), ('Sawmill and Woodworking Machinery Manufacturing', 1), ('Diagnostic Imaging Centers', 1), ('Sheer Hosiery Mills', 1), ('Curtain and Drapery Mills', 1), ('Offices of Other Health Practitioners', 1), ('Passenger Car Rental', 1), ('Electronic Resistor Manufacturing', 1), ('Paint, Coating, and Adhesive Manufacturing', 1), ('Beef Cattle Ranching and Farming', 1), ('All Other Traveler Accommodation', 1), (\"Administration of Human Resource Programs (except Education, Public Health, and Veterans' Affairs Programs)\", 1), ('Professional and Management Development Training', 1), ('Siding Contractors', 1), ('Pottery, Ceramics, and Plumbing Fixture Manufacturing', 1), ('Other Automotive Mechanical and Electrical Repair and Maintenance', 1), ('Hardware Stores', 1), ('Local Messengers and Local Delivery', 1), ('Nonchocolate Confectionery Manufacturing', 1), ('Paper Bag and Coated and Treated Paper Manufacturing', 1), ('Electronic Coil, Transformer, and Other Inductor Manufacturing', 1), ('Arts, Entertainment, and Recreation', 1), ('Confectionery Manufacturing from Purchased Chocolate', 1), ('Real Estate', 1), ('Primary Smelting and Refining of Nonferrous Metal (except Copper and Aluminum)', 1), ('All Other Health and Personal Care Stores', 1), ('Miscellaneous Store Retailers', 1), ('Air and Gas Compressor Manufacturing', 1), ('Individual and Family Services', 1), ('Warm Air Heating and Air-Conditioning Equipment and Supplies Merchant Wholesalers', 1), ('Business, Professional, Labor, Political, and Similar Organizations', 1), ('Other Animal Food Manufacturing', 1), ('Administration of Human Resource Programs', 1), (\"Men's and Boys' Cut and Sew Work Clothing Manufacturing\", 1), ('Ball and Roller Bearing Manufacturing', 1), ('Cut Stone and Stone Product Manufacturing', 1), ('Other Spectator Sports', 1), ('Metal Coating, Engraving (except Jewelry and Silverware), and Allied Services to Manufacturers', 1), ('Wholesale Electronic Markets and Agents and Brokers', 1), ('Apparel Knitting Mills', 1), ('All Other Miscellaneous Crop Farming', 1), ('Refrigeration Equipment and Supplies Merchant Wholesalers', 1), ('Utility System Construction', 1), ('Executive Offices', 1), ('Manifold Business Forms Printing', 1), ('Furniture and Home Furnishings Stores', 1), ('Other Plastics Product Manufacturing', 1), ('Manufactured Home (Mobile Home) Manufacturing', 1)] \n",
      "\n",
      "us_economic_sector [('IT', 5384), ('Other Economic Sector', 2397), ('Advanced Mfg', 2385), ('Educational Services', 1398), ('Finance', 1395), ('Health Care', 1188), ('Aerospace', 585), ('Retail', 495), ('Hospitality', 334), ('Construction', 272), ('Energy', 190), ('Transportation', 175), ('Automotive', 174), ('Biotechnology', 60), ('Agribusiness', 45), ('Geospatial', 19), ('Homeland Security', 7)] \n",
      "\n",
      "wage_offer_unit_of_pay_9089 [('yr', 15938), ('hr', 524), ('wk', 19), ('mth', 17), ('bi', 5)] \n",
      "\n",
      "case_status [('Certified', 9639), ('Certified-Expired', 3924), ('Denied', 1882), ('Withdrawn', 1058)]"
     ]
    }
   ],
   "source": [
    "visa_rdd_cat = (\n",
    "    visa_clean\n",
    "    .select(cols_cat + ['case_status']) # bring column label back in\n",
    "    .rdd\n",
    "    .map(lambda row: [e for e in row])\n",
    ")\n",
    "\n",
    "#Create an empty dictionary\n",
    "visa_results_cat = {}\n",
    "\n",
    "for i, col in enumerate(cols_cat + ['case_status']):\n",
    "    visa_results_cat[col] = (\n",
    "        visa_rdd_cat\n",
    "        .groupBy(lambda row: row[i]) #group by distinct values in column i\n",
    "        .map(lambda el: (el[0], len(el[1]))) #map to (category name, count)\n",
    "        .collect()\n",
    "    )\n",
    "    \n",
    "#print the results\n",
    "for k in visa_results_cat:\n",
    "    print(\n",
    "        k #column name, dictionary key\n",
    "        , sorted( #sort by frequency of each category, descending\n",
    "            visa_results_cat[k] #print results\n",
    "            , key=lambda el: el[1] #use frequency for sorting\n",
    "            , reverse=True)\n",
    "        , '\\n')"
   ]
  },
  {
   "cell_type": "markdown",
   "metadata": {},
   "source": [
    "<h3> Statistical Testing"
   ]
  },
  {
   "cell_type": "markdown",
   "metadata": {},
   "source": [
    "We will now try to analyze the relationships between \"case_status\" to \"country_of_citzenship\" and \"us_economic_sector\". Based on our findings, we hope to see if there is a strong relationship of being 'Certified', 'Certified-Expired', 'Denied', or 'Withdrawn' based on these variables"
   ]
  },
  {
   "cell_type": "markdown",
   "metadata": {},
   "source": [
    "Group by country of citizenship and show the case status based on highest amount of certified. We must drop the null values in order to proceed with our chi-square analysis"
   ]
  },
  {
   "cell_type": "code",
   "execution_count": 18,
   "metadata": {},
   "outputs": [
    {
     "data": {
      "application/vnd.jupyter.widget-view+json": {
       "model_id": "67173bba4f1140c0b11b7cf2add6e046",
       "version_major": 2,
       "version_minor": 0
      },
      "text/plain": [
       "VBox()"
      ]
     },
     "metadata": {},
     "output_type": "display_data"
    },
    {
     "data": {
      "application/vnd.jupyter.widget-view+json": {
       "model_id": "",
       "version_major": 2,
       "version_minor": 0
      },
      "text/plain": [
       "FloatProgress(value=0.0, bar_style='info', description='Progress:', layout=Layout(height='25px', width='50%'),…"
      ]
     },
     "metadata": {},
     "output_type": "display_data"
    },
    {
     "name": "stdout",
     "output_type": "stream",
     "text": [
      "+---------------------+---------+-----------------+------+---------+\n",
      "|country_of_citzenship|Certified|Certified-Expired|Denied|Withdrawn|\n",
      "+---------------------+---------+-----------------+------+---------+\n",
      "|                INDIA|     4798|             2012|   685|      562|\n",
      "|               CANADA|      586|              228|    69|       42|\n",
      "|                CHINA|      565|              242|    68|       47|\n",
      "|          SOUTH KOREA|      510|              194|   169|       77|\n",
      "|          PHILIPPINES|      292|               95|   114|       42|\n",
      "|               MEXICO|      227|               69|   137|       23|\n",
      "|       UNITED KINGDOM|      169|               66|    38|       20|\n",
      "|               TAIWAN|      139|               73|    23|       17|\n",
      "|             PAKISTAN|      136|               52|    37|       12|\n",
      "|                JAPAN|      123|               37|    34|        9|\n",
      "|               TURKEY|      115|               41|    31|        8|\n",
      "|               BRAZIL|       92|               35|    21|        8|\n",
      "|              GERMANY|       90|               45|    10|        9|\n",
      "|               FRANCE|       83|               41|    19|        9|\n",
      "|            VENEZUELA|       74|               35|    14|        8|\n",
      "|                NEPAL|       74|               39|    22|        7|\n",
      "|             COLOMBIA|       70|               31|    24|        6|\n",
      "|               ISRAEL|       61|               27|     6|        8|\n",
      "|               RUSSIA|       60|               31|    10|        5|\n",
      "|                ITALY|       58|               12|    14|        1|\n",
      "+---------------------+---------+-----------------+------+---------+\n",
      "only showing top 20 rows"
     ]
    }
   ],
   "source": [
    "visa_country = (\n",
    "    visa_clean\n",
    "    .groupby('country_of_citzenship')\n",
    "    .pivot('case_status')\n",
    "    .count()\n",
    "    .orderBy('Certified', ascending=False)\n",
    "    .dropna()\n",
    ")\n",
    "visa_country.show()"
   ]
  },
  {
   "cell_type": "markdown",
   "metadata": {},
   "source": [
    "Group by economic sector and show the case status based on highest amount of certified. We must drop the null values in order to proceed with our chi-square analysis"
   ]
  },
  {
   "cell_type": "code",
   "execution_count": 19,
   "metadata": {},
   "outputs": [
    {
     "data": {
      "application/vnd.jupyter.widget-view+json": {
       "model_id": "942b21e0972749bfa978c4e5cc9c14cd",
       "version_major": 2,
       "version_minor": 0
      },
      "text/plain": [
       "VBox()"
      ]
     },
     "metadata": {},
     "output_type": "display_data"
    },
    {
     "data": {
      "application/vnd.jupyter.widget-view+json": {
       "model_id": "",
       "version_major": 2,
       "version_minor": 0
      },
      "text/plain": [
       "FloatProgress(value=0.0, bar_style='info', description='Progress:', layout=Layout(height='25px', width='50%'),…"
      ]
     },
     "metadata": {},
     "output_type": "display_data"
    },
    {
     "name": "stdout",
     "output_type": "stream",
     "text": [
      "+--------------------+---------+-----------------+------+---------+\n",
      "|  us_economic_sector|Certified|Certified-Expired|Denied|Withdrawn|\n",
      "+--------------------+---------+-----------------+------+---------+\n",
      "|                  IT|     2944|             1423|   569|      448|\n",
      "|        Advanced Mfg|     1477|              566|   231|      111|\n",
      "|Other Economic Se...|     1402|              545|   320|      130|\n",
      "|             Finance|      917|              326|    70|       82|\n",
      "|Educational Services|      864|              310|   147|       77|\n",
      "|         Health Care|      718|              248|   145|       77|\n",
      "|           Aerospace|      361|              146|    48|       30|\n",
      "|              Retail|      287|              113|    74|       21|\n",
      "|         Hospitality|      163|               37|   111|       23|\n",
      "|              Energy|      129|               48|     7|        6|\n",
      "|        Construction|      114|               49|    87|       22|\n",
      "|          Automotive|      106|               38|    22|        8|\n",
      "|      Transportation|       93|               44|    25|       13|\n",
      "|       Biotechnology|       38|               18|     2|        2|\n",
      "|        Agribusiness|       15|                7|    16|        7|\n",
      "|          Geospatial|       10|                3|     5|        1|\n",
      "+--------------------+---------+-----------------+------+---------+"
     ]
    }
   ],
   "source": [
    "visa_sector = (\n",
    "    visa_clean\n",
    "    .groupby('us_economic_sector')\n",
    "    .pivot('case_status')\n",
    "    .count()\n",
    "    .orderBy('Certified', ascending=False)\n",
    "    .dropna()\n",
    ")\n",
    "visa_sector.show()"
   ]
  },
  {
   "cell_type": "markdown",
   "metadata": {},
   "source": [
    "We will now flatmap the data to assist us in further analysis. We have also dropped the null values that are present due to some 'country_of_citzenship' and 'us_economic_sector' not providing actions for those types of 'case_status'. In some examples, a smaller country may not deny or withdraw the visa and in smaller job sectors, we may not see the same case as seen above in \"Homeland Security\" having no \"Withdrawn\" visas."
   ]
  },
  {
   "cell_type": "code",
   "execution_count": null,
   "metadata": {},
   "outputs": [],
   "source": []
  },
  {
   "cell_type": "code",
   "execution_count": 20,
   "metadata": {},
   "outputs": [
    {
     "data": {
      "application/vnd.jupyter.widget-view+json": {
       "model_id": "67f85183f03541d48b0a31fa28730ebd",
       "version_major": 2,
       "version_minor": 0
      },
      "text/plain": [
       "VBox()"
      ]
     },
     "metadata": {},
     "output_type": "display_data"
    },
    {
     "data": {
      "application/vnd.jupyter.widget-view+json": {
       "model_id": "",
       "version_major": 2,
       "version_minor": 0
      },
      "text/plain": [
       "FloatProgress(value=0.0, bar_style='info', description='Progress:', layout=Layout(height='25px', width='50%'),…"
      ]
     },
     "metadata": {},
     "output_type": "display_data"
    },
    {
     "name": "stdout",
     "output_type": "stream",
     "text": [
      "[4798, 2012, 685, 562, 586, 228, 69, 42, 565, 242, 68, 47, 510, 194, 169, 77, 292, 95, 114, 42, 227, 69, 137, 23, 169, 66, 38, 20, 139, 73, 23, 17, 136, 52, 37, 12, 123, 37, 34, 9, 115, 41, 31, 8, 92, 35, 21, 8, 90, 45, 10, 9, 83, 41, 19, 9, 74, 39, 22, 7, 74, 35, 14, 8, 70, 31, 24, 6, 61, 27, 6, 8, 60, 31, 10, 5, 58, 12, 14, 1, 50, 19, 9, 1, 47, 19, 3, 4, 46, 23, 7, 1, 43, 16, 11, 1, 40, 15, 23, 8, 39, 7, 5, 1, 39, 11, 3, 2, 37, 12, 5, 3, 37, 16, 13, 3, 35, 12, 11, 5, 34, 11, 6, 8, 30, 10, 3, 2, 30, 20, 4, 1, 29, 16, 6, 1, 29, 19, 8, 3, 28, 7, 1, 4, 28, 6, 33, 8, 27, 9, 6, 3, 26, 8, 2, 3, 25, 12, 5, 5, 25, 14, 1, 2, 24, 10, 2, 5, 24, 12, 9, 2, 24, 14, 13, 3, 23, 9, 4, 1, 22, 13, 8, 4, 21, 8, 6, 3, 19, 5, 8, 2, 17, 4, 5, 1, 15, 3, 2, 3, 15, 4, 2, 1, 13, 2, 1, 2, 13, 8, 2, 5, 13, 3, 10, 6, 12, 2, 1, 2, 10, 5, 14, 2, 8, 2, 1, 2, 6, 1, 3, 1, 6, 3, 1, 1, 5, 1, 2, 2, 4, 2, 4, 1, 4, 1, 2, 1, 4, 1, 1, 1, 4, 4, 7, 1, 4, 1, 1, 1, 3, 1, 1, 1, 3, 1, 1, 1]"
     ]
    }
   ],
   "source": [
    "#Flatmap for Country of Citizenship\n",
    "visa_country_chi = (\n",
    "    visa_country\n",
    "    .rdd\n",
    "    .map(lambda row: (row[1:]))\n",
    "    .flatMap(lambda row: row)\n",
    "    .collect()\n",
    ")\n",
    "\n",
    "visa_country_chi"
   ]
  },
  {
   "cell_type": "code",
   "execution_count": 21,
   "metadata": {},
   "outputs": [
    {
     "data": {
      "application/vnd.jupyter.widget-view+json": {
       "model_id": "b28acc46d48147b3bfed0b6755824716",
       "version_major": 2,
       "version_minor": 0
      },
      "text/plain": [
       "VBox()"
      ]
     },
     "metadata": {},
     "output_type": "display_data"
    },
    {
     "data": {
      "application/vnd.jupyter.widget-view+json": {
       "model_id": "",
       "version_major": 2,
       "version_minor": 0
      },
      "text/plain": [
       "FloatProgress(value=0.0, bar_style='info', description='Progress:', layout=Layout(height='25px', width='50%'),…"
      ]
     },
     "metadata": {},
     "output_type": "display_data"
    },
    {
     "name": "stdout",
     "output_type": "stream",
     "text": [
      "[2944, 1423, 569, 448, 1477, 566, 231, 111, 1402, 545, 320, 130, 917, 326, 70, 82, 864, 310, 147, 77, 718, 248, 145, 77, 361, 146, 48, 30, 287, 113, 74, 21, 163, 37, 111, 23, 129, 48, 7, 6, 114, 49, 87, 22, 106, 38, 22, 8, 93, 44, 25, 13, 38, 18, 2, 2, 15, 7, 16, 7, 10, 3, 5, 1]"
     ]
    }
   ],
   "source": [
    "#Flatmap for US Economic Sector\n",
    "visa_sector_chi = (\n",
    "    visa_sector\n",
    "    .rdd\n",
    "    .map(lambda row: (row[1:]))\n",
    "    .flatMap(lambda row: row)\n",
    "    .collect()\n",
    ")\n",
    "\n",
    "visa_sector_chi"
   ]
  },
  {
   "cell_type": "markdown",
   "metadata": {},
   "source": [
    "We will now create a DenseMatrix that will be used for our chi-square tests"
   ]
  },
  {
   "cell_type": "code",
   "execution_count": 22,
   "metadata": {},
   "outputs": [
    {
     "data": {
      "application/vnd.jupyter.widget-view+json": {
       "model_id": "23100ebba04944e8b21b63231f15a1dd",
       "version_major": 2,
       "version_minor": 0
      },
      "text/plain": [
       "VBox()"
      ]
     },
     "metadata": {},
     "output_type": "display_data"
    },
    {
     "data": {
      "application/vnd.jupyter.widget-view+json": {
       "model_id": "",
       "version_major": 2,
       "version_minor": 0
      },
      "text/plain": [
       "FloatProgress(value=0.0, bar_style='info', description='Progress:', layout=Layout(height='25px', width='50%'),…"
      ]
     },
     "metadata": {},
     "output_type": "display_data"
    },
    {
     "name": "stdout",
     "output_type": "stream",
     "text": [
      "(DenseMatrix(67, 4, [4798.0, 2012.0, 685.0, 562.0, 586.0, 228.0, 69.0, 42.0, ..., 3.0, 1.0, 1.0, 1.0, 3.0, 1.0, 1.0, 1.0], True), DenseMatrix(16, 4, [2944.0, 1423.0, 569.0, 448.0, 1477.0, 566.0, 231.0, 111.0, ..., 15.0, 7.0, 16.0, 7.0, 10.0, 3.0, 5.0, 1.0], True))"
     ]
    }
   ],
   "source": [
    "import pyspark.mllib.linalg as ln\n",
    "len_row_country = len(visa_country.collect())\n",
    "len_row_sector = len(visa_sector.collect())\n",
    "dense_mat_country = ln.DenseMatrix( #parameters: int numRows, int numCols, double[] values, boolean isTransposed\n",
    "    len_row_country\n",
    "    , 4\n",
    "    , visa_country_chi\n",
    "    , True\n",
    ")\n",
    "dense_mat_sector = ln.DenseMatrix( #parameters: int numRows, int numCols, double[] values, boolean isTransposed\n",
    "    len_row_sector\n",
    "    , 4\n",
    "    , visa_sector_chi\n",
    "    , True\n",
    ")\n",
    "dense_mat_country, dense_mat_sector"
   ]
  },
  {
   "cell_type": "markdown",
   "metadata": {},
   "source": [
    "<h3> Chi-Square Tests"
   ]
  },
  {
   "cell_type": "code",
   "execution_count": 23,
   "metadata": {},
   "outputs": [
    {
     "data": {
      "application/vnd.jupyter.widget-view+json": {
       "model_id": "ec640a05128c4f1886b0a10360fccea2",
       "version_major": 2,
       "version_minor": 0
      },
      "text/plain": [
       "VBox()"
      ]
     },
     "metadata": {},
     "output_type": "display_data"
    },
    {
     "data": {
      "application/vnd.jupyter.widget-view+json": {
       "model_id": "",
       "version_major": 2,
       "version_minor": 0
      },
      "text/plain": [
       "FloatProgress(value=0.0, bar_style='info', description='Progress:', layout=Layout(height='25px', width='50%'),…"
      ]
     },
     "metadata": {},
     "output_type": "display_data"
    },
    {
     "name": "stdout",
     "output_type": "stream",
     "text": [
      "Chi-Square test for Country of Citizenship\n",
      "0.0\n",
      "the occurrence of the outcomes is statistically independent."
     ]
    }
   ],
   "source": [
    "chi_sq_country = st.Statistics.chiSqTest(dense_mat_country)\n",
    "\n",
    "print(\"Chi-Square test for Country of Citizenship\")\n",
    "print(chi_sq_country.pValue) #check p-value, p < 0.05 means we can reject the null hypothesis\n",
    "print(chi_sq_country.nullHypothesis) #check the null hypothesis"
   ]
  },
  {
   "cell_type": "markdown",
   "metadata": {},
   "source": [
    "pValue is 0.0, so <b>we can reject the null hypothesis</b>. This states the\n",
    "distribution of Country of Citizenship between those that are Certified, Certified-Expired, Denied, and Withdrawn is the same. Therefore, we can conclude that the observed outcome would show evidence that the variables are associated and that the occurrence of the outcomes of 'case_status' is statistically independent and Country of Citizenship should be a strong indicator for those who get Certified, Certified-Expired, Denied, and Withdrawn"
   ]
  },
  {
   "cell_type": "code",
   "execution_count": 24,
   "metadata": {},
   "outputs": [
    {
     "data": {
      "application/vnd.jupyter.widget-view+json": {
       "model_id": "2082dbaf0d904a118c2e7580eb2075e5",
       "version_major": 2,
       "version_minor": 0
      },
      "text/plain": [
       "VBox()"
      ]
     },
     "metadata": {},
     "output_type": "display_data"
    },
    {
     "data": {
      "application/vnd.jupyter.widget-view+json": {
       "model_id": "",
       "version_major": 2,
       "version_minor": 0
      },
      "text/plain": [
       "FloatProgress(value=0.0, bar_style='info', description='Progress:', layout=Layout(height='25px', width='50%'),…"
      ]
     },
     "metadata": {},
     "output_type": "display_data"
    },
    {
     "name": "stdout",
     "output_type": "stream",
     "text": [
      "Chi-Square test for US Economic Sector or Job Role\n",
      "0.0\n",
      "the occurrence of the outcomes is statistically independent."
     ]
    }
   ],
   "source": [
    "chi_sq_sector = st.Statistics.chiSqTest(dense_mat_sector)\n",
    "print(\"Chi-Square test for US Economic Sector or Job Role\")\n",
    "print(chi_sq_sector.pValue) #check p-value, p < 0.05 means we can reject the null hypothesis\n",
    "print(chi_sq_sector.nullHypothesis) #check the null hypothesis"
   ]
  },
  {
   "cell_type": "markdown",
   "metadata": {},
   "source": [
    "<p>pValue is 0.0, so <b>we can reject the null hypothesis</b>. This states the\n",
    "distribution of US Economic Sector between those that are Certified, Certified-Expired, Denied, and Withdrawn is the same. Therefore, we can conclude that the observed outcome would show evidence that the variables are associated and that the occurrence of the outcomes of 'case_status' is statistically independent and Us Economic Sector should be a strong indicator for those who get Certified, Certified-Expired, Denied, and Withdrawn"
   ]
  },
  {
   "cell_type": "markdown",
   "metadata": {},
   "source": [
    "<h3> Handling different types of numbers"
   ]
  },
  {
   "cell_type": "markdown",
   "metadata": {},
   "source": [
    "In order for us to do descriptive statistics for \"wage_offer_from_9089\", we must separate dollar amount by unit of pay. We filter \"wage_offer_unit_of_pay_9089\" to separate 'yr', 'hr', 'wk', 'mth', and 'bi'. Based on our findings, we found the 'wage_offer_from_9089' column had values of wages for different types of methods of pay. Because we will not be able to analyze the data accurately, we will separate these different types of wages."
   ]
  },
  {
   "cell_type": "code",
   "execution_count": 25,
   "metadata": {},
   "outputs": [
    {
     "data": {
      "application/vnd.jupyter.widget-view+json": {
       "model_id": "b0a18639a0924d3f9d7e55c216271039",
       "version_major": 2,
       "version_minor": 0
      },
      "text/plain": [
       "VBox()"
      ]
     },
     "metadata": {},
     "output_type": "display_data"
    },
    {
     "data": {
      "application/vnd.jupyter.widget-view+json": {
       "model_id": "",
       "version_major": 2,
       "version_minor": 0
      },
      "text/plain": [
       "FloatProgress(value=0.0, bar_style='info', description='Progress:', layout=Layout(height='25px', width='50%'),…"
      ]
     },
     "metadata": {},
     "output_type": "display_data"
    },
    {
     "name": "stdout",
     "output_type": "stream",
     "text": [
      "+--------------------+\n",
      "|wage_offer_from_9089|\n",
      "+--------------------+\n",
      "|            110000.0|\n",
      "|            121400.0|\n",
      "|             60000.0|\n",
      "|             61260.0|\n",
      "|             91000.0|\n",
      "|             18000.0|\n",
      "|            116438.0|\n",
      "|             61214.0|\n",
      "|            105373.0|\n",
      "|            101000.0|\n",
      "|            101090.0|\n",
      "|             70000.0|\n",
      "|             50000.0|\n",
      "|             30160.0|\n",
      "|             68349.0|\n",
      "|             85551.0|\n",
      "|             80850.0|\n",
      "|            112000.0|\n",
      "|             64792.0|\n",
      "|            350000.0|\n",
      "+--------------------+\n",
      "only showing top 20 rows\n",
      "\n",
      "+--------------------+\n",
      "|wage_offer_from_9089|\n",
      "+--------------------+\n",
      "|               10.16|\n",
      "|                25.0|\n",
      "|                80.0|\n",
      "|               12.35|\n",
      "|               13.56|\n",
      "|                80.0|\n",
      "|                34.0|\n",
      "|               12.21|\n",
      "|                80.0|\n",
      "|                65.0|\n",
      "|                 8.0|\n",
      "|               19.31|\n",
      "|               12.18|\n",
      "|               15.81|\n",
      "|                81.0|\n",
      "|                26.0|\n",
      "|                64.0|\n",
      "|               33.35|\n",
      "|               22.42|\n",
      "|               45.49|\n",
      "+--------------------+\n",
      "only showing top 20 rows\n",
      "\n",
      "+--------------------+\n",
      "|wage_offer_from_9089|\n",
      "+--------------------+\n",
      "|              1114.7|\n",
      "|               940.0|\n",
      "|             1730.77|\n",
      "|              2189.0|\n",
      "|              2540.0|\n",
      "|            110240.0|\n",
      "|            103030.0|\n",
      "|            224000.0|\n",
      "|             1574.29|\n",
      "|               908.8|\n",
      "|               900.0|\n",
      "|              1400.0|\n",
      "|              2520.0|\n",
      "|             1587.55|\n",
      "|             86000.0|\n",
      "|              1418.4|\n",
      "|             1923.07|\n",
      "|             1634.62|\n",
      "|             1826.92|\n",
      "+--------------------+\n",
      "\n",
      "+--------------------+\n",
      "|wage_offer_from_9089|\n",
      "+--------------------+\n",
      "|              8500.0|\n",
      "|              5408.0|\n",
      "|              6620.0|\n",
      "|              5537.0|\n",
      "|              2776.0|\n",
      "|              2600.0|\n",
      "|              4576.0|\n",
      "|             11389.5|\n",
      "|             16667.0|\n",
      "|              7200.0|\n",
      "|              6700.0|\n",
      "|              4986.0|\n",
      "|             3882.21|\n",
      "|             4005.55|\n",
      "|             7366.67|\n",
      "|              4944.0|\n",
      "|              4800.0|\n",
      "+--------------------+\n",
      "\n",
      "+--------------------+\n",
      "|wage_offer_from_9089|\n",
      "+--------------------+\n",
      "|              2134.5|\n",
      "|              1360.0|\n",
      "|              2000.0|\n",
      "|              1033.6|\n",
      "|              1200.0|\n",
      "+--------------------+\n",
      "\n",
      "(None, None, None, None, None)"
     ]
    }
   ],
   "source": [
    "wage_yr = (\n",
    "    visa_clean\n",
    "    .filter(visa_clean.wage_offer_unit_of_pay_9089 == 'yr')\n",
    "    .select('wage_offer_from_9089')\n",
    "\n",
    ")\n",
    "\n",
    "wage_hr = (\n",
    "    visa_clean\n",
    "    .filter(visa_clean.wage_offer_unit_of_pay_9089 == 'hr')\n",
    "    .select('wage_offer_from_9089')\n",
    ")\n",
    "\n",
    "wage_wk = (\n",
    "    visa_clean\n",
    "    .filter(visa_clean.wage_offer_unit_of_pay_9089 == 'wk')\n",
    "    .select('wage_offer_from_9089')\n",
    ")\n",
    "\n",
    "wage_mth = (\n",
    "    visa_clean\n",
    "    .filter(visa_clean.wage_offer_unit_of_pay_9089 == 'mth')\n",
    "    .select('wage_offer_from_9089')\n",
    ")\n",
    "\n",
    "wage_bi = (\n",
    "    visa_clean\n",
    "    .filter(visa_clean.wage_offer_unit_of_pay_9089 == 'bi')\n",
    "    .select('wage_offer_from_9089')\n",
    ")\n",
    "wage_yr.show(), wage_hr.show(), wage_wk.show(), wage_mth.show(), wage_bi.show()"
   ]
  },
  {
   "cell_type": "code",
   "execution_count": 27,
   "metadata": {},
   "outputs": [
    {
     "data": {
      "application/vnd.jupyter.widget-view+json": {
       "model_id": "04f1a8cfda514658b6cc7ba5ccccd7c9",
       "version_major": 2,
       "version_minor": 0
      },
      "text/plain": [
       "VBox()"
      ]
     },
     "metadata": {},
     "output_type": "display_data"
    },
    {
     "data": {
      "application/vnd.jupyter.widget-view+json": {
       "model_id": "",
       "version_major": 2,
       "version_minor": 0
      },
      "text/plain": [
       "FloatProgress(value=0.0, bar_style='info', description='Progress:', layout=Layout(height='25px', width='50%'),…"
      ]
     },
     "metadata": {},
     "output_type": "display_data"
    },
    {
     "name": "stdout",
     "output_type": "stream",
     "text": [
      "\"features = ['wage_offer_from_9089']\\nquantiles = [0.25, 0.75]\\n\\ncut_off_points = []\\n\\n#getting Q1 and Q3\\n#The third parameter, set to 0.05, is relative target precision to achieve (>= 0).\\n#If set to zero, the exact quantiles are computed, which could be very expensive. \\nfor feature in features:\\n    quants_yr = wage_yr.approxQuantile(feature, quantiles, 0.05)\\n    quants_hr = wage_hr.approxQuantile(feature, quantiles, 0.05)\\n    quants_wk = wage_wk.approxQuantile(feature, quantiles, 0.05)\\n    quants_mth = wage_mth.approxQuantile(feature, quantiles, 0.05)\\n    quants_bi = wage_bi.approxQuantile(feature, quantiles, 0.05)\\n    print(feature, quants_yr)\\n    print(feature, quants_hr)\\n    print(feature, quants_wk)\\n    print(feature, quants_mth)\\n    print(feature, quants_bi)\\n    IQR_yr = quants_yr[1] - quants_yr[0]\\n    cut_off_points.append((feature, [\\n        quants_yr[0] - 1.5 * IQR_yr,\\n        quants_yr[1] + 1.5 * IQR_yr,\\n    ]))\\n    IQR_hr = quants_hr[1] - quants_hr[0]\\n    cut_off_points.append((feature, [\\n        quants_hr[0] - 1.5 * IQR_hr,\\n        quants_hr[1] + 1.5 * IQR_hr,\\n    ]))\\n    IQR_wk = quants_wk[1] - quants_wk[0]\\n    cut_off_points.append((feature, [\\n        quants_wk[0] - 1.5 * IQR_wk,\\n        quants_wk[1] + 1.5 * IQR_wk,\\n    ]))\\n    IQR_mth = quants_mth[1] - quants_mth[0]\\n    cut_off_points.append((feature, [\\n        quants_mth[0] - 1.5 * IQR_mth,\\n        quants_mth[1] + 1.5 * IQR_mth,\\n    ]))\\n    IQR_bi = quants_bi[1] - quants_bi[0]\\n    cut_off_points.append((feature, [\\n        quants_bi[0] - 1.5 * IQR_bi,\\n        quants_bi[1] + 1.5 * IQR_bi,\\n    ]))\\n\\ncut_off_points = dict(cut_off_points)\\n\\noutliers_yr = wage_yr.select(*['wage_offer_from_9089'] + [\\n       (\\n           (wage_yr[F] < cut_off_points[F][0]) |\\n           (wage_yr[F] > cut_off_points[F][1])\\n       ).alias(F + '_o') for F in features\\n  ])\\noutliers_hr = wage_hr.select(*['wage_offer_from_9089'] + [\\n       (\\n           (wage_hr[F] < cut_off_points[F][0]) |\\n           (wage_hr[F] > cut_off_points[F][1])\\n       ).alias(F + '_o') for F in features\\n  ])\\noutliers_wk = wage_wk.select(*['wage_offer_from_9089'] + [\\n       (\\n           (wage_wk[F] < cut_off_points[F][0]) |\\n           (wage_wk[F] > cut_off_points[F][1])\\n       ).alias(F + '_o') for F in features\\n  ])\\noutliers_mth = wage_mth.select(*['wage_offer_from_9089'] + [\\n       (\\n           (wage_mth[F] < cut_off_points[F][0]) |\\n           (wage_mth[F] > cut_off_points[F][1])\\n       ).alias(F + '_o') for F in features\\n  ])\\noutliers_bi = wage_bi.select(*['wage_offer_from_9089'] + [\\n       (\\n           (wage_bi[F] < cut_off_points[F][0]) |\\n           (wage_bi[F] > cut_off_points[F][1])\\n       ).alias(F + '_o') for F in features\\n  ])\\noutliers_yr.show(),outliers_hr.show(),outliers_wk.show(),outliers_mth.show(),outliers_bi.show()\""
     ]
    }
   ],
   "source": [
    "'''features = ['wage_offer_from_9089']\n",
    "quantiles = [0.25, 0.75]\n",
    "\n",
    "cut_off_points = []\n",
    "\n",
    "#getting Q1 and Q3\n",
    "#The third parameter, set to 0.05, is relative target precision to achieve (>= 0).\n",
    "#If set to zero, the exact quantiles are computed, which could be very expensive. \n",
    "for feature in features:\n",
    "    quants_yr = wage_yr.approxQuantile(feature, quantiles, 0.05)\n",
    "    quants_hr = wage_hr.approxQuantile(feature, quantiles, 0.05)\n",
    "    quants_wk = wage_wk.approxQuantile(feature, quantiles, 0.05)\n",
    "    quants_mth = wage_mth.approxQuantile(feature, quantiles, 0.05)\n",
    "    quants_bi = wage_bi.approxQuantile(feature, quantiles, 0.05)\n",
    "    print(feature, quants_yr)\n",
    "    print(feature, quants_hr)\n",
    "    print(feature, quants_wk)\n",
    "    print(feature, quants_mth)\n",
    "    print(feature, quants_bi)\n",
    "    IQR_yr = quants_yr[1] - quants_yr[0]\n",
    "    cut_off_points.append((feature, [\n",
    "        quants_yr[0] - 1.5 * IQR_yr,\n",
    "        quants_yr[1] + 1.5 * IQR_yr,\n",
    "    ]))\n",
    "    IQR_hr = quants_hr[1] - quants_hr[0]\n",
    "    cut_off_points.append((feature, [\n",
    "        quants_hr[0] - 1.5 * IQR_hr,\n",
    "        quants_hr[1] + 1.5 * IQR_hr,\n",
    "    ]))\n",
    "    IQR_wk = quants_wk[1] - quants_wk[0]\n",
    "    cut_off_points.append((feature, [\n",
    "        quants_wk[0] - 1.5 * IQR_wk,\n",
    "        quants_wk[1] + 1.5 * IQR_wk,\n",
    "    ]))\n",
    "    IQR_mth = quants_mth[1] - quants_mth[0]\n",
    "    cut_off_points.append((feature, [\n",
    "        quants_mth[0] - 1.5 * IQR_mth,\n",
    "        quants_mth[1] + 1.5 * IQR_mth,\n",
    "    ]))\n",
    "    IQR_bi = quants_bi[1] - quants_bi[0]\n",
    "    cut_off_points.append((feature, [\n",
    "        quants_bi[0] - 1.5 * IQR_bi,\n",
    "        quants_bi[1] + 1.5 * IQR_bi,\n",
    "    ]))\n",
    "\n",
    "cut_off_points = dict(cut_off_points)\n",
    "\n",
    "outliers_yr = wage_yr.select(*['wage_offer_from_9089'] + [\n",
    "       (\n",
    "           (wage_yr[F] < cut_off_points[F][0]) |\n",
    "           (wage_yr[F] > cut_off_points[F][1])\n",
    "       ).alias(F + '_o') for F in features\n",
    "  ])\n",
    "outliers_hr = wage_hr.select(*['wage_offer_from_9089'] + [\n",
    "       (\n",
    "           (wage_hr[F] < cut_off_points[F][0]) |\n",
    "           (wage_hr[F] > cut_off_points[F][1])\n",
    "       ).alias(F + '_o') for F in features\n",
    "  ])\n",
    "outliers_wk = wage_wk.select(*['wage_offer_from_9089'] + [\n",
    "       (\n",
    "           (wage_wk[F] < cut_off_points[F][0]) |\n",
    "           (wage_wk[F] > cut_off_points[F][1])\n",
    "       ).alias(F + '_o') for F in features\n",
    "  ])\n",
    "outliers_mth = wage_mth.select(*['wage_offer_from_9089'] + [\n",
    "       (\n",
    "           (wage_mth[F] < cut_off_points[F][0]) |\n",
    "           (wage_mth[F] > cut_off_points[F][1])\n",
    "       ).alias(F + '_o') for F in features\n",
    "  ])\n",
    "outliers_bi = wage_bi.select(*['wage_offer_from_9089'] + [\n",
    "       (\n",
    "           (wage_bi[F] < cut_off_points[F][0]) |\n",
    "           (wage_bi[F] > cut_off_points[F][1])\n",
    "       ).alias(F + '_o') for F in features\n",
    "  ])\n",
    "outliers_yr.show(),outliers_hr.show(),outliers_wk.show(),outliers_mth.show(),outliers_bi.show()'''"
   ]
  },
  {
   "cell_type": "markdown",
   "metadata": {},
   "source": [
    "<h3> Handling outliers"
   ]
  },
  {
   "cell_type": "markdown",
   "metadata": {},
   "source": [
    "In order for us to create accurate histograms for our only numerical column, we will have to create a function to identify the outliers then proceed to remove those outliers to give an accurate representation of our dataset via histogram. Below, we calculate the cut off points of the outliers in a for-loop of the different wage types we have. We will then create a variable for each wage type to a specific outlier variable to match them. This will help us later when we create individual histograms for each wage type."
   ]
  },
  {
   "cell_type": "code",
   "execution_count": 28,
   "metadata": {},
   "outputs": [
    {
     "data": {
      "application/vnd.jupyter.widget-view+json": {
       "model_id": "edcd38d5c24548fa8f623c207c2eebb4",
       "version_major": 2,
       "version_minor": 0
      },
      "text/plain": [
       "VBox()"
      ]
     },
     "metadata": {},
     "output_type": "display_data"
    },
    {
     "data": {
      "application/vnd.jupyter.widget-view+json": {
       "model_id": "",
       "version_major": 2,
       "version_minor": 0
      },
      "text/plain": [
       "FloatProgress(value=0.0, bar_style='info', description='Progress:', layout=Layout(height='25px', width='50%'),…"
      ]
     },
     "metadata": {},
     "output_type": "display_data"
    },
    {
     "name": "stdout",
     "output_type": "stream",
     "text": [
      "wage_offer_from_9089 [80004.0, 120000.0]\n",
      "wage_offer_from_9089 [21.88, 49.0]\n",
      "wage_offer_from_9089 [1400.0, 2540.0]\n",
      "wage_offer_from_9089 [4576.0, 7200.0]\n",
      "wage_offer_from_9089 [1200.0, 2000.0]\n",
      "+--------------------+----------------------+\n",
      "|wage_offer_from_9089|wage_offer_from_9089_o|\n",
      "+--------------------+----------------------+\n",
      "|            110000.0|                  true|\n",
      "|            121400.0|                  true|\n",
      "|             60000.0|                  true|\n",
      "|             61260.0|                  true|\n",
      "|             91000.0|                  true|\n",
      "|             18000.0|                  true|\n",
      "|            116438.0|                  true|\n",
      "|             61214.0|                  true|\n",
      "|            105373.0|                  true|\n",
      "|            101000.0|                  true|\n",
      "|            101090.0|                  true|\n",
      "|             70000.0|                  true|\n",
      "|             50000.0|                  true|\n",
      "|             30160.0|                  true|\n",
      "|             68349.0|                  true|\n",
      "|             85551.0|                  true|\n",
      "|             80850.0|                  true|\n",
      "|            112000.0|                  true|\n",
      "|             64792.0|                  true|\n",
      "|            350000.0|                  true|\n",
      "+--------------------+----------------------+\n",
      "only showing top 20 rows\n",
      "\n",
      "+--------------------+----------------------+\n",
      "|wage_offer_from_9089|wage_offer_from_9089_o|\n",
      "+--------------------+----------------------+\n",
      "|               10.16|                 false|\n",
      "|                25.0|                 false|\n",
      "|                80.0|                 false|\n",
      "|               12.35|                 false|\n",
      "|               13.56|                 false|\n",
      "|                80.0|                 false|\n",
      "|                34.0|                 false|\n",
      "|               12.21|                 false|\n",
      "|                80.0|                 false|\n",
      "|                65.0|                 false|\n",
      "|                 8.0|                 false|\n",
      "|               19.31|                 false|\n",
      "|               12.18|                 false|\n",
      "|               15.81|                 false|\n",
      "|                81.0|                 false|\n",
      "|                26.0|                 false|\n",
      "|                64.0|                 false|\n",
      "|               33.35|                 false|\n",
      "|               22.42|                 false|\n",
      "|               45.49|                 false|\n",
      "+--------------------+----------------------+\n",
      "only showing top 20 rows\n",
      "\n",
      "+--------------------+----------------------+\n",
      "|wage_offer_from_9089|wage_offer_from_9089_o|\n",
      "+--------------------+----------------------+\n",
      "|              1114.7|                 false|\n",
      "|               940.0|                 false|\n",
      "|             1730.77|                 false|\n",
      "|              2189.0|                 false|\n",
      "|              2540.0|                 false|\n",
      "|            110240.0|                  true|\n",
      "|            103030.0|                  true|\n",
      "|            224000.0|                  true|\n",
      "|             1574.29|                 false|\n",
      "|               908.8|                 false|\n",
      "|               900.0|                 false|\n",
      "|              1400.0|                 false|\n",
      "|              2520.0|                 false|\n",
      "|             1587.55|                 false|\n",
      "|             86000.0|                  true|\n",
      "|              1418.4|                 false|\n",
      "|             1923.07|                 false|\n",
      "|             1634.62|                 false|\n",
      "|             1826.92|                 false|\n",
      "+--------------------+----------------------+\n",
      "\n",
      "+--------------------+----------------------+\n",
      "|wage_offer_from_9089|wage_offer_from_9089_o|\n",
      "+--------------------+----------------------+\n",
      "|              8500.0|                  true|\n",
      "|              5408.0|                  true|\n",
      "|              6620.0|                  true|\n",
      "|              5537.0|                  true|\n",
      "|              2776.0|                 false|\n",
      "|              2600.0|                 false|\n",
      "|              4576.0|                  true|\n",
      "|             11389.5|                  true|\n",
      "|             16667.0|                  true|\n",
      "|              7200.0|                  true|\n",
      "|              6700.0|                  true|\n",
      "|              4986.0|                  true|\n",
      "|             3882.21|                  true|\n",
      "|             4005.55|                  true|\n",
      "|             7366.67|                  true|\n",
      "|              4944.0|                  true|\n",
      "|              4800.0|                  true|\n",
      "+--------------------+----------------------+\n",
      "\n",
      "+--------------------+----------------------+\n",
      "|wage_offer_from_9089|wage_offer_from_9089_o|\n",
      "+--------------------+----------------------+\n",
      "|              2134.5|                 false|\n",
      "|              1360.0|                 false|\n",
      "|              2000.0|                 false|\n",
      "|              1033.6|                 false|\n",
      "|              1200.0|                 false|\n",
      "+--------------------+----------------------+\n",
      "\n",
      "(None, None, None, None, None)"
     ]
    }
   ],
   "source": [
    "features = ['wage_offer_from_9089']\n",
    "quantiles = [0.25, 0.75]\n",
    "\n",
    "cut_off_points = []\n",
    "wage_types = [wage_yr, wage_hr, wage_wk, wage_mth, wage_bi]\n",
    "#getting Q1 and Q3\n",
    "#The third parameter, set to 0.05, is relative target precision to achieve (>= 0).\n",
    "#If set to zero, the exact quantiles are computed, which could be very expensive.\n",
    "for wages in wage_types:\n",
    "    for feature in features:\n",
    "        quants = wages.approxQuantile(feature, quantiles, 0.05)\n",
    "        print(feature, quants)\n",
    "        IQR = quants[1] - quants[0]\n",
    "        cut_off_points.append((feature, [\n",
    "            quants[0] - 1.5 * IQR,\n",
    "            quants[1] + 1.5 * IQR,\n",
    "        ]))\n",
    "\n",
    "    cut_off_points2 = dict(cut_off_points)\n",
    "\n",
    "\n",
    "    outliers_yr = wage_yr.select(*['wage_offer_from_9089'] + [\n",
    "           (\n",
    "               (wage_yr[F] < cut_off_points2[F][0]) |\n",
    "               (wage_yr[F] > cut_off_points2[F][1])\n",
    "           ).alias(F + '_o') for F in features\n",
    "      ])\n",
    "    outliers_hr = wage_hr.select(*['wage_offer_from_9089'] + [\n",
    "           (\n",
    "               (wage_hr[F] < cut_off_points2[F][0]) |\n",
    "               (wage_hr[F] > cut_off_points2[F][1])\n",
    "           ).alias(F + '_o') for F in features\n",
    "      ])\n",
    "    outliers_wk = wage_wk.select(*['wage_offer_from_9089'] + [\n",
    "           (\n",
    "               (wage_wk[F] < cut_off_points2[F][0]) |\n",
    "               (wage_wk[F] > cut_off_points2[F][1])\n",
    "           ).alias(F + '_o') for F in features\n",
    "      ])\n",
    "    outliers_mth = wage_mth.select(*['wage_offer_from_9089'] + [\n",
    "           (\n",
    "               (wage_mth[F] < cut_off_points2[F][0]) |\n",
    "               (wage_mth[F] > cut_off_points2[F][1])\n",
    "           ).alias(F + '_o') for F in features\n",
    "      ])\n",
    "    outliers_bi = wage_bi.select(*['wage_offer_from_9089'] + [\n",
    "           (\n",
    "               (wage_bi[F] < cut_off_points2[F][0]) |\n",
    "               (wage_bi[F] > cut_off_points2[F][1])\n",
    "           ).alias(F + '_o') for F in features\n",
    "      ])\n",
    "\n",
    "outliers_yr.show(),outliers_hr.show(),outliers_wk.show(),outliers_mth.show(),outliers_bi.show()"
   ]
  },
  {
   "cell_type": "markdown",
   "metadata": {},
   "source": [
    "We now filter and select the rows containing the outliers"
   ]
  },
  {
   "cell_type": "code",
   "execution_count": 29,
   "metadata": {},
   "outputs": [
    {
     "data": {
      "application/vnd.jupyter.widget-view+json": {
       "model_id": "35730259629942f5beb1480b96e4fa4d",
       "version_major": 2,
       "version_minor": 0
      },
      "text/plain": [
       "VBox()"
      ]
     },
     "metadata": {},
     "output_type": "display_data"
    },
    {
     "data": {
      "application/vnd.jupyter.widget-view+json": {
       "model_id": "",
       "version_major": 2,
       "version_minor": 0
      },
      "text/plain": [
       "FloatProgress(value=0.0, bar_style='info', description='Progress:', layout=Layout(height='25px', width='50%'),…"
      ]
     },
     "metadata": {},
     "output_type": "display_data"
    },
    {
     "name": "stdout",
     "output_type": "stream",
     "text": [
      "+--------------------+\n",
      "|wage_offer_from_9089|\n",
      "+--------------------+\n",
      "|            110000.0|\n",
      "|            110000.0|\n",
      "|            110000.0|\n",
      "|            110000.0|\n",
      "|            110000.0|\n",
      "|            110000.0|\n",
      "|            110000.0|\n",
      "|            110000.0|\n",
      "|            110000.0|\n",
      "|            110000.0|\n",
      "|            110000.0|\n",
      "|            110000.0|\n",
      "|            110000.0|\n",
      "|            110000.0|\n",
      "|            110000.0|\n",
      "|            110000.0|\n",
      "|            110000.0|\n",
      "|            110000.0|\n",
      "|            110000.0|\n",
      "|            110000.0|\n",
      "+--------------------+\n",
      "only showing top 20 rows\n",
      "\n",
      "+--------------------+\n",
      "|wage_offer_from_9089|\n",
      "+--------------------+\n",
      "|             68940.0|\n",
      "|            158828.8|\n",
      "|             72675.0|\n",
      "|             86070.0|\n",
      "|             42078.0|\n",
      "+--------------------+\n",
      "\n",
      "+--------------------+\n",
      "|wage_offer_from_9089|\n",
      "+--------------------+\n",
      "|            110240.0|\n",
      "|            103030.0|\n",
      "|            224000.0|\n",
      "|             86000.0|\n",
      "+--------------------+\n",
      "\n",
      "+--------------------+\n",
      "|wage_offer_from_9089|\n",
      "+--------------------+\n",
      "|              8500.0|\n",
      "|              5408.0|\n",
      "|              6620.0|\n",
      "|              5537.0|\n",
      "|              4576.0|\n",
      "|             11389.5|\n",
      "|             16667.0|\n",
      "|              7200.0|\n",
      "|              6700.0|\n",
      "|              4986.0|\n",
      "|             3882.21|\n",
      "|             4005.55|\n",
      "|             7366.67|\n",
      "|              4944.0|\n",
      "|              4800.0|\n",
      "+--------------------+\n",
      "\n",
      "+--------------------+\n",
      "|wage_offer_from_9089|\n",
      "+--------------------+\n",
      "+--------------------+"
     ]
    }
   ],
   "source": [
    "with_outliers_flag_yr = wage_yr.join(outliers_yr, on = 'wage_offer_from_9089')\n",
    "(\n",
    "    with_outliers_flag_yr\n",
    "    .filter('wage_offer_from_9089_o')\n",
    "    .select('wage_offer_from_9089')\n",
    "    .show()\n",
    ")\n",
    "with_outliers_flag_hr = wage_hr.join(outliers_hr, on = 'wage_offer_from_9089')\n",
    "(\n",
    "    with_outliers_flag_hr\n",
    "    .filter('wage_offer_from_9089_o')\n",
    "    .select('wage_offer_from_9089')\n",
    "    .show()\n",
    ")\n",
    "with_outliers_flag_wk = wage_wk.join(outliers_wk, on = 'wage_offer_from_9089')\n",
    "(\n",
    "    with_outliers_flag_wk\n",
    "    .filter('wage_offer_from_9089_o')\n",
    "    .select('wage_offer_from_9089')\n",
    "    .show()\n",
    ")\n",
    "with_outliers_flag_mth = wage_mth.join(outliers_mth, on = 'wage_offer_from_9089')\n",
    "(\n",
    "    with_outliers_flag_mth\n",
    "    .filter('wage_offer_from_9089_o')\n",
    "    .select('wage_offer_from_9089')\n",
    "    .show()\n",
    ")\n",
    "with_outliers_flag_bi = wage_bi.join(outliers_bi, on = 'wage_offer_from_9089')\n",
    "(\n",
    "    with_outliers_flag_bi\n",
    "    .filter('wage_offer_from_9089_o')\n",
    "    .select('wage_offer_from_9089')\n",
    "    .show()\n",
    ")\n"
   ]
  },
  {
   "cell_type": "markdown",
   "metadata": {},
   "source": [
    "We filter the outliers of each specific wage type in the code below. This is necessary to create variables for instances where we do not have outliers. With outliers, we will not have an accurate representation in our histogram. With outliers now filtered out, we can hope to create histograms to represent the wages by wage types."
   ]
  },
  {
   "cell_type": "code",
   "execution_count": 30,
   "metadata": {},
   "outputs": [
    {
     "data": {
      "application/vnd.jupyter.widget-view+json": {
       "model_id": "21210b694c064ad49e13a35b9c5d350f",
       "version_major": 2,
       "version_minor": 0
      },
      "text/plain": [
       "VBox()"
      ]
     },
     "metadata": {},
     "output_type": "display_data"
    },
    {
     "data": {
      "application/vnd.jupyter.widget-view+json": {
       "model_id": "",
       "version_major": 2,
       "version_minor": 0
      },
      "text/plain": [
       "FloatProgress(value=0.0, bar_style='info', description='Progress:', layout=Layout(height='25px', width='50%'),…"
      ]
     },
     "metadata": {},
     "output_type": "display_data"
    },
    {
     "name": "stdout",
     "output_type": "stream",
     "text": [
      "+--------------------+\n",
      "|wage_offer_from_9089|\n",
      "+--------------------+\n",
      "+--------------------+\n",
      "\n",
      "+--------------------+\n",
      "|wage_offer_from_9089|\n",
      "+--------------------+\n",
      "|               10.16|\n",
      "|                25.0|\n",
      "|                25.0|\n",
      "|                80.0|\n",
      "|                80.0|\n",
      "|                80.0|\n",
      "|                80.0|\n",
      "|                80.0|\n",
      "|                80.0|\n",
      "|                80.0|\n",
      "|                80.0|\n",
      "|                80.0|\n",
      "|                80.0|\n",
      "|                80.0|\n",
      "|                80.0|\n",
      "|                80.0|\n",
      "|                80.0|\n",
      "|                80.0|\n",
      "|                80.0|\n",
      "|                80.0|\n",
      "+--------------------+\n",
      "only showing top 20 rows\n",
      "\n",
      "+--------------------+\n",
      "|wage_offer_from_9089|\n",
      "+--------------------+\n",
      "|              1114.7|\n",
      "|               940.0|\n",
      "|             1730.77|\n",
      "|              2189.0|\n",
      "|              2540.0|\n",
      "|             1574.29|\n",
      "|               908.8|\n",
      "|               900.0|\n",
      "|              1400.0|\n",
      "|              2520.0|\n",
      "|             1587.55|\n",
      "|              1418.4|\n",
      "|             1923.07|\n",
      "|             1634.62|\n",
      "|             1826.92|\n",
      "+--------------------+\n",
      "\n",
      "+--------------------+\n",
      "|wage_offer_from_9089|\n",
      "+--------------------+\n",
      "|              2776.0|\n",
      "|              2600.0|\n",
      "+--------------------+\n",
      "\n",
      "+--------------------+\n",
      "|wage_offer_from_9089|\n",
      "+--------------------+\n",
      "|              2134.5|\n",
      "|              1360.0|\n",
      "|              2000.0|\n",
      "|              1033.6|\n",
      "|              1200.0|\n",
      "+--------------------+\n",
      "\n",
      "(None, None, None, None, None)"
     ]
    }
   ],
   "source": [
    "no_outliers_yr = (\n",
    "    with_outliers_flag_yr\n",
    "    .filter('!wage_offer_from_9089_o')\n",
    "    .select(wage_yr.columns)\n",
    ")\n",
    "no_outliers_hr = (\n",
    "    with_outliers_flag_hr\n",
    "    .filter('!wage_offer_from_9089_o')\n",
    "    .select(wage_hr.columns)\n",
    ")\n",
    "no_outliers_wk = (\n",
    "    with_outliers_flag_wk\n",
    "    .filter('!wage_offer_from_9089_o')\n",
    "    .select(wage_wk.columns)\n",
    ")\n",
    "no_outliers_mth = (\n",
    "    with_outliers_flag_mth\n",
    "    .filter('!wage_offer_from_9089_o')\n",
    "    .select(wage_mth.columns)\n",
    ")\n",
    "no_outliers_bi = (\n",
    "    with_outliers_flag_bi\n",
    "    .filter('!wage_offer_from_9089_o')\n",
    "    .select(wage_bi.columns)\n",
    ")\n",
    "no_outliers_yr.show(), no_outliers_hr.show(), no_outliers_wk.show(), no_outliers_mth.show(), no_outliers_bi.show()"
   ]
  },
  {
   "cell_type": "code",
   "execution_count": 45,
   "metadata": {},
   "outputs": [
    {
     "data": {
      "application/vnd.jupyter.widget-view+json": {
       "model_id": "951f041365d846fd9be17bda040df961",
       "version_major": 2,
       "version_minor": 0
      },
      "text/plain": [
       "VBox()"
      ]
     },
     "metadata": {},
     "output_type": "display_data"
    },
    {
     "data": {
      "application/vnd.jupyter.widget-view+json": {
       "model_id": "",
       "version_major": 2,
       "version_minor": 0
      },
      "text/plain": [
       "FloatProgress(value=0.0, bar_style='info', description='Progress:', layout=Layout(height='25px', width='50%'),…"
      ]
     },
     "metadata": {},
     "output_type": "display_data"
    },
    {
     "name": "stdout",
     "output_type": "stream",
     "text": [
      "+-------+--------------------+\n",
      "|summary|wage_offer_from_9089|\n",
      "+-------+--------------------+\n",
      "|  count|                   0|\n",
      "|   mean|                null|\n",
      "| stddev|                null|\n",
      "|    min|                null|\n",
      "|    max|                null|\n",
      "+-------+--------------------+"
     ]
    }
   ],
   "source": [
    "descriptive_stats = no_outliers_yr.describe(features)\n",
    "descriptive_stats.show()"
   ]
  },
  {
   "cell_type": "markdown",
   "metadata": {},
   "source": [
    "Based on our findings, we see that all values in the wage_yr column were outliers. This is a problem that we must identify and address. We must do further analysis as to why this whole column was considered an outlier. "
   ]
  },
  {
   "cell_type": "markdown",
   "metadata": {},
   "source": [
    "We will now create bins and the count of each bin in order for us to create our histogram"
   ]
  },
  {
   "cell_type": "code",
   "execution_count": 32,
   "metadata": {},
   "outputs": [
    {
     "data": {
      "application/vnd.jupyter.widget-view+json": {
       "model_id": "283c3e04e1c74879a9cd8036ddaa54ef",
       "version_major": 2,
       "version_minor": 0
      },
      "text/plain": [
       "VBox()"
      ]
     },
     "metadata": {},
     "output_type": "display_data"
    },
    {
     "data": {
      "application/vnd.jupyter.widget-view+json": {
       "model_id": "",
       "version_major": 2,
       "version_minor": 0
      },
      "text/plain": [
       "FloatProgress(value=0.0, bar_style='info', description='Progress:', layout=Layout(height='25px', width='50%'),…"
      ]
     },
     "metadata": {},
     "output_type": "display_data"
    }
   ],
   "source": [
    "histogram_wage_hr = (\n",
    "    no_outliers_hr\n",
    "    .select('wage_offer_from_9089')\n",
    "    .rdd\n",
    "    .flatMap(lambda x: x)\n",
    "    .histogram(5)\n",
    ")\n",
    "histogram_wage_wk = (\n",
    "    no_outliers_wk\n",
    "    .select('wage_offer_from_9089')\n",
    "    .rdd\n",
    "    .flatMap(lambda x: x)\n",
    "    .histogram(5)\n",
    ")\n",
    "histogram_wage_mth = (\n",
    "    no_outliers_mth\n",
    "    .select('wage_offer_from_9089')\n",
    "    .rdd\n",
    "    .flatMap(lambda x: x)\n",
    "    .histogram(5)\n",
    ")\n",
    "histogram_wage_bi = (\n",
    "    no_outliers_bi\n",
    "    .select('wage_offer_from_9089')\n",
    "    .rdd\n",
    "    .flatMap(lambda x: x)\n",
    "    .histogram(5)\n",
    ")"
   ]
  },
  {
   "cell_type": "code",
   "execution_count": 33,
   "metadata": {},
   "outputs": [
    {
     "data": {
      "application/vnd.jupyter.widget-view+json": {
       "model_id": "0497d79249f04e1587f40287b1bdb82a",
       "version_major": 2,
       "version_minor": 0
      },
      "text/plain": [
       "VBox()"
      ]
     },
     "metadata": {},
     "output_type": "display_data"
    },
    {
     "data": {
      "application/vnd.jupyter.widget-view+json": {
       "model_id": "",
       "version_major": 2,
       "version_minor": 0
      },
      "text/plain": [
       "FloatProgress(value=0.0, bar_style='info', description='Progress:', layout=Layout(height='25px', width='50%'),…"
      ]
     },
     "metadata": {},
     "output_type": "display_data"
    },
    {
     "name": "stdout",
     "output_type": "stream",
     "text": [
      "wage_hr [7.62, 36.096, 64.572, 93.048, 121.524, 150.0]\n",
      "wage_hr [566, 292, 980, 18, 1]\n",
      "wage_wk [900.0, 1228.0, 1556.0, 1884.0, 2212.0, 2540.0]\n",
      "wage_wk [4, 2, 5, 2, 2]\n",
      "wage_mth [2600.0, 2635.2, 2670.4, 2705.6, 2740.8, 2776.0]\n",
      "wage_mth [1, 0, 0, 0, 1]\n",
      "wage_bi [1033.6, 1253.78, 1473.96, 1694.1399999999999, 1914.32, 2134.5]\n",
      "wage_bi [2, 1, 0, 0, 2]\n",
      "(([7.62, 36.096, 64.572, 93.048, 121.524, 150.0], [566, 292, 980, 18, 1]), ([900.0, 1228.0, 1556.0, 1884.0, 2212.0, 2540.0], [4, 2, 5, 2, 2]), ([2600.0, 2635.2, 2670.4, 2705.6, 2740.8, 2776.0], [1, 0, 0, 0, 1]), ([1033.6, 1253.78, 1473.96, 1694.1399999999999, 1914.32, 2134.5], [2, 1, 0, 0, 2]))"
     ]
    }
   ],
   "source": [
    "for a in histogram_wage_hr:\n",
    "    print('wage_hr',a)    \n",
    "for b in histogram_wage_wk:\n",
    "    print('wage_wk',b)    \n",
    "for c in histogram_wage_mth:\n",
    "    print('wage_mth',c)    \n",
    "for d in histogram_wage_bi:\n",
    "    print('wage_bi',d)    \n",
    "histogram_wage_hr, histogram_wage_wk, histogram_wage_mth, histogram_wage_bi\n"
   ]
  },
  {
   "cell_type": "code",
   "execution_count": 34,
   "metadata": {},
   "outputs": [
    {
     "data": {
      "application/vnd.jupyter.widget-view+json": {
       "model_id": "d7bbfcab0e1242f3abd9b1d0fbee0b1a",
       "version_major": 2,
       "version_minor": 0
      },
      "text/plain": [
       "VBox()"
      ]
     },
     "metadata": {},
     "output_type": "display_data"
    },
    {
     "data": {
      "application/vnd.jupyter.widget-view+json": {
       "model_id": "",
       "version_major": 2,
       "version_minor": 0
      },
      "text/plain": [
       "FloatProgress(value=0.0, bar_style='info', description='Progress:', layout=Layout(height='25px', width='50%'),…"
      ]
     },
     "metadata": {},
     "output_type": "display_data"
    },
    {
     "name": "stdout",
     "output_type": "stream",
     "text": [
      "wage_hr [7.62,36.1)\n",
      "wage_hr [36.1,64.57)\n",
      "wage_hr [64.57,93.05)\n",
      "wage_hr [93.05,121.52)\n",
      "wage_hr [121.52,150.0)\n",
      "wage_wk [900.0,1228.0)\n",
      "wage_wk [1228.0,1556.0)\n",
      "wage_wk [1556.0,1884.0)\n",
      "wage_wk [1884.0,2212.0)\n",
      "wage_wk [2212.0,2540.0)\n",
      "wage_mth [2600.0,2635.2)\n",
      "wage_mth [2635.2,2670.4)\n",
      "wage_mth [2670.4,2705.6)\n",
      "wage_mth [2705.6,2740.8)\n",
      "wage_mth [2740.8,2776.0)\n",
      "wage_bi [1033.6,1253.78)\n",
      "wage_bi [1253.78,1473.96)\n",
      "wage_bi [1473.96,1694.14)\n",
      "wage_bi [1694.14,1914.32)\n",
      "wage_bi [1914.32,2134.5)"
     ]
    }
   ],
   "source": [
    "#display bin ranges\n",
    "for a in range(len(histogram_wage_hr[0])-1):\n",
    "    print('wage_hr','[' + str(round(histogram_wage_hr[0][a],2))\n",
    "        + ',' + str(round(histogram_wage_hr[0][a+1],2))\n",
    "          + ')'\n",
    "         )\n",
    "for b in range(len(histogram_wage_wk[0])-1):\n",
    "    print('wage_wk','[' + str(round(histogram_wage_wk[0][b],2))\n",
    "        + ',' + str(round(histogram_wage_wk[0][b+1],2))\n",
    "          + ')'\n",
    "         )\n",
    "for c in range(len(histogram_wage_mth[0])-1):\n",
    "    print('wage_mth','[' + str(round(histogram_wage_mth[0][c],2))\n",
    "        + ',' + str(round(histogram_wage_mth[0][c+1],2))\n",
    "          + ')'\n",
    "         )\n",
    "for d in range(len(histogram_wage_bi[0])-1):\n",
    "    print('wage_bi','[' + str(round(histogram_wage_bi[0][d],2))\n",
    "        + ',' + str(round(histogram_wage_bi[0][d+1],2))\n",
    "          + ')'\n",
    "         )\n"
   ]
  },
  {
   "cell_type": "code",
   "execution_count": 35,
   "metadata": {},
   "outputs": [
    {
     "data": {
      "application/vnd.jupyter.widget-view+json": {
       "model_id": "749948c1fad040f0a8f58553d99f686f",
       "version_major": 2,
       "version_minor": 0
      },
      "text/plain": [
       "VBox()"
      ]
     },
     "metadata": {},
     "output_type": "display_data"
    },
    {
     "data": {
      "application/vnd.jupyter.widget-view+json": {
       "model_id": "",
       "version_major": 2,
       "version_minor": 0
      },
      "text/plain": [
       "FloatProgress(value=0.0, bar_style='info', description='Progress:', layout=Layout(height='25px', width='50%'),…"
      ]
     },
     "metadata": {},
     "output_type": "display_data"
    },
    {
     "name": "stdout",
     "output_type": "stream",
     "text": [
      "[(1033.6, 2), (1253.78, 1), (1473.96, 0), (1694.1399999999999, 0), (1914.32, 2)]"
     ]
    }
   ],
   "source": [
    "sorted(zip(*histogram_wage_hr))\n",
    "sorted(zip(*histogram_wage_wk))\n",
    "sorted(zip(*histogram_wage_mth))\n",
    "sorted(zip(*histogram_wage_bi))"
   ]
  },
  {
   "cell_type": "code",
   "execution_count": 36,
   "metadata": {},
   "outputs": [
    {
     "data": {
      "application/vnd.jupyter.widget-view+json": {
       "model_id": "",
       "version_major": 2,
       "version_minor": 0
      },
      "text/plain": [
       "FloatProgress(value=0.0, bar_style='info', description='Progress:', layout=Layout(height='25px', width='50%'),…"
      ]
     },
     "metadata": {},
     "output_type": "display_data"
    },
    {
     "data": {
      "application/vnd.jupyter.widget-view+json": {
       "model_id": "",
       "version_major": 2,
       "version_minor": 0
      },
      "text/plain": [
       "FloatProgress(value=0.0, bar_style='info', description='Progress:', layout=Layout(height='25px', width='50%'),…"
      ]
     },
     "metadata": {},
     "output_type": "display_data"
    }
   ],
   "source": [
    "%%spark -o hist_wage_hr\n",
    "#The above Spark magic exports hist_wage to local node running the notebook\n",
    "#So that we can use the local object to draw a histogram\n",
    "import pandas as pd\n",
    "hist_wage_hr=  spark.createDataFrame(\n",
    "    list(zip(*histogram_wage_hr)), \n",
    "    ['bins', 'counts'])"
   ]
  },
  {
   "cell_type": "code",
   "execution_count": 37,
   "metadata": {},
   "outputs": [
    {
     "data": {
      "application/vnd.jupyter.widget-view+json": {
       "model_id": "",
       "version_major": 2,
       "version_minor": 0
      },
      "text/plain": [
       "FloatProgress(value=0.0, bar_style='info', description='Progress:', layout=Layout(height='25px', width='50%'),…"
      ]
     },
     "metadata": {},
     "output_type": "display_data"
    },
    {
     "data": {
      "application/vnd.jupyter.widget-view+json": {
       "model_id": "",
       "version_major": 2,
       "version_minor": 0
      },
      "text/plain": [
       "FloatProgress(value=0.0, bar_style='info', description='Progress:', layout=Layout(height='25px', width='50%'),…"
      ]
     },
     "metadata": {},
     "output_type": "display_data"
    }
   ],
   "source": [
    "%%spark -o hist_wage_wk\n",
    "#The above Spark magic exports hist_wage to local node running the notebook\n",
    "#So that we can use the local object to draw a histogram\n",
    "import pandas as pd\n",
    "hist_wage_wk=  spark.createDataFrame(\n",
    "    list(zip(*histogram_wage_wk)), \n",
    "    ['bins', 'counts'])"
   ]
  },
  {
   "cell_type": "code",
   "execution_count": 38,
   "metadata": {},
   "outputs": [
    {
     "data": {
      "application/vnd.jupyter.widget-view+json": {
       "model_id": "",
       "version_major": 2,
       "version_minor": 0
      },
      "text/plain": [
       "FloatProgress(value=0.0, bar_style='info', description='Progress:', layout=Layout(height='25px', width='50%'),…"
      ]
     },
     "metadata": {},
     "output_type": "display_data"
    },
    {
     "data": {
      "application/vnd.jupyter.widget-view+json": {
       "model_id": "",
       "version_major": 2,
       "version_minor": 0
      },
      "text/plain": [
       "FloatProgress(value=0.0, bar_style='info', description='Progress:', layout=Layout(height='25px', width='50%'),…"
      ]
     },
     "metadata": {},
     "output_type": "display_data"
    }
   ],
   "source": [
    "%%spark -o hist_wage_mth\n",
    "#The above Spark magic exports hist_wage to local node running the notebook\n",
    "#So that we can use the local object to draw a histogram\n",
    "import pandas as pd\n",
    "hist_wage_mth=  spark.createDataFrame(\n",
    "    list(zip(*histogram_wage_mth)), \n",
    "    ['bins', 'counts'])"
   ]
  },
  {
   "cell_type": "code",
   "execution_count": 39,
   "metadata": {},
   "outputs": [
    {
     "data": {
      "application/vnd.jupyter.widget-view+json": {
       "model_id": "",
       "version_major": 2,
       "version_minor": 0
      },
      "text/plain": [
       "FloatProgress(value=0.0, bar_style='info', description='Progress:', layout=Layout(height='25px', width='50%'),…"
      ]
     },
     "metadata": {},
     "output_type": "display_data"
    },
    {
     "data": {
      "application/vnd.jupyter.widget-view+json": {
       "model_id": "",
       "version_major": 2,
       "version_minor": 0
      },
      "text/plain": [
       "FloatProgress(value=0.0, bar_style='info', description='Progress:', layout=Layout(height='25px', width='50%'),…"
      ]
     },
     "metadata": {},
     "output_type": "display_data"
    }
   ],
   "source": [
    "%%spark -o hist_wage_bi\n",
    "#The above Spark magic exports hist_wage to local node running the notebook\n",
    "#So that we can use the local object to draw a histogram\n",
    "import pandas as pd\n",
    "hist_wage_bi=  spark.createDataFrame(\n",
    "    list(zip(*histogram_wage_bi)), \n",
    "    ['bins', 'counts'])"
   ]
  },
  {
   "cell_type": "markdown",
   "metadata": {},
   "source": [
    "<h3>Histogram for wage_hr"
   ]
  },
  {
   "cell_type": "code",
   "execution_count": 40,
   "metadata": {},
   "outputs": [
    {
     "data": {
      "text/html": [
       "\n",
       "    <div class=\"bk-root\">\n",
       "        <a href=\"https://bokeh.org\" target=\"_blank\" class=\"bk-logo bk-logo-small bk-logo-notebook\"></a>\n",
       "        <span id=\"1001\">Loading BokehJS ...</span>\n",
       "    </div>"
      ]
     },
     "metadata": {},
     "output_type": "display_data"
    },
    {
     "data": {
      "application/javascript": [
       "\n",
       "(function(root) {\n",
       "  function now() {\n",
       "    return new Date();\n",
       "  }\n",
       "\n",
       "  var force = true;\n",
       "\n",
       "  if (typeof root._bokeh_onload_callbacks === \"undefined\" || force === true) {\n",
       "    root._bokeh_onload_callbacks = [];\n",
       "    root._bokeh_is_loading = undefined;\n",
       "  }\n",
       "\n",
       "  var JS_MIME_TYPE = 'application/javascript';\n",
       "  var HTML_MIME_TYPE = 'text/html';\n",
       "  var EXEC_MIME_TYPE = 'application/vnd.bokehjs_exec.v0+json';\n",
       "  var CLASS_NAME = 'output_bokeh rendered_html';\n",
       "\n",
       "  /**\n",
       "   * Render data to the DOM node\n",
       "   */\n",
       "  function render(props, node) {\n",
       "    var script = document.createElement(\"script\");\n",
       "    node.appendChild(script);\n",
       "  }\n",
       "\n",
       "  /**\n",
       "   * Handle when an output is cleared or removed\n",
       "   */\n",
       "  function handleClearOutput(event, handle) {\n",
       "    var cell = handle.cell;\n",
       "\n",
       "    var id = cell.output_area._bokeh_element_id;\n",
       "    var server_id = cell.output_area._bokeh_server_id;\n",
       "    // Clean up Bokeh references\n",
       "    if (id != null && id in Bokeh.index) {\n",
       "      Bokeh.index[id].model.document.clear();\n",
       "      delete Bokeh.index[id];\n",
       "    }\n",
       "\n",
       "    if (server_id !== undefined) {\n",
       "      // Clean up Bokeh references\n",
       "      var cmd = \"from bokeh.io.state import curstate; print(curstate().uuid_to_server['\" + server_id + \"'].get_sessions()[0].document.roots[0]._id)\";\n",
       "      cell.notebook.kernel.execute(cmd, {\n",
       "        iopub: {\n",
       "          output: function(msg) {\n",
       "            var id = msg.content.text.trim();\n",
       "            if (id in Bokeh.index) {\n",
       "              Bokeh.index[id].model.document.clear();\n",
       "              delete Bokeh.index[id];\n",
       "            }\n",
       "          }\n",
       "        }\n",
       "      });\n",
       "      // Destroy server and session\n",
       "      var cmd = \"import bokeh.io.notebook as ion; ion.destroy_server('\" + server_id + \"')\";\n",
       "      cell.notebook.kernel.execute(cmd);\n",
       "    }\n",
       "  }\n",
       "\n",
       "  /**\n",
       "   * Handle when a new output is added\n",
       "   */\n",
       "  function handleAddOutput(event, handle) {\n",
       "    var output_area = handle.output_area;\n",
       "    var output = handle.output;\n",
       "\n",
       "    // limit handleAddOutput to display_data with EXEC_MIME_TYPE content only\n",
       "    if ((output.output_type != \"display_data\") || (!output.data.hasOwnProperty(EXEC_MIME_TYPE))) {\n",
       "      return\n",
       "    }\n",
       "\n",
       "    var toinsert = output_area.element.find(\".\" + CLASS_NAME.split(' ')[0]);\n",
       "\n",
       "    if (output.metadata[EXEC_MIME_TYPE][\"id\"] !== undefined) {\n",
       "      toinsert[toinsert.length - 1].firstChild.textContent = output.data[JS_MIME_TYPE];\n",
       "      // store reference to embed id on output_area\n",
       "      output_area._bokeh_element_id = output.metadata[EXEC_MIME_TYPE][\"id\"];\n",
       "    }\n",
       "    if (output.metadata[EXEC_MIME_TYPE][\"server_id\"] !== undefined) {\n",
       "      var bk_div = document.createElement(\"div\");\n",
       "      bk_div.innerHTML = output.data[HTML_MIME_TYPE];\n",
       "      var script_attrs = bk_div.children[0].attributes;\n",
       "      for (var i = 0; i < script_attrs.length; i++) {\n",
       "        toinsert[toinsert.length - 1].firstChild.setAttribute(script_attrs[i].name, script_attrs[i].value);\n",
       "      }\n",
       "      // store reference to server id on output_area\n",
       "      output_area._bokeh_server_id = output.metadata[EXEC_MIME_TYPE][\"server_id\"];\n",
       "    }\n",
       "  }\n",
       "\n",
       "  function register_renderer(events, OutputArea) {\n",
       "\n",
       "    function append_mime(data, metadata, element) {\n",
       "      // create a DOM node to render to\n",
       "      var toinsert = this.create_output_subarea(\n",
       "        metadata,\n",
       "        CLASS_NAME,\n",
       "        EXEC_MIME_TYPE\n",
       "      );\n",
       "      this.keyboard_manager.register_events(toinsert);\n",
       "      // Render to node\n",
       "      var props = {data: data, metadata: metadata[EXEC_MIME_TYPE]};\n",
       "      render(props, toinsert[toinsert.length - 1]);\n",
       "      element.append(toinsert);\n",
       "      return toinsert\n",
       "    }\n",
       "\n",
       "    /* Handle when an output is cleared or removed */\n",
       "    events.on('clear_output.CodeCell', handleClearOutput);\n",
       "    events.on('delete.Cell', handleClearOutput);\n",
       "\n",
       "    /* Handle when a new output is added */\n",
       "    events.on('output_added.OutputArea', handleAddOutput);\n",
       "\n",
       "    /**\n",
       "     * Register the mime type and append_mime function with output_area\n",
       "     */\n",
       "    OutputArea.prototype.register_mime_type(EXEC_MIME_TYPE, append_mime, {\n",
       "      /* Is output safe? */\n",
       "      safe: true,\n",
       "      /* Index of renderer in `output_area.display_order` */\n",
       "      index: 0\n",
       "    });\n",
       "  }\n",
       "\n",
       "  // register the mime type if in Jupyter Notebook environment and previously unregistered\n",
       "  if (root.Jupyter !== undefined) {\n",
       "    var events = require('base/js/events');\n",
       "    var OutputArea = require('notebook/js/outputarea').OutputArea;\n",
       "\n",
       "    if (OutputArea.prototype.mime_types().indexOf(EXEC_MIME_TYPE) == -1) {\n",
       "      register_renderer(events, OutputArea);\n",
       "    }\n",
       "  }\n",
       "\n",
       "  \n",
       "  if (typeof (root._bokeh_timeout) === \"undefined\" || force === true) {\n",
       "    root._bokeh_timeout = Date.now() + 5000;\n",
       "    root._bokeh_failed_load = false;\n",
       "  }\n",
       "\n",
       "  var NB_LOAD_WARNING = {'data': {'text/html':\n",
       "     \"<div style='background-color: #fdd'>\\n\"+\n",
       "     \"<p>\\n\"+\n",
       "     \"BokehJS does not appear to have successfully loaded. If loading BokehJS from CDN, this \\n\"+\n",
       "     \"may be due to a slow or bad network connection. Possible fixes:\\n\"+\n",
       "     \"</p>\\n\"+\n",
       "     \"<ul>\\n\"+\n",
       "     \"<li>re-rerun `output_notebook()` to attempt to load from CDN again, or</li>\\n\"+\n",
       "     \"<li>use INLINE resources instead, as so:</li>\\n\"+\n",
       "     \"</ul>\\n\"+\n",
       "     \"<code>\\n\"+\n",
       "     \"from bokeh.resources import INLINE\\n\"+\n",
       "     \"output_notebook(resources=INLINE)\\n\"+\n",
       "     \"</code>\\n\"+\n",
       "     \"</div>\"}};\n",
       "\n",
       "  function display_loaded() {\n",
       "    var el = document.getElementById(\"1001\");\n",
       "    if (el != null) {\n",
       "      el.textContent = \"BokehJS is loading...\";\n",
       "    }\n",
       "    if (root.Bokeh !== undefined) {\n",
       "      if (el != null) {\n",
       "        el.textContent = \"BokehJS \" + root.Bokeh.version + \" successfully loaded.\";\n",
       "      }\n",
       "    } else if (Date.now() < root._bokeh_timeout) {\n",
       "      setTimeout(display_loaded, 100)\n",
       "    }\n",
       "  }\n",
       "\n",
       "\n",
       "  function run_callbacks() {\n",
       "    try {\n",
       "      root._bokeh_onload_callbacks.forEach(function(callback) {\n",
       "        if (callback != null)\n",
       "          callback();\n",
       "      });\n",
       "    } finally {\n",
       "      delete root._bokeh_onload_callbacks\n",
       "    }\n",
       "    console.debug(\"Bokeh: all callbacks have finished\");\n",
       "  }\n",
       "\n",
       "  function load_libs(css_urls, js_urls, callback) {\n",
       "    if (css_urls == null) css_urls = [];\n",
       "    if (js_urls == null) js_urls = [];\n",
       "\n",
       "    root._bokeh_onload_callbacks.push(callback);\n",
       "    if (root._bokeh_is_loading > 0) {\n",
       "      console.debug(\"Bokeh: BokehJS is being loaded, scheduling callback at\", now());\n",
       "      return null;\n",
       "    }\n",
       "    if (js_urls == null || js_urls.length === 0) {\n",
       "      run_callbacks();\n",
       "      return null;\n",
       "    }\n",
       "    console.debug(\"Bokeh: BokehJS not loaded, scheduling load and callback at\", now());\n",
       "    root._bokeh_is_loading = css_urls.length + js_urls.length;\n",
       "\n",
       "    function on_load() {\n",
       "      root._bokeh_is_loading--;\n",
       "      if (root._bokeh_is_loading === 0) {\n",
       "        console.debug(\"Bokeh: all BokehJS libraries/stylesheets loaded\");\n",
       "        run_callbacks()\n",
       "      }\n",
       "    }\n",
       "\n",
       "    function on_error() {\n",
       "      console.error(\"failed to load \" + url);\n",
       "    }\n",
       "\n",
       "    for (var i = 0; i < css_urls.length; i++) {\n",
       "      var url = css_urls[i];\n",
       "      const element = document.createElement(\"link\");\n",
       "      element.onload = on_load;\n",
       "      element.onerror = on_error;\n",
       "      element.rel = \"stylesheet\";\n",
       "      element.type = \"text/css\";\n",
       "      element.href = url;\n",
       "      console.debug(\"Bokeh: injecting link tag for BokehJS stylesheet: \", url);\n",
       "      document.body.appendChild(element);\n",
       "    }\n",
       "\n",
       "    for (var i = 0; i < js_urls.length; i++) {\n",
       "      var url = js_urls[i];\n",
       "      var element = document.createElement('script');\n",
       "      element.onload = on_load;\n",
       "      element.onerror = on_error;\n",
       "      element.async = false;\n",
       "      element.src = url;\n",
       "      console.debug(\"Bokeh: injecting script tag for BokehJS library: \", url);\n",
       "      document.head.appendChild(element);\n",
       "    }\n",
       "  };var element = document.getElementById(\"1001\");\n",
       "  if (element == null) {\n",
       "    console.error(\"Bokeh: ERROR: autoload.js configured with elementid '1001' but no matching script tag was found. \")\n",
       "    return false;\n",
       "  }\n",
       "\n",
       "  function inject_raw_css(css) {\n",
       "    const element = document.createElement(\"style\");\n",
       "    element.appendChild(document.createTextNode(css));\n",
       "    document.body.appendChild(element);\n",
       "  }\n",
       "\n",
       "  \n",
       "  var js_urls = [\"https://cdn.pydata.org/bokeh/release/bokeh-1.4.0.min.js\", \"https://cdn.pydata.org/bokeh/release/bokeh-widgets-1.4.0.min.js\", \"https://cdn.pydata.org/bokeh/release/bokeh-tables-1.4.0.min.js\", \"https://cdn.pydata.org/bokeh/release/bokeh-gl-1.4.0.min.js\"];\n",
       "  var css_urls = [];\n",
       "  \n",
       "\n",
       "  var inline_js = [\n",
       "    function(Bokeh) {\n",
       "      Bokeh.set_log_level(\"info\");\n",
       "    },\n",
       "    function(Bokeh) {\n",
       "    \n",
       "    \n",
       "    }\n",
       "  ];\n",
       "\n",
       "  function run_inline_js() {\n",
       "    \n",
       "    if (root.Bokeh !== undefined || force === true) {\n",
       "      \n",
       "    for (var i = 0; i < inline_js.length; i++) {\n",
       "      inline_js[i].call(root, root.Bokeh);\n",
       "    }\n",
       "    if (force === true) {\n",
       "        display_loaded();\n",
       "      }} else if (Date.now() < root._bokeh_timeout) {\n",
       "      setTimeout(run_inline_js, 100);\n",
       "    } else if (!root._bokeh_failed_load) {\n",
       "      console.log(\"Bokeh: BokehJS failed to load within specified timeout.\");\n",
       "      root._bokeh_failed_load = true;\n",
       "    } else if (force !== true) {\n",
       "      var cell = $(document.getElementById(\"1001\")).parents('.cell').data().cell;\n",
       "      cell.output_area.append_execute_result(NB_LOAD_WARNING)\n",
       "    }\n",
       "\n",
       "  }\n",
       "\n",
       "  if (root._bokeh_is_loading === 0) {\n",
       "    console.debug(\"Bokeh: BokehJS loaded, going straight to plotting\");\n",
       "    run_inline_js();\n",
       "  } else {\n",
       "    load_libs(css_urls, js_urls, function() {\n",
       "      console.debug(\"Bokeh: BokehJS plotting callback run at\", now());\n",
       "      run_inline_js();\n",
       "    });\n",
       "  }\n",
       "}(window));"
      ],
      "application/vnd.bokehjs_load.v0+json": "\n(function(root) {\n  function now() {\n    return new Date();\n  }\n\n  var force = true;\n\n  if (typeof root._bokeh_onload_callbacks === \"undefined\" || force === true) {\n    root._bokeh_onload_callbacks = [];\n    root._bokeh_is_loading = undefined;\n  }\n\n  \n\n  \n  if (typeof (root._bokeh_timeout) === \"undefined\" || force === true) {\n    root._bokeh_timeout = Date.now() + 5000;\n    root._bokeh_failed_load = false;\n  }\n\n  var NB_LOAD_WARNING = {'data': {'text/html':\n     \"<div style='background-color: #fdd'>\\n\"+\n     \"<p>\\n\"+\n     \"BokehJS does not appear to have successfully loaded. If loading BokehJS from CDN, this \\n\"+\n     \"may be due to a slow or bad network connection. Possible fixes:\\n\"+\n     \"</p>\\n\"+\n     \"<ul>\\n\"+\n     \"<li>re-rerun `output_notebook()` to attempt to load from CDN again, or</li>\\n\"+\n     \"<li>use INLINE resources instead, as so:</li>\\n\"+\n     \"</ul>\\n\"+\n     \"<code>\\n\"+\n     \"from bokeh.resources import INLINE\\n\"+\n     \"output_notebook(resources=INLINE)\\n\"+\n     \"</code>\\n\"+\n     \"</div>\"}};\n\n  function display_loaded() {\n    var el = document.getElementById(\"1001\");\n    if (el != null) {\n      el.textContent = \"BokehJS is loading...\";\n    }\n    if (root.Bokeh !== undefined) {\n      if (el != null) {\n        el.textContent = \"BokehJS \" + root.Bokeh.version + \" successfully loaded.\";\n      }\n    } else if (Date.now() < root._bokeh_timeout) {\n      setTimeout(display_loaded, 100)\n    }\n  }\n\n\n  function run_callbacks() {\n    try {\n      root._bokeh_onload_callbacks.forEach(function(callback) {\n        if (callback != null)\n          callback();\n      });\n    } finally {\n      delete root._bokeh_onload_callbacks\n    }\n    console.debug(\"Bokeh: all callbacks have finished\");\n  }\n\n  function load_libs(css_urls, js_urls, callback) {\n    if (css_urls == null) css_urls = [];\n    if (js_urls == null) js_urls = [];\n\n    root._bokeh_onload_callbacks.push(callback);\n    if (root._bokeh_is_loading > 0) {\n      console.debug(\"Bokeh: BokehJS is being loaded, scheduling callback at\", now());\n      return null;\n    }\n    if (js_urls == null || js_urls.length === 0) {\n      run_callbacks();\n      return null;\n    }\n    console.debug(\"Bokeh: BokehJS not loaded, scheduling load and callback at\", now());\n    root._bokeh_is_loading = css_urls.length + js_urls.length;\n\n    function on_load() {\n      root._bokeh_is_loading--;\n      if (root._bokeh_is_loading === 0) {\n        console.debug(\"Bokeh: all BokehJS libraries/stylesheets loaded\");\n        run_callbacks()\n      }\n    }\n\n    function on_error() {\n      console.error(\"failed to load \" + url);\n    }\n\n    for (var i = 0; i < css_urls.length; i++) {\n      var url = css_urls[i];\n      const element = document.createElement(\"link\");\n      element.onload = on_load;\n      element.onerror = on_error;\n      element.rel = \"stylesheet\";\n      element.type = \"text/css\";\n      element.href = url;\n      console.debug(\"Bokeh: injecting link tag for BokehJS stylesheet: \", url);\n      document.body.appendChild(element);\n    }\n\n    for (var i = 0; i < js_urls.length; i++) {\n      var url = js_urls[i];\n      var element = document.createElement('script');\n      element.onload = on_load;\n      element.onerror = on_error;\n      element.async = false;\n      element.src = url;\n      console.debug(\"Bokeh: injecting script tag for BokehJS library: \", url);\n      document.head.appendChild(element);\n    }\n  };var element = document.getElementById(\"1001\");\n  if (element == null) {\n    console.error(\"Bokeh: ERROR: autoload.js configured with elementid '1001' but no matching script tag was found. \")\n    return false;\n  }\n\n  function inject_raw_css(css) {\n    const element = document.createElement(\"style\");\n    element.appendChild(document.createTextNode(css));\n    document.body.appendChild(element);\n  }\n\n  \n  var js_urls = [\"https://cdn.pydata.org/bokeh/release/bokeh-1.4.0.min.js\", \"https://cdn.pydata.org/bokeh/release/bokeh-widgets-1.4.0.min.js\", \"https://cdn.pydata.org/bokeh/release/bokeh-tables-1.4.0.min.js\", \"https://cdn.pydata.org/bokeh/release/bokeh-gl-1.4.0.min.js\"];\n  var css_urls = [];\n  \n\n  var inline_js = [\n    function(Bokeh) {\n      Bokeh.set_log_level(\"info\");\n    },\n    function(Bokeh) {\n    \n    \n    }\n  ];\n\n  function run_inline_js() {\n    \n    if (root.Bokeh !== undefined || force === true) {\n      \n    for (var i = 0; i < inline_js.length; i++) {\n      inline_js[i].call(root, root.Bokeh);\n    }\n    if (force === true) {\n        display_loaded();\n      }} else if (Date.now() < root._bokeh_timeout) {\n      setTimeout(run_inline_js, 100);\n    } else if (!root._bokeh_failed_load) {\n      console.log(\"Bokeh: BokehJS failed to load within specified timeout.\");\n      root._bokeh_failed_load = true;\n    } else if (force !== true) {\n      var cell = $(document.getElementById(\"1001\")).parents('.cell').data().cell;\n      cell.output_area.append_execute_result(NB_LOAD_WARNING)\n    }\n\n  }\n\n  if (root._bokeh_is_loading === 0) {\n    console.debug(\"Bokeh: BokehJS loaded, going straight to plotting\");\n    run_inline_js();\n  } else {\n    load_libs(css_urls, js_urls, function() {\n      console.debug(\"Bokeh: BokehJS plotting callback run at\", now());\n      run_inline_js();\n    });\n  }\n}(window));"
     },
     "metadata": {},
     "output_type": "display_data"
    },
    {
     "data": {
      "text/html": [
       "\n",
       "\n",
       "\n",
       "\n",
       "\n",
       "\n",
       "  <div class=\"bk-root\" id=\"04054e12-2d71-4657-900a-95726c4879ce\" data-root-id=\"1002\"></div>\n"
      ]
     },
     "metadata": {},
     "output_type": "display_data"
    },
    {
     "data": {
      "application/javascript": [
       "(function(root) {\n",
       "  function embed_document(root) {\n",
       "    \n",
       "  var docs_json = {\"77061851-ad85-404d-a135-8fabccb67b68\":{\"roots\":{\"references\":[{\"attributes\":{\"below\":[{\"id\":\"1013\",\"type\":\"CategoricalAxis\"}],\"center\":[{\"id\":\"1016\",\"type\":\"Grid\"},{\"id\":\"1021\",\"type\":\"Grid\"}],\"left\":[{\"id\":\"1017\",\"type\":\"LinearAxis\"}],\"plot_height\":350,\"renderers\":[{\"id\":\"1038\",\"type\":\"GlyphRenderer\"}],\"title\":{\"id\":\"1003\",\"type\":\"Title\"},\"toolbar\":{\"id\":\"1028\",\"type\":\"Toolbar\"},\"x_range\":{\"id\":\"1005\",\"type\":\"FactorRange\"},\"x_scale\":{\"id\":\"1009\",\"type\":\"CategoricalScale\"},\"y_range\":{\"id\":\"1007\",\"type\":\"DataRange1d\"},\"y_scale\":{\"id\":\"1011\",\"type\":\"LinearScale\"}},\"id\":\"1002\",\"subtype\":\"Figure\",\"type\":\"Plot\"},{\"attributes\":{\"fill_alpha\":{\"value\":0.1},\"fill_color\":{\"value\":\"#1f77b4\"},\"line_alpha\":{\"value\":0.1},\"line_color\":{\"value\":\"#1f77b4\"},\"top\":{\"field\":\"top\"},\"width\":{\"value\":0.9},\"x\":{\"field\":\"x\"}},\"id\":\"1037\",\"type\":\"VBar\"},{\"attributes\":{\"fill_color\":{\"value\":\"#1f77b4\"},\"line_color\":{\"value\":\"#1f77b4\"},\"top\":{\"field\":\"top\"},\"width\":{\"value\":0.9},\"x\":{\"field\":\"x\"}},\"id\":\"1036\",\"type\":\"VBar\"},{\"attributes\":{},\"id\":\"1022\",\"type\":\"PanTool\"},{\"attributes\":{},\"id\":\"1023\",\"type\":\"WheelZoomTool\"},{\"attributes\":{\"overlay\":{\"id\":\"1047\",\"type\":\"BoxAnnotation\"}},\"id\":\"1024\",\"type\":\"BoxZoomTool\"},{\"attributes\":{},\"id\":\"1025\",\"type\":\"SaveTool\"},{\"attributes\":{\"text\":\"Histogram of Hourly Wage\"},\"id\":\"1003\",\"type\":\"Title\"},{\"attributes\":{},\"id\":\"1026\",\"type\":\"ResetTool\"},{\"attributes\":{},\"id\":\"1027\",\"type\":\"HelpTool\"},{\"attributes\":{\"callback\":null,\"factors\":[\"7.62\",\"36.1\",\"64.57\",\"93.05\",\"121.52\"]},\"id\":\"1005\",\"type\":\"FactorRange\"},{\"attributes\":{\"active_drag\":\"auto\",\"active_inspect\":\"auto\",\"active_multi\":null,\"active_scroll\":\"auto\",\"active_tap\":\"auto\",\"tools\":[{\"id\":\"1022\",\"type\":\"PanTool\"},{\"id\":\"1023\",\"type\":\"WheelZoomTool\"},{\"id\":\"1024\",\"type\":\"BoxZoomTool\"},{\"id\":\"1025\",\"type\":\"SaveTool\"},{\"id\":\"1026\",\"type\":\"ResetTool\"},{\"id\":\"1027\",\"type\":\"HelpTool\"}]},\"id\":\"1028\",\"type\":\"Toolbar\"},{\"attributes\":{\"callback\":null},\"id\":\"1007\",\"type\":\"DataRange1d\"},{\"attributes\":{\"data_source\":{\"id\":\"1035\",\"type\":\"ColumnDataSource\"},\"glyph\":{\"id\":\"1036\",\"type\":\"VBar\"},\"hover_glyph\":null,\"muted_glyph\":null,\"nonselection_glyph\":{\"id\":\"1037\",\"type\":\"VBar\"},\"selection_glyph\":null,\"view\":{\"id\":\"1039\",\"type\":\"CDSView\"}},\"id\":\"1038\",\"type\":\"GlyphRenderer\"},{\"attributes\":{},\"id\":\"1009\",\"type\":\"CategoricalScale\"},{\"attributes\":{\"source\":{\"id\":\"1035\",\"type\":\"ColumnDataSource\"}},\"id\":\"1039\",\"type\":\"CDSView\"},{\"attributes\":{},\"id\":\"1011\",\"type\":\"LinearScale\"},{\"attributes\":{},\"id\":\"1041\",\"type\":\"BasicTickFormatter\"},{\"attributes\":{\"formatter\":{\"id\":\"1043\",\"type\":\"CategoricalTickFormatter\"},\"ticker\":{\"id\":\"1014\",\"type\":\"CategoricalTicker\"}},\"id\":\"1013\",\"type\":\"CategoricalAxis\"},{\"attributes\":{},\"id\":\"1043\",\"type\":\"CategoricalTickFormatter\"},{\"attributes\":{},\"id\":\"1014\",\"type\":\"CategoricalTicker\"},{\"attributes\":{\"ticker\":{\"id\":\"1014\",\"type\":\"CategoricalTicker\"}},\"id\":\"1016\",\"type\":\"Grid\"},{\"attributes\":{},\"id\":\"1045\",\"type\":\"UnionRenderers\"},{\"attributes\":{\"formatter\":{\"id\":\"1041\",\"type\":\"BasicTickFormatter\"},\"ticker\":{\"id\":\"1018\",\"type\":\"BasicTicker\"}},\"id\":\"1017\",\"type\":\"LinearAxis\"},{\"attributes\":{},\"id\":\"1046\",\"type\":\"Selection\"},{\"attributes\":{},\"id\":\"1018\",\"type\":\"BasicTicker\"},{\"attributes\":{\"bottom_units\":\"screen\",\"fill_alpha\":{\"value\":0.5},\"fill_color\":{\"value\":\"lightgrey\"},\"left_units\":\"screen\",\"level\":\"overlay\",\"line_alpha\":{\"value\":1.0},\"line_color\":{\"value\":\"black\"},\"line_dash\":[4,4],\"line_width\":{\"value\":2},\"render_mode\":\"css\",\"right_units\":\"screen\",\"top_units\":\"screen\"},\"id\":\"1047\",\"type\":\"BoxAnnotation\"},{\"attributes\":{\"dimension\":1,\"ticker\":{\"id\":\"1018\",\"type\":\"BasicTicker\"}},\"id\":\"1021\",\"type\":\"Grid\"},{\"attributes\":{\"callback\":null,\"data\":{\"top\":[566,292,980,18,1],\"x\":[\"7.62\",\"36.1\",\"64.57\",\"93.05\",\"121.52\"]},\"selected\":{\"id\":\"1046\",\"type\":\"Selection\"},\"selection_policy\":{\"id\":\"1045\",\"type\":\"UnionRenderers\"}},\"id\":\"1035\",\"type\":\"ColumnDataSource\"}],\"root_ids\":[\"1002\"]},\"title\":\"Bokeh Application\",\"version\":\"1.4.0\"}};\n",
       "  var render_items = [{\"docid\":\"77061851-ad85-404d-a135-8fabccb67b68\",\"roots\":{\"1002\":\"04054e12-2d71-4657-900a-95726c4879ce\"}}];\n",
       "  root.Bokeh.embed.embed_items_notebook(docs_json, render_items);\n",
       "\n",
       "  }\n",
       "  if (root.Bokeh !== undefined) {\n",
       "    embed_document(root);\n",
       "  } else {\n",
       "    var attempts = 0;\n",
       "    var timer = setInterval(function(root) {\n",
       "      if (root.Bokeh !== undefined) {\n",
       "        clearInterval(timer);\n",
       "        embed_document(root);\n",
       "      } else {\n",
       "        attempts++;\n",
       "        if (attempts > 100) {\n",
       "          clearInterval(timer);\n",
       "          console.log(\"Bokeh: ERROR: Unable to run BokehJS code because BokehJS library is missing\");\n",
       "        }\n",
       "      }\n",
       "    }, 10, root)\n",
       "  }\n",
       "})(window);"
      ],
      "application/vnd.bokehjs_exec.v0+json": ""
     },
     "metadata": {
      "application/vnd.bokehjs_exec.v0+json": {
       "id": "1002"
      }
     },
     "output_type": "display_data"
    }
   ],
   "source": [
    "%%local\n",
    "#local magic indicates that this cell will run locally (rather than on cluster)\n",
    "#use Bokeh library ti draw the histogram\n",
    "from bokeh.io import show\n",
    "from bokeh.plotting import figure\n",
    "from bokeh.io import output_notebook\n",
    "output_notebook()\n",
    "\n",
    "labels = [str(round(e, 2)) for e in hist_wage_hr['bins']]\n",
    "\n",
    "p = figure(\n",
    "    x_range=labels, \n",
    "    plot_height=350, \n",
    "    title='Histogram of Hourly Wage'\n",
    ")\n",
    "\n",
    "p.vbar(x=labels, top=hist_wage_hr['counts'], width=0.9)\n",
    "\n",
    "show(p)"
   ]
  },
  {
   "cell_type": "markdown",
   "metadata": {},
   "source": [
    "<p>Based on the histogram, we can see that the majority of people fall within \\$64.57 for an hourly wage with a count of about 1000. We can also see that almost 600 people fall within the \\$7.62/hr range with a very small amount of people above the \\$93.05/hr bin range. This histogram can be identified as skewing left"
   ]
  },
  {
   "cell_type": "markdown",
   "metadata": {},
   "source": [
    "<h3>Histogram for wage_wk"
   ]
  },
  {
   "cell_type": "code",
   "execution_count": 41,
   "metadata": {},
   "outputs": [
    {
     "data": {
      "text/html": [
       "\n",
       "    <div class=\"bk-root\">\n",
       "        <a href=\"https://bokeh.org\" target=\"_blank\" class=\"bk-logo bk-logo-small bk-logo-notebook\"></a>\n",
       "        <span id=\"1096\">Loading BokehJS ...</span>\n",
       "    </div>"
      ]
     },
     "metadata": {},
     "output_type": "display_data"
    },
    {
     "data": {
      "application/javascript": [
       "\n",
       "(function(root) {\n",
       "  function now() {\n",
       "    return new Date();\n",
       "  }\n",
       "\n",
       "  var force = true;\n",
       "\n",
       "  if (typeof root._bokeh_onload_callbacks === \"undefined\" || force === true) {\n",
       "    root._bokeh_onload_callbacks = [];\n",
       "    root._bokeh_is_loading = undefined;\n",
       "  }\n",
       "\n",
       "  var JS_MIME_TYPE = 'application/javascript';\n",
       "  var HTML_MIME_TYPE = 'text/html';\n",
       "  var EXEC_MIME_TYPE = 'application/vnd.bokehjs_exec.v0+json';\n",
       "  var CLASS_NAME = 'output_bokeh rendered_html';\n",
       "\n",
       "  /**\n",
       "   * Render data to the DOM node\n",
       "   */\n",
       "  function render(props, node) {\n",
       "    var script = document.createElement(\"script\");\n",
       "    node.appendChild(script);\n",
       "  }\n",
       "\n",
       "  /**\n",
       "   * Handle when an output is cleared or removed\n",
       "   */\n",
       "  function handleClearOutput(event, handle) {\n",
       "    var cell = handle.cell;\n",
       "\n",
       "    var id = cell.output_area._bokeh_element_id;\n",
       "    var server_id = cell.output_area._bokeh_server_id;\n",
       "    // Clean up Bokeh references\n",
       "    if (id != null && id in Bokeh.index) {\n",
       "      Bokeh.index[id].model.document.clear();\n",
       "      delete Bokeh.index[id];\n",
       "    }\n",
       "\n",
       "    if (server_id !== undefined) {\n",
       "      // Clean up Bokeh references\n",
       "      var cmd = \"from bokeh.io.state import curstate; print(curstate().uuid_to_server['\" + server_id + \"'].get_sessions()[0].document.roots[0]._id)\";\n",
       "      cell.notebook.kernel.execute(cmd, {\n",
       "        iopub: {\n",
       "          output: function(msg) {\n",
       "            var id = msg.content.text.trim();\n",
       "            if (id in Bokeh.index) {\n",
       "              Bokeh.index[id].model.document.clear();\n",
       "              delete Bokeh.index[id];\n",
       "            }\n",
       "          }\n",
       "        }\n",
       "      });\n",
       "      // Destroy server and session\n",
       "      var cmd = \"import bokeh.io.notebook as ion; ion.destroy_server('\" + server_id + \"')\";\n",
       "      cell.notebook.kernel.execute(cmd);\n",
       "    }\n",
       "  }\n",
       "\n",
       "  /**\n",
       "   * Handle when a new output is added\n",
       "   */\n",
       "  function handleAddOutput(event, handle) {\n",
       "    var output_area = handle.output_area;\n",
       "    var output = handle.output;\n",
       "\n",
       "    // limit handleAddOutput to display_data with EXEC_MIME_TYPE content only\n",
       "    if ((output.output_type != \"display_data\") || (!output.data.hasOwnProperty(EXEC_MIME_TYPE))) {\n",
       "      return\n",
       "    }\n",
       "\n",
       "    var toinsert = output_area.element.find(\".\" + CLASS_NAME.split(' ')[0]);\n",
       "\n",
       "    if (output.metadata[EXEC_MIME_TYPE][\"id\"] !== undefined) {\n",
       "      toinsert[toinsert.length - 1].firstChild.textContent = output.data[JS_MIME_TYPE];\n",
       "      // store reference to embed id on output_area\n",
       "      output_area._bokeh_element_id = output.metadata[EXEC_MIME_TYPE][\"id\"];\n",
       "    }\n",
       "    if (output.metadata[EXEC_MIME_TYPE][\"server_id\"] !== undefined) {\n",
       "      var bk_div = document.createElement(\"div\");\n",
       "      bk_div.innerHTML = output.data[HTML_MIME_TYPE];\n",
       "      var script_attrs = bk_div.children[0].attributes;\n",
       "      for (var i = 0; i < script_attrs.length; i++) {\n",
       "        toinsert[toinsert.length - 1].firstChild.setAttribute(script_attrs[i].name, script_attrs[i].value);\n",
       "      }\n",
       "      // store reference to server id on output_area\n",
       "      output_area._bokeh_server_id = output.metadata[EXEC_MIME_TYPE][\"server_id\"];\n",
       "    }\n",
       "  }\n",
       "\n",
       "  function register_renderer(events, OutputArea) {\n",
       "\n",
       "    function append_mime(data, metadata, element) {\n",
       "      // create a DOM node to render to\n",
       "      var toinsert = this.create_output_subarea(\n",
       "        metadata,\n",
       "        CLASS_NAME,\n",
       "        EXEC_MIME_TYPE\n",
       "      );\n",
       "      this.keyboard_manager.register_events(toinsert);\n",
       "      // Render to node\n",
       "      var props = {data: data, metadata: metadata[EXEC_MIME_TYPE]};\n",
       "      render(props, toinsert[toinsert.length - 1]);\n",
       "      element.append(toinsert);\n",
       "      return toinsert\n",
       "    }\n",
       "\n",
       "    /* Handle when an output is cleared or removed */\n",
       "    events.on('clear_output.CodeCell', handleClearOutput);\n",
       "    events.on('delete.Cell', handleClearOutput);\n",
       "\n",
       "    /* Handle when a new output is added */\n",
       "    events.on('output_added.OutputArea', handleAddOutput);\n",
       "\n",
       "    /**\n",
       "     * Register the mime type and append_mime function with output_area\n",
       "     */\n",
       "    OutputArea.prototype.register_mime_type(EXEC_MIME_TYPE, append_mime, {\n",
       "      /* Is output safe? */\n",
       "      safe: true,\n",
       "      /* Index of renderer in `output_area.display_order` */\n",
       "      index: 0\n",
       "    });\n",
       "  }\n",
       "\n",
       "  // register the mime type if in Jupyter Notebook environment and previously unregistered\n",
       "  if (root.Jupyter !== undefined) {\n",
       "    var events = require('base/js/events');\n",
       "    var OutputArea = require('notebook/js/outputarea').OutputArea;\n",
       "\n",
       "    if (OutputArea.prototype.mime_types().indexOf(EXEC_MIME_TYPE) == -1) {\n",
       "      register_renderer(events, OutputArea);\n",
       "    }\n",
       "  }\n",
       "\n",
       "  \n",
       "  if (typeof (root._bokeh_timeout) === \"undefined\" || force === true) {\n",
       "    root._bokeh_timeout = Date.now() + 5000;\n",
       "    root._bokeh_failed_load = false;\n",
       "  }\n",
       "\n",
       "  var NB_LOAD_WARNING = {'data': {'text/html':\n",
       "     \"<div style='background-color: #fdd'>\\n\"+\n",
       "     \"<p>\\n\"+\n",
       "     \"BokehJS does not appear to have successfully loaded. If loading BokehJS from CDN, this \\n\"+\n",
       "     \"may be due to a slow or bad network connection. Possible fixes:\\n\"+\n",
       "     \"</p>\\n\"+\n",
       "     \"<ul>\\n\"+\n",
       "     \"<li>re-rerun `output_notebook()` to attempt to load from CDN again, or</li>\\n\"+\n",
       "     \"<li>use INLINE resources instead, as so:</li>\\n\"+\n",
       "     \"</ul>\\n\"+\n",
       "     \"<code>\\n\"+\n",
       "     \"from bokeh.resources import INLINE\\n\"+\n",
       "     \"output_notebook(resources=INLINE)\\n\"+\n",
       "     \"</code>\\n\"+\n",
       "     \"</div>\"}};\n",
       "\n",
       "  function display_loaded() {\n",
       "    var el = document.getElementById(\"1096\");\n",
       "    if (el != null) {\n",
       "      el.textContent = \"BokehJS is loading...\";\n",
       "    }\n",
       "    if (root.Bokeh !== undefined) {\n",
       "      if (el != null) {\n",
       "        el.textContent = \"BokehJS \" + root.Bokeh.version + \" successfully loaded.\";\n",
       "      }\n",
       "    } else if (Date.now() < root._bokeh_timeout) {\n",
       "      setTimeout(display_loaded, 100)\n",
       "    }\n",
       "  }\n",
       "\n",
       "\n",
       "  function run_callbacks() {\n",
       "    try {\n",
       "      root._bokeh_onload_callbacks.forEach(function(callback) {\n",
       "        if (callback != null)\n",
       "          callback();\n",
       "      });\n",
       "    } finally {\n",
       "      delete root._bokeh_onload_callbacks\n",
       "    }\n",
       "    console.debug(\"Bokeh: all callbacks have finished\");\n",
       "  }\n",
       "\n",
       "  function load_libs(css_urls, js_urls, callback) {\n",
       "    if (css_urls == null) css_urls = [];\n",
       "    if (js_urls == null) js_urls = [];\n",
       "\n",
       "    root._bokeh_onload_callbacks.push(callback);\n",
       "    if (root._bokeh_is_loading > 0) {\n",
       "      console.debug(\"Bokeh: BokehJS is being loaded, scheduling callback at\", now());\n",
       "      return null;\n",
       "    }\n",
       "    if (js_urls == null || js_urls.length === 0) {\n",
       "      run_callbacks();\n",
       "      return null;\n",
       "    }\n",
       "    console.debug(\"Bokeh: BokehJS not loaded, scheduling load and callback at\", now());\n",
       "    root._bokeh_is_loading = css_urls.length + js_urls.length;\n",
       "\n",
       "    function on_load() {\n",
       "      root._bokeh_is_loading--;\n",
       "      if (root._bokeh_is_loading === 0) {\n",
       "        console.debug(\"Bokeh: all BokehJS libraries/stylesheets loaded\");\n",
       "        run_callbacks()\n",
       "      }\n",
       "    }\n",
       "\n",
       "    function on_error() {\n",
       "      console.error(\"failed to load \" + url);\n",
       "    }\n",
       "\n",
       "    for (var i = 0; i < css_urls.length; i++) {\n",
       "      var url = css_urls[i];\n",
       "      const element = document.createElement(\"link\");\n",
       "      element.onload = on_load;\n",
       "      element.onerror = on_error;\n",
       "      element.rel = \"stylesheet\";\n",
       "      element.type = \"text/css\";\n",
       "      element.href = url;\n",
       "      console.debug(\"Bokeh: injecting link tag for BokehJS stylesheet: \", url);\n",
       "      document.body.appendChild(element);\n",
       "    }\n",
       "\n",
       "    for (var i = 0; i < js_urls.length; i++) {\n",
       "      var url = js_urls[i];\n",
       "      var element = document.createElement('script');\n",
       "      element.onload = on_load;\n",
       "      element.onerror = on_error;\n",
       "      element.async = false;\n",
       "      element.src = url;\n",
       "      console.debug(\"Bokeh: injecting script tag for BokehJS library: \", url);\n",
       "      document.head.appendChild(element);\n",
       "    }\n",
       "  };var element = document.getElementById(\"1096\");\n",
       "  if (element == null) {\n",
       "    console.error(\"Bokeh: ERROR: autoload.js configured with elementid '1096' but no matching script tag was found. \")\n",
       "    return false;\n",
       "  }\n",
       "\n",
       "  function inject_raw_css(css) {\n",
       "    const element = document.createElement(\"style\");\n",
       "    element.appendChild(document.createTextNode(css));\n",
       "    document.body.appendChild(element);\n",
       "  }\n",
       "\n",
       "  \n",
       "  var js_urls = [\"https://cdn.pydata.org/bokeh/release/bokeh-1.4.0.min.js\", \"https://cdn.pydata.org/bokeh/release/bokeh-widgets-1.4.0.min.js\", \"https://cdn.pydata.org/bokeh/release/bokeh-tables-1.4.0.min.js\", \"https://cdn.pydata.org/bokeh/release/bokeh-gl-1.4.0.min.js\"];\n",
       "  var css_urls = [];\n",
       "  \n",
       "\n",
       "  var inline_js = [\n",
       "    function(Bokeh) {\n",
       "      Bokeh.set_log_level(\"info\");\n",
       "    },\n",
       "    function(Bokeh) {\n",
       "    \n",
       "    \n",
       "    }\n",
       "  ];\n",
       "\n",
       "  function run_inline_js() {\n",
       "    \n",
       "    if (root.Bokeh !== undefined || force === true) {\n",
       "      \n",
       "    for (var i = 0; i < inline_js.length; i++) {\n",
       "      inline_js[i].call(root, root.Bokeh);\n",
       "    }\n",
       "    if (force === true) {\n",
       "        display_loaded();\n",
       "      }} else if (Date.now() < root._bokeh_timeout) {\n",
       "      setTimeout(run_inline_js, 100);\n",
       "    } else if (!root._bokeh_failed_load) {\n",
       "      console.log(\"Bokeh: BokehJS failed to load within specified timeout.\");\n",
       "      root._bokeh_failed_load = true;\n",
       "    } else if (force !== true) {\n",
       "      var cell = $(document.getElementById(\"1096\")).parents('.cell').data().cell;\n",
       "      cell.output_area.append_execute_result(NB_LOAD_WARNING)\n",
       "    }\n",
       "\n",
       "  }\n",
       "\n",
       "  if (root._bokeh_is_loading === 0) {\n",
       "    console.debug(\"Bokeh: BokehJS loaded, going straight to plotting\");\n",
       "    run_inline_js();\n",
       "  } else {\n",
       "    load_libs(css_urls, js_urls, function() {\n",
       "      console.debug(\"Bokeh: BokehJS plotting callback run at\", now());\n",
       "      run_inline_js();\n",
       "    });\n",
       "  }\n",
       "}(window));"
      ],
      "application/vnd.bokehjs_load.v0+json": "\n(function(root) {\n  function now() {\n    return new Date();\n  }\n\n  var force = true;\n\n  if (typeof root._bokeh_onload_callbacks === \"undefined\" || force === true) {\n    root._bokeh_onload_callbacks = [];\n    root._bokeh_is_loading = undefined;\n  }\n\n  \n\n  \n  if (typeof (root._bokeh_timeout) === \"undefined\" || force === true) {\n    root._bokeh_timeout = Date.now() + 5000;\n    root._bokeh_failed_load = false;\n  }\n\n  var NB_LOAD_WARNING = {'data': {'text/html':\n     \"<div style='background-color: #fdd'>\\n\"+\n     \"<p>\\n\"+\n     \"BokehJS does not appear to have successfully loaded. If loading BokehJS from CDN, this \\n\"+\n     \"may be due to a slow or bad network connection. Possible fixes:\\n\"+\n     \"</p>\\n\"+\n     \"<ul>\\n\"+\n     \"<li>re-rerun `output_notebook()` to attempt to load from CDN again, or</li>\\n\"+\n     \"<li>use INLINE resources instead, as so:</li>\\n\"+\n     \"</ul>\\n\"+\n     \"<code>\\n\"+\n     \"from bokeh.resources import INLINE\\n\"+\n     \"output_notebook(resources=INLINE)\\n\"+\n     \"</code>\\n\"+\n     \"</div>\"}};\n\n  function display_loaded() {\n    var el = document.getElementById(\"1096\");\n    if (el != null) {\n      el.textContent = \"BokehJS is loading...\";\n    }\n    if (root.Bokeh !== undefined) {\n      if (el != null) {\n        el.textContent = \"BokehJS \" + root.Bokeh.version + \" successfully loaded.\";\n      }\n    } else if (Date.now() < root._bokeh_timeout) {\n      setTimeout(display_loaded, 100)\n    }\n  }\n\n\n  function run_callbacks() {\n    try {\n      root._bokeh_onload_callbacks.forEach(function(callback) {\n        if (callback != null)\n          callback();\n      });\n    } finally {\n      delete root._bokeh_onload_callbacks\n    }\n    console.debug(\"Bokeh: all callbacks have finished\");\n  }\n\n  function load_libs(css_urls, js_urls, callback) {\n    if (css_urls == null) css_urls = [];\n    if (js_urls == null) js_urls = [];\n\n    root._bokeh_onload_callbacks.push(callback);\n    if (root._bokeh_is_loading > 0) {\n      console.debug(\"Bokeh: BokehJS is being loaded, scheduling callback at\", now());\n      return null;\n    }\n    if (js_urls == null || js_urls.length === 0) {\n      run_callbacks();\n      return null;\n    }\n    console.debug(\"Bokeh: BokehJS not loaded, scheduling load and callback at\", now());\n    root._bokeh_is_loading = css_urls.length + js_urls.length;\n\n    function on_load() {\n      root._bokeh_is_loading--;\n      if (root._bokeh_is_loading === 0) {\n        console.debug(\"Bokeh: all BokehJS libraries/stylesheets loaded\");\n        run_callbacks()\n      }\n    }\n\n    function on_error() {\n      console.error(\"failed to load \" + url);\n    }\n\n    for (var i = 0; i < css_urls.length; i++) {\n      var url = css_urls[i];\n      const element = document.createElement(\"link\");\n      element.onload = on_load;\n      element.onerror = on_error;\n      element.rel = \"stylesheet\";\n      element.type = \"text/css\";\n      element.href = url;\n      console.debug(\"Bokeh: injecting link tag for BokehJS stylesheet: \", url);\n      document.body.appendChild(element);\n    }\n\n    for (var i = 0; i < js_urls.length; i++) {\n      var url = js_urls[i];\n      var element = document.createElement('script');\n      element.onload = on_load;\n      element.onerror = on_error;\n      element.async = false;\n      element.src = url;\n      console.debug(\"Bokeh: injecting script tag for BokehJS library: \", url);\n      document.head.appendChild(element);\n    }\n  };var element = document.getElementById(\"1096\");\n  if (element == null) {\n    console.error(\"Bokeh: ERROR: autoload.js configured with elementid '1096' but no matching script tag was found. \")\n    return false;\n  }\n\n  function inject_raw_css(css) {\n    const element = document.createElement(\"style\");\n    element.appendChild(document.createTextNode(css));\n    document.body.appendChild(element);\n  }\n\n  \n  var js_urls = [\"https://cdn.pydata.org/bokeh/release/bokeh-1.4.0.min.js\", \"https://cdn.pydata.org/bokeh/release/bokeh-widgets-1.4.0.min.js\", \"https://cdn.pydata.org/bokeh/release/bokeh-tables-1.4.0.min.js\", \"https://cdn.pydata.org/bokeh/release/bokeh-gl-1.4.0.min.js\"];\n  var css_urls = [];\n  \n\n  var inline_js = [\n    function(Bokeh) {\n      Bokeh.set_log_level(\"info\");\n    },\n    function(Bokeh) {\n    \n    \n    }\n  ];\n\n  function run_inline_js() {\n    \n    if (root.Bokeh !== undefined || force === true) {\n      \n    for (var i = 0; i < inline_js.length; i++) {\n      inline_js[i].call(root, root.Bokeh);\n    }\n    if (force === true) {\n        display_loaded();\n      }} else if (Date.now() < root._bokeh_timeout) {\n      setTimeout(run_inline_js, 100);\n    } else if (!root._bokeh_failed_load) {\n      console.log(\"Bokeh: BokehJS failed to load within specified timeout.\");\n      root._bokeh_failed_load = true;\n    } else if (force !== true) {\n      var cell = $(document.getElementById(\"1096\")).parents('.cell').data().cell;\n      cell.output_area.append_execute_result(NB_LOAD_WARNING)\n    }\n\n  }\n\n  if (root._bokeh_is_loading === 0) {\n    console.debug(\"Bokeh: BokehJS loaded, going straight to plotting\");\n    run_inline_js();\n  } else {\n    load_libs(css_urls, js_urls, function() {\n      console.debug(\"Bokeh: BokehJS plotting callback run at\", now());\n      run_inline_js();\n    });\n  }\n}(window));"
     },
     "metadata": {},
     "output_type": "display_data"
    },
    {
     "data": {
      "text/html": [
       "\n",
       "\n",
       "\n",
       "\n",
       "\n",
       "\n",
       "  <div class=\"bk-root\" id=\"509f88be-adb6-46ef-b238-4c984f8a0ea6\" data-root-id=\"1097\"></div>\n"
      ]
     },
     "metadata": {},
     "output_type": "display_data"
    },
    {
     "data": {
      "application/javascript": [
       "(function(root) {\n",
       "  function embed_document(root) {\n",
       "    \n",
       "  var docs_json = {\"fd424b8d-1a03-4628-a7a9-df8f31516268\":{\"roots\":{\"references\":[{\"attributes\":{\"below\":[{\"id\":\"1108\",\"type\":\"CategoricalAxis\"}],\"center\":[{\"id\":\"1111\",\"type\":\"Grid\"},{\"id\":\"1116\",\"type\":\"Grid\"}],\"left\":[{\"id\":\"1112\",\"type\":\"LinearAxis\"}],\"plot_height\":350,\"renderers\":[{\"id\":\"1133\",\"type\":\"GlyphRenderer\"}],\"title\":{\"id\":\"1098\",\"type\":\"Title\"},\"toolbar\":{\"id\":\"1123\",\"type\":\"Toolbar\"},\"x_range\":{\"id\":\"1100\",\"type\":\"FactorRange\"},\"x_scale\":{\"id\":\"1104\",\"type\":\"CategoricalScale\"},\"y_range\":{\"id\":\"1102\",\"type\":\"DataRange1d\"},\"y_scale\":{\"id\":\"1106\",\"type\":\"LinearScale\"}},\"id\":\"1097\",\"subtype\":\"Figure\",\"type\":\"Plot\"},{\"attributes\":{\"ticker\":{\"id\":\"1109\",\"type\":\"CategoricalTicker\"}},\"id\":\"1111\",\"type\":\"Grid\"},{\"attributes\":{\"formatter\":{\"id\":\"1144\",\"type\":\"BasicTickFormatter\"},\"ticker\":{\"id\":\"1113\",\"type\":\"BasicTicker\"}},\"id\":\"1112\",\"type\":\"LinearAxis\"},{\"attributes\":{},\"id\":\"1106\",\"type\":\"LinearScale\"},{\"attributes\":{},\"id\":\"1144\",\"type\":\"BasicTickFormatter\"},{\"attributes\":{},\"id\":\"1113\",\"type\":\"BasicTicker\"},{\"attributes\":{},\"id\":\"1146\",\"type\":\"CategoricalTickFormatter\"},{\"attributes\":{},\"id\":\"1117\",\"type\":\"PanTool\"},{\"attributes\":{\"bottom_units\":\"screen\",\"fill_alpha\":{\"value\":0.5},\"fill_color\":{\"value\":\"lightgrey\"},\"left_units\":\"screen\",\"level\":\"overlay\",\"line_alpha\":{\"value\":1.0},\"line_color\":{\"value\":\"black\"},\"line_dash\":[4,4],\"line_width\":{\"value\":2},\"render_mode\":\"css\",\"right_units\":\"screen\",\"top_units\":\"screen\"},\"id\":\"1150\",\"type\":\"BoxAnnotation\"},{\"attributes\":{\"fill_color\":{\"value\":\"#1f77b4\"},\"line_color\":{\"value\":\"#1f77b4\"},\"top\":{\"field\":\"top\"},\"width\":{\"value\":0.9},\"x\":{\"field\":\"x\"}},\"id\":\"1131\",\"type\":\"VBar\"},{\"attributes\":{\"fill_alpha\":{\"value\":0.1},\"fill_color\":{\"value\":\"#1f77b4\"},\"line_alpha\":{\"value\":0.1},\"line_color\":{\"value\":\"#1f77b4\"},\"top\":{\"field\":\"top\"},\"width\":{\"value\":0.9},\"x\":{\"field\":\"x\"}},\"id\":\"1132\",\"type\":\"VBar\"},{\"attributes\":{\"callback\":null,\"factors\":[\"900.0\",\"1228.0\",\"1556.0\",\"1884.0\",\"2212.0\"]},\"id\":\"1100\",\"type\":\"FactorRange\"},{\"attributes\":{\"dimension\":1,\"ticker\":{\"id\":\"1113\",\"type\":\"BasicTicker\"}},\"id\":\"1116\",\"type\":\"Grid\"},{\"attributes\":{\"source\":{\"id\":\"1130\",\"type\":\"ColumnDataSource\"}},\"id\":\"1134\",\"type\":\"CDSView\"},{\"attributes\":{\"overlay\":{\"id\":\"1150\",\"type\":\"BoxAnnotation\"}},\"id\":\"1119\",\"type\":\"BoxZoomTool\"},{\"attributes\":{},\"id\":\"1104\",\"type\":\"CategoricalScale\"},{\"attributes\":{},\"id\":\"1118\",\"type\":\"WheelZoomTool\"},{\"attributes\":{\"data_source\":{\"id\":\"1130\",\"type\":\"ColumnDataSource\"},\"glyph\":{\"id\":\"1131\",\"type\":\"VBar\"},\"hover_glyph\":null,\"muted_glyph\":null,\"nonselection_glyph\":{\"id\":\"1132\",\"type\":\"VBar\"},\"selection_glyph\":null,\"view\":{\"id\":\"1134\",\"type\":\"CDSView\"}},\"id\":\"1133\",\"type\":\"GlyphRenderer\"},{\"attributes\":{},\"id\":\"1121\",\"type\":\"ResetTool\"},{\"attributes\":{\"callback\":null,\"data\":{\"top\":[4,2,5,2,2],\"x\":[\"900.0\",\"1228.0\",\"1556.0\",\"1884.0\",\"2212.0\"]},\"selected\":{\"id\":\"1149\",\"type\":\"Selection\"},\"selection_policy\":{\"id\":\"1148\",\"type\":\"UnionRenderers\"}},\"id\":\"1130\",\"type\":\"ColumnDataSource\"},{\"attributes\":{},\"id\":\"1149\",\"type\":\"Selection\"},{\"attributes\":{},\"id\":\"1148\",\"type\":\"UnionRenderers\"},{\"attributes\":{},\"id\":\"1122\",\"type\":\"HelpTool\"},{\"attributes\":{\"active_drag\":\"auto\",\"active_inspect\":\"auto\",\"active_multi\":null,\"active_scroll\":\"auto\",\"active_tap\":\"auto\",\"tools\":[{\"id\":\"1117\",\"type\":\"PanTool\"},{\"id\":\"1118\",\"type\":\"WheelZoomTool\"},{\"id\":\"1119\",\"type\":\"BoxZoomTool\"},{\"id\":\"1120\",\"type\":\"SaveTool\"},{\"id\":\"1121\",\"type\":\"ResetTool\"},{\"id\":\"1122\",\"type\":\"HelpTool\"}]},\"id\":\"1123\",\"type\":\"Toolbar\"},{\"attributes\":{},\"id\":\"1120\",\"type\":\"SaveTool\"},{\"attributes\":{\"text\":\"Histogram of Weekly Wage\"},\"id\":\"1098\",\"type\":\"Title\"},{\"attributes\":{},\"id\":\"1109\",\"type\":\"CategoricalTicker\"},{\"attributes\":{\"formatter\":{\"id\":\"1146\",\"type\":\"CategoricalTickFormatter\"},\"ticker\":{\"id\":\"1109\",\"type\":\"CategoricalTicker\"}},\"id\":\"1108\",\"type\":\"CategoricalAxis\"},{\"attributes\":{\"callback\":null},\"id\":\"1102\",\"type\":\"DataRange1d\"}],\"root_ids\":[\"1097\"]},\"title\":\"Bokeh Application\",\"version\":\"1.4.0\"}};\n",
       "  var render_items = [{\"docid\":\"fd424b8d-1a03-4628-a7a9-df8f31516268\",\"roots\":{\"1097\":\"509f88be-adb6-46ef-b238-4c984f8a0ea6\"}}];\n",
       "  root.Bokeh.embed.embed_items_notebook(docs_json, render_items);\n",
       "\n",
       "  }\n",
       "  if (root.Bokeh !== undefined) {\n",
       "    embed_document(root);\n",
       "  } else {\n",
       "    var attempts = 0;\n",
       "    var timer = setInterval(function(root) {\n",
       "      if (root.Bokeh !== undefined) {\n",
       "        clearInterval(timer);\n",
       "        embed_document(root);\n",
       "      } else {\n",
       "        attempts++;\n",
       "        if (attempts > 100) {\n",
       "          clearInterval(timer);\n",
       "          console.log(\"Bokeh: ERROR: Unable to run BokehJS code because BokehJS library is missing\");\n",
       "        }\n",
       "      }\n",
       "    }, 10, root)\n",
       "  }\n",
       "})(window);"
      ],
      "application/vnd.bokehjs_exec.v0+json": ""
     },
     "metadata": {
      "application/vnd.bokehjs_exec.v0+json": {
       "id": "1097"
      }
     },
     "output_type": "display_data"
    }
   ],
   "source": [
    "%%local\n",
    "#local magic indicates that this cell will run locally (rather than on cluster)\n",
    "#use Bokeh library ti draw the histogram\n",
    "from bokeh.io import show\n",
    "from bokeh.plotting import figure\n",
    "from bokeh.io import output_notebook\n",
    "output_notebook()\n",
    "\n",
    "labels = [str(round(e, 2)) for e in hist_wage_wk['bins']]\n",
    "\n",
    "p = figure(\n",
    "    x_range=labels, \n",
    "    plot_height=350, \n",
    "    title='Histogram of Weekly Wage'\n",
    ")\n",
    "\n",
    "p.vbar(x=labels, top=hist_wage_wk['counts'], width=0.9)\n",
    "\n",
    "show(p)"
   ]
  },
  {
   "cell_type": "markdown",
   "metadata": {},
   "source": [
    "<p> Based on the histogram, we are able to see 5 people who get their wages weekly fall within the bin range of \\$1556.00/wk. We are not able to create a very accurate representation on wages because not many people fall within employees who receive their wages weekly."
   ]
  },
  {
   "cell_type": "markdown",
   "metadata": {},
   "source": [
    "<h3>Histogram for wage_mth"
   ]
  },
  {
   "cell_type": "code",
   "execution_count": 42,
   "metadata": {},
   "outputs": [
    {
     "data": {
      "text/html": [
       "\n",
       "    <div class=\"bk-root\">\n",
       "        <a href=\"https://bokeh.org\" target=\"_blank\" class=\"bk-logo bk-logo-small bk-logo-notebook\"></a>\n",
       "        <span id=\"1199\">Loading BokehJS ...</span>\n",
       "    </div>"
      ]
     },
     "metadata": {},
     "output_type": "display_data"
    },
    {
     "data": {
      "application/javascript": [
       "\n",
       "(function(root) {\n",
       "  function now() {\n",
       "    return new Date();\n",
       "  }\n",
       "\n",
       "  var force = true;\n",
       "\n",
       "  if (typeof root._bokeh_onload_callbacks === \"undefined\" || force === true) {\n",
       "    root._bokeh_onload_callbacks = [];\n",
       "    root._bokeh_is_loading = undefined;\n",
       "  }\n",
       "\n",
       "  var JS_MIME_TYPE = 'application/javascript';\n",
       "  var HTML_MIME_TYPE = 'text/html';\n",
       "  var EXEC_MIME_TYPE = 'application/vnd.bokehjs_exec.v0+json';\n",
       "  var CLASS_NAME = 'output_bokeh rendered_html';\n",
       "\n",
       "  /**\n",
       "   * Render data to the DOM node\n",
       "   */\n",
       "  function render(props, node) {\n",
       "    var script = document.createElement(\"script\");\n",
       "    node.appendChild(script);\n",
       "  }\n",
       "\n",
       "  /**\n",
       "   * Handle when an output is cleared or removed\n",
       "   */\n",
       "  function handleClearOutput(event, handle) {\n",
       "    var cell = handle.cell;\n",
       "\n",
       "    var id = cell.output_area._bokeh_element_id;\n",
       "    var server_id = cell.output_area._bokeh_server_id;\n",
       "    // Clean up Bokeh references\n",
       "    if (id != null && id in Bokeh.index) {\n",
       "      Bokeh.index[id].model.document.clear();\n",
       "      delete Bokeh.index[id];\n",
       "    }\n",
       "\n",
       "    if (server_id !== undefined) {\n",
       "      // Clean up Bokeh references\n",
       "      var cmd = \"from bokeh.io.state import curstate; print(curstate().uuid_to_server['\" + server_id + \"'].get_sessions()[0].document.roots[0]._id)\";\n",
       "      cell.notebook.kernel.execute(cmd, {\n",
       "        iopub: {\n",
       "          output: function(msg) {\n",
       "            var id = msg.content.text.trim();\n",
       "            if (id in Bokeh.index) {\n",
       "              Bokeh.index[id].model.document.clear();\n",
       "              delete Bokeh.index[id];\n",
       "            }\n",
       "          }\n",
       "        }\n",
       "      });\n",
       "      // Destroy server and session\n",
       "      var cmd = \"import bokeh.io.notebook as ion; ion.destroy_server('\" + server_id + \"')\";\n",
       "      cell.notebook.kernel.execute(cmd);\n",
       "    }\n",
       "  }\n",
       "\n",
       "  /**\n",
       "   * Handle when a new output is added\n",
       "   */\n",
       "  function handleAddOutput(event, handle) {\n",
       "    var output_area = handle.output_area;\n",
       "    var output = handle.output;\n",
       "\n",
       "    // limit handleAddOutput to display_data with EXEC_MIME_TYPE content only\n",
       "    if ((output.output_type != \"display_data\") || (!output.data.hasOwnProperty(EXEC_MIME_TYPE))) {\n",
       "      return\n",
       "    }\n",
       "\n",
       "    var toinsert = output_area.element.find(\".\" + CLASS_NAME.split(' ')[0]);\n",
       "\n",
       "    if (output.metadata[EXEC_MIME_TYPE][\"id\"] !== undefined) {\n",
       "      toinsert[toinsert.length - 1].firstChild.textContent = output.data[JS_MIME_TYPE];\n",
       "      // store reference to embed id on output_area\n",
       "      output_area._bokeh_element_id = output.metadata[EXEC_MIME_TYPE][\"id\"];\n",
       "    }\n",
       "    if (output.metadata[EXEC_MIME_TYPE][\"server_id\"] !== undefined) {\n",
       "      var bk_div = document.createElement(\"div\");\n",
       "      bk_div.innerHTML = output.data[HTML_MIME_TYPE];\n",
       "      var script_attrs = bk_div.children[0].attributes;\n",
       "      for (var i = 0; i < script_attrs.length; i++) {\n",
       "        toinsert[toinsert.length - 1].firstChild.setAttribute(script_attrs[i].name, script_attrs[i].value);\n",
       "      }\n",
       "      // store reference to server id on output_area\n",
       "      output_area._bokeh_server_id = output.metadata[EXEC_MIME_TYPE][\"server_id\"];\n",
       "    }\n",
       "  }\n",
       "\n",
       "  function register_renderer(events, OutputArea) {\n",
       "\n",
       "    function append_mime(data, metadata, element) {\n",
       "      // create a DOM node to render to\n",
       "      var toinsert = this.create_output_subarea(\n",
       "        metadata,\n",
       "        CLASS_NAME,\n",
       "        EXEC_MIME_TYPE\n",
       "      );\n",
       "      this.keyboard_manager.register_events(toinsert);\n",
       "      // Render to node\n",
       "      var props = {data: data, metadata: metadata[EXEC_MIME_TYPE]};\n",
       "      render(props, toinsert[toinsert.length - 1]);\n",
       "      element.append(toinsert);\n",
       "      return toinsert\n",
       "    }\n",
       "\n",
       "    /* Handle when an output is cleared or removed */\n",
       "    events.on('clear_output.CodeCell', handleClearOutput);\n",
       "    events.on('delete.Cell', handleClearOutput);\n",
       "\n",
       "    /* Handle when a new output is added */\n",
       "    events.on('output_added.OutputArea', handleAddOutput);\n",
       "\n",
       "    /**\n",
       "     * Register the mime type and append_mime function with output_area\n",
       "     */\n",
       "    OutputArea.prototype.register_mime_type(EXEC_MIME_TYPE, append_mime, {\n",
       "      /* Is output safe? */\n",
       "      safe: true,\n",
       "      /* Index of renderer in `output_area.display_order` */\n",
       "      index: 0\n",
       "    });\n",
       "  }\n",
       "\n",
       "  // register the mime type if in Jupyter Notebook environment and previously unregistered\n",
       "  if (root.Jupyter !== undefined) {\n",
       "    var events = require('base/js/events');\n",
       "    var OutputArea = require('notebook/js/outputarea').OutputArea;\n",
       "\n",
       "    if (OutputArea.prototype.mime_types().indexOf(EXEC_MIME_TYPE) == -1) {\n",
       "      register_renderer(events, OutputArea);\n",
       "    }\n",
       "  }\n",
       "\n",
       "  \n",
       "  if (typeof (root._bokeh_timeout) === \"undefined\" || force === true) {\n",
       "    root._bokeh_timeout = Date.now() + 5000;\n",
       "    root._bokeh_failed_load = false;\n",
       "  }\n",
       "\n",
       "  var NB_LOAD_WARNING = {'data': {'text/html':\n",
       "     \"<div style='background-color: #fdd'>\\n\"+\n",
       "     \"<p>\\n\"+\n",
       "     \"BokehJS does not appear to have successfully loaded. If loading BokehJS from CDN, this \\n\"+\n",
       "     \"may be due to a slow or bad network connection. Possible fixes:\\n\"+\n",
       "     \"</p>\\n\"+\n",
       "     \"<ul>\\n\"+\n",
       "     \"<li>re-rerun `output_notebook()` to attempt to load from CDN again, or</li>\\n\"+\n",
       "     \"<li>use INLINE resources instead, as so:</li>\\n\"+\n",
       "     \"</ul>\\n\"+\n",
       "     \"<code>\\n\"+\n",
       "     \"from bokeh.resources import INLINE\\n\"+\n",
       "     \"output_notebook(resources=INLINE)\\n\"+\n",
       "     \"</code>\\n\"+\n",
       "     \"</div>\"}};\n",
       "\n",
       "  function display_loaded() {\n",
       "    var el = document.getElementById(\"1199\");\n",
       "    if (el != null) {\n",
       "      el.textContent = \"BokehJS is loading...\";\n",
       "    }\n",
       "    if (root.Bokeh !== undefined) {\n",
       "      if (el != null) {\n",
       "        el.textContent = \"BokehJS \" + root.Bokeh.version + \" successfully loaded.\";\n",
       "      }\n",
       "    } else if (Date.now() < root._bokeh_timeout) {\n",
       "      setTimeout(display_loaded, 100)\n",
       "    }\n",
       "  }\n",
       "\n",
       "\n",
       "  function run_callbacks() {\n",
       "    try {\n",
       "      root._bokeh_onload_callbacks.forEach(function(callback) {\n",
       "        if (callback != null)\n",
       "          callback();\n",
       "      });\n",
       "    } finally {\n",
       "      delete root._bokeh_onload_callbacks\n",
       "    }\n",
       "    console.debug(\"Bokeh: all callbacks have finished\");\n",
       "  }\n",
       "\n",
       "  function load_libs(css_urls, js_urls, callback) {\n",
       "    if (css_urls == null) css_urls = [];\n",
       "    if (js_urls == null) js_urls = [];\n",
       "\n",
       "    root._bokeh_onload_callbacks.push(callback);\n",
       "    if (root._bokeh_is_loading > 0) {\n",
       "      console.debug(\"Bokeh: BokehJS is being loaded, scheduling callback at\", now());\n",
       "      return null;\n",
       "    }\n",
       "    if (js_urls == null || js_urls.length === 0) {\n",
       "      run_callbacks();\n",
       "      return null;\n",
       "    }\n",
       "    console.debug(\"Bokeh: BokehJS not loaded, scheduling load and callback at\", now());\n",
       "    root._bokeh_is_loading = css_urls.length + js_urls.length;\n",
       "\n",
       "    function on_load() {\n",
       "      root._bokeh_is_loading--;\n",
       "      if (root._bokeh_is_loading === 0) {\n",
       "        console.debug(\"Bokeh: all BokehJS libraries/stylesheets loaded\");\n",
       "        run_callbacks()\n",
       "      }\n",
       "    }\n",
       "\n",
       "    function on_error() {\n",
       "      console.error(\"failed to load \" + url);\n",
       "    }\n",
       "\n",
       "    for (var i = 0; i < css_urls.length; i++) {\n",
       "      var url = css_urls[i];\n",
       "      const element = document.createElement(\"link\");\n",
       "      element.onload = on_load;\n",
       "      element.onerror = on_error;\n",
       "      element.rel = \"stylesheet\";\n",
       "      element.type = \"text/css\";\n",
       "      element.href = url;\n",
       "      console.debug(\"Bokeh: injecting link tag for BokehJS stylesheet: \", url);\n",
       "      document.body.appendChild(element);\n",
       "    }\n",
       "\n",
       "    for (var i = 0; i < js_urls.length; i++) {\n",
       "      var url = js_urls[i];\n",
       "      var element = document.createElement('script');\n",
       "      element.onload = on_load;\n",
       "      element.onerror = on_error;\n",
       "      element.async = false;\n",
       "      element.src = url;\n",
       "      console.debug(\"Bokeh: injecting script tag for BokehJS library: \", url);\n",
       "      document.head.appendChild(element);\n",
       "    }\n",
       "  };var element = document.getElementById(\"1199\");\n",
       "  if (element == null) {\n",
       "    console.error(\"Bokeh: ERROR: autoload.js configured with elementid '1199' but no matching script tag was found. \")\n",
       "    return false;\n",
       "  }\n",
       "\n",
       "  function inject_raw_css(css) {\n",
       "    const element = document.createElement(\"style\");\n",
       "    element.appendChild(document.createTextNode(css));\n",
       "    document.body.appendChild(element);\n",
       "  }\n",
       "\n",
       "  \n",
       "  var js_urls = [\"https://cdn.pydata.org/bokeh/release/bokeh-1.4.0.min.js\", \"https://cdn.pydata.org/bokeh/release/bokeh-widgets-1.4.0.min.js\", \"https://cdn.pydata.org/bokeh/release/bokeh-tables-1.4.0.min.js\", \"https://cdn.pydata.org/bokeh/release/bokeh-gl-1.4.0.min.js\"];\n",
       "  var css_urls = [];\n",
       "  \n",
       "\n",
       "  var inline_js = [\n",
       "    function(Bokeh) {\n",
       "      Bokeh.set_log_level(\"info\");\n",
       "    },\n",
       "    function(Bokeh) {\n",
       "    \n",
       "    \n",
       "    }\n",
       "  ];\n",
       "\n",
       "  function run_inline_js() {\n",
       "    \n",
       "    if (root.Bokeh !== undefined || force === true) {\n",
       "      \n",
       "    for (var i = 0; i < inline_js.length; i++) {\n",
       "      inline_js[i].call(root, root.Bokeh);\n",
       "    }\n",
       "    if (force === true) {\n",
       "        display_loaded();\n",
       "      }} else if (Date.now() < root._bokeh_timeout) {\n",
       "      setTimeout(run_inline_js, 100);\n",
       "    } else if (!root._bokeh_failed_load) {\n",
       "      console.log(\"Bokeh: BokehJS failed to load within specified timeout.\");\n",
       "      root._bokeh_failed_load = true;\n",
       "    } else if (force !== true) {\n",
       "      var cell = $(document.getElementById(\"1199\")).parents('.cell').data().cell;\n",
       "      cell.output_area.append_execute_result(NB_LOAD_WARNING)\n",
       "    }\n",
       "\n",
       "  }\n",
       "\n",
       "  if (root._bokeh_is_loading === 0) {\n",
       "    console.debug(\"Bokeh: BokehJS loaded, going straight to plotting\");\n",
       "    run_inline_js();\n",
       "  } else {\n",
       "    load_libs(css_urls, js_urls, function() {\n",
       "      console.debug(\"Bokeh: BokehJS plotting callback run at\", now());\n",
       "      run_inline_js();\n",
       "    });\n",
       "  }\n",
       "}(window));"
      ],
      "application/vnd.bokehjs_load.v0+json": "\n(function(root) {\n  function now() {\n    return new Date();\n  }\n\n  var force = true;\n\n  if (typeof root._bokeh_onload_callbacks === \"undefined\" || force === true) {\n    root._bokeh_onload_callbacks = [];\n    root._bokeh_is_loading = undefined;\n  }\n\n  \n\n  \n  if (typeof (root._bokeh_timeout) === \"undefined\" || force === true) {\n    root._bokeh_timeout = Date.now() + 5000;\n    root._bokeh_failed_load = false;\n  }\n\n  var NB_LOAD_WARNING = {'data': {'text/html':\n     \"<div style='background-color: #fdd'>\\n\"+\n     \"<p>\\n\"+\n     \"BokehJS does not appear to have successfully loaded. If loading BokehJS from CDN, this \\n\"+\n     \"may be due to a slow or bad network connection. Possible fixes:\\n\"+\n     \"</p>\\n\"+\n     \"<ul>\\n\"+\n     \"<li>re-rerun `output_notebook()` to attempt to load from CDN again, or</li>\\n\"+\n     \"<li>use INLINE resources instead, as so:</li>\\n\"+\n     \"</ul>\\n\"+\n     \"<code>\\n\"+\n     \"from bokeh.resources import INLINE\\n\"+\n     \"output_notebook(resources=INLINE)\\n\"+\n     \"</code>\\n\"+\n     \"</div>\"}};\n\n  function display_loaded() {\n    var el = document.getElementById(\"1199\");\n    if (el != null) {\n      el.textContent = \"BokehJS is loading...\";\n    }\n    if (root.Bokeh !== undefined) {\n      if (el != null) {\n        el.textContent = \"BokehJS \" + root.Bokeh.version + \" successfully loaded.\";\n      }\n    } else if (Date.now() < root._bokeh_timeout) {\n      setTimeout(display_loaded, 100)\n    }\n  }\n\n\n  function run_callbacks() {\n    try {\n      root._bokeh_onload_callbacks.forEach(function(callback) {\n        if (callback != null)\n          callback();\n      });\n    } finally {\n      delete root._bokeh_onload_callbacks\n    }\n    console.debug(\"Bokeh: all callbacks have finished\");\n  }\n\n  function load_libs(css_urls, js_urls, callback) {\n    if (css_urls == null) css_urls = [];\n    if (js_urls == null) js_urls = [];\n\n    root._bokeh_onload_callbacks.push(callback);\n    if (root._bokeh_is_loading > 0) {\n      console.debug(\"Bokeh: BokehJS is being loaded, scheduling callback at\", now());\n      return null;\n    }\n    if (js_urls == null || js_urls.length === 0) {\n      run_callbacks();\n      return null;\n    }\n    console.debug(\"Bokeh: BokehJS not loaded, scheduling load and callback at\", now());\n    root._bokeh_is_loading = css_urls.length + js_urls.length;\n\n    function on_load() {\n      root._bokeh_is_loading--;\n      if (root._bokeh_is_loading === 0) {\n        console.debug(\"Bokeh: all BokehJS libraries/stylesheets loaded\");\n        run_callbacks()\n      }\n    }\n\n    function on_error() {\n      console.error(\"failed to load \" + url);\n    }\n\n    for (var i = 0; i < css_urls.length; i++) {\n      var url = css_urls[i];\n      const element = document.createElement(\"link\");\n      element.onload = on_load;\n      element.onerror = on_error;\n      element.rel = \"stylesheet\";\n      element.type = \"text/css\";\n      element.href = url;\n      console.debug(\"Bokeh: injecting link tag for BokehJS stylesheet: \", url);\n      document.body.appendChild(element);\n    }\n\n    for (var i = 0; i < js_urls.length; i++) {\n      var url = js_urls[i];\n      var element = document.createElement('script');\n      element.onload = on_load;\n      element.onerror = on_error;\n      element.async = false;\n      element.src = url;\n      console.debug(\"Bokeh: injecting script tag for BokehJS library: \", url);\n      document.head.appendChild(element);\n    }\n  };var element = document.getElementById(\"1199\");\n  if (element == null) {\n    console.error(\"Bokeh: ERROR: autoload.js configured with elementid '1199' but no matching script tag was found. \")\n    return false;\n  }\n\n  function inject_raw_css(css) {\n    const element = document.createElement(\"style\");\n    element.appendChild(document.createTextNode(css));\n    document.body.appendChild(element);\n  }\n\n  \n  var js_urls = [\"https://cdn.pydata.org/bokeh/release/bokeh-1.4.0.min.js\", \"https://cdn.pydata.org/bokeh/release/bokeh-widgets-1.4.0.min.js\", \"https://cdn.pydata.org/bokeh/release/bokeh-tables-1.4.0.min.js\", \"https://cdn.pydata.org/bokeh/release/bokeh-gl-1.4.0.min.js\"];\n  var css_urls = [];\n  \n\n  var inline_js = [\n    function(Bokeh) {\n      Bokeh.set_log_level(\"info\");\n    },\n    function(Bokeh) {\n    \n    \n    }\n  ];\n\n  function run_inline_js() {\n    \n    if (root.Bokeh !== undefined || force === true) {\n      \n    for (var i = 0; i < inline_js.length; i++) {\n      inline_js[i].call(root, root.Bokeh);\n    }\n    if (force === true) {\n        display_loaded();\n      }} else if (Date.now() < root._bokeh_timeout) {\n      setTimeout(run_inline_js, 100);\n    } else if (!root._bokeh_failed_load) {\n      console.log(\"Bokeh: BokehJS failed to load within specified timeout.\");\n      root._bokeh_failed_load = true;\n    } else if (force !== true) {\n      var cell = $(document.getElementById(\"1199\")).parents('.cell').data().cell;\n      cell.output_area.append_execute_result(NB_LOAD_WARNING)\n    }\n\n  }\n\n  if (root._bokeh_is_loading === 0) {\n    console.debug(\"Bokeh: BokehJS loaded, going straight to plotting\");\n    run_inline_js();\n  } else {\n    load_libs(css_urls, js_urls, function() {\n      console.debug(\"Bokeh: BokehJS plotting callback run at\", now());\n      run_inline_js();\n    });\n  }\n}(window));"
     },
     "metadata": {},
     "output_type": "display_data"
    },
    {
     "data": {
      "text/html": [
       "\n",
       "\n",
       "\n",
       "\n",
       "\n",
       "\n",
       "  <div class=\"bk-root\" id=\"cc692db2-1767-4111-9262-0bb757b35aec\" data-root-id=\"1200\"></div>\n"
      ]
     },
     "metadata": {},
     "output_type": "display_data"
    },
    {
     "data": {
      "application/javascript": [
       "(function(root) {\n",
       "  function embed_document(root) {\n",
       "    \n",
       "  var docs_json = {\"7d41724c-49be-419a-b1ae-299f8a8f1aab\":{\"roots\":{\"references\":[{\"attributes\":{\"below\":[{\"id\":\"1211\",\"type\":\"CategoricalAxis\"}],\"center\":[{\"id\":\"1214\",\"type\":\"Grid\"},{\"id\":\"1219\",\"type\":\"Grid\"}],\"left\":[{\"id\":\"1215\",\"type\":\"LinearAxis\"}],\"plot_height\":350,\"renderers\":[{\"id\":\"1236\",\"type\":\"GlyphRenderer\"}],\"title\":{\"id\":\"1201\",\"type\":\"Title\"},\"toolbar\":{\"id\":\"1226\",\"type\":\"Toolbar\"},\"x_range\":{\"id\":\"1203\",\"type\":\"FactorRange\"},\"x_scale\":{\"id\":\"1207\",\"type\":\"CategoricalScale\"},\"y_range\":{\"id\":\"1205\",\"type\":\"DataRange1d\"},\"y_scale\":{\"id\":\"1209\",\"type\":\"LinearScale\"}},\"id\":\"1200\",\"subtype\":\"Figure\",\"type\":\"Plot\"},{\"attributes\":{},\"id\":\"1225\",\"type\":\"HelpTool\"},{\"attributes\":{\"callback\":null,\"factors\":[\"2600.0\",\"2635.2\",\"2670.4\",\"2705.6\",\"2740.8\"]},\"id\":\"1203\",\"type\":\"FactorRange\"},{\"attributes\":{\"active_drag\":\"auto\",\"active_inspect\":\"auto\",\"active_multi\":null,\"active_scroll\":\"auto\",\"active_tap\":\"auto\",\"tools\":[{\"id\":\"1220\",\"type\":\"PanTool\"},{\"id\":\"1221\",\"type\":\"WheelZoomTool\"},{\"id\":\"1222\",\"type\":\"BoxZoomTool\"},{\"id\":\"1223\",\"type\":\"SaveTool\"},{\"id\":\"1224\",\"type\":\"ResetTool\"},{\"id\":\"1225\",\"type\":\"HelpTool\"}]},\"id\":\"1226\",\"type\":\"Toolbar\"},{\"attributes\":{\"data_source\":{\"id\":\"1233\",\"type\":\"ColumnDataSource\"},\"glyph\":{\"id\":\"1234\",\"type\":\"VBar\"},\"hover_glyph\":null,\"muted_glyph\":null,\"nonselection_glyph\":{\"id\":\"1235\",\"type\":\"VBar\"},\"selection_glyph\":null,\"view\":{\"id\":\"1237\",\"type\":\"CDSView\"}},\"id\":\"1236\",\"type\":\"GlyphRenderer\"},{\"attributes\":{\"callback\":null},\"id\":\"1205\",\"type\":\"DataRange1d\"},{\"attributes\":{},\"id\":\"1207\",\"type\":\"CategoricalScale\"},{\"attributes\":{\"source\":{\"id\":\"1233\",\"type\":\"ColumnDataSource\"}},\"id\":\"1237\",\"type\":\"CDSView\"},{\"attributes\":{\"callback\":null,\"data\":{\"top\":[1,0,0,0,1],\"x\":[\"2600.0\",\"2635.2\",\"2670.4\",\"2705.6\",\"2740.8\"]},\"selected\":{\"id\":\"1260\",\"type\":\"Selection\"},\"selection_policy\":{\"id\":\"1259\",\"type\":\"UnionRenderers\"}},\"id\":\"1233\",\"type\":\"ColumnDataSource\"},{\"attributes\":{},\"id\":\"1209\",\"type\":\"LinearScale\"},{\"attributes\":{},\"id\":\"1257\",\"type\":\"CategoricalTickFormatter\"},{\"attributes\":{\"formatter\":{\"id\":\"1257\",\"type\":\"CategoricalTickFormatter\"},\"ticker\":{\"id\":\"1212\",\"type\":\"CategoricalTicker\"}},\"id\":\"1211\",\"type\":\"CategoricalAxis\"},{\"attributes\":{\"text\":\"Histogram of Monthly Wage\"},\"id\":\"1201\",\"type\":\"Title\"},{\"attributes\":{},\"id\":\"1212\",\"type\":\"CategoricalTicker\"},{\"attributes\":{},\"id\":\"1259\",\"type\":\"UnionRenderers\"},{\"attributes\":{\"ticker\":{\"id\":\"1212\",\"type\":\"CategoricalTicker\"}},\"id\":\"1214\",\"type\":\"Grid\"},{\"attributes\":{},\"id\":\"1260\",\"type\":\"Selection\"},{\"attributes\":{\"formatter\":{\"id\":\"1255\",\"type\":\"BasicTickFormatter\"},\"ticker\":{\"id\":\"1216\",\"type\":\"BasicTicker\"}},\"id\":\"1215\",\"type\":\"LinearAxis\"},{\"attributes\":{\"bottom_units\":\"screen\",\"fill_alpha\":{\"value\":0.5},\"fill_color\":{\"value\":\"lightgrey\"},\"left_units\":\"screen\",\"level\":\"overlay\",\"line_alpha\":{\"value\":1.0},\"line_color\":{\"value\":\"black\"},\"line_dash\":[4,4],\"line_width\":{\"value\":2},\"render_mode\":\"css\",\"right_units\":\"screen\",\"top_units\":\"screen\"},\"id\":\"1261\",\"type\":\"BoxAnnotation\"},{\"attributes\":{},\"id\":\"1216\",\"type\":\"BasicTicker\"},{\"attributes\":{\"dimension\":1,\"ticker\":{\"id\":\"1216\",\"type\":\"BasicTicker\"}},\"id\":\"1219\",\"type\":\"Grid\"},{\"attributes\":{\"fill_alpha\":{\"value\":0.1},\"fill_color\":{\"value\":\"#1f77b4\"},\"line_alpha\":{\"value\":0.1},\"line_color\":{\"value\":\"#1f77b4\"},\"top\":{\"field\":\"top\"},\"width\":{\"value\":0.9},\"x\":{\"field\":\"x\"}},\"id\":\"1235\",\"type\":\"VBar\"},{\"attributes\":{\"fill_color\":{\"value\":\"#1f77b4\"},\"line_color\":{\"value\":\"#1f77b4\"},\"top\":{\"field\":\"top\"},\"width\":{\"value\":0.9},\"x\":{\"field\":\"x\"}},\"id\":\"1234\",\"type\":\"VBar\"},{\"attributes\":{},\"id\":\"1220\",\"type\":\"PanTool\"},{\"attributes\":{},\"id\":\"1221\",\"type\":\"WheelZoomTool\"},{\"attributes\":{\"overlay\":{\"id\":\"1261\",\"type\":\"BoxAnnotation\"}},\"id\":\"1222\",\"type\":\"BoxZoomTool\"},{\"attributes\":{},\"id\":\"1223\",\"type\":\"SaveTool\"},{\"attributes\":{},\"id\":\"1255\",\"type\":\"BasicTickFormatter\"},{\"attributes\":{},\"id\":\"1224\",\"type\":\"ResetTool\"}],\"root_ids\":[\"1200\"]},\"title\":\"Bokeh Application\",\"version\":\"1.4.0\"}};\n",
       "  var render_items = [{\"docid\":\"7d41724c-49be-419a-b1ae-299f8a8f1aab\",\"roots\":{\"1200\":\"cc692db2-1767-4111-9262-0bb757b35aec\"}}];\n",
       "  root.Bokeh.embed.embed_items_notebook(docs_json, render_items);\n",
       "\n",
       "  }\n",
       "  if (root.Bokeh !== undefined) {\n",
       "    embed_document(root);\n",
       "  } else {\n",
       "    var attempts = 0;\n",
       "    var timer = setInterval(function(root) {\n",
       "      if (root.Bokeh !== undefined) {\n",
       "        clearInterval(timer);\n",
       "        embed_document(root);\n",
       "      } else {\n",
       "        attempts++;\n",
       "        if (attempts > 100) {\n",
       "          clearInterval(timer);\n",
       "          console.log(\"Bokeh: ERROR: Unable to run BokehJS code because BokehJS library is missing\");\n",
       "        }\n",
       "      }\n",
       "    }, 10, root)\n",
       "  }\n",
       "})(window);"
      ],
      "application/vnd.bokehjs_exec.v0+json": ""
     },
     "metadata": {
      "application/vnd.bokehjs_exec.v0+json": {
       "id": "1200"
      }
     },
     "output_type": "display_data"
    }
   ],
   "source": [
    "%%local\n",
    "#local magic indicates that this cell will run locally (rather than on cluster)\n",
    "#use Bokeh library ti draw the histogram\n",
    "from bokeh.io import show\n",
    "from bokeh.plotting import figure\n",
    "from bokeh.io import output_notebook\n",
    "output_notebook()\n",
    "\n",
    "labels = [str(round(e, 2)) for e in hist_wage_mth['bins']]\n",
    "\n",
    "p = figure(\n",
    "    x_range=labels, \n",
    "    plot_height=350, \n",
    "    title='Histogram of Monthly Wage'\n",
    ")\n",
    "\n",
    "p.vbar(x=labels, top=hist_wage_mth['counts'], width=0.9)\n",
    "\n",
    "show(p)"
   ]
  },
  {
   "cell_type": "markdown",
   "metadata": {},
   "source": [
    "<p>As stated previously, due to our low sample size, we are not able to create an analysis to relate to our dataset. We can see that the ranges between the two people who receive wages as monthly, are close to eachother. One person falls within the bin range of \\$2600.00 while the other falls within the bin range of \\$2740.80."
   ]
  },
  {
   "cell_type": "markdown",
   "metadata": {},
   "source": [
    "<h3>Histogram for wage_bi"
   ]
  },
  {
   "cell_type": "code",
   "execution_count": 43,
   "metadata": {},
   "outputs": [
    {
     "data": {
      "text/html": [
       "\n",
       "    <div class=\"bk-root\">\n",
       "        <a href=\"https://bokeh.org\" target=\"_blank\" class=\"bk-logo bk-logo-small bk-logo-notebook\"></a>\n",
       "        <span id=\"1310\">Loading BokehJS ...</span>\n",
       "    </div>"
      ]
     },
     "metadata": {},
     "output_type": "display_data"
    },
    {
     "data": {
      "application/javascript": [
       "\n",
       "(function(root) {\n",
       "  function now() {\n",
       "    return new Date();\n",
       "  }\n",
       "\n",
       "  var force = true;\n",
       "\n",
       "  if (typeof root._bokeh_onload_callbacks === \"undefined\" || force === true) {\n",
       "    root._bokeh_onload_callbacks = [];\n",
       "    root._bokeh_is_loading = undefined;\n",
       "  }\n",
       "\n",
       "  var JS_MIME_TYPE = 'application/javascript';\n",
       "  var HTML_MIME_TYPE = 'text/html';\n",
       "  var EXEC_MIME_TYPE = 'application/vnd.bokehjs_exec.v0+json';\n",
       "  var CLASS_NAME = 'output_bokeh rendered_html';\n",
       "\n",
       "  /**\n",
       "   * Render data to the DOM node\n",
       "   */\n",
       "  function render(props, node) {\n",
       "    var script = document.createElement(\"script\");\n",
       "    node.appendChild(script);\n",
       "  }\n",
       "\n",
       "  /**\n",
       "   * Handle when an output is cleared or removed\n",
       "   */\n",
       "  function handleClearOutput(event, handle) {\n",
       "    var cell = handle.cell;\n",
       "\n",
       "    var id = cell.output_area._bokeh_element_id;\n",
       "    var server_id = cell.output_area._bokeh_server_id;\n",
       "    // Clean up Bokeh references\n",
       "    if (id != null && id in Bokeh.index) {\n",
       "      Bokeh.index[id].model.document.clear();\n",
       "      delete Bokeh.index[id];\n",
       "    }\n",
       "\n",
       "    if (server_id !== undefined) {\n",
       "      // Clean up Bokeh references\n",
       "      var cmd = \"from bokeh.io.state import curstate; print(curstate().uuid_to_server['\" + server_id + \"'].get_sessions()[0].document.roots[0]._id)\";\n",
       "      cell.notebook.kernel.execute(cmd, {\n",
       "        iopub: {\n",
       "          output: function(msg) {\n",
       "            var id = msg.content.text.trim();\n",
       "            if (id in Bokeh.index) {\n",
       "              Bokeh.index[id].model.document.clear();\n",
       "              delete Bokeh.index[id];\n",
       "            }\n",
       "          }\n",
       "        }\n",
       "      });\n",
       "      // Destroy server and session\n",
       "      var cmd = \"import bokeh.io.notebook as ion; ion.destroy_server('\" + server_id + \"')\";\n",
       "      cell.notebook.kernel.execute(cmd);\n",
       "    }\n",
       "  }\n",
       "\n",
       "  /**\n",
       "   * Handle when a new output is added\n",
       "   */\n",
       "  function handleAddOutput(event, handle) {\n",
       "    var output_area = handle.output_area;\n",
       "    var output = handle.output;\n",
       "\n",
       "    // limit handleAddOutput to display_data with EXEC_MIME_TYPE content only\n",
       "    if ((output.output_type != \"display_data\") || (!output.data.hasOwnProperty(EXEC_MIME_TYPE))) {\n",
       "      return\n",
       "    }\n",
       "\n",
       "    var toinsert = output_area.element.find(\".\" + CLASS_NAME.split(' ')[0]);\n",
       "\n",
       "    if (output.metadata[EXEC_MIME_TYPE][\"id\"] !== undefined) {\n",
       "      toinsert[toinsert.length - 1].firstChild.textContent = output.data[JS_MIME_TYPE];\n",
       "      // store reference to embed id on output_area\n",
       "      output_area._bokeh_element_id = output.metadata[EXEC_MIME_TYPE][\"id\"];\n",
       "    }\n",
       "    if (output.metadata[EXEC_MIME_TYPE][\"server_id\"] !== undefined) {\n",
       "      var bk_div = document.createElement(\"div\");\n",
       "      bk_div.innerHTML = output.data[HTML_MIME_TYPE];\n",
       "      var script_attrs = bk_div.children[0].attributes;\n",
       "      for (var i = 0; i < script_attrs.length; i++) {\n",
       "        toinsert[toinsert.length - 1].firstChild.setAttribute(script_attrs[i].name, script_attrs[i].value);\n",
       "      }\n",
       "      // store reference to server id on output_area\n",
       "      output_area._bokeh_server_id = output.metadata[EXEC_MIME_TYPE][\"server_id\"];\n",
       "    }\n",
       "  }\n",
       "\n",
       "  function register_renderer(events, OutputArea) {\n",
       "\n",
       "    function append_mime(data, metadata, element) {\n",
       "      // create a DOM node to render to\n",
       "      var toinsert = this.create_output_subarea(\n",
       "        metadata,\n",
       "        CLASS_NAME,\n",
       "        EXEC_MIME_TYPE\n",
       "      );\n",
       "      this.keyboard_manager.register_events(toinsert);\n",
       "      // Render to node\n",
       "      var props = {data: data, metadata: metadata[EXEC_MIME_TYPE]};\n",
       "      render(props, toinsert[toinsert.length - 1]);\n",
       "      element.append(toinsert);\n",
       "      return toinsert\n",
       "    }\n",
       "\n",
       "    /* Handle when an output is cleared or removed */\n",
       "    events.on('clear_output.CodeCell', handleClearOutput);\n",
       "    events.on('delete.Cell', handleClearOutput);\n",
       "\n",
       "    /* Handle when a new output is added */\n",
       "    events.on('output_added.OutputArea', handleAddOutput);\n",
       "\n",
       "    /**\n",
       "     * Register the mime type and append_mime function with output_area\n",
       "     */\n",
       "    OutputArea.prototype.register_mime_type(EXEC_MIME_TYPE, append_mime, {\n",
       "      /* Is output safe? */\n",
       "      safe: true,\n",
       "      /* Index of renderer in `output_area.display_order` */\n",
       "      index: 0\n",
       "    });\n",
       "  }\n",
       "\n",
       "  // register the mime type if in Jupyter Notebook environment and previously unregistered\n",
       "  if (root.Jupyter !== undefined) {\n",
       "    var events = require('base/js/events');\n",
       "    var OutputArea = require('notebook/js/outputarea').OutputArea;\n",
       "\n",
       "    if (OutputArea.prototype.mime_types().indexOf(EXEC_MIME_TYPE) == -1) {\n",
       "      register_renderer(events, OutputArea);\n",
       "    }\n",
       "  }\n",
       "\n",
       "  \n",
       "  if (typeof (root._bokeh_timeout) === \"undefined\" || force === true) {\n",
       "    root._bokeh_timeout = Date.now() + 5000;\n",
       "    root._bokeh_failed_load = false;\n",
       "  }\n",
       "\n",
       "  var NB_LOAD_WARNING = {'data': {'text/html':\n",
       "     \"<div style='background-color: #fdd'>\\n\"+\n",
       "     \"<p>\\n\"+\n",
       "     \"BokehJS does not appear to have successfully loaded. If loading BokehJS from CDN, this \\n\"+\n",
       "     \"may be due to a slow or bad network connection. Possible fixes:\\n\"+\n",
       "     \"</p>\\n\"+\n",
       "     \"<ul>\\n\"+\n",
       "     \"<li>re-rerun `output_notebook()` to attempt to load from CDN again, or</li>\\n\"+\n",
       "     \"<li>use INLINE resources instead, as so:</li>\\n\"+\n",
       "     \"</ul>\\n\"+\n",
       "     \"<code>\\n\"+\n",
       "     \"from bokeh.resources import INLINE\\n\"+\n",
       "     \"output_notebook(resources=INLINE)\\n\"+\n",
       "     \"</code>\\n\"+\n",
       "     \"</div>\"}};\n",
       "\n",
       "  function display_loaded() {\n",
       "    var el = document.getElementById(\"1310\");\n",
       "    if (el != null) {\n",
       "      el.textContent = \"BokehJS is loading...\";\n",
       "    }\n",
       "    if (root.Bokeh !== undefined) {\n",
       "      if (el != null) {\n",
       "        el.textContent = \"BokehJS \" + root.Bokeh.version + \" successfully loaded.\";\n",
       "      }\n",
       "    } else if (Date.now() < root._bokeh_timeout) {\n",
       "      setTimeout(display_loaded, 100)\n",
       "    }\n",
       "  }\n",
       "\n",
       "\n",
       "  function run_callbacks() {\n",
       "    try {\n",
       "      root._bokeh_onload_callbacks.forEach(function(callback) {\n",
       "        if (callback != null)\n",
       "          callback();\n",
       "      });\n",
       "    } finally {\n",
       "      delete root._bokeh_onload_callbacks\n",
       "    }\n",
       "    console.debug(\"Bokeh: all callbacks have finished\");\n",
       "  }\n",
       "\n",
       "  function load_libs(css_urls, js_urls, callback) {\n",
       "    if (css_urls == null) css_urls = [];\n",
       "    if (js_urls == null) js_urls = [];\n",
       "\n",
       "    root._bokeh_onload_callbacks.push(callback);\n",
       "    if (root._bokeh_is_loading > 0) {\n",
       "      console.debug(\"Bokeh: BokehJS is being loaded, scheduling callback at\", now());\n",
       "      return null;\n",
       "    }\n",
       "    if (js_urls == null || js_urls.length === 0) {\n",
       "      run_callbacks();\n",
       "      return null;\n",
       "    }\n",
       "    console.debug(\"Bokeh: BokehJS not loaded, scheduling load and callback at\", now());\n",
       "    root._bokeh_is_loading = css_urls.length + js_urls.length;\n",
       "\n",
       "    function on_load() {\n",
       "      root._bokeh_is_loading--;\n",
       "      if (root._bokeh_is_loading === 0) {\n",
       "        console.debug(\"Bokeh: all BokehJS libraries/stylesheets loaded\");\n",
       "        run_callbacks()\n",
       "      }\n",
       "    }\n",
       "\n",
       "    function on_error() {\n",
       "      console.error(\"failed to load \" + url);\n",
       "    }\n",
       "\n",
       "    for (var i = 0; i < css_urls.length; i++) {\n",
       "      var url = css_urls[i];\n",
       "      const element = document.createElement(\"link\");\n",
       "      element.onload = on_load;\n",
       "      element.onerror = on_error;\n",
       "      element.rel = \"stylesheet\";\n",
       "      element.type = \"text/css\";\n",
       "      element.href = url;\n",
       "      console.debug(\"Bokeh: injecting link tag for BokehJS stylesheet: \", url);\n",
       "      document.body.appendChild(element);\n",
       "    }\n",
       "\n",
       "    for (var i = 0; i < js_urls.length; i++) {\n",
       "      var url = js_urls[i];\n",
       "      var element = document.createElement('script');\n",
       "      element.onload = on_load;\n",
       "      element.onerror = on_error;\n",
       "      element.async = false;\n",
       "      element.src = url;\n",
       "      console.debug(\"Bokeh: injecting script tag for BokehJS library: \", url);\n",
       "      document.head.appendChild(element);\n",
       "    }\n",
       "  };var element = document.getElementById(\"1310\");\n",
       "  if (element == null) {\n",
       "    console.error(\"Bokeh: ERROR: autoload.js configured with elementid '1310' but no matching script tag was found. \")\n",
       "    return false;\n",
       "  }\n",
       "\n",
       "  function inject_raw_css(css) {\n",
       "    const element = document.createElement(\"style\");\n",
       "    element.appendChild(document.createTextNode(css));\n",
       "    document.body.appendChild(element);\n",
       "  }\n",
       "\n",
       "  \n",
       "  var js_urls = [\"https://cdn.pydata.org/bokeh/release/bokeh-1.4.0.min.js\", \"https://cdn.pydata.org/bokeh/release/bokeh-widgets-1.4.0.min.js\", \"https://cdn.pydata.org/bokeh/release/bokeh-tables-1.4.0.min.js\", \"https://cdn.pydata.org/bokeh/release/bokeh-gl-1.4.0.min.js\"];\n",
       "  var css_urls = [];\n",
       "  \n",
       "\n",
       "  var inline_js = [\n",
       "    function(Bokeh) {\n",
       "      Bokeh.set_log_level(\"info\");\n",
       "    },\n",
       "    function(Bokeh) {\n",
       "    \n",
       "    \n",
       "    }\n",
       "  ];\n",
       "\n",
       "  function run_inline_js() {\n",
       "    \n",
       "    if (root.Bokeh !== undefined || force === true) {\n",
       "      \n",
       "    for (var i = 0; i < inline_js.length; i++) {\n",
       "      inline_js[i].call(root, root.Bokeh);\n",
       "    }\n",
       "    if (force === true) {\n",
       "        display_loaded();\n",
       "      }} else if (Date.now() < root._bokeh_timeout) {\n",
       "      setTimeout(run_inline_js, 100);\n",
       "    } else if (!root._bokeh_failed_load) {\n",
       "      console.log(\"Bokeh: BokehJS failed to load within specified timeout.\");\n",
       "      root._bokeh_failed_load = true;\n",
       "    } else if (force !== true) {\n",
       "      var cell = $(document.getElementById(\"1310\")).parents('.cell').data().cell;\n",
       "      cell.output_area.append_execute_result(NB_LOAD_WARNING)\n",
       "    }\n",
       "\n",
       "  }\n",
       "\n",
       "  if (root._bokeh_is_loading === 0) {\n",
       "    console.debug(\"Bokeh: BokehJS loaded, going straight to plotting\");\n",
       "    run_inline_js();\n",
       "  } else {\n",
       "    load_libs(css_urls, js_urls, function() {\n",
       "      console.debug(\"Bokeh: BokehJS plotting callback run at\", now());\n",
       "      run_inline_js();\n",
       "    });\n",
       "  }\n",
       "}(window));"
      ],
      "application/vnd.bokehjs_load.v0+json": "\n(function(root) {\n  function now() {\n    return new Date();\n  }\n\n  var force = true;\n\n  if (typeof root._bokeh_onload_callbacks === \"undefined\" || force === true) {\n    root._bokeh_onload_callbacks = [];\n    root._bokeh_is_loading = undefined;\n  }\n\n  \n\n  \n  if (typeof (root._bokeh_timeout) === \"undefined\" || force === true) {\n    root._bokeh_timeout = Date.now() + 5000;\n    root._bokeh_failed_load = false;\n  }\n\n  var NB_LOAD_WARNING = {'data': {'text/html':\n     \"<div style='background-color: #fdd'>\\n\"+\n     \"<p>\\n\"+\n     \"BokehJS does not appear to have successfully loaded. If loading BokehJS from CDN, this \\n\"+\n     \"may be due to a slow or bad network connection. Possible fixes:\\n\"+\n     \"</p>\\n\"+\n     \"<ul>\\n\"+\n     \"<li>re-rerun `output_notebook()` to attempt to load from CDN again, or</li>\\n\"+\n     \"<li>use INLINE resources instead, as so:</li>\\n\"+\n     \"</ul>\\n\"+\n     \"<code>\\n\"+\n     \"from bokeh.resources import INLINE\\n\"+\n     \"output_notebook(resources=INLINE)\\n\"+\n     \"</code>\\n\"+\n     \"</div>\"}};\n\n  function display_loaded() {\n    var el = document.getElementById(\"1310\");\n    if (el != null) {\n      el.textContent = \"BokehJS is loading...\";\n    }\n    if (root.Bokeh !== undefined) {\n      if (el != null) {\n        el.textContent = \"BokehJS \" + root.Bokeh.version + \" successfully loaded.\";\n      }\n    } else if (Date.now() < root._bokeh_timeout) {\n      setTimeout(display_loaded, 100)\n    }\n  }\n\n\n  function run_callbacks() {\n    try {\n      root._bokeh_onload_callbacks.forEach(function(callback) {\n        if (callback != null)\n          callback();\n      });\n    } finally {\n      delete root._bokeh_onload_callbacks\n    }\n    console.debug(\"Bokeh: all callbacks have finished\");\n  }\n\n  function load_libs(css_urls, js_urls, callback) {\n    if (css_urls == null) css_urls = [];\n    if (js_urls == null) js_urls = [];\n\n    root._bokeh_onload_callbacks.push(callback);\n    if (root._bokeh_is_loading > 0) {\n      console.debug(\"Bokeh: BokehJS is being loaded, scheduling callback at\", now());\n      return null;\n    }\n    if (js_urls == null || js_urls.length === 0) {\n      run_callbacks();\n      return null;\n    }\n    console.debug(\"Bokeh: BokehJS not loaded, scheduling load and callback at\", now());\n    root._bokeh_is_loading = css_urls.length + js_urls.length;\n\n    function on_load() {\n      root._bokeh_is_loading--;\n      if (root._bokeh_is_loading === 0) {\n        console.debug(\"Bokeh: all BokehJS libraries/stylesheets loaded\");\n        run_callbacks()\n      }\n    }\n\n    function on_error() {\n      console.error(\"failed to load \" + url);\n    }\n\n    for (var i = 0; i < css_urls.length; i++) {\n      var url = css_urls[i];\n      const element = document.createElement(\"link\");\n      element.onload = on_load;\n      element.onerror = on_error;\n      element.rel = \"stylesheet\";\n      element.type = \"text/css\";\n      element.href = url;\n      console.debug(\"Bokeh: injecting link tag for BokehJS stylesheet: \", url);\n      document.body.appendChild(element);\n    }\n\n    for (var i = 0; i < js_urls.length; i++) {\n      var url = js_urls[i];\n      var element = document.createElement('script');\n      element.onload = on_load;\n      element.onerror = on_error;\n      element.async = false;\n      element.src = url;\n      console.debug(\"Bokeh: injecting script tag for BokehJS library: \", url);\n      document.head.appendChild(element);\n    }\n  };var element = document.getElementById(\"1310\");\n  if (element == null) {\n    console.error(\"Bokeh: ERROR: autoload.js configured with elementid '1310' but no matching script tag was found. \")\n    return false;\n  }\n\n  function inject_raw_css(css) {\n    const element = document.createElement(\"style\");\n    element.appendChild(document.createTextNode(css));\n    document.body.appendChild(element);\n  }\n\n  \n  var js_urls = [\"https://cdn.pydata.org/bokeh/release/bokeh-1.4.0.min.js\", \"https://cdn.pydata.org/bokeh/release/bokeh-widgets-1.4.0.min.js\", \"https://cdn.pydata.org/bokeh/release/bokeh-tables-1.4.0.min.js\", \"https://cdn.pydata.org/bokeh/release/bokeh-gl-1.4.0.min.js\"];\n  var css_urls = [];\n  \n\n  var inline_js = [\n    function(Bokeh) {\n      Bokeh.set_log_level(\"info\");\n    },\n    function(Bokeh) {\n    \n    \n    }\n  ];\n\n  function run_inline_js() {\n    \n    if (root.Bokeh !== undefined || force === true) {\n      \n    for (var i = 0; i < inline_js.length; i++) {\n      inline_js[i].call(root, root.Bokeh);\n    }\n    if (force === true) {\n        display_loaded();\n      }} else if (Date.now() < root._bokeh_timeout) {\n      setTimeout(run_inline_js, 100);\n    } else if (!root._bokeh_failed_load) {\n      console.log(\"Bokeh: BokehJS failed to load within specified timeout.\");\n      root._bokeh_failed_load = true;\n    } else if (force !== true) {\n      var cell = $(document.getElementById(\"1310\")).parents('.cell').data().cell;\n      cell.output_area.append_execute_result(NB_LOAD_WARNING)\n    }\n\n  }\n\n  if (root._bokeh_is_loading === 0) {\n    console.debug(\"Bokeh: BokehJS loaded, going straight to plotting\");\n    run_inline_js();\n  } else {\n    load_libs(css_urls, js_urls, function() {\n      console.debug(\"Bokeh: BokehJS plotting callback run at\", now());\n      run_inline_js();\n    });\n  }\n}(window));"
     },
     "metadata": {},
     "output_type": "display_data"
    },
    {
     "data": {
      "text/html": [
       "\n",
       "\n",
       "\n",
       "\n",
       "\n",
       "\n",
       "  <div class=\"bk-root\" id=\"e2014bd4-0532-47b7-862d-efb1ccdfba6c\" data-root-id=\"1311\"></div>\n"
      ]
     },
     "metadata": {},
     "output_type": "display_data"
    },
    {
     "data": {
      "application/javascript": [
       "(function(root) {\n",
       "  function embed_document(root) {\n",
       "    \n",
       "  var docs_json = {\"2a652168-9d08-4b85-967c-9d48280517cf\":{\"roots\":{\"references\":[{\"attributes\":{\"below\":[{\"id\":\"1322\",\"type\":\"CategoricalAxis\"}],\"center\":[{\"id\":\"1325\",\"type\":\"Grid\"},{\"id\":\"1330\",\"type\":\"Grid\"}],\"left\":[{\"id\":\"1326\",\"type\":\"LinearAxis\"}],\"plot_height\":350,\"renderers\":[{\"id\":\"1347\",\"type\":\"GlyphRenderer\"}],\"title\":{\"id\":\"1312\",\"type\":\"Title\"},\"toolbar\":{\"id\":\"1337\",\"type\":\"Toolbar\"},\"x_range\":{\"id\":\"1314\",\"type\":\"FactorRange\"},\"x_scale\":{\"id\":\"1318\",\"type\":\"CategoricalScale\"},\"y_range\":{\"id\":\"1316\",\"type\":\"DataRange1d\"},\"y_scale\":{\"id\":\"1320\",\"type\":\"LinearScale\"}},\"id\":\"1311\",\"subtype\":\"Figure\",\"type\":\"Plot\"},{\"attributes\":{\"overlay\":{\"id\":\"1380\",\"type\":\"BoxAnnotation\"}},\"id\":\"1333\",\"type\":\"BoxZoomTool\"},{\"attributes\":{},\"id\":\"1334\",\"type\":\"SaveTool\"},{\"attributes\":{},\"id\":\"1335\",\"type\":\"ResetTool\"},{\"attributes\":{\"text\":\"Histogram of Bi-Weekly Wage\"},\"id\":\"1312\",\"type\":\"Title\"},{\"attributes\":{},\"id\":\"1336\",\"type\":\"HelpTool\"},{\"attributes\":{\"callback\":null,\"factors\":[\"1033.6\",\"1253.78\",\"1473.96\",\"1694.14\",\"1914.32\"]},\"id\":\"1314\",\"type\":\"FactorRange\"},{\"attributes\":{\"active_drag\":\"auto\",\"active_inspect\":\"auto\",\"active_multi\":null,\"active_scroll\":\"auto\",\"active_tap\":\"auto\",\"tools\":[{\"id\":\"1331\",\"type\":\"PanTool\"},{\"id\":\"1332\",\"type\":\"WheelZoomTool\"},{\"id\":\"1333\",\"type\":\"BoxZoomTool\"},{\"id\":\"1334\",\"type\":\"SaveTool\"},{\"id\":\"1335\",\"type\":\"ResetTool\"},{\"id\":\"1336\",\"type\":\"HelpTool\"}]},\"id\":\"1337\",\"type\":\"Toolbar\"},{\"attributes\":{\"data_source\":{\"id\":\"1344\",\"type\":\"ColumnDataSource\"},\"glyph\":{\"id\":\"1345\",\"type\":\"VBar\"},\"hover_glyph\":null,\"muted_glyph\":null,\"nonselection_glyph\":{\"id\":\"1346\",\"type\":\"VBar\"},\"selection_glyph\":null,\"view\":{\"id\":\"1348\",\"type\":\"CDSView\"}},\"id\":\"1347\",\"type\":\"GlyphRenderer\"},{\"attributes\":{\"callback\":null},\"id\":\"1316\",\"type\":\"DataRange1d\"},{\"attributes\":{\"callback\":null,\"data\":{\"top\":[2,1,0,0,2],\"x\":[\"1033.6\",\"1253.78\",\"1473.96\",\"1694.14\",\"1914.32\"]},\"selected\":{\"id\":\"1379\",\"type\":\"Selection\"},\"selection_policy\":{\"id\":\"1378\",\"type\":\"UnionRenderers\"}},\"id\":\"1344\",\"type\":\"ColumnDataSource\"},{\"attributes\":{},\"id\":\"1318\",\"type\":\"CategoricalScale\"},{\"attributes\":{\"source\":{\"id\":\"1344\",\"type\":\"ColumnDataSource\"}},\"id\":\"1348\",\"type\":\"CDSView\"},{\"attributes\":{},\"id\":\"1320\",\"type\":\"LinearScale\"},{\"attributes\":{\"formatter\":{\"id\":\"1376\",\"type\":\"CategoricalTickFormatter\"},\"ticker\":{\"id\":\"1323\",\"type\":\"CategoricalTicker\"}},\"id\":\"1322\",\"type\":\"CategoricalAxis\"},{\"attributes\":{},\"id\":\"1374\",\"type\":\"BasicTickFormatter\"},{\"attributes\":{},\"id\":\"1323\",\"type\":\"CategoricalTicker\"},{\"attributes\":{},\"id\":\"1376\",\"type\":\"CategoricalTickFormatter\"},{\"attributes\":{\"ticker\":{\"id\":\"1323\",\"type\":\"CategoricalTicker\"}},\"id\":\"1325\",\"type\":\"Grid\"},{\"attributes\":{},\"id\":\"1378\",\"type\":\"UnionRenderers\"},{\"attributes\":{\"formatter\":{\"id\":\"1374\",\"type\":\"BasicTickFormatter\"},\"ticker\":{\"id\":\"1327\",\"type\":\"BasicTicker\"}},\"id\":\"1326\",\"type\":\"LinearAxis\"},{\"attributes\":{},\"id\":\"1379\",\"type\":\"Selection\"},{\"attributes\":{},\"id\":\"1327\",\"type\":\"BasicTicker\"},{\"attributes\":{\"bottom_units\":\"screen\",\"fill_alpha\":{\"value\":0.5},\"fill_color\":{\"value\":\"lightgrey\"},\"left_units\":\"screen\",\"level\":\"overlay\",\"line_alpha\":{\"value\":1.0},\"line_color\":{\"value\":\"black\"},\"line_dash\":[4,4],\"line_width\":{\"value\":2},\"render_mode\":\"css\",\"right_units\":\"screen\",\"top_units\":\"screen\"},\"id\":\"1380\",\"type\":\"BoxAnnotation\"},{\"attributes\":{\"dimension\":1,\"ticker\":{\"id\":\"1327\",\"type\":\"BasicTicker\"}},\"id\":\"1330\",\"type\":\"Grid\"},{\"attributes\":{\"fill_alpha\":{\"value\":0.1},\"fill_color\":{\"value\":\"#1f77b4\"},\"line_alpha\":{\"value\":0.1},\"line_color\":{\"value\":\"#1f77b4\"},\"top\":{\"field\":\"top\"},\"width\":{\"value\":0.9},\"x\":{\"field\":\"x\"}},\"id\":\"1346\",\"type\":\"VBar\"},{\"attributes\":{\"fill_color\":{\"value\":\"#1f77b4\"},\"line_color\":{\"value\":\"#1f77b4\"},\"top\":{\"field\":\"top\"},\"width\":{\"value\":0.9},\"x\":{\"field\":\"x\"}},\"id\":\"1345\",\"type\":\"VBar\"},{\"attributes\":{},\"id\":\"1331\",\"type\":\"PanTool\"},{\"attributes\":{},\"id\":\"1332\",\"type\":\"WheelZoomTool\"}],\"root_ids\":[\"1311\"]},\"title\":\"Bokeh Application\",\"version\":\"1.4.0\"}};\n",
       "  var render_items = [{\"docid\":\"2a652168-9d08-4b85-967c-9d48280517cf\",\"roots\":{\"1311\":\"e2014bd4-0532-47b7-862d-efb1ccdfba6c\"}}];\n",
       "  root.Bokeh.embed.embed_items_notebook(docs_json, render_items);\n",
       "\n",
       "  }\n",
       "  if (root.Bokeh !== undefined) {\n",
       "    embed_document(root);\n",
       "  } else {\n",
       "    var attempts = 0;\n",
       "    var timer = setInterval(function(root) {\n",
       "      if (root.Bokeh !== undefined) {\n",
       "        clearInterval(timer);\n",
       "        embed_document(root);\n",
       "      } else {\n",
       "        attempts++;\n",
       "        if (attempts > 100) {\n",
       "          clearInterval(timer);\n",
       "          console.log(\"Bokeh: ERROR: Unable to run BokehJS code because BokehJS library is missing\");\n",
       "        }\n",
       "      }\n",
       "    }, 10, root)\n",
       "  }\n",
       "})(window);"
      ],
      "application/vnd.bokehjs_exec.v0+json": ""
     },
     "metadata": {
      "application/vnd.bokehjs_exec.v0+json": {
       "id": "1311"
      }
     },
     "output_type": "display_data"
    }
   ],
   "source": [
    "%%local\n",
    "#local magic indicates that this cell will run locally (rather than on cluster)\n",
    "#use Bokeh library ti draw the histogram\n",
    "from bokeh.io import show\n",
    "from bokeh.plotting import figure\n",
    "from bokeh.io import output_notebook\n",
    "output_notebook()\n",
    "\n",
    "labels = [str(round(e, 2)) for e in hist_wage_bi['bins']]\n",
    "\n",
    "p = figure(\n",
    "    x_range=labels, \n",
    "    plot_height=350, \n",
    "    title='Histogram of Bi-Weekly Wage'\n",
    ")\n",
    "\n",
    "p.vbar(x=labels, top=hist_wage_bi['counts'], width=0.9)\n",
    "\n",
    "show(p)"
   ]
  },
  {
   "cell_type": "markdown",
   "metadata": {},
   "source": [
    "<p> In the histogram above, we are looking at identifiers for wage_bi. \"Bi\" as stated in the dataset wasn't accurately described. With these numbers, we can assume they are bi-weekly meaning every 2 weeks worth of pay. Two people fall within bin ranges of \\$1033.60 and \\$1914.32 as a bi-weekly wage respectively while only one falls within the bin range of \\$1253.78 bi-weekly"
   ]
  },
  {
   "cell_type": "code",
   "execution_count": null,
   "metadata": {},
   "outputs": [],
   "source": []
  },
  {
   "cell_type": "code",
   "execution_count": null,
   "metadata": {},
   "outputs": [],
   "source": []
  },
  {
   "cell_type": "code",
   "execution_count": null,
   "metadata": {},
   "outputs": [],
   "source": []
  },
  {
   "cell_type": "code",
   "execution_count": 44,
   "metadata": {},
   "outputs": [
    {
     "data": {
      "application/vnd.jupyter.widget-view+json": {
       "model_id": "07a084e1a20840288ad8174c9cfb9914",
       "version_major": 2,
       "version_minor": 0
      },
      "text/plain": [
       "VBox()"
      ]
     },
     "metadata": {},
     "output_type": "display_data"
    },
    {
     "data": {
      "application/vnd.jupyter.widget-view+json": {
       "model_id": "",
       "version_major": 2,
       "version_minor": 0
      },
      "text/plain": [
       "FloatProgress(value=0.0, bar_style='info', description='Progress:', layout=Layout(height='25px', width='50%'),…"
      ]
     },
     "metadata": {},
     "output_type": "display_data"
    },
    {
     "name": "stdout",
     "output_type": "stream",
     "text": [
      "\"categ = visa_nonull.select('case_status').distinct().rdd.flatMap(lambda x:x).collect()\\nexprs = [F.when(F.col('case_status') == cat,1).otherwise(0)            .alias(str(cat)) for cat in categ]\\nvisa_nonull_dummy = visa_nonull.select(exprs+visa_nonull.columns)\\nvisa_nonull_dummy.show()\\n\""
     ]
    }
   ],
   "source": [
    "#code for dummies for future use\n",
    "'''categ = visa_nonull.select('case_status').distinct().rdd.flatMap(lambda x:x).collect()\n",
    "exprs = [F.when(F.col('case_status') == cat,1).otherwise(0)\\\n",
    "            .alias(str(cat)) for cat in categ]\n",
    "visa_nonull_dummy = visa_nonull.select(exprs+visa_nonull.columns)\n",
    "visa_nonull_dummy.show()\n",
    "'''"
   ]
  },
  {
   "cell_type": "code",
   "execution_count": null,
   "metadata": {},
   "outputs": [],
   "source": []
  }
 ],
 "metadata": {
  "kernelspec": {
   "display_name": "PySpark",
   "language": "",
   "name": "pysparkkernel"
  },
  "language_info": {
   "codemirror_mode": {
    "name": "python",
    "version": 2
   },
   "mimetype": "text/x-python",
   "name": "pyspark",
   "pygments_lexer": "python2"
  }
 },
 "nbformat": 4,
 "nbformat_minor": 2
}
